{
 "cells": [
  {
   "cell_type": "markdown",
   "id": "93a18322",
   "metadata": {},
   "source": [
    "1) Uma empresa que vende carros possui duas unidades de vendas distintas.\n",
    "\n",
    "Elas são bem diferentes quanto à região e ao número de funcionários, mas vendem os mesmos produtos.  \n",
    "A loja **A** é a mais velha e bem estabelecida, com 50% mais vendedores do que a loja **B**.\n",
    "\n",
    "A empresa quer padronizar o \"jeito\" da loja que dá mais resultado. Para isso, os dados foram extraídos da planilha  \n",
    "**Green_Belt_FM2S_Lista_Exercícios_05**, aba **01.Vendas**.\n",
    "\n",
    "| **Coluna da Worksheet** | **Descrição** |\n",
    "|--------------------------|---------------|\n",
    "| **Mês**     | Os meses relativos a cada análise. |\n",
    "| **Vendas**  | O valor financeiro vendido. |\n",
    "| **Loja**    | Se os valores correspondem à loja A ou à loja B. |\n",
    "\n",
    "---\n",
    "\n",
    "**Responda:**\n",
    "\n",
    "**a)** As vendas das lojas são diferentes? Faça o gráfico de frequência apropriado para dizer.\n",
    "\n",
    "**b)** A evolução das vendas é diferente? Quais são as diferenças? Avalie com análise no tempo apropriada.\n",
    "\n",
    "**c)** A diferença entre as médias é estatisticamente significativa? Avalie com o Gráfico de Intervalos mais apropriado.\n",
    "\n",
    "**d)** Qual loja deveria ter seus processos usados como referência?\n"
   ]
  }
 ],
 "metadata": {
  "language_info": {
   "name": "python"
  }
 },
 "nbformat": 4,
 "nbformat_minor": 5
}
