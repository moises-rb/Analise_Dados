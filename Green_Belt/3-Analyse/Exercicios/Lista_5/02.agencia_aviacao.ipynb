{
 "cells": [
  {
   "cell_type": "markdown",
   "id": "8a199efb",
   "metadata": {},
   "source": [
    "2) A agência de aviação de um país monitora voos de duas companhias aéreas para avaliar qual delas é melhor.\n",
    "\n",
    "Critério: atraso (mais de 15 minutos do previsto). Foram 5 voos por dia, durante 20 dias, por companhia.\n",
    "\n",
    "Os dados estão na planilha **Green_Belt_FM2S_Lista_Exercícios_05**, aba **02.Cia_Aérea**.\n",
    "\n",
    "| **Coluna da Worksheet** | **Descrição** |\n",
    "|--------------------------|---------------|\n",
    "| **Dia**       | Dia do voo. |\n",
    "| **Cia**       | Companhia aérea responsável pelo voo. |\n",
    "| **Atrasado?** | Sim ou Não. |\n",
    "\n",
    "---\n",
    "\n",
    "**Responda:**\n",
    "\n",
    "**a)** No geral, podemos ver diferenças entre a porcentagem de atraso para cada cia?  \n",
    "Faça o Gráfico de Frequência mais apropriado para os dados.\n",
    "\n",
    "**b)** Como está o comportamento da porcentagem ao longo do tempo? Existem causas especiais?\n",
    "\n",
    "**c)** As causas especiais acontecem isoladamente para alguma Cia?\n",
    "\n",
    "**d)** O que deveríamos esperar de cada uma delas?\n"
   ]
  }
 ],
 "metadata": {
  "language_info": {
   "name": "python"
  }
 },
 "nbformat": 4,
 "nbformat_minor": 5
}
