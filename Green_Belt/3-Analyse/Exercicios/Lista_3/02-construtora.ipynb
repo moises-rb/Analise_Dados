{
 "cells": [
  {
   "cell_type": "markdown",
   "id": "12128050",
   "metadata": {},
   "source": [
    "2) Uma construtora está avaliando novas técnicas construtivas para a condução de suas obras. \n",
    "A  ideia  seria  de  usar  blocos  de  concreto  armado  pré-moldados  ao  invés  de  trabalhar  com  a \n",
    "moldagem de concreto na obra. Teoricamente, esta estratégia poderia ser benéfica, pois o bloco \n",
    "pode ser mais rentável que o concreto.  \n",
    "Para avaliar essas estratégias, ela então decide coletar dados das suas últimas 18 obras em uma \n",
    "região e ver se a utilização de mais blocos de fato gerou uma melhoria. De sua análise financeira, \n",
    "eles buscaram que o custo com o metro cúbico de concreto (para a formulação e moldagem) é \n",
    "de R$ 240,00 por m³, enquanto o preço do milheiro (mil unidades) de bloco é de R$ 560,00.  \n",
    "Os dados estão na planilha Green_Belt_FM2S_Lista_Exercícios_03_e_04, na aba \n",
    "02.Construtora. \n",
    "\n",
    "| **Coluna da Worksheet** | **Descrição** |\n",
    "|--------------------------|---------------|\n",
    "| **Concreto**             | Valor em m³ de cimento utilizado na construção. |\n",
    "| **Blocos Armados**       | Centenas de blocos de concreto armado pré-moldados utilizados na construção. |\n",
    "\n",
    "---\n",
    "\n",
    "**Responda:**\n",
    "\n",
    "**a)** Aumentar o número de blocos reduz a quantidade de cimento utilizada?\n",
    "\n",
    "**b)** Aumentar o número de blocos, reduz o custo total da obra?\n"
   ]
  }
 ],
 "metadata": {
  "language_info": {
   "name": "python"
  }
 },
 "nbformat": 4,
 "nbformat_minor": 5
}
