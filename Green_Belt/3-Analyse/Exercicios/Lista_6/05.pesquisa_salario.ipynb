{
 "cells": [
  {
   "cell_type": "markdown",
   "id": "397e453c",
   "metadata": {},
   "source": [
    "### 📘 Exercício – Salário dos Professores"
   ]
  },
  {
   "cell_type": "markdown",
   "id": "821466f0",
   "metadata": {},
   "source": [
    "5) Uma pesquisa é realizada para entender o que pode influenciar no salário de um grupo de \n",
    "professores. Para isso, eles coletam dados sobre o salário de 46 docentes, além de registrar a \n",
    "disciplina e o grau (ensino fundamental, médio ou superior) que cada um leciona. A ideia é \n",
    "avaliar se algum destes fatores pode predizer o salário do professor.\n",
    "\n",
    "### Os dados estão na planilha **Green_Belt_FM2S_Lista_Exercícios_06**, aba **05.Salário_Professores**.\n",
    "\n",
    "| **Coluna da Worksheet** | **Descrição** |\n",
    "|--------------------------|----------------|\n",
    "| **Assunto**              | Disciplina ministrada pelo professor |\n",
    "| **Grau**                 | Ensino fundamental, ensino médio ou ensino superior |\n",
    "| **Salário**              | Salário referente ao mesmo número de aulas por semana, em mil reais |\n",
    "\n",
    "---\n",
    "\n",
    "### Responda:\n",
    "\n",
    "**a)** O grau afeta o salário?  \n",
    "**b)** O assunto afeta o salário?  \n",
    "**c)** Qual é o grau com salário mais alto?  \n",
    "**d)** Qual é o assunto com salário mais alto?  \n",
    "**e)** Quantos % da variação do salário pode ser explicada sabendo-se o grau e o assunto?\n"
   ]
  }
 ],
 "metadata": {
  "language_info": {
   "name": "python"
  }
 },
 "nbformat": 4,
 "nbformat_minor": 5
}
