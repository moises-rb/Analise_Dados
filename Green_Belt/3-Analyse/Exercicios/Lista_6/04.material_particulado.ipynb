{
 "cells": [
  {
   "cell_type": "markdown",
   "id": "c73f3811",
   "metadata": {},
   "source": [
    "### 🌫️ Exercício 4 – ANOVA de Material Particulado"
   ]
  },
  {
   "cell_type": "markdown",
   "id": "8ce9c4df",
   "metadata": {},
   "source": [
    "4) Um laboratório analisou a quantidade de Material Particulado (MP) em 3 regiões da cidade de São Paulo.\n",
    "\n",
    "A análise será feita com **ANOVA** para verificar se as médias são diferentes entre as regiões.\n",
    "\n",
    "Os dados estão na planilha **Green_Belt_FM2S_Lista_Exercícios_06**, aba **04.Material_Particulado**.\n",
    "\n",
    "| **Coluna da Worksheet** | **Descrição** |\n",
    "|--------------------------|----------------|\n",
    "| **A**                    | Quantidade de material particulado da 1ª região |\n",
    "| **B**                    | Quantidade de material particulado da 2ª região |\n",
    "| **C**                    | Quantidade de material particulado da 3ª região |\n",
    "\n",
    "---\n",
    "\n",
    "**Responda:**\n",
    "\n",
    "**a)** Avalie se as médias são iguais usando o ANOVA do assistente.  \n",
    "**b)** Há alguma objeção quanto aos dados?  \n",
    "**c)** Avalie se as médias são iguais usando o ANOVA de 1 fator.  \n",
    "**d)** Há objeção quanto aos dados?  \n",
    "**e)** Quantos % da variação é explicada?  \n",
    "**f)** Quais os caminhos utilizados?\n"
   ]
  }
 ],
 "metadata": {
  "language_info": {
   "name": "python"
  }
 },
 "nbformat": 4,
 "nbformat_minor": 5
}
