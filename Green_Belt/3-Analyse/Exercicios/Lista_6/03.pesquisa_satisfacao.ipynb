{
 "cells": [
  {
   "cell_type": "markdown",
   "id": "f22adb2a",
   "metadata": {},
   "source": [
    "### ✅ Exercício 3 – Pesquisa de Satisfação"
   ]
  },
  {
   "cell_type": "markdown",
   "id": "c871dfaf",
   "metadata": {},
   "source": [
    "3) Um entrevistador em uma empresa realiza uma pesquisa de satisfação para avaliar se as \n",
    "pessoas estão felizes com seus empregos. Seu objetivo é avaliar se há diferença na taxa de satisfação entre uma unidade de sua empresa (A) e outra (B). Cada entrevistado pode responder \n",
    "“sim” ou “não” para a pergunta “Você está satisfeito com o seu emprego?”\n",
    "\n",
    "Os dados estão na planilha **Green_Belt_FM2S_Lista_Exercícios_06**, aba **03.Pesquisa_Satisfação**.\n",
    "\n",
    "| **Coluna da Worksheet** | **Descrição** |\n",
    "|--------------------------|----------------|\n",
    "| **Entrevistado**         | Número da pessoa entrevistada |\n",
    "| **Unidade**              | Unidade da empresa onde essa pessoa trabalha |\n",
    "| **Satisfeito?**          | Se a pessoa está ou não satisfeita com seu trabalho |\n",
    "\n",
    "---\n",
    "\n",
    "**Responda:**\n",
    "\n",
    "**a)** Qual unidade é a mais problemática?  \n",
    "**b)** Qual é a diferença entre as taxas de satisfação?\n"
   ]
  }
 ],
 "metadata": {
  "language_info": {
   "name": "python"
  }
 },
 "nbformat": 4,
 "nbformat_minor": 5
}
