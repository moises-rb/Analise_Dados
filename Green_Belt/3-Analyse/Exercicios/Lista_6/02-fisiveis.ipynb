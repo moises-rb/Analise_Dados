{
 "cells": [
  {
   "cell_type": "markdown",
   "id": "fb0f6839",
   "metadata": {},
   "source": [
    "### 🔧 Testes de Hipóteses – Exercício 2: Procedimentos na Produção de Fusíveis"
   ]
  },
  {
   "cell_type": "markdown",
   "id": "6071860c",
   "metadata": {},
   "source": [
    "2) Uma equipe de qualidade monitora defeitos na produção de fusíveis.\n",
    "\n",
    "Há duas equipes operando com **procedimentos diferentes**. Suspeita-se que um procedimento seja melhor.  \n",
    "Foram coletados dados por **30 dias** com amostragem da produção.\n",
    "\n",
    "Os dados estão na planilha **Green_Belt_FM2S_Lista_Exercícios_06**, aba **02.Fusível**.\n",
    "\n",
    "| **Coluna da Worksheet**     | **Descrição** |\n",
    "|-----------------------------|---------------|\n",
    "| **Dia**                     | Dia em que foi realizada aquela amostragem. |\n",
    "| **Falhas de qualidade**     | Número de unidades defeituosas. |\n",
    "| **Peças amostradas**        | Total de fusíveis amostrados. |\n",
    "| **Procedimento utilizado**  | Procedimento usado na fabricação do fusível. |\n",
    "\n",
    "---\n",
    "\n",
    "**Responda:**\n",
    "\n",
    "**a)** Qual procedimento é melhor?  \n",
    "**b)** Qual valor de falhas por dia deveríamos esperar para o melhor procedimento?   \n",
    "**c)** Sobre a metodologia da elaboração do teste, qual erro é possível perceber? O que \n",
    "deveria ser feito para que os dados fossem mais confiáveis?\n"
   ]
  }
 ],
 "metadata": {
  "language_info": {
   "name": "python"
  }
 },
 "nbformat": 4,
 "nbformat_minor": 5
}
