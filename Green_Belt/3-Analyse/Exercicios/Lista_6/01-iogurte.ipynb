{
 "cells": [
  {
   "cell_type": "markdown",
   "id": "5f9ec7da",
   "metadata": {},
   "source": [
    "### 🧪 Testes de Hipóteses – Exercício 1: Teste no Leite"
   ]
  },
  {
   "cell_type": "markdown",
   "id": "d21bc642",
   "metadata": {},
   "source": [
    "1) Um analista de qualidade em uma fábrica de iogurte faz um teste de controle de qualidade no leite.\n",
    "\n",
    "O teste consiste em pingar um reagente e cronometrar quanto tempo leva para o leite mudar de cor.  \n",
    "Cada lote é testado 20 vezes.\n",
    "\n",
    "- Se a média for entre **4 e 6 segundos**, o leite é **considerado bom**.\n",
    "- Abaixo de 4 ou acima de 6 segundos, o leite é **reprovado**.\n",
    "\n",
    "Os dados estão na planilha **Green_Belt_FM2S_Lista_Exercícios_06**, aba **01.Teste_Leite**.\n",
    "\n",
    "| **Coluna da Worksheet** | **Descrição** |\n",
    "|--------------------------|---------------|\n",
    "| **Lote A** | Tempos em segundos para os resultados do lote A. |\n",
    "| **Lote B** | Tempos em segundos para os resultados do lote B. |\n",
    "\n",
    "---\n",
    "\n",
    "**Responda:**\n",
    "\n",
    "**a)** Quais lotes podem ser considerados bons?  \n",
    "**b)** Existe evidência de que as amostras sejam diferentes uma da outra?  \n",
    "**c)** Se os lotes são diferentes, o que poderia explicar essa diferença?\n"
   ]
  }
 ],
 "metadata": {
  "language_info": {
   "name": "python"
  }
 },
 "nbformat": 4,
 "nbformat_minor": 5
}
