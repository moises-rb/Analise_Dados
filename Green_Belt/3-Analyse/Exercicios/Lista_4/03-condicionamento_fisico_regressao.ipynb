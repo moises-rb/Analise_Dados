{
 "cells": [
  {
   "cell_type": "markdown",
   "id": "da54ccda",
   "metadata": {},
   "source": [
    "3) Um estudo de condicionamento físico foi feito com 31 pessoas.\n",
    "A ideia era entender quais fatores poderiam influenciar o tempo que elas demoravam para correr 6 km.\n",
    "\n",
    "Os dados estão na planilha **Green_Belt_FM2S_Lista_Exercícios_03_e_04**, na aba **03.Condicionamento**.\n",
    "\n",
    "| **Coluna do worksheet** | **Descrição** |\n",
    "|--------------------------|---------------|\n",
    "| **OBS**        | Número da pessoa. |\n",
    "| **IDADE**      | Idade da pessoa sendo avaliada. |\n",
    "| **Peso**       | Peso da pessoa sendo avaliada. |\n",
    "| **Tempo**      | Tempo que a pessoa demorou para correr 3 km. |\n",
    "| **Batcar_d**   | Batimento cardíaco em repouso. |\n",
    "| **Batcar_c**   | Batimento cardíaco correndo. |\n",
    "| **Batcar_m**   | Batimento máximo. |\n",
    "| **C_oxig**     | Consumo de oxigênio. |\n",
    "| **Grupo**      | Agrupamento segundo histórico de vida (levando em conta fatores de risco como hábito de fumar, alimentação, etc.) |\n",
    "\n",
    "---\n",
    "\n",
    "**Responda:**\n",
    "\n",
    "**a)** Construa um modelo de Regressão Linear Múltipla para o tempo. \n",
    "\n",
    "**b)** Quais fatores influenciam e quais fatores não influenciam?\n",
    "\n",
    "**c)** Quanto da variação do tempo pode ser explicado pelo modelo proposto?\n",
    "\n",
    "**d)** Qual é a equação da reta?\n",
    "\n",
    "**e)** Qual é a melhor configuração se eu quiser minimizar o tempo gasto?"
   ]
  }
 ],
 "metadata": {
  "language_info": {
   "name": "python"
  }
 },
 "nbformat": 4,
 "nbformat_minor": 5
}
