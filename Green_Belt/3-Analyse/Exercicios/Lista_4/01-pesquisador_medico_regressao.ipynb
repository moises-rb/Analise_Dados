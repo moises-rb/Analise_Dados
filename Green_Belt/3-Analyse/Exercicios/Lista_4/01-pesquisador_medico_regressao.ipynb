{
 "cells": [
  {
   "cell_type": "markdown",
   "id": "78874e4d",
   "metadata": {},
   "source": [
    "1)  Um  pesquisador  médico  quer  saber  como  a  dosagem  de  um  novo  medicamento  afeta  a \n",
    "presença de bactérias em adultos. Para isso, ele realiza um experimento com 60 pacientes e 6 \n",
    "níveis diferentes de dosagem. Ele quer saber a contagem bacteriana (um indicador normalizado, \n",
    "obtido após a cultura de material biológico retirado de cada paciente) para cada dosagem após \n",
    "48 horas de administração do medicamento.  \n",
    "Além  deste  teste  de  dosagem,  o  pesquisador  suspeita  que  o  sexo  de  cada  paciente  poderia \n",
    "afetar o resultado. Para avaliar este efeito, o pesquisador planeja o experimento de tal forma \n",
    "que o efeito do sexo poderia ser avaliado posteriormente. Para isso, dos 60 pacientes testados, \n",
    "30 eram homens e 30 mulheres. \n",
    "Analise os dados da planilha Green_Belt_FM2S_Lista_Exercícios_03_e_04, na aba \n",
    "01.Teste_Medicamento. \n",
    " \n",
    "\n",
    "\n",
    "| Coluna da Worksheet     | Descrição                                                                                                   |\n",
    "|-------------------------|-------------------------------------------------------------------------------------------------------------|\n",
    "| Paciente                | O paciente que recebeu o ensaio.                                                                            |\n",
    "| Dose (mg/kg)            | A dosagem do medicamento administrado aos pacientes. Existem seis níveis de dosagem: 0,5; 1,0; 1,5; 2,0; 2,5; e 3,0. |\n",
    "| Contagem de bactérias   | O valor para um exame de contagem de bactérias (normalizado).                                                |\n",
    "| Sexo                    | Masculino ou feminino                                                                                       |\n",
    "\n",
    "Responda: \n",
    "1. Avalie um modelo de Regressão Linear para ajustar os dados. \n",
    "2. Quanto da variação na contagem pode ser explicada pela dosagem?  \n",
    "3. Avalie um modelo de Regressão Linear levando em conta a diferença de sexos. \n",
    "Qual é o impacto no R²?\n",
    "4. Dado o melhor modelo, estime quanto deveria ser a contagem dada uma dose de \n",
    "2,7 mg/kg."
   ]
  }
 ],
 "metadata": {
  "language_info": {
   "name": "python"
  }
 },
 "nbformat": 4,
 "nbformat_minor": 5
}
