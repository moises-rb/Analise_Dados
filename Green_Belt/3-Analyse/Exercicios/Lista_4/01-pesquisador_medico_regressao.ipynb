{
  "cells": [
    {
      "cell_type": "markdown",
      "metadata": {
        "id": "view-in-github",
        "colab_type": "text"
      },
      "source": [
        "<a href=\"https://colab.research.google.com/github/moises-rb/Analise_Dados/blob/main/Green_Belt/3-Analyse/Exercicios/Lista_4/01-pesquisador_medico_regressao.ipynb\" target=\"_parent\"><img src=\"https://colab.research.google.com/assets/colab-badge.svg\" alt=\"Open In Colab\"/></a>"
      ]
    },
    {
      "cell_type": "markdown",
      "id": "78874e4d",
      "metadata": {
        "id": "78874e4d"
      },
      "source": [
        "1)  Um  pesquisador  médico  quer  saber  como  a  dosagem  de  um  novo  medicamento  afeta  a\n",
        "presença de bactérias em adultos. Para isso, ele realiza um experimento com 60 pacientes e 6\n",
        "níveis diferentes de dosagem. Ele quer saber a contagem bacteriana (um indicador normalizado,\n",
        "obtido após a cultura de material biológico retirado de cada paciente) para cada dosagem após\n",
        "48 horas de administração do medicamento.  \n",
        "Além  deste  teste  de  dosagem,  o  pesquisador  suspeita  que  o  sexo  de  cada  paciente  poderia\n",
        "afetar o resultado. Para avaliar este efeito, o pesquisador planeja o experimento de tal forma\n",
        "que o efeito do sexo poderia ser avaliado posteriormente. Para isso, dos 60 pacientes testados,\n",
        "30 eram homens e 30 mulheres.\n",
        "Analise os dados da planilha Green_Belt_FM2S_Lista_Exercícios_03_e_04, na aba\n",
        "01.Teste_Medicamento.\n",
        "\n",
        "\n",
        "\n",
        "| Coluna da Worksheet     | Descrição                                                                                                   |\n",
        "|-------------------------|-------------------------------------------------------------------------------------------------------------|\n",
        "| Paciente                | O paciente que recebeu o ensaio.                                                                            |\n",
        "| Dose (mg/kg)            | A dosagem do medicamento administrado aos pacientes. Existem seis níveis de dosagem: 0,5; 1,0; 1,5; 2,0; 2,5; e 3,0. |\n",
        "| Contagem de bactérias   | O valor para um exame de contagem de bactérias (normalizado).                                                |\n",
        "| Sexo                    | Masculino ou feminino                                                                                       |\n",
        "\n",
        "Responda:\n",
        "1. Avalie um modelo de Regressão Linear para ajustar os dados.\n",
        "2. Quanto da variação na contagem pode ser explicada pela dosagem?  \n",
        "3. Avalie um modelo de Regressão Linear levando em conta a diferença de sexos.\n",
        "Qual é o impacto no R²?\n",
        "4. Dado o melhor modelo, estime quanto deveria ser a contagem dada uma dose de\n",
        "2,7 mg/kg."
      ]
    },
    {
      "cell_type": "code",
      "source": [
        "import pandas as pd\n",
        "import statsmodels.api as sm\n",
        "import matplotlib.pyplot as plt"
      ],
      "metadata": {
        "id": "r1cRZ3ZVngiy"
      },
      "id": "r1cRZ3ZVngiy",
      "execution_count": 18,
      "outputs": []
    },
    {
      "cell_type": "code",
      "source": [
        "url = '/content/[FM2S] Lista_Exercícios_ 3 e 4.xlsx'\n",
        "pd.ExcelFile(url).sheet_names"
      ],
      "metadata": {
        "id": "f44n2YN0n01K",
        "outputId": "f613834d-40ab-4ffb-8367-dc82ab7a3b6f",
        "colab": {
          "base_uri": "https://localhost:8080/"
        }
      },
      "id": "f44n2YN0n01K",
      "execution_count": 25,
      "outputs": [
        {
          "output_type": "execute_result",
          "data": {
            "text/plain": [
              "['1.Teste_Medicamento', '2.Construtora', '3.Condicionamento_Físico']"
            ]
          },
          "metadata": {},
          "execution_count": 25
        }
      ]
    },
    {
      "cell_type": "code",
      "source": [
        "dados_pacientes = pd.read_excel(url, sheet_name=0) # dados_pacientes = pd.read_excel(url, sheet_name='1.Teste_Medicamento')"
      ],
      "metadata": {
        "id": "Vc29EJaMqF9o"
      },
      "id": "Vc29EJaMqF9o",
      "execution_count": 33,
      "outputs": []
    },
    {
      "cell_type": "code",
      "source": [
        "print(dados_pacientes.head())\n",
        "print(dados_pacientes.describe())\n",
        "print(dados_pacientes.info())"
      ],
      "metadata": {
        "id": "xVgYPYvOq0TT",
        "outputId": "0587a620-35ba-4149-ccb8-67ccbf7357b4",
        "colab": {
          "base_uri": "https://localhost:8080/"
        }
      },
      "id": "xVgYPYvOq0TT",
      "execution_count": 34,
      "outputs": [
        {
          "output_type": "stream",
          "name": "stdout",
          "text": [
            "   Paciente  Dose (mg/kg)  Contagem Sexo\n",
            "0         1           0.5        95    M\n",
            "1         2           0.5        90    M\n",
            "2         3           0.5        99    M\n",
            "3         4           0.5        92    M\n",
            "4         5           0.5        85    M\n",
            "        Paciente  Dose (mg/kg)   Contagem\n",
            "count  60.000000     60.000000  60.000000\n",
            "mean   30.500000      1.750000  72.966667\n",
            "std    17.464249      0.861119  13.739670\n",
            "min     1.000000      0.500000  40.000000\n",
            "25%    15.750000      1.000000  64.250000\n",
            "50%    30.500000      1.750000  73.000000\n",
            "75%    45.250000      2.500000  83.500000\n",
            "max    60.000000      3.000000  99.000000\n",
            "<class 'pandas.core.frame.DataFrame'>\n",
            "RangeIndex: 60 entries, 0 to 59\n",
            "Data columns (total 4 columns):\n",
            " #   Column        Non-Null Count  Dtype  \n",
            "---  ------        --------------  -----  \n",
            " 0   Paciente      60 non-null     int64  \n",
            " 1   Dose (mg/kg)  60 non-null     float64\n",
            " 2   Contagem      60 non-null     int64  \n",
            " 3   Sexo          60 non-null     object \n",
            "dtypes: float64(1), int64(2), object(1)\n",
            "memory usage: 2.0+ KB\n",
            "None\n"
          ]
        }
      ]
    },
    {
      "cell_type": "markdown",
      "source": [
        "## 1. Avalie um modelo de Regressão Linear para ajustar os dados."
      ],
      "metadata": {
        "id": "YMAdvIMj2nXD"
      },
      "id": "YMAdvIMj2nXD"
    },
    {
      "cell_type": "code",
      "source": [
        "# Modelo de regressão linear simples\n",
        "X = dados_pacientes['Dose (mg/kg)']\n",
        "y = dados_pacientes['Contagem']\n",
        "X = sm.add_constant(X)  # Adiciona o intercepto (beta_0)\n",
        "modelo_simples = sm.OLS(y, X).fit()\n",
        "print(modelo_simples.summary())"
      ],
      "metadata": {
        "id": "8kXAW6lF2zE6",
        "outputId": "301e1cdd-f534-4877-efc8-353211dbe39c",
        "colab": {
          "base_uri": "https://localhost:8080/"
        }
      },
      "id": "8kXAW6lF2zE6",
      "execution_count": 20,
      "outputs": [
        {
          "output_type": "stream",
          "name": "stdout",
          "text": [
            "                            OLS Regression Results                            \n",
            "==============================================================================\n",
            "Dep. Variable:               Contagem   R-squared:                       0.898\n",
            "Model:                            OLS   Adj. R-squared:                  0.896\n",
            "Method:                 Least Squares   F-statistic:                     510.6\n",
            "Date:                Thu, 10 Jul 2025   Prob (F-statistic):           1.95e-30\n",
            "Time:                        15:10:20   Log-Likelihood:                -173.37\n",
            "No. Observations:                  60   AIC:                             350.7\n",
            "Df Residuals:                      58   BIC:                             354.9\n",
            "Df Model:                           1                                         \n",
            "Covariance Type:            nonrobust                                         \n",
            "================================================================================\n",
            "                   coef    std err          t      P>|t|      [0.025      0.975]\n",
            "--------------------------------------------------------------------------------\n",
            "const           99.4267      1.303     76.312      0.000      96.819     102.035\n",
            "Dose (mg/kg)   -15.1200      0.669    -22.597      0.000     -16.459     -13.781\n",
            "==============================================================================\n",
            "Omnibus:                        6.006   Durbin-Watson:                   1.986\n",
            "Prob(Omnibus):                  0.050   Jarque-Bera (JB):                6.650\n",
            "Skew:                          -0.373   Prob(JB):                       0.0360\n",
            "Kurtosis:                       4.450   Cond. No.                         5.43\n",
            "==============================================================================\n",
            "\n",
            "Notes:\n",
            "[1] Standard Errors assume that the covariance matrix of the errors is correctly specified.\n"
          ]
        }
      ]
    },
    {
      "cell_type": "markdown",
      "source": [
        "## 2. Quanto da variação na contagem pode ser explicada pela dosagem?\n",
        "\n",
        "O R² está diretamente no output do modelo. Isso significa que 89.8% da variação na contagem bacteriana é explicada pela dose."
      ],
      "metadata": {
        "id": "GVDczsZc2088"
      },
      "id": "GVDczsZc2088"
    },
    {
      "cell_type": "markdown",
      "source": [
        "## 3. Avalie um modelo de Regressão Linear levando em conta a diferença de sexos. Qual é o impacto no R²?\n"
      ],
      "metadata": {
        "id": "B5HPUjL23AFE"
      },
      "id": "B5HPUjL23AFE"
    },
    {
      "cell_type": "code",
      "source": [
        "# Codificar sexo como variável dummy (F = 1, M = 0)\n",
        "dados_pacientes['Sexo_F'] = (dados_pacientes['Sexo'] == 'F').astype(int)\n",
        "\n",
        "# Modelo múltiplo\n",
        "X_mult = dados_pacientes[['Dose (mg/kg)', 'Sexo_F']]\n",
        "X_mult = sm.add_constant(X_mult)\n",
        "modelo_mult = sm.OLS(y, X_mult).fit()\n",
        "print(modelo_mult.summary())"
      ],
      "metadata": {
        "id": "eqjUj7Cc3AbO",
        "outputId": "dcae3140-0036-4eef-9eeb-49117865c2fc",
        "colab": {
          "base_uri": "https://localhost:8080/"
        }
      },
      "id": "eqjUj7Cc3AbO",
      "execution_count": 21,
      "outputs": [
        {
          "output_type": "stream",
          "name": "stdout",
          "text": [
            "                            OLS Regression Results                            \n",
            "==============================================================================\n",
            "Dep. Variable:               Contagem   R-squared:                       0.901\n",
            "Model:                            OLS   Adj. R-squared:                  0.897\n",
            "Method:                 Least Squares   F-statistic:                     259.1\n",
            "Date:                Thu, 10 Jul 2025   Prob (F-statistic):           2.45e-29\n",
            "Time:                        15:13:16   Log-Likelihood:                -172.50\n",
            "No. Observations:                  60   AIC:                             351.0\n",
            "Df Residuals:                      57   BIC:                             357.3\n",
            "Df Model:                           2                                         \n",
            "Covariance Type:            nonrobust                                         \n",
            "================================================================================\n",
            "                   coef    std err          t      P>|t|      [0.025      0.975]\n",
            "--------------------------------------------------------------------------------\n",
            "const          100.1600      1.415     70.806      0.000      97.327     102.993\n",
            "Dose (mg/kg)   -15.1200      0.665    -22.727      0.000     -16.452     -13.788\n",
            "Sexo_F          -1.4667      1.136     -1.291      0.202      -3.742       0.809\n",
            "==============================================================================\n",
            "Omnibus:                        8.395   Durbin-Watson:                   2.089\n",
            "Prob(Omnibus):                  0.015   Jarque-Bera (JB):               10.563\n",
            "Skew:                          -0.509   Prob(JB):                      0.00509\n",
            "Kurtosis:                       4.786   Cond. No.                         6.26\n",
            "==============================================================================\n",
            "\n",
            "Notes:\n",
            "[1] Standard Errors assume that the covariance matrix of the errors is correctly specified.\n"
          ]
        }
      ]
    },
    {
      "cell_type": "markdown",
      "source": [
        "## 4. Dado o melhor modelo, estime quanto deveria ser a contagem dada uma dose de 2,7 mg/kg."
      ],
      "metadata": {
        "id": "MhgBYLUh3BK7"
      },
      "id": "MhgBYLUh3BK7"
    },
    {
      "cell_type": "code",
      "source": [
        "# Usando o modelo múltiplo (se for melhor)\n",
        "dose = 2.7\n",
        "# Para homens (Sexo_F = 0)\n",
        "contagem_homem = modelo_mult.params['const'] + modelo_mult.params['Dose (mg/kg)'] * dose\n",
        "# Para mulheres (Sexo_F = 1)\n",
        "contagem_mulher = contagem_homem + modelo_mult.params['Sexo_F']\n",
        "\n",
        "print(f\"Contagem prevista (Homem): {contagem_homem:.2f}\")\n",
        "print(f\"Contagem prevista (Mulher): {contagem_mulher:.2f}\")"
      ],
      "metadata": {
        "id": "NH7duCYJ3Bt4",
        "outputId": "138ee179-76f2-412e-b31b-3d076999de04",
        "colab": {
          "base_uri": "https://localhost:8080/"
        }
      },
      "id": "NH7duCYJ3Bt4",
      "execution_count": 22,
      "outputs": [
        {
          "output_type": "stream",
          "name": "stdout",
          "text": [
            "Contagem prevista (Homem): 59.34\n",
            "Contagem prevista (Mulher): 57.87\n"
          ]
        }
      ]
    },
    {
      "cell_type": "markdown",
      "source": [
        "## Gráficos para Visualização"
      ],
      "metadata": {
        "id": "FIB2R_Ib5vul"
      },
      "id": "FIB2R_Ib5vul"
    },
    {
      "cell_type": "code",
      "source": [
        "# Gráfico de dispersão com reta de regressão\n",
        "plt.scatter(dados_pacientes['Dose (mg/kg)'], dados_pacientes['Contagem'], c=dados_pacientes['Sexo_F'], cmap='viridis')\n",
        "plt.plot(dados_pacientes['Dose (mg/kg)'], modelo_mult.predict(X_mult), color='red')\n",
        "plt.xlabel('Dose (mg/kg)')\n",
        "plt.ylabel('Contagem Bacteriana')\n",
        "plt.colorbar(label='Sexo (F=1)')\n",
        "plt.show()"
      ],
      "metadata": {
        "id": "_Fxa1kd15zBy",
        "outputId": "511af690-df5d-4cd4-d0c2-786c122c7bd9",
        "colab": {
          "base_uri": "https://localhost:8080/",
          "height": 455
        }
      },
      "id": "_Fxa1kd15zBy",
      "execution_count": 23,
      "outputs": [
        {
          "output_type": "display_data",
          "data": {
            "text/plain": [
              "<Figure size 640x480 with 2 Axes>"
            ],
            "image/png": "[encoded data removed]"
          },
          "metadata": {}
        }
      ]
    }
  ],
  "metadata": {
    "language_info": {
      "name": "python"
    },
    "colab": {
      "provenance": [],
      "include_colab_link": true
    },
    "kernelspec": {
      "name": "python3",
      "display_name": "Python 3"
    }
  },
  "nbformat": 4,
  "nbformat_minor": 5
}