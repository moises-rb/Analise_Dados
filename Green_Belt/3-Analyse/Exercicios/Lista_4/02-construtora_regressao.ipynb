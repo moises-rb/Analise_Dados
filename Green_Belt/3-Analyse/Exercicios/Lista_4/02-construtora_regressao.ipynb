{
  "cells": [
    {
      "cell_type": "markdown",
      "metadata": {
        "id": "view-in-github",
        "colab_type": "text"
      },
      "source": [
        "<a href=\"https://colab.research.google.com/github/moises-rb/Analise_Dados/blob/main/Green_Belt/3-Analyse/Exercicios/Lista_4/02-construtora_regressao.ipynb\" target=\"_parent\"><img src=\"https://colab.research.google.com/assets/colab-badge.svg\" alt=\"Open In Colab\"/></a>"
      ]
    },
    {
      "cell_type": "markdown",
      "id": "888298f2",
      "metadata": {
        "id": "888298f2"
      },
      "source": [
        "2) Uma construtora está avaliando novas técnicas construtivas para a condução de suas obras.\n",
        "A  ideia  seria  de  usar  blocos  de  concreto  armado  pré-moldados  ao  invés  de  trabalhar  com  a\n",
        "moldagem de concreto na obra. Teoricamente, esta estratégia poderia ser benéfica, pois o bloco\n",
        "pode ser mais rentável que o concreto.  \n",
        "Para avaliar essas estratégias, ela então decide coletar dados das suas últimas 18 obras em uma\n",
        "região e ver se a utilização de mais blocos de fato gerou uma melhoria. De sua análise financeira,\n",
        "eles buscaram que o custo com o metro cúbico de concreto (para a formulação e moldagem) é\n",
        "de R$ 240,00 por m³, enquanto o preço do milheiro (mil unidades) de bloco é de R$ 560,00.  \n",
        "Os dados estão na planilha Green_Belt_FM2S_Lista_Exercícios_03_e_04, na aba\n",
        "02.Construtora.\n",
        "\n",
        "| **Coluna da Worksheet** | **Descrição** |\n",
        "|--------------------------|---------------|\n",
        "| **Concreto**             | Valor em m³ de cimento utilizado na construção. |\n",
        "| **Blocos Armados**       | Centenas de blocos de concreto armado pré-moldados utilizados na construção. |\n",
        "\n",
        "---\n",
        "\n",
        "**Responda:**\n",
        "\n",
        "**a)** Avalie um modelo de regressão para como o número de blocos impacta no consumo de\n",
        "concreto.\n",
        "\n",
        "**b)** Avalie um modelo de regressão do número de blocos com o custo total.\n",
        "\n",
        "**c)** Qual deve ser a relação mínima entre os preços do concreto e do bloco para que seja\n",
        "viável a substituição?"
      ]
    },
    {
      "cell_type": "code",
      "source": [
        "import pandas as pd\n",
        "import statsmodels.api as sm\n",
        "import matplotlib.pyplot as plt\n",
        "import numpy as np"
      ],
      "metadata": {
        "id": "tNsVTGkN8_j1"
      },
      "id": "tNsVTGkN8_j1",
      "execution_count": 10,
      "outputs": []
    },
    {
      "cell_type": "code",
      "source": [
        "url = '/content/[FM2S] Lista_Exercícios_ 3 e 4.xlsx'\n",
        "pd.ExcelFile(url).sheet_names"
      ],
      "metadata": {
        "id": "qiuJTkEE9EXr",
        "outputId": "580e5d5b-ab35-442b-e689-c86883932e5a",
        "colab": {
          "base_uri": "https://localhost:8080/"
        }
      },
      "id": "qiuJTkEE9EXr",
      "execution_count": 11,
      "outputs": [
        {
          "output_type": "execute_result",
          "data": {
            "text/plain": [
              "['1.Teste_Medicamento', '2.Construtora', '3.Condicionamento_Físico']"
            ]
          },
          "metadata": {},
          "execution_count": 11
        }
      ]
    },
    {
      "cell_type": "code",
      "source": [
        "dados_construtora = pd.read_excel(url, sheet_name='2.Construtora') # dados_construtora = pd.read_excel(url, sheet_name=1)"
      ],
      "metadata": {
        "id": "IZVV_FCH-fRN"
      },
      "id": "IZVV_FCH-fRN",
      "execution_count": 12,
      "outputs": []
    },
    {
      "cell_type": "code",
      "source": [
        "print(dados_construtora.head())\n",
        "print(dados_construtora.describe())\n",
        "print(dados_construtora.info())"
      ],
      "metadata": {
        "id": "6jMM89Be-wpf",
        "outputId": "b2761ce5-ad22-417e-9acf-a906e36f0e75",
        "colab": {
          "base_uri": "https://localhost:8080/"
        }
      },
      "id": "6jMM89Be-wpf",
      "execution_count": 13,
      "outputs": [
        {
          "output_type": "stream",
          "name": "stdout",
          "text": [
            "   Quantidade de Concreto (m³)  Quantidade de blocos (centenas)\n",
            "0                           82                               71\n",
            "1                           91                               64\n",
            "2                          100                               43\n",
            "3                           68                               67\n",
            "4                           87                               56\n",
            "       Quantidade de Concreto (m³)  Quantidade de blocos (centenas)\n",
            "count                    18.000000                        18.000000\n",
            "mean                     85.000000                        61.555556\n",
            "std                      13.826658                        11.267978\n",
            "min                      65.000000                        43.000000\n",
            "25%                      76.250000                        53.750000\n",
            "50%                      81.000000                        64.500000\n",
            "75%                      95.500000                        70.250000\n",
            "max                     116.000000                        78.000000\n",
            "<class 'pandas.core.frame.DataFrame'>\n",
            "RangeIndex: 18 entries, 0 to 17\n",
            "Data columns (total 2 columns):\n",
            " #   Column                           Non-Null Count  Dtype\n",
            "---  ------                           --------------  -----\n",
            " 0   Quantidade de Concreto (m³)      18 non-null     int64\n",
            " 1   Quantidade de blocos (centenas)  18 non-null     int64\n",
            "dtypes: int64(2)\n",
            "memory usage: 420.0 bytes\n",
            "None\n"
          ]
        }
      ]
    },
    {
      "cell_type": "code",
      "source": [
        "data = {\n",
        "    'Concreto_m3': [82, 91, 100, 68, 87, 73, 78, 80, 65, 84, 116, 76, 97, 100, 105, 77, 73, 78],\n",
        "    'Blocos_centenas': [71, 64, 43, 67, 56, 73, 68, 56, 76, 65, 45, 58, 45, 53, 49, 78, 73, 68]\n",
        "}\n",
        "df = pd.DataFrame(data)"
      ],
      "metadata": {
        "id": "NqBMQ0uyX4D0"
      },
      "id": "NqBMQ0uyX4D0",
      "execution_count": 17,
      "outputs": []
    },
    {
      "cell_type": "markdown",
      "source": [
        "**a)** Avalie um modelo de regressão para como o número de blocos impacta no consumo de concreto."
      ],
      "metadata": {
        "id": "D-UXepDHYYFj"
      },
      "id": "D-UXepDHYYFj"
    },
    {
      "cell_type": "code",
      "source": [
        "# Modelo de regressão: Concreto = β0 + β1*Blocos\n",
        "X = df['Blocos_centenas']\n",
        "y = df['Concreto_m3']\n",
        "X = sm.add_constant(X)  # Adiciona intercepto\n",
        "modelo_a = sm.OLS(y, X).fit()\n",
        "print(modelo_a.summary())\n",
        "\n",
        "# Gráfico\n",
        "plt.scatter(df['Blocos_centenas'], df['Concreto_m3'])\n",
        "plt.plot(df['Blocos_centenas'], modelo_a.predict(X), color='red')\n",
        "plt.xlabel('Quantidade de Blocos (centenas)')\n",
        "plt.ylabel('Quantidade de Concreto (m³)')\n",
        "plt.title('Relação entre Blocos e Concreto')\n",
        "plt.show()"
      ],
      "metadata": {
        "id": "xQ47GtTC_5Gd",
        "outputId": "364e563b-1188-4e11-9694-b3ecc55eab2c",
        "colab": {
          "base_uri": "https://localhost:8080/",
          "height": 982
        }
      },
      "id": "xQ47GtTC_5Gd",
      "execution_count": 18,
      "outputs": [
        {
          "output_type": "stream",
          "name": "stderr",
          "text": [
            "/usr/local/lib/python3.11/dist-packages/scipy/stats/_axis_nan_policy.py:430: UserWarning: `kurtosistest` p-value may be inaccurate with fewer than 20 observations; only n=18 observations were given.\n",
            "  return hypotest_fun_in(*args, **kwds)\n"
          ]
        },
        {
          "output_type": "stream",
          "name": "stdout",
          "text": [
            "                            OLS Regression Results                            \n",
            "==============================================================================\n",
            "Dep. Variable:            Concreto_m3   R-squared:                       0.700\n",
            "Model:                            OLS   Adj. R-squared:                  0.681\n",
            "Method:                 Least Squares   F-statistic:                     37.34\n",
            "Date:                Thu, 10 Jul 2025   Prob (F-statistic):           1.50e-05\n",
            "Time:                        17:27:17   Log-Likelihood:                -61.469\n",
            "No. Observations:                  18   AIC:                             126.9\n",
            "Df Residuals:                      16   BIC:                             128.7\n",
            "Df Model:                           1                                         \n",
            "Covariance Type:            nonrobust                                         \n",
            "===================================================================================\n",
            "                      coef    std err          t      P>|t|      [0.025      0.975]\n",
            "-----------------------------------------------------------------------------------\n",
            "const             148.1970     10.505     14.108      0.000     125.928     170.466\n",
            "Blocos_centenas    -1.0267      0.168     -6.111      0.000      -1.383      -0.670\n",
            "==============================================================================\n",
            "Omnibus:                        0.470   Durbin-Watson:                   1.638\n",
            "Prob(Omnibus):                  0.791   Jarque-Bera (JB):                0.544\n",
            "Skew:                          -0.019   Prob(JB):                        0.762\n",
            "Kurtosis:                       2.150   Cond. No.                         357.\n",
            "==============================================================================\n",
            "\n",
            "Notes:\n",
            "[1] Standard Errors assume that the covariance matrix of the errors is correctly specified.\n"
          ]
        },
        {
          "output_type": "display_data",
          "data": {
            "text/plain": [
              "<Figure size 640x480 with 1 Axes>"
            ],
            "image/png": "[encoded data removed]"
          },
          "metadata": {}
        }
      ]
    },
    {
      "cell_type": "markdown",
      "source": [
        "**b)** Avalie um modelo de regressão do número de blocos com o custo total."
      ],
      "metadata": {
        "id": "s4_yAPw5Yk_o"
      },
      "id": "s4_yAPw5Yk_o"
    },
    {
      "cell_type": "code",
      "source": [
        "# Preços dados\n",
        "preco_concreto = 240  # R$/m³\n",
        "preco_bloco = 560  # R$/milheiro (1000 blocos)\n",
        "\n",
        "# Como os blocos estão em centenas (100 unidades), ajustamos:\n",
        "# 1 centena = 100 blocos = 0.1 milheiro\n",
        "df['Custo_Total'] = (df['Concreto_m3'] * preco_concreto) + (df['Blocos_centenas'] * 0.1 * preco_bloco)\n",
        "\n",
        "# Modelo de regressão: Custo = β0 + β1*Blocos\n",
        "X = df['Blocos_centenas']\n",
        "y = df['Custo_Total']\n",
        "X = sm.add_constant(X)\n",
        "modelo_b = sm.OLS(y, X).fit()\n",
        "print(modelo_b.summary())"
      ],
      "metadata": {
        "id": "gH5DyOU__bzT",
        "outputId": "5bbd5e72-c089-442a-a9df-6d426c663012",
        "colab": {
          "base_uri": "https://localhost:8080/"
        }
      },
      "id": "gH5DyOU__bzT",
      "execution_count": 19,
      "outputs": [
        {
          "output_type": "stream",
          "name": "stdout",
          "text": [
            "                            OLS Regression Results                            \n",
            "==============================================================================\n",
            "Dep. Variable:            Custo_Total   R-squared:                       0.582\n",
            "Model:                            OLS   Adj. R-squared:                  0.556\n",
            "Method:                 Least Squares   F-statistic:                     22.29\n",
            "Date:                Thu, 10 Jul 2025   Prob (F-statistic):           0.000230\n",
            "Time:                        17:30:35   Log-Likelihood:                -160.12\n",
            "No. Observations:                  18   AIC:                             324.2\n",
            "Df Residuals:                      16   BIC:                             326.0\n",
            "Df Model:                           1                                         \n",
            "Covariance Type:            nonrobust                                         \n",
            "===================================================================================\n",
            "                      coef    std err          t      P>|t|      [0.025      0.975]\n",
            "-----------------------------------------------------------------------------------\n",
            "const            3.557e+04   2521.134     14.108      0.000    3.02e+04    4.09e+04\n",
            "Blocos_centenas  -190.3997     40.324     -4.722      0.000    -275.883    -104.917\n",
            "==============================================================================\n",
            "Omnibus:                        0.470   Durbin-Watson:                   1.638\n",
            "Prob(Omnibus):                  0.791   Jarque-Bera (JB):                0.544\n",
            "Skew:                          -0.019   Prob(JB):                        0.762\n",
            "Kurtosis:                       2.150   Cond. No.                         357.\n",
            "==============================================================================\n",
            "\n",
            "Notes:\n",
            "[1] Standard Errors assume that the covariance matrix of the errors is correctly specified.\n"
          ]
        },
        {
          "output_type": "stream",
          "name": "stderr",
          "text": [
            "/usr/local/lib/python3.11/dist-packages/scipy/stats/_axis_nan_policy.py:430: UserWarning: `kurtosistest` p-value may be inaccurate with fewer than 20 observations; only n=18 observations were given.\n",
            "  return hypotest_fun_in(*args, **kwds)\n"
          ]
        }
      ]
    },
    {
      "cell_type": "markdown",
      "source": [
        "**c)** Qual deve ser a relação mínima entre os preços do concreto e do bloco para que seja viável a substituição?"
      ],
      "metadata": {
        "id": "g67O5pQKYmSD"
      },
      "id": "g67O5pQKYmSD"
    },
    {
      "cell_type": "code",
      "source": [
        "preco_concreto = 240\n",
        "relacao_minima = 9.6\n",
        "preco_max_bloco = relacao_minima * preco_concreto\n",
        "print(f\"Preço máximo do milheiro de blocos para ser viável: R$ {preco_max_bloco:.2f}\")"
      ],
      "metadata": {
        "id": "hwLuCAGGYwMs",
        "outputId": "60c65df1-ec14-4ce1-ff48-f760c792ea3c",
        "colab": {
          "base_uri": "https://localhost:8080/"
        }
      },
      "id": "hwLuCAGGYwMs",
      "execution_count": 20,
      "outputs": [
        {
          "output_type": "stream",
          "name": "stdout",
          "text": [
            "Preço máximo do milheiro de blocos para ser viável: R$ 2304.00\n"
          ]
        }
      ]
    },
    {
      "cell_type": "markdown",
      "source": [
        "## Conclusões\n",
        "### Substituição Concreto-Bloco:\n",
        "\n",
        "Cada 100 blocos reduzem ~0.96 m³ de concreto\n",
        "\n",
        "A substituição já é vantajosa com os preços atuais (R$ 560/milheiro < R$ 2304/milheiro)\n",
        "\n",
        "### Custo Total:\n",
        "\n",
        "O modelo mostra que aumentar blocos eleva o custo, mas isso não considera a redução no concreto\n",
        "\n",
        "Sugiro modelar o custo em função da proporção blocos/concreto\n",
        "\n",
        "### Recomendação:\n",
        "\n",
        "A estratégia de usar mais blocos é viável financeiramente\n",
        "\n",
        "Pode-se otimizar ainda mais calculando a proporção ideal para cada obra"
      ],
      "metadata": {
        "id": "WezftDxQeEAs"
      },
      "id": "WezftDxQeEAs"
    }
  ],
  "metadata": {
    "language_info": {
      "name": "python"
    },
    "colab": {
      "provenance": [],
      "include_colab_link": true
    },
    "kernelspec": {
      "name": "python3",
      "display_name": "Python 3"
    }
  },
  "nbformat": 4,
  "nbformat_minor": 5
}