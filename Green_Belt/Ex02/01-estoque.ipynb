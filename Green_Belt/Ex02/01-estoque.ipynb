{
 "cells": [
  {
   "cell_type": "markdown",
   "id": "dc23d31b",
   "metadata": {},
   "source": [
    "## Green Belt - Lista de Exercícios 2  \n",
    "### Gráfico de Controle e Capabilidade"
   ]
  },
  {
   "cell_type": "markdown",
   "id": "fee01e6c",
   "metadata": {},
   "source": [
    "1 - Uma empresa acompanha o seu volume financeiro em estoque para avaliar se o \n",
    "departamento de Planejamento e Controle da Produção está fazendo corretamente o seu \n",
    "trabalho. Todo mês, um inventário é realizado e o valor total do estoque é anotado. A empresa \n",
    "quer saber se, em algum dos meses, o volume financeiro de estoque foi maior ou menor do que \n",
    "ele costuma ser, pois o Gerente de PCP diz que está fazendo vários projetos para a redução do \n",
    "valor em estoque.  \n",
    "\n",
    "Baseado neste cenário, temos que entender se o valor de estoque está sob controle estatístico, \n",
    "indicando um processo estável. Caso ele esteja, significa que as medidas tomadas pelo gerente \n",
    "não estão surtindo efeito. A ferramenta que nos dará esta resposta é o Gráfico de Controle do \n",
    "valor inventariado. \n",
    "\n",
    "Os dados estão na planilha Green_Belt_FM2S_Lista_Exercícios_02, na aba \n",
    "01.Estoque."
   ]
  },
  {
   "cell_type": "markdown",
   "id": "6454eefe",
   "metadata": {},
   "source": [
    "### Importação dos dados"
   ]
  },
  {
   "cell_type": "code",
   "execution_count": 1,
   "id": "f1d6d3bb",
   "metadata": {},
   "outputs": [
    {
     "data": {
      "application/vnd.microsoft.datawrangler.viewer.v0+json": {
       "columns": [
        {
         "name": "index",
         "rawType": "int64",
         "type": "integer"
        },
        {
         "name": "Mês",
         "rawType": "object",
         "type": "string"
        },
        {
         "name": "Inventário",
         "rawType": "int64",
         "type": "integer"
        }
       ],
       "conversionMethod": "pd.DataFrame",
       "ref": "345506c1-fd29-41b5-a4db-090249e08248",
       "rows": [
        [
         "0",
         "jan./2003",
         "19"
        ],
        [
         "1",
         "fev./2003",
         "27"
        ],
        [
         "2",
         "mar./2003",
         "20"
        ],
        [
         "3",
         "abr./2003",
         "16"
        ],
        [
         "4",
         "mai./2003",
         "18"
        ]
       ],
       "shape": {
        "columns": 2,
        "rows": 5
       }
      },
      "text/html": [
       "<div>\n",
       "<style scoped>\n",
       "    .dataframe tbody tr th:only-of-type {\n",
       "        vertical-align: middle;\n",
       "    }\n",
       "\n",
       "    .dataframe tbody tr th {\n",
       "        vertical-align: top;\n",
       "    }\n",
       "\n",
       "    .dataframe thead th {\n",
       "        text-align: right;\n",
       "    }\n",
       "</style>\n",
       "<table border=\"1\" class=\"dataframe\">\n",
       "  <thead>\n",
       "    <tr style=\"text-align: right;\">\n",
       "      <th></th>\n",
       "      <th>Mês</th>\n",
       "      <th>Inventário</th>\n",
       "    </tr>\n",
       "  </thead>\n",
       "  <tbody>\n",
       "    <tr>\n",
       "      <th>0</th>\n",
       "      <td>jan./2003</td>\n",
       "      <td>19</td>\n",
       "    </tr>\n",
       "    <tr>\n",
       "      <th>1</th>\n",
       "      <td>fev./2003</td>\n",
       "      <td>27</td>\n",
       "    </tr>\n",
       "    <tr>\n",
       "      <th>2</th>\n",
       "      <td>mar./2003</td>\n",
       "      <td>20</td>\n",
       "    </tr>\n",
       "    <tr>\n",
       "      <th>3</th>\n",
       "      <td>abr./2003</td>\n",
       "      <td>16</td>\n",
       "    </tr>\n",
       "    <tr>\n",
       "      <th>4</th>\n",
       "      <td>mai./2003</td>\n",
       "      <td>18</td>\n",
       "    </tr>\n",
       "  </tbody>\n",
       "</table>\n",
       "</div>"
      ],
      "text/plain": [
       "         Mês  Inventário\n",
       "0  jan./2003          19\n",
       "1  fev./2003          27\n",
       "2  mar./2003          20\n",
       "3  abr./2003          16\n",
       "4  mai./2003          18"
      ]
     },
     "execution_count": 1,
     "metadata": {},
     "output_type": "execute_result"
    }
   ],
   "source": [
    "import pandas as pd\n",
    "import matplotlib.pyplot as plt\n",
    "import seaborn as sns\n",
    "import numpy as np\n",
    "\n",
    "url = 'https://raw.githubusercontent.com/moises-rb/Analise_Dados/refs/heads/main/Green_Belt/Ex02/base-de-dados/Estoque.csv'\n",
    "df = pd.read_csv(url)\n",
    "\n",
    "df.head()"
   ]
  },
  {
   "cell_type": "markdown",
   "id": "9637309e",
   "metadata": {},
   "source": [
    "### Responda:"
   ]
  },
  {
   "cell_type": "markdown",
   "id": "106c26a7",
   "metadata": {},
   "source": [
    "a) Qual tipo de variável é o valor (medido em milhares de reais)? É uma variável de \n",
    "contagem, classificação ou contínua? "
   ]
  },
  {
   "cell_type": "code",
   "execution_count": null,
   "id": "dd3d8095",
   "metadata": {},
   "outputs": [],
   "source": []
  },
  {
   "cell_type": "markdown",
   "id": "92b3cc6b",
   "metadata": {},
   "source": [
    "b) Como o dado foi coletado e é apresentado? Qual é o eixo X do gráfico de controle? \n",
    "Quantas medidas de valor temos por unidade de tempo (em outras palavras, qual é o \n",
    "tamanho do subgrupo?) "
   ]
  },
  {
   "cell_type": "code",
   "execution_count": null,
   "id": "68c58fff",
   "metadata": {},
   "outputs": [],
   "source": []
  },
  {
   "cell_type": "markdown",
   "id": "b5f92cec",
   "metadata": {},
   "source": [
    "c) Qual é o gráfico de controle mais adequado para analisar estes dados?"
   ]
  },
  {
   "cell_type": "code",
   "execution_count": null,
   "id": "4d81a227",
   "metadata": {},
   "outputs": [],
   "source": []
  },
  {
   "cell_type": "markdown",
   "id": "d595040c",
   "metadata": {},
   "source": [
    "d) Lembre-se que o gráfico de controle só pode ser usado se os dados obtidos puderem \n",
    "ser aproximados por distribuições específicas (Normal para dados contínuos, Poisson \n",
    "para dados de contagem e Binomial para dados categóricos). Avalie se a variável “valor” \n",
    "é aproximável por uma distribuição normal."
   ]
  },
  {
   "cell_type": "code",
   "execution_count": null,
   "id": "d197b8f8",
   "metadata": {},
   "outputs": [],
   "source": []
  },
  {
   "cell_type": "markdown",
   "id": "096c5248",
   "metadata": {},
   "source": [
    "e) Trace o gráfico de controle mais adequado. Os gráficos de controle ficam na aba “Estat \n",
    "→ Cartas de Controle” do Minitab. O gráfico de Individuais encontra-se no submenu \n",
    "“Cartas de Variáveis para Dados Individuais”, os gráficos P e U encontram-se no \n",
    "submenu “Cartas de Atributos” e o gráfico X-Barra S encontra-se no submenu “Cartas \n",
    "de Variáveis para Subgrupos”. Lembre-se de escolher a variável correta para plotar e de \n",
    "ajustar a escala! "
   ]
  },
  {
   "cell_type": "code",
   "execution_count": null,
   "id": "f0943fef",
   "metadata": {},
   "outputs": [],
   "source": []
  },
  {
   "cell_type": "markdown",
   "id": "b28aea90",
   "metadata": {},
   "source": [
    "f) \n",
    "Analise o gráfico. Existem causas especiais? "
   ]
  },
  {
   "cell_type": "code",
   "execution_count": null,
   "id": "148d35eb",
   "metadata": {},
   "outputs": [],
   "source": []
  },
  {
   "cell_type": "markdown",
   "id": "27937a1f",
   "metadata": {},
   "source": [
    "g) O que pode ser dito das ações do Gerente?"
   ]
  },
  {
   "cell_type": "code",
   "execution_count": null,
   "id": "0941f80d",
   "metadata": {},
   "outputs": [],
   "source": []
  },
  {
   "cell_type": "markdown",
   "id": "91f5790a",
   "metadata": {},
   "source": [
    "h) Você sabia que existe outro caminho para fazer este gráfico? Vá em “Assistente” e \n",
    "selecione a opção “Cartas de Controle…”. Use a árvore (você pode clicar nos pontos de \n",
    "decisão se precisar de ajuda) para selecionar o gráfico. Use o formato proposto. Trace \n",
    "novamente o gráfico."
   ]
  },
  {
   "cell_type": "code",
   "execution_count": null,
   "id": "11ebb5d3",
   "metadata": {},
   "outputs": [],
   "source": []
  },
  {
   "cell_type": "markdown",
   "id": "f680d126",
   "metadata": {},
   "source": [
    "i) \n",
    "Analise cuidadosamente cada tela. O que cada uma diz? "
   ]
  },
  {
   "cell_type": "code",
   "execution_count": null,
   "id": "8378bdad",
   "metadata": {},
   "outputs": [],
   "source": []
  }
 ],
 "metadata": {
  "kernelspec": {
   "display_name": "Python 3",
   "language": "python",
   "name": "python3"
  },
  "language_info": {
   "codemirror_mode": {
    "name": "ipython",
    "version": 3
   },
   "file_extension": ".py",
   "mimetype": "text/x-python",
   "name": "python",
   "nbconvert_exporter": "python",
   "pygments_lexer": "ipython3",
   "version": "3.12.7"
  }
 },
 "nbformat": 4,
 "nbformat_minor": 5
}
