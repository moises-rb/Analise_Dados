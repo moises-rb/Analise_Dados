{
 "cells": [
  {
   "cell_type": "markdown",
   "id": "caf260aa",
   "metadata": {},
   "source": [
    "## Green Belt - Lista de Exercícios 1  \n",
    "### Gráficos de Tendência e de Frequência"
   ]
  },
  {
   "cell_type": "markdown",
   "id": "9fc0e38f",
   "metadata": {},
   "source": [
    "1 - Uma empresa de logística oferece um serviço de entregas para uma série de clientes dos \n",
    "ramos farmacêutico e alimentício. Tradicionalmente, a empresa se responsabilizava apenas pela \n",
    "entrega de produtos não perecíveis, devido ao receio de sua direção no manuseio de produtos \n",
    "perecíveis. Segundo os diretores, trabalhar com produtos perecíveis consistia em um risco muito \n",
    "grande, pois qualquer atraso nas entregas poderia causar a perda do material transportado, o \n",
    "que resultaria em multas e perda da credibilidade dos clientes.\n",
    "\n",
    "Nos últimos meses, devido a uma série de problemas que ocorreram no mercado, esta empresa \n",
    "aceitou fazer algumas entregas de produtos perecíveis para seus clientes. A ideia dos diretores \n",
    "era “resolver o problema” dos clientes e não embarcar em um novo seguimento de negócios. \n",
    "Porém, eles começaram a se interessar pelo preço mais alto pago pelo transporte dos perecíveis \n",
    "e decidiram avaliar se conseguiriam ou não abraçar este mercado. Segundo a consulta que \n",
    "fizeram com os clientes, o tempo esperado para uma entrega de material perecível em uma \n",
    "determinada rota, muito comum no portfólio da empresa não poderia ultrapassar 50 horas.  \n",
    "\n",
    "Pensando neste cenário, os diretores então resolvem coletar dados para analisar se é possível \n",
    "abraçar este novo mercado ou se isso será uma grande armadilha para o seu negócio. Eles \n",
    "coletam dados sobre as últimas entregas realizadas nesta rota, registrando se o material era \n",
    "perecível ou não perecível, para visualizar o comportamento do processo. Eles esperam que o \n",
    "tempo das entregas perecíveis seja melhor do que o tempo das entregas não perecíveis, pois \n",
    "eles deram instruções claras aos seus funcionários de que essas entregas deveriam ser \n",
    "priorizadas.\n",
    "\n",
    "Os dados coletados estão disponíveis na planilha Green_Belt_FM2S_Lista_Exercícios_01, na \n",
    "aba 01.Transporte_Mercadorias."
   ]
  },
  {
   "cell_type": "markdown",
   "id": "cca19610",
   "metadata": {},
   "source": [
    "### Importação dos dados"
   ]
  },
  {
   "cell_type": "code",
   "execution_count": 5,
   "id": "5fad646c",
   "metadata": {},
   "outputs": [
    {
     "ename": "SyntaxError",
     "evalue": "invalid syntax (2315953544.py, line 3)",
     "output_type": "error",
     "traceback": [
      "\u001b[1;36m  Cell \u001b[1;32mIn[5], line 3\u001b[1;36m\u001b[0m\n\u001b[1;33m    url = https://raw.githubusercontent.com/moises-rb/Analise_Dados/refs/heads/main/Green_Belt/Ex01/base-de-dados/Transporte_Mercadorias.csv\u001b[0m\n\u001b[1;37m               ^\u001b[0m\n\u001b[1;31mSyntaxError\u001b[0m\u001b[1;31m:\u001b[0m invalid syntax\n"
     ]
    }
   ],
   "source": [
    "import pandas as pd\n",
    "\n",
    "url = https://raw.githubusercontent.com/moises-rb/Analise_Dados/refs/heads/main/Green_Belt/Ex01/base-de-dados/Transporte_Mercadorias.csv"
   ]
  },
  {
   "cell_type": "markdown",
   "id": "0c528b97",
   "metadata": {},
   "source": [
    "### Responda:"
   ]
  },
  {
   "cell_type": "markdown",
   "id": "25e140cf",
   "metadata": {},
   "source": [
    "a) De acordo com o histórico, o tempo de entrega das mercadorias perecíveis está estável? \n",
    "Faça um gráfico de tendência (estratificado por perecível e não perecível) para avaliar. "
   ]
  },
  {
   "cell_type": "code",
   "execution_count": null,
   "id": "e3496d7d",
   "metadata": {},
   "outputs": [],
   "source": []
  },
  {
   "cell_type": "markdown",
   "id": "1fd589a7",
   "metadata": {},
   "source": [
    "b) Qual é a distribuição do tempo de entrega para o caso das entregas perecíveis? E para as \n",
    "não perecíveis? Faça um histograma para cada um destes grupos. O comportamento é \n",
    "muito diferente? "
   ]
  },
  {
   "cell_type": "code",
   "execution_count": null,
   "id": "65ba09ae",
   "metadata": {},
   "outputs": [],
   "source": []
  },
  {
   "cell_type": "markdown",
   "id": "5d9577e6",
   "metadata": {},
   "source": [
    "c) Considerando todos os valores de entregas no segmento de perecíveis, é provável que \n",
    "as mercadorias cheguem no seu destino a tempo?"
   ]
  },
  {
   "cell_type": "code",
   "execution_count": null,
   "id": "eae46a7b",
   "metadata": {},
   "outputs": [],
   "source": []
  },
  {
   "cell_type": "markdown",
   "id": "faca5f81",
   "metadata": {},
   "source": [
    "d) Analisando estes dados, a empresa sabe fazer uma entrega de não perecíveis? Bastou as \n",
    "instruções dos diretores para a equipe ou ela deverá aprender mais sobre como trabalhar \n",
    "com este tipo de material? "
   ]
  },
  {
   "cell_type": "code",
   "execution_count": null,
   "id": "638b80b3",
   "metadata": {},
   "outputs": [],
   "source": []
  }
 ],
 "metadata": {
  "kernelspec": {
   "display_name": "Python 3",
   "language": "python",
   "name": "python3"
  },
  "language_info": {
   "codemirror_mode": {
    "name": "ipython",
    "version": 3
   },
   "file_extension": ".py",
   "mimetype": "text/x-python",
   "name": "python",
   "nbconvert_exporter": "python",
   "pygments_lexer": "ipython3",
   "version": "3.12.7"
  }
 },
 "nbformat": 4,
 "nbformat_minor": 5
}
