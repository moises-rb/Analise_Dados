{
 "cells": [
  {
   "cell_type": "markdown",
   "id": "a24856fc",
   "metadata": {},
   "source": [
    "## Green Belt - Lista de Exercícios 1  \n",
    "### Gráficos de Tendência e de Frequência"
   ]
  },
  {
   "cell_type": "markdown",
   "id": "a6de79a6",
   "metadata": {},
   "source": [
    "2 - Uma clínica que realiza atendimento para pacientes de duas especialidades médicas \n",
    "(dermatologia e alergologia) deseja avaliar a satisfação de seus usuários. Para isso, eles decidem \n",
    "coletar um indicador que chamaram de índice de satisfação. Esse índice é coletado através de \n",
    "um formulário de 10 perguntas que, ao final, é resumido em uma nota de 0 a 10 para a \n",
    "satisfação. Para coletar os dados, eles aplicam esses questionários em 10 pacientes por dia, \n",
    "durante 20 dias. Também é anotada a especialidade frequentada por cada paciente.  \n",
    "Os dados estão disponíveis na planilha Green_Belt_FM2S_Lista_Exercícios_01, na aba \n",
    "02.Clínica. "
   ]
  },
  {
   "cell_type": "markdown",
   "id": "4bbfe3c3",
   "metadata": {},
   "source": [
    "### Importação dos dados"
   ]
  },
  {
   "cell_type": "code",
   "execution_count": 1,
   "id": "2a8dff52",
   "metadata": {},
   "outputs": [
    {
     "data": {
      "application/vnd.microsoft.datawrangler.viewer.v0+json": {
       "columns": [
        {
         "name": "index",
         "rawType": "int64",
         "type": "integer"
        },
        {
         "name": "Paciente",
         "rawType": "int64",
         "type": "integer"
        },
        {
         "name": "Dia",
         "rawType": "int64",
         "type": "integer"
        },
        {
         "name": "Especialidade",
         "rawType": "object",
         "type": "string"
        },
        {
         "name": "Satisfação",
         "rawType": "object",
         "type": "string"
        }
       ],
       "conversionMethod": "pd.DataFrame",
       "ref": "6fe3d371-b962-4030-a150-8b35e0a5dbfb",
       "rows": [
        [
         "0",
         "1",
         "1",
         "D",
         "7,49"
        ],
        [
         "1",
         "2",
         "1",
         "D",
         "7,77"
        ],
        [
         "2",
         "3",
         "1",
         "D",
         "7,82"
        ],
        [
         "3",
         "4",
         "1",
         "A",
         "8,18"
        ],
        [
         "4",
         "5",
         "1",
         "D",
         "8,14"
        ]
       ],
       "shape": {
        "columns": 4,
        "rows": 5
       }
      },
      "text/html": [
       "<div>\n",
       "<style scoped>\n",
       "    .dataframe tbody tr th:only-of-type {\n",
       "        vertical-align: middle;\n",
       "    }\n",
       "\n",
       "    .dataframe tbody tr th {\n",
       "        vertical-align: top;\n",
       "    }\n",
       "\n",
       "    .dataframe thead th {\n",
       "        text-align: right;\n",
       "    }\n",
       "</style>\n",
       "<table border=\"1\" class=\"dataframe\">\n",
       "  <thead>\n",
       "    <tr style=\"text-align: right;\">\n",
       "      <th></th>\n",
       "      <th>Paciente</th>\n",
       "      <th>Dia</th>\n",
       "      <th>Especialidade</th>\n",
       "      <th>Satisfação</th>\n",
       "    </tr>\n",
       "  </thead>\n",
       "  <tbody>\n",
       "    <tr>\n",
       "      <th>0</th>\n",
       "      <td>1</td>\n",
       "      <td>1</td>\n",
       "      <td>D</td>\n",
       "      <td>7,49</td>\n",
       "    </tr>\n",
       "    <tr>\n",
       "      <th>1</th>\n",
       "      <td>2</td>\n",
       "      <td>1</td>\n",
       "      <td>D</td>\n",
       "      <td>7,77</td>\n",
       "    </tr>\n",
       "    <tr>\n",
       "      <th>2</th>\n",
       "      <td>3</td>\n",
       "      <td>1</td>\n",
       "      <td>D</td>\n",
       "      <td>7,82</td>\n",
       "    </tr>\n",
       "    <tr>\n",
       "      <th>3</th>\n",
       "      <td>4</td>\n",
       "      <td>1</td>\n",
       "      <td>A</td>\n",
       "      <td>8,18</td>\n",
       "    </tr>\n",
       "    <tr>\n",
       "      <th>4</th>\n",
       "      <td>5</td>\n",
       "      <td>1</td>\n",
       "      <td>D</td>\n",
       "      <td>8,14</td>\n",
       "    </tr>\n",
       "  </tbody>\n",
       "</table>\n",
       "</div>"
      ],
      "text/plain": [
       "   Paciente  Dia Especialidade Satisfação\n",
       "0         1    1             D       7,49\n",
       "1         2    1             D       7,77\n",
       "2         3    1             D       7,82\n",
       "3         4    1             A       8,18\n",
       "4         5    1             D       8,14"
      ]
     },
     "execution_count": 1,
     "metadata": {},
     "output_type": "execute_result"
    }
   ],
   "source": [
    "import pandas as pd\n",
    "import matplotlib.pyplot as plt\n",
    "import seaborn as sns\n",
    "import numpy as np\n",
    "\n",
    "url = 'https://raw.githubusercontent.com/moises-rb/Analise_Dados/refs/heads/main/Green_Belt/Ex01/base-de-dados/Cl%C3%ADnica.csv'\n",
    "df = pd.read_csv(url)\n",
    "\n",
    "df.head()"
   ]
  },
  {
   "cell_type": "markdown",
   "id": "cd5aeeb0",
   "metadata": {},
   "source": [
    "### Responda:"
   ]
  },
  {
   "cell_type": "markdown",
   "id": "2876d57f",
   "metadata": {},
   "source": [
    "a) Que tipo de variável é o índice de satisfação? É uma variável de contagem, classificação \n",
    "ou uma variável contínua? "
   ]
  },
  {
   "cell_type": "code",
   "execution_count": null,
   "id": "d966bb36",
   "metadata": {},
   "outputs": [],
   "source": []
  },
  {
   "cell_type": "markdown",
   "id": "6afb525c",
   "metadata": {},
   "source": [
    "b) Avalie como está a distribuição das notas durante os 20 dias como um todo. Lembre-se \n",
    "de escolher o tipo correto de gráfico de frequência para esta variável. Ainda não vamos \n",
    "fazer este gráfico estratificado por especialidade, vamos entender como se comporta a \n",
    "satisfação para toda a clínica primeiro. "
   ]
  },
  {
   "cell_type": "code",
   "execution_count": null,
   "id": "5d8c441f",
   "metadata": {},
   "outputs": [],
   "source": []
  },
  {
   "cell_type": "markdown",
   "id": "bfcdb0d2",
   "metadata": {},
   "source": [
    "c) Ao longo dos 20 dias, é possível ver alguma diferença na nota para cada especialidade? \n",
    "Estratifique sua análise de dados e compare as frequências (use a coluna \n",
    "“Especialidades” para agrupar os dados na hora de traçar o gráfico). "
   ]
  },
  {
   "cell_type": "code",
   "execution_count": null,
   "id": "97448894",
   "metadata": {},
   "outputs": [],
   "source": []
  },
  {
   "cell_type": "markdown",
   "id": "b68a3406",
   "metadata": {},
   "source": [
    "d) O que isso indica sobre a satisfação? O que no processo poderia gerar esse \n",
    "comportamento? "
   ]
  },
  {
   "cell_type": "code",
   "execution_count": null,
   "id": "a7bb5d6c",
   "metadata": {},
   "outputs": [],
   "source": []
  },
  {
   "cell_type": "markdown",
   "id": "ec314408",
   "metadata": {},
   "source": [
    "e) Agora, faça uma análise temporal do índice de satisfação. Supondo que os pacientes \n",
    "tivessem todos sido coletados em ordem cronológica, desenvolva um gráfico de \n",
    "tendência da satisfação por paciente. A análise pode ser feita para todo o conjunto de \n",
    "dados ou estratificado (com grupos) por dermatologia e alergologia. Avalie se há alguma \n",
    "tendência no gráfico. "
   ]
  },
  {
   "cell_type": "code",
   "execution_count": null,
   "id": "a30901f9",
   "metadata": {},
   "outputs": [],
   "source": []
  },
  {
   "cell_type": "markdown",
   "id": "148a7903",
   "metadata": {},
   "source": [
    "f) Se uma mudança foi feita a partir do décimo dia, o que podemos dizer dela? "
   ]
  },
  {
   "cell_type": "code",
   "execution_count": null,
   "id": "80626735",
   "metadata": {},
   "outputs": [],
   "source": []
  },
  {
   "cell_type": "markdown",
   "id": "ec650ff0",
   "metadata": {},
   "source": [
    "g) Agora, vamos tentar olhar essa satisfação por dia. Para isso, é necessário “trabalhar a \n",
    "base”."
   ]
  },
  {
   "cell_type": "code",
   "execution_count": null,
   "id": "95846961",
   "metadata": {},
   "outputs": [],
   "source": []
  },
  {
   "cell_type": "markdown",
   "id": "44e9f529",
   "metadata": {},
   "source": [
    "h) Aqui, vamos ter que fazer uma média do índice de satisfação a cada dia e, em seguida, \n",
    "traçar essa nova base. "
   ]
  },
  {
   "cell_type": "code",
   "execution_count": null,
   "id": "e80d78af",
   "metadata": {},
   "outputs": [],
   "source": []
  },
  {
   "cell_type": "markdown",
   "id": "6b32356e",
   "metadata": {},
   "source": [
    "i) O que podemos dizer da satisfação por dia? "
   ]
  },
  {
   "cell_type": "code",
   "execution_count": null,
   "id": "c1102286",
   "metadata": {},
   "outputs": [],
   "source": []
  },
  {
   "cell_type": "markdown",
   "id": "127cc7e3",
   "metadata": {},
   "source": [
    "j) Para finalizar, diga se a amostra estava equilibrada entre as especialidades. Será que \n",
    "houve mais pacientes de dermatologia do que de alergologia na amostra? Faça o gráfico \n",
    "de frequência apropriado para dizer."
   ]
  },
  {
   "cell_type": "code",
   "execution_count": null,
   "id": "a59766d7",
   "metadata": {},
   "outputs": [],
   "source": []
  }
 ],
 "metadata": {
  "kernelspec": {
   "display_name": "Python 3",
   "language": "python",
   "name": "python3"
  },
  "language_info": {
   "codemirror_mode": {
    "name": "ipython",
    "version": 3
   },
   "file_extension": ".py",
   "mimetype": "text/x-python",
   "name": "python",
   "nbconvert_exporter": "python",
   "pygments_lexer": "ipython3",
   "version": "3.12.7"
  }
 },
 "nbformat": 4,
 "nbformat_minor": 5
}
