{
 "cells": [
  {
   "cell_type": "markdown",
   "id": "4be68912",
   "metadata": {},
   "source": [
    "## Green Belt - Lista de Exercícios 1  \n",
    "### Gráficos de Tendência e de Frequência"
   ]
  },
  {
   "attachments": {
    "image.png": {
     "image/png": "[encoded data removed]"
    }
   },
   "cell_type": "markdown",
   "id": "999e074f",
   "metadata": {},
   "source": [
    "3 - Uma Unidade de Pronto Atendimento passou a receber nas duas últimas semanas uma \n",
    "grande quantidade de reclamações relacionadas ao tempo de espera excessivo. Longos tempos \n",
    "de espera podem acarretar superlotação das unidades de saúde, sofrimento para os pacientes \n",
    "e acompanhantes e ambiente estressantes para toda equipe. A gerência dessa UPA, com o \n",
    "intuito de validar as reclamações recebidas e avaliar o cenário atual, coletou dados dos \n",
    "atendimentos das últimas quatro semanas e identificou quais atendimentos foram não \n",
    "conformes. \n",
    "\n",
    "Para definir se um atendimento está conforme ou não, seguiu-se o recomendado pela Agência \n",
    "Nacional de Saúde, a qual indica um tempo de espera adequado de acordo com o nível de \n",
    "classificação de risco do paciente: \n",
    "\n",
    "![image.png](attachment:image.png)\n",
    "\n",
    "Os dados coletados estão disponíveis na planilha Green_Belt_FM2S_Lista_Exercícios_01, na \n",
    "aba 03.Atendimento_UPA."
   ]
  },
  {
   "cell_type": "markdown",
   "id": "9cd0effb",
   "metadata": {},
   "source": [
    "### Importação dos dados"
   ]
  },
  {
   "cell_type": "code",
   "execution_count": 51,
   "id": "40023f48",
   "metadata": {},
   "outputs": [
    {
     "data": {
      "application/vnd.microsoft.datawrangler.viewer.v0+json": {
       "columns": [
        {
         "name": "index",
         "rawType": "int64",
         "type": "integer"
        },
        {
         "name": "Dia",
         "rawType": "int64",
         "type": "integer"
        },
        {
         "name": "Atendimento",
         "rawType": "int64",
         "type": "integer"
        },
        {
         "name": "Classificação de Risco",
         "rawType": "object",
         "type": "string"
        },
        {
         "name": "Tempo de Atendimento",
         "rawType": "object",
         "type": "string"
        }
       ],
       "conversionMethod": "pd.DataFrame",
       "ref": "989b311a-25e9-4225-bf87-45153696a38d",
       "rows": [
        [
         "0",
         "1",
         "1057",
         "Não Urgente",
         "Não conforme"
        ],
        [
         "1",
         "1",
         "1058",
         "Não Urgente",
         "Conforme"
        ],
        [
         "2",
         "1",
         "1059",
         "Não Urgente",
         "Conforme"
        ],
        [
         "3",
         "1",
         "1060",
         "Não Urgente",
         "Conforme"
        ],
        [
         "4",
         "1",
         "1061",
         "Urgente",
         "Conforme"
        ]
       ],
       "shape": {
        "columns": 4,
        "rows": 5
       }
      },
      "text/html": [
       "<div>\n",
       "<style scoped>\n",
       "    .dataframe tbody tr th:only-of-type {\n",
       "        vertical-align: middle;\n",
       "    }\n",
       "\n",
       "    .dataframe tbody tr th {\n",
       "        vertical-align: top;\n",
       "    }\n",
       "\n",
       "    .dataframe thead th {\n",
       "        text-align: right;\n",
       "    }\n",
       "</style>\n",
       "<table border=\"1\" class=\"dataframe\">\n",
       "  <thead>\n",
       "    <tr style=\"text-align: right;\">\n",
       "      <th></th>\n",
       "      <th>Dia</th>\n",
       "      <th>Atendimento</th>\n",
       "      <th>Classificação de Risco</th>\n",
       "      <th>Tempo de Atendimento</th>\n",
       "    </tr>\n",
       "  </thead>\n",
       "  <tbody>\n",
       "    <tr>\n",
       "      <th>0</th>\n",
       "      <td>1</td>\n",
       "      <td>1057</td>\n",
       "      <td>Não Urgente</td>\n",
       "      <td>Não conforme</td>\n",
       "    </tr>\n",
       "    <tr>\n",
       "      <th>1</th>\n",
       "      <td>1</td>\n",
       "      <td>1058</td>\n",
       "      <td>Não Urgente</td>\n",
       "      <td>Conforme</td>\n",
       "    </tr>\n",
       "    <tr>\n",
       "      <th>2</th>\n",
       "      <td>1</td>\n",
       "      <td>1059</td>\n",
       "      <td>Não Urgente</td>\n",
       "      <td>Conforme</td>\n",
       "    </tr>\n",
       "    <tr>\n",
       "      <th>3</th>\n",
       "      <td>1</td>\n",
       "      <td>1060</td>\n",
       "      <td>Não Urgente</td>\n",
       "      <td>Conforme</td>\n",
       "    </tr>\n",
       "    <tr>\n",
       "      <th>4</th>\n",
       "      <td>1</td>\n",
       "      <td>1061</td>\n",
       "      <td>Urgente</td>\n",
       "      <td>Conforme</td>\n",
       "    </tr>\n",
       "  </tbody>\n",
       "</table>\n",
       "</div>"
      ],
      "text/plain": [
       "   Dia  Atendimento Classificação de Risco Tempo de Atendimento\n",
       "0    1         1057            Não Urgente         Não conforme\n",
       "1    1         1058            Não Urgente             Conforme\n",
       "2    1         1059            Não Urgente             Conforme\n",
       "3    1         1060            Não Urgente             Conforme\n",
       "4    1         1061                Urgente             Conforme"
      ]
     },
     "execution_count": 51,
     "metadata": {},
     "output_type": "execute_result"
    }
   ],
   "source": [
    "import pandas as pd\n",
    "import matplotlib.pyplot as plt\n",
    "import seaborn as sns\n",
    "import numpy as np\n",
    "\n",
    "url = 'https://raw.githubusercontent.com/moises-rb/Analise_Dados/refs/heads/main/Green_Belt/Ex01/base-de-dados/Atendimento_UPA.csv'\n",
    "df = pd.read_csv(url)\n",
    "\n",
    "df.head()"
   ]
  },
  {
   "cell_type": "markdown",
   "id": "9e4fdb5c",
   "metadata": {},
   "source": [
    "### Responda:"
   ]
  },
  {
   "cell_type": "markdown",
   "id": "0cff113c",
   "metadata": {},
   "source": [
    "a) Como o desempenho dos atendimentos por dia variou ao longo do tempo?"
   ]
  },
  {
   "cell_type": "markdown",
   "id": "912f6486",
   "metadata": {},
   "source": [
    "b) Quais fatores poderiam contribuir para a variação? Há causas especiais? "
   ]
  },
  {
   "cell_type": "markdown",
   "id": "cd07ac92",
   "metadata": {},
   "source": [
    "c) Há diferenças em relação aos atrasos de acordo com cada classificação de risco? "
   ]
  },
  {
   "cell_type": "code",
   "execution_count": null,
   "id": "2560b4dc",
   "metadata": {},
   "outputs": [],
   "source": []
  }
 ],
 "metadata": {
  "kernelspec": {
   "display_name": "Python 3",
   "language": "python",
   "name": "python3"
  },
  "language_info": {
   "codemirror_mode": {
    "name": "ipython",
    "version": 3
   },
   "file_extension": ".py",
   "mimetype": "text/x-python",
   "name": "python",
   "nbconvert_exporter": "python",
   "pygments_lexer": "ipython3",
   "version": "3.12.7"
  }
 },
 "nbformat": 4,
 "nbformat_minor": 5
}
