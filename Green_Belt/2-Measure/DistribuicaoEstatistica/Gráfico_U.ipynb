{
  "nbformat": 4,
  "nbformat_minor": 0,
  "metadata": {
    "colab": {
      "provenance": [],
      "authorship_tag": "ABX9TyPqzhYj0hffY/nVeMkC3CEc",
      "include_colab_link": true
    },
    "kernelspec": {
      "name": "python3",
      "display_name": "Python 3"
    },
    "language_info": {
      "name": "python"
    }
  },
  "cells": [
    {
      "cell_type": "markdown",
      "metadata": {
        "id": "view-in-github",
        "colab_type": "text"
      },
      "source": [
        "<a href=\"https://colab.research.google.com/github/moises-rb/Analise_Dados/blob/main/Green_Belt/2-Measure/DistribuicaoEstatistica/Gr%C3%A1fico_U.ipynb\" target=\"_parent\"><img src=\"https://colab.research.google.com/assets/colab-badge.svg\" alt=\"Open In Colab\"/></a>"
      ]
    },
    {
      "cell_type": "markdown",
      "source": [
        "## Neste Notebook, nosso objetivo é entender como aplicar o Gráfico U.\n",
        "### 1 - Quais situações são recomendadas a sua utilização;\n",
        "### 2 - Com quais tipos de variáveis devemos trabalhar nesse tipo de gráfico;\n",
        "### 3 - Como construir o gráfico;\n",
        "### 4 - Como explicar o gráfico;"
      ],
      "metadata": {
        "id": "aNJZRz9pT2E9"
      }
    },
    {
      "cell_type": "code",
      "execution_count": null,
      "metadata": {
        "id": "qVlQ2IsFT0Uo"
      },
      "outputs": [],
      "source": []
    }
  ]
}