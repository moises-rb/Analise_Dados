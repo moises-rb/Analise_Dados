{
  "cells": [
    {
      "cell_type": "markdown",
      "metadata": {
        "colab_type": "text",
        "id": "view-in-github"
      },
      "source": [
        "<a href=\"https://colab.research.google.com/github/moises-rb/Analise_Dados/blob/main/Green_Belt/DistribuicaoEstatistica/Gr%C3%A1fico_de_Individuais.ipynb\" target=\"_parent\"><img src=\"https://colab.research.google.com/assets/colab-badge.svg\" alt=\"Open In Colab\"/></a>"
      ]
    },
    {
      "cell_type": "markdown",
      "metadata": {
        "id": "94PBgmxnlH0g"
      },
      "source": [
        "## Neste Notebook, nosso objetivo é entender como aplicar o Gráfico de Individuais.\n",
        "\n",
        "### 1 - Quais situações são recomendadas a sua utilização;\n",
        "### 2 - Com quais tipos de variáveis devemos trabalhar nesse tipo de gráfico;\n",
        "### 3 - Como construir o gráfico;\n",
        "### 4 - Como explicar o gráfico;"
      ]
    },
    {
      "cell_type": "code",
      "execution_count": 1,
      "metadata": {
        "id": "ycPF9zkmlDlb"
      },
      "outputs": [],
      "source": [
        "import pandas as pd\n",
        "import matplotlib as plt\n",
        "import seaborn as sns\n",
        "import numpy as np\n",
        "import scipy.stats as stats"
      ]
    },
    {
      "cell_type": "code",
      "execution_count": null,
      "metadata": {},
      "outputs": [],
      "source": [
        "url = 'https://github.com/moises-rb/Analise_Dados/blob/main/Green_Belt/DistribuicaoEstatistica/base_dados/Green_Belt_FM2S_Demo_3.xlsx?raw=True'\n",
        "dados = pd.read_excel(url)\n",
        "dados.head()"
      ]
    }
  ],
  "metadata": {
    "colab": {
      "authorship_tag": "ABX9TyN42ThUXIEmJf4eFoWY8uzS",
      "include_colab_link": true,
      "provenance": []
    },
    "kernelspec": {
      "display_name": "Python 3",
      "name": "python3"
    },
    "language_info": {
      "codemirror_mode": {
        "name": "ipython",
        "version": 3
      },
      "file_extension": ".py",
      "mimetype": "text/x-python",
      "name": "python",
      "nbconvert_exporter": "python",
      "pygments_lexer": "ipython3",
      "version": "3.13.2"
    }
  },
  "nbformat": 4,
  "nbformat_minor": 0
}
