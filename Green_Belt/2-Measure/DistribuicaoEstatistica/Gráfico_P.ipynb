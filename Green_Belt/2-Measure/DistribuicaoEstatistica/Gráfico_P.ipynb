{
  "cells": [
    {
      "cell_type": "markdown",
      "metadata": {
        "colab_type": "text",
        "id": "view-in-github"
      },
      "source": [
        "<a href=\"https://colab.research.google.com/github/moises-rb/Analise_Dados/blob/main/Green_Belt/DistribuicaoEstatistica/Gr%C3%A1fico_P.ipynb\" target=\"_parent\"><img src=\"https://colab.research.google.com/assets/colab-badge.svg\" alt=\"Open In Colab\"/></a>"
      ]
    },
    {
      "cell_type": "markdown",
      "metadata": {
        "id": "YweraCddRRFh"
      },
      "source": [
        "## Neste Notebook, nosso objetivo é entender como aplicar o Gráfico P.\n",
        "\n",
        "### 1 - Quais situações são recomendadas a sua utilização;\n",
        "#### Quando se quer acompanhar a proporção de unidades defeituosas, ou seja, a taxa de rejeição de lotes (ex: % de peças rejeitadas, % de clientes insatisfeitos).\n",
        "### 2 - Com quais tipos de variáveis devemos trabalhar nesse tipo de gráfico;\n",
        "#### Variável discreta binária (defeituoso ou não; sucesso/fracasso).\n",
        "### 3 - Como construir o gráfico;\n",
        "#### - Para cada amostra, calcule a proporção de itens defeituosos (p = nº defeituosos / total inspecionado).\n",
        "#### - Linha central = proporção média global.\n",
        "#### - LSC e LIC variam com o tamanho da amostra.\n",
        "### 4 - Como explicar o gráfico;\n",
        "#### Mostra o percentual de falhas em um processo ao longo do tempo. Ideal para avaliar a estabilidade da qualidade sob uma ótica percentual.\n",
        "\n",
        "#### 📌 \"O gráfico P não conta quantos furos existem, ele te diz a chance de um item furar. Ele fala em probabilidade prática: qual a chance de dar ruim hoje?\""
      ]
    },
    {
      "cell_type": "code",
      "execution_count": 1,
      "metadata": {
        "id": "4BPBBqwkR03e"
      },
      "outputs": [],
      "source": [
        "import pandas as pd\n",
        "import plotly.express as px\n",
        "import plotly.graph_objects as go"
      ]
    },
    {
      "cell_type": "code",
      "execution_count": 2,
      "metadata": {
        "id": "-dAyj4vPQdxT"
      },
      "outputs": [
        {
          "data": {
            "application/vnd.microsoft.datawrangler.viewer.v0+json": {
              "columns": [
                {
                  "name": "index",
                  "rawType": "int64",
                  "type": "integer"
                },
                {
                  "name": "Data",
                  "rawType": "datetime64[ns]",
                  "type": "datetime"
                },
                {
                  "name": "Quantidade produzida (kg)",
                  "rawType": "float64",
                  "type": "float"
                },
                {
                  "name": "Estágio",
                  "rawType": "object",
                  "type": "string"
                }
              ],
              "ref": "696c63f4-fd7c-4b46-8a7b-b1a407a85059",
              "rows": [
                [
                  "0",
                  "1990-02-01 00:00:00",
                  "237.7430186415315",
                  "A"
                ],
                [
                  "1",
                  "1990-02-02 00:00:00",
                  "254.9223994479004",
                  "A"
                ],
                [
                  "2",
                  "1990-02-03 00:00:00",
                  "246.85058845762038",
                  "A"
                ],
                [
                  "3",
                  "1990-02-04 00:00:00",
                  "257.0940660127058",
                  "A"
                ],
                [
                  "4",
                  "1990-02-05 00:00:00",
                  "226.46855914362962",
                  "A"
                ]
              ],
              "shape": {
                "columns": 3,
                "rows": 5
              }
            },
            "text/html": [
              "<div>\n",
              "<style scoped>\n",
              "    .dataframe tbody tr th:only-of-type {\n",
              "        vertical-align: middle;\n",
              "    }\n",
              "\n",
              "    .dataframe tbody tr th {\n",
              "        vertical-align: top;\n",
              "    }\n",
              "\n",
              "    .dataframe thead th {\n",
              "        text-align: right;\n",
              "    }\n",
              "</style>\n",
              "<table border=\"1\" class=\"dataframe\">\n",
              "  <thead>\n",
              "    <tr style=\"text-align: right;\">\n",
              "      <th></th>\n",
              "      <th>Data</th>\n",
              "      <th>Quantidade produzida (kg)</th>\n",
              "      <th>Estágio</th>\n",
              "    </tr>\n",
              "  </thead>\n",
              "  <tbody>\n",
              "    <tr>\n",
              "      <th>0</th>\n",
              "      <td>1990-02-01</td>\n",
              "      <td>237.743019</td>\n",
              "      <td>A</td>\n",
              "    </tr>\n",
              "    <tr>\n",
              "      <th>1</th>\n",
              "      <td>1990-02-02</td>\n",
              "      <td>254.922399</td>\n",
              "      <td>A</td>\n",
              "    </tr>\n",
              "    <tr>\n",
              "      <th>2</th>\n",
              "      <td>1990-02-03</td>\n",
              "      <td>246.850588</td>\n",
              "      <td>A</td>\n",
              "    </tr>\n",
              "    <tr>\n",
              "      <th>3</th>\n",
              "      <td>1990-02-04</td>\n",
              "      <td>257.094066</td>\n",
              "      <td>A</td>\n",
              "    </tr>\n",
              "    <tr>\n",
              "      <th>4</th>\n",
              "      <td>1990-02-05</td>\n",
              "      <td>226.468559</td>\n",
              "      <td>A</td>\n",
              "    </tr>\n",
              "  </tbody>\n",
              "</table>\n",
              "</div>"
            ],
            "text/plain": [
              "        Data  Quantidade produzida (kg) Estágio\n",
              "0 1990-02-01                 237.743019       A\n",
              "1 1990-02-02                 254.922399       A\n",
              "2 1990-02-03                 246.850588       A\n",
              "3 1990-02-04                 257.094066       A\n",
              "4 1990-02-05                 226.468559       A"
            ]
          },
          "execution_count": 2,
          "metadata": {},
          "output_type": "execute_result"
        }
      ],
      "source": [
        "url = 'https://github.com/moises-rb/Analise_Dados/blob/main/Green_Belt/2-Measure/DistribuicaoEstatistica/base_dados/Green_Belt_FM2S_Demo_4.xlsx?raw=True'\n",
        "dados = pd.read_excel(url)\n",
        "dados.head()"
      ]
    },
    {
      "cell_type": "code",
      "execution_count": 3,
      "metadata": {},
      "outputs": [
        {
          "name": "stdout",
          "output_type": "stream",
          "text": [
            "['GC - Var. Contínuas', 'GC - Var. Contagem', 'GC - Var. Categóricas']\n"
          ]
        }
      ],
      "source": [
        "# Aqui o Pandas \"prepara\" o arquivo para ver as abas\n",
        "excel_file = pd.ExcelFile(url)\n",
        "nomes_das_abas = excel_file.sheet_names\n",
        "print(nomes_das_abas)"
      ]
    },
    {
      "cell_type": "code",
      "execution_count": 4,
      "metadata": {},
      "outputs": [
        {
          "data": {
            "application/vnd.microsoft.datawrangler.viewer.v0+json": {
              "columns": [
                {
                  "name": "index",
                  "rawType": "int64",
                  "type": "integer"
                },
                {
                  "name": "Dia",
                  "rawType": "int64",
                  "type": "integer"
                },
                {
                  "name": "Ausências",
                  "rawType": "int64",
                  "type": "integer"
                },
                {
                  "name": "Ausências não justificadas",
                  "rawType": "int64",
                  "type": "integer"
                },
                {
                  "name": "Total de funcionários",
                  "rawType": "int64",
                  "type": "integer"
                }
              ],
              "ref": "043d9c50-d9b5-4939-8f8f-0c104ae516a5",
              "rows": [
                [
                  "0",
                  "1",
                  "10",
                  "2",
                  "90"
                ],
                [
                  "1",
                  "2",
                  "8",
                  "3",
                  "90"
                ],
                [
                  "2",
                  "3",
                  "14",
                  "1",
                  "90"
                ],
                [
                  "3",
                  "4",
                  "6",
                  "1",
                  "90"
                ],
                [
                  "4",
                  "5",
                  "8",
                  "1",
                  "90"
                ]
              ],
              "shape": {
                "columns": 4,
                "rows": 5
              }
            },
            "text/html": [
              "<div>\n",
              "<style scoped>\n",
              "    .dataframe tbody tr th:only-of-type {\n",
              "        vertical-align: middle;\n",
              "    }\n",
              "\n",
              "    .dataframe tbody tr th {\n",
              "        vertical-align: top;\n",
              "    }\n",
              "\n",
              "    .dataframe thead th {\n",
              "        text-align: right;\n",
              "    }\n",
              "</style>\n",
              "<table border=\"1\" class=\"dataframe\">\n",
              "  <thead>\n",
              "    <tr style=\"text-align: right;\">\n",
              "      <th></th>\n",
              "      <th>Dia</th>\n",
              "      <th>Ausências</th>\n",
              "      <th>Ausências não justificadas</th>\n",
              "      <th>Total de funcionários</th>\n",
              "    </tr>\n",
              "  </thead>\n",
              "  <tbody>\n",
              "    <tr>\n",
              "      <th>0</th>\n",
              "      <td>1</td>\n",
              "      <td>10</td>\n",
              "      <td>2</td>\n",
              "      <td>90</td>\n",
              "    </tr>\n",
              "    <tr>\n",
              "      <th>1</th>\n",
              "      <td>2</td>\n",
              "      <td>8</td>\n",
              "      <td>3</td>\n",
              "      <td>90</td>\n",
              "    </tr>\n",
              "    <tr>\n",
              "      <th>2</th>\n",
              "      <td>3</td>\n",
              "      <td>14</td>\n",
              "      <td>1</td>\n",
              "      <td>90</td>\n",
              "    </tr>\n",
              "    <tr>\n",
              "      <th>3</th>\n",
              "      <td>4</td>\n",
              "      <td>6</td>\n",
              "      <td>1</td>\n",
              "      <td>90</td>\n",
              "    </tr>\n",
              "    <tr>\n",
              "      <th>4</th>\n",
              "      <td>5</td>\n",
              "      <td>8</td>\n",
              "      <td>1</td>\n",
              "      <td>90</td>\n",
              "    </tr>\n",
              "  </tbody>\n",
              "</table>\n",
              "</div>"
            ],
            "text/plain": [
              "   Dia  Ausências  Ausências não justificadas  Total de funcionários\n",
              "0    1         10                           2                     90\n",
              "1    2          8                           3                     90\n",
              "2    3         14                           1                     90\n",
              "3    4          6                           1                     90\n",
              "4    5          8                           1                     90"
            ]
          },
          "execution_count": 4,
          "metadata": {},
          "output_type": "execute_result"
        }
      ],
      "source": [
        "# Lendo a primeira aba da planilha\n",
        "dados_aba3 = pd.read_excel(url, sheet_name=nomes_das_abas[2]) # podemos ler assim também: dados_aba1 = pd.read_excel(url, sheet_name='GC - Var. Categóricas')\n",
        "dados_aba3.head()"
      ]
    },
    {
      "cell_type": "code",
      "execution_count": 5,
      "metadata": {},
      "outputs": [
        {
          "name": "stdout",
          "output_type": "stream",
          "text": [
            "Proporção média (p_barra): 0.0200\n",
            "LCS: 0.0643\n",
            "LCI: 0.0000\n"
          ]
        },
        {
          "data": {
            "application/vnd.plotly.v1+json": {
              "config": {
                "plotlyServerURL": "https://plot.ly"
              },
              "data": [
                {
                  "hovertemplate": "Dia=%{x}<br>p=%{y}<extra></extra>",
                  "legendgroup": "",
                  "line": {
                    "color": "#636efa",
                    "dash": "solid"
                  },
                  "marker": {
                    "symbol": "circle"
                  },
                  "mode": "lines",
                  "name": "",
                  "orientation": "v",
                  "showlegend": false,
                  "type": "scatter",
                  "x": {
                    "bdata": "AQIDBAUGBwgJCgsMDQ4PEBESExQ=",
                    "dtype": "i1"
                  },
                  "xaxis": "x",
                  "y": {
                    "bdata": "F2zBFmzBlj8RERERERGhPxdswRZswYY/F2zBFmzBhj8XbMEWbMGGPxdswRZswZY/AAAAAAAAAAARERERERGhPxdswRZswYY/F2zBFmzBtj8XbMEWbMGGPxdswRZswZY/AAAAAAAAAAAXbMEWbMGmPxEREREREaE/F2zBFmzBhj8AAAAAAAAAABdswRZswZY/F2zBFmzBhj8AAAAAAAAAAA==",
                    "dtype": "f8"
                  },
                  "yaxis": "y"
                }
              ],
              "layout": {
                "annotations": [
                  {
                    "showarrow": false,
                    "text": "Linha Central (p̄)",
                    "x": 1,
                    "xanchor": "right",
                    "xref": "x domain",
                    "y": 0.02,
                    "yanchor": "bottom",
                    "yref": "y"
                  },
                  {
                    "showarrow": false,
                    "text": "LCS",
                    "x": 1,
                    "xanchor": "right",
                    "xref": "x domain",
                    "y": 0.06427188724235731,
                    "yanchor": "bottom",
                    "yref": "y"
                  },
                  {
                    "showarrow": false,
                    "text": "LCI",
                    "x": 1,
                    "xanchor": "right",
                    "xref": "x domain",
                    "y": 0,
                    "yanchor": "bottom",
                    "yref": "y"
                  }
                ],
                "legend": {
                  "tracegroupgap": 0
                },
                "shapes": [
                  {
                    "line": {
                      "dash": "dot"
                    },
                    "type": "line",
                    "x0": 0,
                    "x1": 1,
                    "xref": "x domain",
                    "y0": 0.02,
                    "y1": 0.02,
                    "yref": "y"
                  },
                  {
                    "line": {
                      "color": "red",
                      "dash": "dash"
                    },
                    "type": "line",
                    "x0": 0,
                    "x1": 1,
                    "xref": "x domain",
                    "y0": 0.06427188724235731,
                    "y1": 0.06427188724235731,
                    "yref": "y"
                  },
                  {
                    "line": {
                      "color": "red",
                      "dash": "dash"
                    },
                    "type": "line",
                    "x0": 0,
                    "x1": 1,
                    "xref": "x domain",
                    "y0": 0,
                    "y1": 0,
                    "yref": "y"
                  }
                ],
                "template": {
                  "data": {
                    "bar": [
                      {
                        "error_x": {
                          "color": "#2a3f5f"
                        },
                        "error_y": {
                          "color": "#2a3f5f"
                        },
                        "marker": {
                          "line": {
                            "color": "#E5ECF6",
                            "width": 0.5
                          },
                          "pattern": {
                            "fillmode": "overlay",
                            "size": 10,
                            "solidity": 0.2
                          }
                        },
                        "type": "bar"
                      }
                    ],
                    "barpolar": [
                      {
                        "marker": {
                          "line": {
                            "color": "#E5ECF6",
                            "width": 0.5
                          },
                          "pattern": {
                            "fillmode": "overlay",
                            "size": 10,
                            "solidity": 0.2
                          }
                        },
                        "type": "barpolar"
                      }
                    ],
                    "carpet": [
                      {
                        "aaxis": {
                          "endlinecolor": "#2a3f5f",
                          "gridcolor": "white",
                          "linecolor": "white",
                          "minorgridcolor": "white",
                          "startlinecolor": "#2a3f5f"
                        },
                        "baxis": {
                          "endlinecolor": "#2a3f5f",
                          "gridcolor": "white",
                          "linecolor": "white",
                          "minorgridcolor": "white",
                          "startlinecolor": "#2a3f5f"
                        },
                        "type": "carpet"
                      }
                    ],
                    "choropleth": [
                      {
                        "colorbar": {
                          "outlinewidth": 0,
                          "ticks": ""
                        },
                        "type": "choropleth"
                      }
                    ],
                    "contour": [
                      {
                        "colorbar": {
                          "outlinewidth": 0,
                          "ticks": ""
                        },
                        "colorscale": [
                          [
                            0,
                            "#0d0887"
                          ],
                          [
                            0.1111111111111111,
                            "#46039f"
                          ],
                          [
                            0.2222222222222222,
                            "#7201a8"
                          ],
                          [
                            0.3333333333333333,
                            "#9c179e"
                          ],
                          [
                            0.4444444444444444,
                            "#bd3786"
                          ],
                          [
                            0.5555555555555556,
                            "#d8576b"
                          ],
                          [
                            0.6666666666666666,
                            "#ed7953"
                          ],
                          [
                            0.7777777777777778,
                            "#fb9f3a"
                          ],
                          [
                            0.8888888888888888,
                            "#fdca26"
                          ],
                          [
                            1,
                            "#f0f921"
                          ]
                        ],
                        "type": "contour"
                      }
                    ],
                    "contourcarpet": [
                      {
                        "colorbar": {
                          "outlinewidth": 0,
                          "ticks": ""
                        },
                        "type": "contourcarpet"
                      }
                    ],
                    "heatmap": [
                      {
                        "colorbar": {
                          "outlinewidth": 0,
                          "ticks": ""
                        },
                        "colorscale": [
                          [
                            0,
                            "#0d0887"
                          ],
                          [
                            0.1111111111111111,
                            "#46039f"
                          ],
                          [
                            0.2222222222222222,
                            "#7201a8"
                          ],
                          [
                            0.3333333333333333,
                            "#9c179e"
                          ],
                          [
                            0.4444444444444444,
                            "#bd3786"
                          ],
                          [
                            0.5555555555555556,
                            "#d8576b"
                          ],
                          [
                            0.6666666666666666,
                            "#ed7953"
                          ],
                          [
                            0.7777777777777778,
                            "#fb9f3a"
                          ],
                          [
                            0.8888888888888888,
                            "#fdca26"
                          ],
                          [
                            1,
                            "#f0f921"
                          ]
                        ],
                        "type": "heatmap"
                      }
                    ],
                    "histogram": [
                      {
                        "marker": {
                          "pattern": {
                            "fillmode": "overlay",
                            "size": 10,
                            "solidity": 0.2
                          }
                        },
                        "type": "histogram"
                      }
                    ],
                    "histogram2d": [
                      {
                        "colorbar": {
                          "outlinewidth": 0,
                          "ticks": ""
                        },
                        "colorscale": [
                          [
                            0,
                            "#0d0887"
                          ],
                          [
                            0.1111111111111111,
                            "#46039f"
                          ],
                          [
                            0.2222222222222222,
                            "#7201a8"
                          ],
                          [
                            0.3333333333333333,
                            "#9c179e"
                          ],
                          [
                            0.4444444444444444,
                            "#bd3786"
                          ],
                          [
                            0.5555555555555556,
                            "#d8576b"
                          ],
                          [
                            0.6666666666666666,
                            "#ed7953"
                          ],
                          [
                            0.7777777777777778,
                            "#fb9f3a"
                          ],
                          [
                            0.8888888888888888,
                            "#fdca26"
                          ],
                          [
                            1,
                            "#f0f921"
                          ]
                        ],
                        "type": "histogram2d"
                      }
                    ],
                    "histogram2dcontour": [
                      {
                        "colorbar": {
                          "outlinewidth": 0,
                          "ticks": ""
                        },
                        "colorscale": [
                          [
                            0,
                            "#0d0887"
                          ],
                          [
                            0.1111111111111111,
                            "#46039f"
                          ],
                          [
                            0.2222222222222222,
                            "#7201a8"
                          ],
                          [
                            0.3333333333333333,
                            "#9c179e"
                          ],
                          [
                            0.4444444444444444,
                            "#bd3786"
                          ],
                          [
                            0.5555555555555556,
                            "#d8576b"
                          ],
                          [
                            0.6666666666666666,
                            "#ed7953"
                          ],
                          [
                            0.7777777777777778,
                            "#fb9f3a"
                          ],
                          [
                            0.8888888888888888,
                            "#fdca26"
                          ],
                          [
                            1,
                            "#f0f921"
                          ]
                        ],
                        "type": "histogram2dcontour"
                      }
                    ],
                    "mesh3d": [
                      {
                        "colorbar": {
                          "outlinewidth": 0,
                          "ticks": ""
                        },
                        "type": "mesh3d"
                      }
                    ],
                    "parcoords": [
                      {
                        "line": {
                          "colorbar": {
                            "outlinewidth": 0,
                            "ticks": ""
                          }
                        },
                        "type": "parcoords"
                      }
                    ],
                    "pie": [
                      {
                        "automargin": true,
                        "type": "pie"
                      }
                    ],
                    "scatter": [
                      {
                        "fillpattern": {
                          "fillmode": "overlay",
                          "size": 10,
                          "solidity": 0.2
                        },
                        "type": "scatter"
                      }
                    ],
                    "scatter3d": [
                      {
                        "line": {
                          "colorbar": {
                            "outlinewidth": 0,
                            "ticks": ""
                          }
                        },
                        "marker": {
                          "colorbar": {
                            "outlinewidth": 0,
                            "ticks": ""
                          }
                        },
                        "type": "scatter3d"
                      }
                    ],
                    "scattercarpet": [
                      {
                        "marker": {
                          "colorbar": {
                            "outlinewidth": 0,
                            "ticks": ""
                          }
                        },
                        "type": "scattercarpet"
                      }
                    ],
                    "scattergeo": [
                      {
                        "marker": {
                          "colorbar": {
                            "outlinewidth": 0,
                            "ticks": ""
                          }
                        },
                        "type": "scattergeo"
                      }
                    ],
                    "scattergl": [
                      {
                        "marker": {
                          "colorbar": {
                            "outlinewidth": 0,
                            "ticks": ""
                          }
                        },
                        "type": "scattergl"
                      }
                    ],
                    "scattermap": [
                      {
                        "marker": {
                          "colorbar": {
                            "outlinewidth": 0,
                            "ticks": ""
                          }
                        },
                        "type": "scattermap"
                      }
                    ],
                    "scattermapbox": [
                      {
                        "marker": {
                          "colorbar": {
                            "outlinewidth": 0,
                            "ticks": ""
                          }
                        },
                        "type": "scattermapbox"
                      }
                    ],
                    "scatterpolar": [
                      {
                        "marker": {
                          "colorbar": {
                            "outlinewidth": 0,
                            "ticks": ""
                          }
                        },
                        "type": "scatterpolar"
                      }
                    ],
                    "scatterpolargl": [
                      {
                        "marker": {
                          "colorbar": {
                            "outlinewidth": 0,
                            "ticks": ""
                          }
                        },
                        "type": "scatterpolargl"
                      }
                    ],
                    "scatterternary": [
                      {
                        "marker": {
                          "colorbar": {
                            "outlinewidth": 0,
                            "ticks": ""
                          }
                        },
                        "type": "scatterternary"
                      }
                    ],
                    "surface": [
                      {
                        "colorbar": {
                          "outlinewidth": 0,
                          "ticks": ""
                        },
                        "colorscale": [
                          [
                            0,
                            "#0d0887"
                          ],
                          [
                            0.1111111111111111,
                            "#46039f"
                          ],
                          [
                            0.2222222222222222,
                            "#7201a8"
                          ],
                          [
                            0.3333333333333333,
                            "#9c179e"
                          ],
                          [
                            0.4444444444444444,
                            "#bd3786"
                          ],
                          [
                            0.5555555555555556,
                            "#d8576b"
                          ],
                          [
                            0.6666666666666666,
                            "#ed7953"
                          ],
                          [
                            0.7777777777777778,
                            "#fb9f3a"
                          ],
                          [
                            0.8888888888888888,
                            "#fdca26"
                          ],
                          [
                            1,
                            "#f0f921"
                          ]
                        ],
                        "type": "surface"
                      }
                    ],
                    "table": [
                      {
                        "cells": {
                          "fill": {
                            "color": "#EBF0F8"
                          },
                          "line": {
                            "color": "white"
                          }
                        },
                        "header": {
                          "fill": {
                            "color": "#C8D4E3"
                          },
                          "line": {
                            "color": "white"
                          }
                        },
                        "type": "table"
                      }
                    ]
                  },
                  "layout": {
                    "annotationdefaults": {
                      "arrowcolor": "#2a3f5f",
                      "arrowhead": 0,
                      "arrowwidth": 1
                    },
                    "autotypenumbers": "strict",
                    "coloraxis": {
                      "colorbar": {
                        "outlinewidth": 0,
                        "ticks": ""
                      }
                    },
                    "colorscale": {
                      "diverging": [
                        [
                          0,
                          "#8e0152"
                        ],
                        [
                          0.1,
                          "#c51b7d"
                        ],
                        [
                          0.2,
                          "#de77ae"
                        ],
                        [
                          0.3,
                          "#f1b6da"
                        ],
                        [
                          0.4,
                          "#fde0ef"
                        ],
                        [
                          0.5,
                          "#f7f7f7"
                        ],
                        [
                          0.6,
                          "#e6f5d0"
                        ],
                        [
                          0.7,
                          "#b8e186"
                        ],
                        [
                          0.8,
                          "#7fbc41"
                        ],
                        [
                          0.9,
                          "#4d9221"
                        ],
                        [
                          1,
                          "#276419"
                        ]
                      ],
                      "sequential": [
                        [
                          0,
                          "#0d0887"
                        ],
                        [
                          0.1111111111111111,
                          "#46039f"
                        ],
                        [
                          0.2222222222222222,
                          "#7201a8"
                        ],
                        [
                          0.3333333333333333,
                          "#9c179e"
                        ],
                        [
                          0.4444444444444444,
                          "#bd3786"
                        ],
                        [
                          0.5555555555555556,
                          "#d8576b"
                        ],
                        [
                          0.6666666666666666,
                          "#ed7953"
                        ],
                        [
                          0.7777777777777778,
                          "#fb9f3a"
                        ],
                        [
                          0.8888888888888888,
                          "#fdca26"
                        ],
                        [
                          1,
                          "#f0f921"
                        ]
                      ],
                      "sequentialminus": [
                        [
                          0,
                          "#0d0887"
                        ],
                        [
                          0.1111111111111111,
                          "#46039f"
                        ],
                        [
                          0.2222222222222222,
                          "#7201a8"
                        ],
                        [
                          0.3333333333333333,
                          "#9c179e"
                        ],
                        [
                          0.4444444444444444,
                          "#bd3786"
                        ],
                        [
                          0.5555555555555556,
                          "#d8576b"
                        ],
                        [
                          0.6666666666666666,
                          "#ed7953"
                        ],
                        [
                          0.7777777777777778,
                          "#fb9f3a"
                        ],
                        [
                          0.8888888888888888,
                          "#fdca26"
                        ],
                        [
                          1,
                          "#f0f921"
                        ]
                      ]
                    },
                    "colorway": [
                      "#636efa",
                      "#EF553B",
                      "#00cc96",
                      "#ab63fa",
                      "#FFA15A",
                      "#19d3f3",
                      "#FF6692",
                      "#B6E880",
                      "#FF97FF",
                      "#FECB52"
                    ],
                    "font": {
                      "color": "#2a3f5f"
                    },
                    "geo": {
                      "bgcolor": "white",
                      "lakecolor": "white",
                      "landcolor": "#E5ECF6",
                      "showlakes": true,
                      "showland": true,
                      "subunitcolor": "white"
                    },
                    "hoverlabel": {
                      "align": "left"
                    },
                    "hovermode": "closest",
                    "mapbox": {
                      "style": "light"
                    },
                    "paper_bgcolor": "white",
                    "plot_bgcolor": "#E5ECF6",
                    "polar": {
                      "angularaxis": {
                        "gridcolor": "white",
                        "linecolor": "white",
                        "ticks": ""
                      },
                      "bgcolor": "#E5ECF6",
                      "radialaxis": {
                        "gridcolor": "white",
                        "linecolor": "white",
                        "ticks": ""
                      }
                    },
                    "scene": {
                      "xaxis": {
                        "backgroundcolor": "#E5ECF6",
                        "gridcolor": "white",
                        "gridwidth": 2,
                        "linecolor": "white",
                        "showbackground": true,
                        "ticks": "",
                        "zerolinecolor": "white"
                      },
                      "yaxis": {
                        "backgroundcolor": "#E5ECF6",
                        "gridcolor": "white",
                        "gridwidth": 2,
                        "linecolor": "white",
                        "showbackground": true,
                        "ticks": "",
                        "zerolinecolor": "white"
                      },
                      "zaxis": {
                        "backgroundcolor": "#E5ECF6",
                        "gridcolor": "white",
                        "gridwidth": 2,
                        "linecolor": "white",
                        "showbackground": true,
                        "ticks": "",
                        "zerolinecolor": "white"
                      }
                    },
                    "shapedefaults": {
                      "line": {
                        "color": "#2a3f5f"
                      }
                    },
                    "ternary": {
                      "aaxis": {
                        "gridcolor": "white",
                        "linecolor": "white",
                        "ticks": ""
                      },
                      "baxis": {
                        "gridcolor": "white",
                        "linecolor": "white",
                        "ticks": ""
                      },
                      "bgcolor": "#E5ECF6",
                      "caxis": {
                        "gridcolor": "white",
                        "linecolor": "white",
                        "ticks": ""
                      }
                    },
                    "title": {
                      "x": 0.05
                    },
                    "xaxis": {
                      "automargin": true,
                      "gridcolor": "white",
                      "linecolor": "white",
                      "ticks": "",
                      "title": {
                        "standoff": 15
                      },
                      "zerolinecolor": "white",
                      "zerolinewidth": 2
                    },
                    "yaxis": {
                      "automargin": true,
                      "gridcolor": "white",
                      "linecolor": "white",
                      "ticks": "",
                      "title": {
                        "standoff": 15
                      },
                      "zerolinecolor": "white",
                      "zerolinewidth": 2
                    }
                  }
                },
                "title": {
                  "text": "Gráfico P - Proporção de Ausências Não Justificadas"
                },
                "xaxis": {
                  "anchor": "y",
                  "domain": [
                    0,
                    1
                  ],
                  "title": {
                    "text": "Dia"
                  }
                },
                "yaxis": {
                  "anchor": "x",
                  "domain": [
                    0,
                    1
                  ],
                  "title": {
                    "text": "p"
                  }
                }
              }
            }
          },
          "metadata": {},
          "output_type": "display_data"
        }
      ],
      "source": [
        "# 1. Calcular a proporção 'p' para cada dia\n",
        "dados_aba3['p'] = dados_aba3['Ausências não justificadas'] / dados_aba3['Total de funcionários']\n",
        "\n",
        "# 2. Calcular a proporção média 'p_barra'\n",
        "p_barra = dados_aba3['Ausências não justificadas'].sum() / dados_aba3['Total de funcionários'].sum()\n",
        "\n",
        "# 3. Calcular o desvio padrão da proporção para os limites de controle\n",
        "# A fórmula para o desvio padrão para um gráfico P é sqrt(p_barra * (1 - p_barra) / n)\n",
        "# Onde 'n' é o tamanho da amostra (Total de funcionários).\n",
        "# Assumimos que 'n' é constante para simplificar ou usamos a média de 'n'.\n",
        "# Se 'n' varia muito, a abordagem fica um pouco mais complexa, mas para o básico vamos usar a média.\n",
        "n_medio = dados_aba3['Total de funcionários'].mean() # ou você pode usar o 'Total de funcionários' de cada linha se ele varia\n",
        "std_dev_p = (p_barra * (1 - p_barra) / n_medio)**0.5 # Desvio padrão para os limites de controle\n",
        "\n",
        "# 4. Calcular os Limites de Controle Superior (LCS) e Inferior (LCI)\n",
        "# LCS = p_barra + 3 * std_dev_p\n",
        "# LCI = p_barra - 3 * std_dev_p (garantindo que não seja menor que 0)\n",
        "LCS = p_barra + 3 * std_dev_p\n",
        "LCI = max(0, p_barra - 3 * std_dev_p)\n",
        "\n",
        "print(f\"Proporção média (p_barra): {p_barra:.4f}\")\n",
        "print(f\"LCS: {LCS:.4f}\")\n",
        "print(f\"LCI: {LCI:.4f}\")\n",
        "\n",
        "# 5. Criar o gráfico P usando Plotly Express\n",
        "fig = px.line(dados_aba3, x='Dia', y='p', title='Gráfico P - Proporção de Ausências Não Justificadas')\n",
        "\n",
        "# Adicionar a linha central (p_barra)\n",
        "fig.add_hline(y=p_barra, line_dash=\"dot\", annotation_text=\"Linha Central (p̄)\", annotation_position=\"top right\")\n",
        "\n",
        "# Adicionar os Limites de Controle\n",
        "fig.add_hline(y=LCS, line_dash=\"dash\", line_color=\"red\", annotation_text=\"LCS\", annotation_position=\"top right\")\n",
        "fig.add_hline(y=LCI, line_dash=\"dash\", line_color=\"red\", annotation_text=\"LCI\", annotation_position=\"top right\")\n",
        "\n",
        "# Mostrar o gráfico\n",
        "fig.show()"
      ]
    },
    {
      "cell_type": "code",
      "execution_count": 6,
      "metadata": {},
      "outputs": [
        {
          "name": "stdout",
          "output_type": "stream",
          "text": [
            "Proporção média (p_barra): 0.0200\n",
            "LCS: 0.0643\n",
            "LCI: 0.0000\n"
          ]
        },
        {
          "data": {
            "image/png": "[encoded data removed]",
            "text/plain": [
              "<Figure size 1200x600 with 1 Axes>"
            ]
          },
          "metadata": {},
          "output_type": "display_data"
        }
      ],
      "source": [
        "import matplotlib.pyplot as plt\n",
        "import seaborn as sns\n",
        "import pandas as pd # Apenas para simular seu dataframe, se já estiver carregado, não precisa\n",
        "\n",
        "# 1. Calcular a proporção 'p' para cada dia\n",
        "dados_aba3['p'] = dados_aba3['Ausências não justificadas'] / dados_aba3['Total de funcionários']\n",
        "\n",
        "# 2. Calcular a proporção média 'p_barra'\n",
        "p_barra = dados_aba3['Ausências não justificadas'].sum() / dados_aba3['Total de funcionários'].sum()\n",
        "\n",
        "# 3. Calcular o desvio padrão da proporção para os limites de controle\n",
        "n_medio = dados_aba3['Total de funcionários'].mean()\n",
        "std_dev_p = (p_barra * (1 - p_barra) / n_medio)**0.5\n",
        "\n",
        "# 4. Calcular os Limites de Controle Superior (LCS) e Inferior (LCI)\n",
        "LCS = p_barra + 3 * std_dev_p\n",
        "LCI = max(0, p_barra - 3 * std_dev_p)\n",
        "\n",
        "print(f\"Proporção média (p_barra): {p_barra:.4f}\")\n",
        "print(f\"LCS: {LCS:.4f}\")\n",
        "print(f\"LCI: {LCI:.4f}\")\n",
        "\n",
        "# 5. Criar o gráfico P usando Matplotlib/Seaborn\n",
        "plt.figure(figsize=(12, 6))\n",
        "sns.lineplot(x='Dia', y='p', data=dados_aba3, marker='o')\n",
        "\n",
        "# Adicionar a linha central (p_barra)\n",
        "plt.axhline(y=p_barra, color='blue', linestyle=':', label=f'Linha Central (p̄ = {p_barra:.4f})')\n",
        "\n",
        "# Adicionar os Limites de Controle\n",
        "plt.axhline(y=LCS, color='red', linestyle='--', label=f'LCS = {LCS:.4f}')\n",
        "plt.axhline(y=LCI, color='red', linestyle='--', label=f'LCI = {LCI:.4f}')\n",
        "\n",
        "plt.title('Gráfico P - Proporção de Ausências Não Justificadas')\n",
        "plt.xlabel('Dia')\n",
        "plt.ylabel('Proporção (p)')\n",
        "plt.grid(True, linestyle='--', alpha=0.7)\n",
        "plt.legend()\n",
        "plt.tight_layout()\n",
        "plt.show()"
      ]
    }
  ],
  "metadata": {
    "colab": {
      "authorship_tag": "ABX9TyOQ4YTSOcnd2kdOzzbSDMwH",
      "include_colab_link": true,
      "provenance": []
    },
    "kernelspec": {
      "display_name": "Python 3",
      "name": "python3"
    },
    "language_info": {
      "codemirror_mode": {
        "name": "ipython",
        "version": 3
      },
      "file_extension": ".py",
      "mimetype": "text/x-python",
      "name": "python",
      "nbconvert_exporter": "python",
      "pygments_lexer": "ipython3",
      "version": "3.13.2"
    }
  },
  "nbformat": 4,
  "nbformat_minor": 0
}
