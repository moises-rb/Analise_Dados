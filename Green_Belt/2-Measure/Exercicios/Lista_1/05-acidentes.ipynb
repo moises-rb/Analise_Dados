{
 "cells": [
  {
   "cell_type": "markdown",
   "id": "de579b4c",
   "metadata": {},
   "source": [
    "5)  O  coordenador  de  segurança  do  trabalho  de  uma  empresa  quer  pensar  em  maneiras  de \n",
    "reduzir os acidentes em sua empresa. Ele então debruça-se sobre os dados dos últimos 3 anos \n",
    "a procura de ideias de melhoria.Analise os dados da planilha Green_Belt_FM2S_Lista_Exercícios_01, aba 05.Acidentes e \n",
    "responda: \n",
    "1. Os acidentes estão estáveis? \n",
    "2. Quais tipos são mais frequentes? \n",
    "3. Quais afastam por mais tempo? \n",
    "4. Quais podemos atuar? \n",
    "5. Como poderíamos atuar? \n",
    "6. Analise as outras colunas, que dúvidas surgem sobre o processo?\n"
   ]
  },
  {
   "cell_type": "code",
   "execution_count": 1,
   "id": "e9db37c2",
   "metadata": {},
   "outputs": [],
   "source": [
    "import pandas"
   ]
  },
  {
   "cell_type": "code",
   "execution_count": null,
   "id": "ed87a56a",
   "metadata": {},
   "outputs": [],
   "source": [
    "url = ''\n",
    "df = pd.read_csv(url)\n",
    "df.head()"
   ]
  }
 ],
 "metadata": {
  "kernelspec": {
   "display_name": "Python 3",
   "language": "python",
   "name": "python3"
  },
  "language_info": {
   "codemirror_mode": {
    "name": "ipython",
    "version": 3
   },
   "file_extension": ".py",
   "mimetype": "text/x-python",
   "name": "python",
   "nbconvert_exporter": "python",
   "pygments_lexer": "ipython3",
   "version": "3.13.2"
  }
 },
 "nbformat": 4,
 "nbformat_minor": 5
}
