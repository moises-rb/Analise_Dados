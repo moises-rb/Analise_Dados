{
 "cells": [
  {
   "cell_type": "markdown",
   "id": "48631dd7",
   "metadata": {},
   "source": [
    "4) Uma empresa trabalha com injeção de peças plásticas. Eles possuem um pátio de \n",
    "equipamentos com vários tipos de injetoras diferentes (injetoras Romi, Sandretto, etc.). Alguns \n",
    "modelos possuem mais de uma injetora.  \n",
    "O coordenador de manutenção, então, inicia um projeto que visa reduzir o tempo de máquina \n",
    "parada. Um contrato de melhoria é firmado com o objetivo de: Reduzir em 30% a quantidade \n",
    "de horas de máquina parada nas injetoras em 3 meses. \n",
    "Sem uma estratégia inicial, o coordenador então vai até o sistema de dados e coleta \n",
    "informações. Essas informações são registradas em dois sistemas diferentes: \n",
    "Sistema I: Na planilha Green_Belt_FM2S_Lista_Exercícios_01, na aba 04a.Manutenção estão os \n",
    "dados de horas paradas totais, por injetora e por mês, onde são contabilizadas as horas paradas, \n",
    "classificadas  em  problemas  elétricos,  mecânicos  e  de  molde.  Essa  planilha  é  preenchida  pelo \n",
    "pessoal de produção. \n",
    "Sistema  II:  Na  planilha  Green_Belt_FM2S_Lista_Exercícios_01,  na  aba  04b.Manutenção,  está \n",
    "uma compilação dos apontamentos manuais sobre cada parada, feita pelo pessoal de \n",
    "manutenção. \n",
    "Analise os dados e responda: \n",
    "\n",
    "1. Os dados são aparentemente confiáveis? (é interessante checar a coerência  das \n",
    "planilhas) \n",
    "2. Caso sejam, qual é a injetora mais problemática? \n",
    "3. Qual é o problema mais usual? \n",
    "4. O processo está atuando em causas comuns ou especiais? \n",
    "5. Qual seria uma possível explicação para as causas especiais (se aplicável?) \n",
    "6. Qual ideia de mudança o coordenador poderia ter analisando estes dados?"
   ]
  },
  {
   "cell_type": "code",
   "execution_count": 1,
   "id": "3ff6b0cb",
   "metadata": {},
   "outputs": [],
   "source": [
    "import pandas as pd"
   ]
  },
  {
   "cell_type": "code",
   "execution_count": null,
   "id": "1d10f755",
   "metadata": {},
   "outputs": [],
   "source": [
    "url = ''\n",
    "df = pd.read_csv(url)\n",
    "df.head()"
   ]
  }
 ],
 "metadata": {
  "kernelspec": {
   "display_name": "Python 3",
   "language": "python",
   "name": "python3"
  },
  "language_info": {
   "codemirror_mode": {
    "name": "ipython",
    "version": 3
   },
   "file_extension": ".py",
   "mimetype": "text/x-python",
   "name": "python",
   "nbconvert_exporter": "python",
   "pygments_lexer": "ipython3",
   "version": "3.13.2"
  }
 },
 "nbformat": 4,
 "nbformat_minor": 5
}
