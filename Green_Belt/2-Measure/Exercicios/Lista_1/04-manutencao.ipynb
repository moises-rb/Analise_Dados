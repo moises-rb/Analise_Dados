{
 "cells": [
  {
   "cell_type": "markdown",
   "id": "48631dd7",
   "metadata": {},
   "source": [
    "4) Uma empresa trabalha com injeção de peças plásticas. Eles possuem um pátio de \n",
    "equipamentos com vários tipos de injetoras diferentes (injetoras Romi, Sandretto, etc.). Alguns \n",
    "modelos possuem mais de uma injetora.  \n",
    "O coordenador de manutenção, então, inicia um projeto que visa reduzir o tempo de máquina \n",
    "parada. Um contrato de melhoria é firmado com o objetivo de: Reduzir em 30% a quantidade \n",
    "de horas de máquina parada nas injetoras em 3 meses. \n",
    "Sem uma estratégia inicial, o coordenador então vai até o sistema de dados e coleta \n",
    "informações. Essas informações são registradas em dois sistemas diferentes: \n",
    "Sistema I: Na planilha Green_Belt_FM2S_Lista_Exercícios_01, na aba 04a.Manutenção estão os \n",
    "dados de horas paradas totais, por injetora e por mês, onde são contabilizadas as horas paradas, \n",
    "classificadas  em  problemas  elétricos,  mecânicos  e  de  molde.  Essa  planilha  é  preenchida  pelo \n",
    "pessoal de produção. \n",
    "Sistema  II:  Na  planilha  Green_Belt_FM2S_Lista_Exercícios_01,  na  aba  04b.Manutenção,  está \n",
    "uma compilação dos apontamentos manuais sobre cada parada, feita pelo pessoal de \n",
    "manutenção. \n",
    "Analise os dados e responda: \n",
    "\n",
    "\n",
    "1. Qual é a injetora mais problemática? \n",
    "2. Qual é o problema mais usual? \n",
    "3. O processo está atuando em causas comuns ou especiais? \n",
    "4. Qual seria uma possível explicação para as causas especiais (se aplicável?) \n",
    "5. Qual ideia de mudança o coordenador poderia ter analisando estes dados?"
   ]
  },
  {
   "cell_type": "code",
   "execution_count": 1,
   "id": "3ff6b0cb",
   "metadata": {},
   "outputs": [],
   "source": [
    "import pandas as pd"
   ]
  },
  {
   "cell_type": "code",
   "execution_count": 2,
   "id": "1d10f755",
   "metadata": {},
   "outputs": [
    {
     "data": {
      "application/vnd.microsoft.datawrangler.viewer.v0+json": {
       "columns": [
        {
         "name": "index",
         "rawType": "int64",
         "type": "integer"
        },
        {
         "name": "Máquina",
         "rawType": "object",
         "type": "string"
        },
        {
         "name": "Descrição",
         "rawType": "object",
         "type": "string"
        },
        {
         "name": "Parada",
         "rawType": "object",
         "type": "string"
        },
        {
         "name": "Unnamed: 3",
         "rawType": "object",
         "type": "unknown"
        },
        {
         "name": "Tipo",
         "rawType": "object",
         "type": "string"
        },
        {
         "name": "Tempo",
         "rawType": "object",
         "type": "string"
        },
        {
         "name": "Mês",
         "rawType": "int64",
         "type": "integer"
        }
       ],
       "ref": "c536ab0c-d471-4a29-9cba-ece5b64a814f",
       "rows": [
        [
         "0",
         "1-INJ-001",
         "Romi 1100",
         "Aspirador de Material",
         "Interno",
         "Elétrico",
         "13",
         "1"
        ],
        [
         "1",
         "1-INJ-001",
         "Romi 1100",
         "Padronização CCQ",
         null,
         "Elétrico",
         "200,75",
         "2"
        ],
        [
         "2",
         "1-INJ-001",
         "Romi 1100",
         "Queda de Energia",
         null,
         "Elétrico",
         "1,58",
         "2"
        ],
        [
         "3",
         "1-INJ-001",
         "Romi 1100",
         "Resistência do Canhão",
         "Interno",
         "Elétrico",
         "5",
         "2"
        ],
        [
         "4",
         "1-INJ-001",
         "Romi 1100",
         "Padronização do novo sistema de Refrigeração",
         "Interno",
         "Molde",
         "81",
         "2"
        ]
       ],
       "shape": {
        "columns": 7,
        "rows": 5
       }
      },
      "text/html": [
       "<div>\n",
       "<style scoped>\n",
       "    .dataframe tbody tr th:only-of-type {\n",
       "        vertical-align: middle;\n",
       "    }\n",
       "\n",
       "    .dataframe tbody tr th {\n",
       "        vertical-align: top;\n",
       "    }\n",
       "\n",
       "    .dataframe thead th {\n",
       "        text-align: right;\n",
       "    }\n",
       "</style>\n",
       "<table border=\"1\" class=\"dataframe\">\n",
       "  <thead>\n",
       "    <tr style=\"text-align: right;\">\n",
       "      <th></th>\n",
       "      <th>Máquina</th>\n",
       "      <th>Descrição</th>\n",
       "      <th>Parada</th>\n",
       "      <th>Unnamed: 3</th>\n",
       "      <th>Tipo</th>\n",
       "      <th>Tempo</th>\n",
       "      <th>Mês</th>\n",
       "    </tr>\n",
       "  </thead>\n",
       "  <tbody>\n",
       "    <tr>\n",
       "      <th>0</th>\n",
       "      <td>1-INJ-001</td>\n",
       "      <td>Romi 1100</td>\n",
       "      <td>Aspirador de Material</td>\n",
       "      <td>Interno</td>\n",
       "      <td>Elétrico</td>\n",
       "      <td>13</td>\n",
       "      <td>1</td>\n",
       "    </tr>\n",
       "    <tr>\n",
       "      <th>1</th>\n",
       "      <td>1-INJ-001</td>\n",
       "      <td>Romi 1100</td>\n",
       "      <td>Padronização CCQ</td>\n",
       "      <td>NaN</td>\n",
       "      <td>Elétrico</td>\n",
       "      <td>200,75</td>\n",
       "      <td>2</td>\n",
       "    </tr>\n",
       "    <tr>\n",
       "      <th>2</th>\n",
       "      <td>1-INJ-001</td>\n",
       "      <td>Romi 1100</td>\n",
       "      <td>Queda de Energia</td>\n",
       "      <td>NaN</td>\n",
       "      <td>Elétrico</td>\n",
       "      <td>1,58</td>\n",
       "      <td>2</td>\n",
       "    </tr>\n",
       "    <tr>\n",
       "      <th>3</th>\n",
       "      <td>1-INJ-001</td>\n",
       "      <td>Romi 1100</td>\n",
       "      <td>Resistência do Canhão</td>\n",
       "      <td>Interno</td>\n",
       "      <td>Elétrico</td>\n",
       "      <td>5</td>\n",
       "      <td>2</td>\n",
       "    </tr>\n",
       "    <tr>\n",
       "      <th>4</th>\n",
       "      <td>1-INJ-001</td>\n",
       "      <td>Romi 1100</td>\n",
       "      <td>Padronização do novo sistema de Refrigeração</td>\n",
       "      <td>Interno</td>\n",
       "      <td>Molde</td>\n",
       "      <td>81</td>\n",
       "      <td>2</td>\n",
       "    </tr>\n",
       "  </tbody>\n",
       "</table>\n",
       "</div>"
      ],
      "text/plain": [
       "     Máquina  Descrição                                        Parada  \\\n",
       "0  1-INJ-001  Romi 1100                         Aspirador de Material   \n",
       "1  1-INJ-001  Romi 1100                              Padronização CCQ   \n",
       "2  1-INJ-001  Romi 1100                              Queda de Energia   \n",
       "3  1-INJ-001  Romi 1100                         Resistência do Canhão   \n",
       "4  1-INJ-001  Romi 1100  Padronização do novo sistema de Refrigeração   \n",
       "\n",
       "  Unnamed: 3      Tipo   Tempo  Mês  \n",
       "0    Interno  Elétrico      13    1  \n",
       "1        NaN  Elétrico  200,75    2  \n",
       "2        NaN  Elétrico    1,58    2  \n",
       "3    Interno  Elétrico       5    2  \n",
       "4    Interno     Molde      81    2  "
      ]
     },
     "execution_count": 2,
     "metadata": {},
     "output_type": "execute_result"
    }
   ],
   "source": [
    "url = 'https://raw.githubusercontent.com/moises-rb/Analise_Dados/refs/heads/main/Green_Belt/2-Measure/Exercicios/Lista_1/base_dados/manutencao.csv'\n",
    "df = pd.read_csv(url)\n",
    "df.head()"
   ]
  }
 ],
 "metadata": {
  "kernelspec": {
   "display_name": "Python 3",
   "language": "python",
   "name": "python3"
  },
  "language_info": {
   "codemirror_mode": {
    "name": "ipython",
    "version": 3
   },
   "file_extension": ".py",
   "mimetype": "text/x-python",
   "name": "python",
   "nbconvert_exporter": "python",
   "pygments_lexer": "ipython3",
   "version": "3.13.2"
  }
 },
 "nbformat": 4,
 "nbformat_minor": 5
}
