{
 "cells": [
  {
   "cell_type": "markdown",
   "id": "b99c859a",
   "metadata": {},
   "source": [
    "6)  Uma  rede  de  varejo  de  móveis  e  eletrodomésticos  vêm  passando  por  um  período  de \n",
    "dificuldade na venda de seus produtos. As gerências de quatro lojas se reuniram para entender \n",
    "os pontos a serem melhorados, para isso foram coletados dados das vendas de todas as lojas \n",
    "em um período de dois meses. Com o objetivo de melhorar as vendas, cada loja fez um plano \n",
    "de ação que foi implantado do 31º ao 60º dia.  \n",
    "Os  dados  coletados  do  número  de  vendas  em  cada  umas  das  lojas  estão  armazenados  na \n",
    "planilha Green_Belt_FM2S_Lista_Exercícios_01, na aba 06. Vendas. \n",
    "1. Em qual das lojas houve mudanças depois do plano de ação? \n",
    "2. Qual seria uma sugestão viável para as lojas que não tiveram mudança mesmo depois \n",
    "do Plano de Ação? \n",
    "3. É possível afirmar que alguma loja apresenta um número maior de vendas?"
   ]
  },
  {
   "cell_type": "code",
   "execution_count": 1,
   "id": "4a604de1",
   "metadata": {},
   "outputs": [],
   "source": [
    "import pandas as pd"
   ]
  },
  {
   "cell_type": "code",
   "execution_count": null,
   "id": "495f4095",
   "metadata": {},
   "outputs": [],
   "source": [
    "url = ''\n",
    "df = pd.read_csv(url)\n",
    "df.head()"
   ]
  }
 ],
 "metadata": {
  "kernelspec": {
   "display_name": "Python 3",
   "language": "python",
   "name": "python3"
  },
  "language_info": {
   "codemirror_mode": {
    "name": "ipython",
    "version": 3
   },
   "file_extension": ".py",
   "mimetype": "text/x-python",
   "name": "python",
   "nbconvert_exporter": "python",
   "pygments_lexer": "ipython3",
   "version": "3.13.2"
  }
 },
 "nbformat": 4,
 "nbformat_minor": 5
}
