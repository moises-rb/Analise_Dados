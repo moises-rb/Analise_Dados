{
 "cells": [
  {
   "cell_type": "markdown",
   "id": "b99c859a",
   "metadata": {},
   "source": [
    "6)  Uma  rede  de  varejo  de  móveis  e  eletrodomésticos  vêm  passando  por  um  período  de \n",
    "dificuldade na venda de seus produtos. As gerências de quatro lojas se reuniram para entender \n",
    "os pontos a serem melhorados, para isso foram coletados dados das vendas de todas as lojas \n",
    "em um período de dois meses. Com o objetivo de melhorar as vendas, cada loja fez um plano \n",
    "de ação que foi implantado do 31º ao 60º dia.  \n",
    "Os  dados  coletados  do  número  de  vendas  em  cada  umas  das  lojas  estão  armazenados  na \n",
    "planilha Green_Belt_FM2S_Lista_Exercícios_01, na aba 06. Vendas. \n",
    "1. Em qual das lojas houve mudanças depois do plano de ação? \n",
    "2. Qual seria uma sugestão viável para as lojas que não tiveram mudança mesmo depois \n",
    "do Plano de Ação? \n",
    "3. É possível afirmar que alguma loja apresenta um número maior de vendas?"
   ]
  },
  {
   "cell_type": "code",
   "execution_count": 1,
   "id": "4a604de1",
   "metadata": {},
   "outputs": [],
   "source": [
    "import pandas as pd\n",
    "import numpy as np\n",
    "import matplotlib.pyplot as plt\n",
    "import seaborn as sns\n",
    "from scipy import stats"
   ]
  },
  {
   "cell_type": "code",
   "execution_count": 2,
   "id": "495f4095",
   "metadata": {},
   "outputs": [
    {
     "data": {
      "application/vnd.microsoft.datawrangler.viewer.v0+json": {
       "columns": [
        {
         "name": "index",
         "rawType": "int64",
         "type": "integer"
        },
        {
         "name": "Dia",
         "rawType": "int64",
         "type": "integer"
        },
        {
         "name": "Loja 1",
         "rawType": "int64",
         "type": "integer"
        },
        {
         "name": "Loja 2",
         "rawType": "int64",
         "type": "integer"
        },
        {
         "name": "Loja 3",
         "rawType": "int64",
         "type": "integer"
        },
        {
         "name": "Loja 4",
         "rawType": "int64",
         "type": "integer"
        }
       ],
       "ref": "19ec5097-33fd-43ee-8507-a627878d88d3",
       "rows": [
        [
         "0",
         "1",
         "180",
         "231",
         "193",
         "179"
        ],
        [
         "1",
         "2",
         "192",
         "250",
         "202",
         "165"
        ],
        [
         "2",
         "3",
         "205",
         "198",
         "195",
         "159"
        ],
        [
         "3",
         "4",
         "111",
         "163",
         "187",
         "200"
        ],
        [
         "4",
         "5",
         "174",
         "248",
         "205",
         "166"
        ]
       ],
       "shape": {
        "columns": 5,
        "rows": 5
       }
      },
      "text/html": [
       "<div>\n",
       "<style scoped>\n",
       "    .dataframe tbody tr th:only-of-type {\n",
       "        vertical-align: middle;\n",
       "    }\n",
       "\n",
       "    .dataframe tbody tr th {\n",
       "        vertical-align: top;\n",
       "    }\n",
       "\n",
       "    .dataframe thead th {\n",
       "        text-align: right;\n",
       "    }\n",
       "</style>\n",
       "<table border=\"1\" class=\"dataframe\">\n",
       "  <thead>\n",
       "    <tr style=\"text-align: right;\">\n",
       "      <th></th>\n",
       "      <th>Dia</th>\n",
       "      <th>Loja 1</th>\n",
       "      <th>Loja 2</th>\n",
       "      <th>Loja 3</th>\n",
       "      <th>Loja 4</th>\n",
       "    </tr>\n",
       "  </thead>\n",
       "  <tbody>\n",
       "    <tr>\n",
       "      <th>0</th>\n",
       "      <td>1</td>\n",
       "      <td>180</td>\n",
       "      <td>231</td>\n",
       "      <td>193</td>\n",
       "      <td>179</td>\n",
       "    </tr>\n",
       "    <tr>\n",
       "      <th>1</th>\n",
       "      <td>2</td>\n",
       "      <td>192</td>\n",
       "      <td>250</td>\n",
       "      <td>202</td>\n",
       "      <td>165</td>\n",
       "    </tr>\n",
       "    <tr>\n",
       "      <th>2</th>\n",
       "      <td>3</td>\n",
       "      <td>205</td>\n",
       "      <td>198</td>\n",
       "      <td>195</td>\n",
       "      <td>159</td>\n",
       "    </tr>\n",
       "    <tr>\n",
       "      <th>3</th>\n",
       "      <td>4</td>\n",
       "      <td>111</td>\n",
       "      <td>163</td>\n",
       "      <td>187</td>\n",
       "      <td>200</td>\n",
       "    </tr>\n",
       "    <tr>\n",
       "      <th>4</th>\n",
       "      <td>5</td>\n",
       "      <td>174</td>\n",
       "      <td>248</td>\n",
       "      <td>205</td>\n",
       "      <td>166</td>\n",
       "    </tr>\n",
       "  </tbody>\n",
       "</table>\n",
       "</div>"
      ],
      "text/plain": [
       "   Dia  Loja 1  Loja 2  Loja 3  Loja 4\n",
       "0    1     180     231     193     179\n",
       "1    2     192     250     202     165\n",
       "2    3     205     198     195     159\n",
       "3    4     111     163     187     200\n",
       "4    5     174     248     205     166"
      ]
     },
     "execution_count": 2,
     "metadata": {},
     "output_type": "execute_result"
    }
   ],
   "source": [
    "url = 'https://raw.githubusercontent.com/moises-rb/Analise_Dados/refs/heads/main/Green_Belt/2-Measure/Exercicios/Lista_1/base_dados/vendas.csv'\n",
    "df = pd.read_csv(url)\n",
    "df.head()"
   ]
  },
  {
   "cell_type": "code",
   "execution_count": 3,
   "id": "3ae17554",
   "metadata": {},
   "outputs": [
    {
     "name": "stdout",
     "output_type": "stream",
     "text": [
      "   Dia  Loja 1  Loja 2  Loja 3  Loja 4\n",
      "0    1     180     231     193     179\n",
      "1    2     192     250     202     165\n",
      "2    3     205     198     195     159\n",
      "3    4     111     163     187     200\n",
      "4    5     174     248     205     166\n",
      "<class 'pandas.core.frame.DataFrame'>\n",
      "RangeIndex: 60 entries, 0 to 59\n",
      "Data columns (total 5 columns):\n",
      " #   Column  Non-Null Count  Dtype\n",
      "---  ------  --------------  -----\n",
      " 0   Dia     60 non-null     int64\n",
      " 1   Loja 1  60 non-null     int64\n",
      " 2   Loja 2  60 non-null     int64\n",
      " 3   Loja 3  60 non-null     int64\n",
      " 4   Loja 4  60 non-null     int64\n",
      "dtypes: int64(5)\n",
      "memory usage: 2.5 KB\n",
      "None\n",
      "             Dia      Loja 1      Loja 2      Loja 3      Loja 4\n",
      "count  60.000000   60.000000   60.000000   60.000000   60.000000\n",
      "mean   30.500000  187.150000  222.100000  211.250000  197.350000\n",
      "std    17.464249   42.147371   40.099326   27.162802   24.649973\n",
      "min     1.000000  102.000000  150.000000  185.000000  140.000000\n",
      "25%    15.750000  170.750000  195.500000  193.000000  178.750000\n",
      "50%    30.500000  199.000000  230.500000  201.000000  193.500000\n",
      "75%    45.250000  209.500000  251.250000  220.250000  215.000000\n",
      "max    60.000000  290.000000  290.000000  295.000000  249.000000\n"
     ]
    }
   ],
   "source": [
    "print(df.head())\n",
    "print(df.info())\n",
    "print(df.describe())"
   ]
  },
  {
   "cell_type": "markdown",
   "id": "90f390c7",
   "metadata": {},
   "source": [
    "🧱 Bloco 1 – Imports e Classe Principal"
   ]
  },
  {
   "cell_type": "code",
   "execution_count": 4,
   "id": "df657769",
   "metadata": {},
   "outputs": [],
   "source": [
    "# === BIBLIOTECAS === #\n",
    "import pandas as pd\n",
    "import numpy as np\n",
    "import matplotlib.pyplot as plt\n",
    "import seaborn as sns\n",
    "from scipy import stats\n",
    "\n",
    "# === CLASSE DE ANÁLISE === #\n",
    "class AnaliseVendasFinal:\n",
    "    def __init__(self, df):\n",
    "        self.df = df.copy()\n",
    "        self._preparar_dados()\n",
    "\n",
    "    def _preparar_dados(self):\n",
    "        \"\"\"Classifica os dias em 'Antes' ou 'Depois' do plano\"\"\"\n",
    "        self.df['Periodo'] = np.where(self.df['Dia'] <= 30, 'Antes', 'Depois')\n"
   ]
  },
  {
   "cell_type": "markdown",
   "id": "bf3901f8",
   "metadata": {},
   "source": [
    "📊 Bloco 2 – Comparação Estatística Antes x Depois"
   ]
  },
  {
   "cell_type": "code",
   "execution_count": 5,
   "id": "9cd358f2",
   "metadata": {},
   "outputs": [],
   "source": [
    "    def comparacao_lojas(self):\n",
    "        \"\"\"Compara estatísticas antes e depois do plano por loja\"\"\"\n",
    "        resultados = []\n",
    "\n",
    "        for loja in ['Loja 1', 'Loja 2', 'Loja 3', 'Loja 4']:\n",
    "            antes = self.df[self.df['Periodo'] == 'Antes'][loja]\n",
    "            depois = self.df[self.df['Periodo'] == 'Depois'][loja]\n",
    "\n",
    "            t_stat, p_valor = stats.ttest_ind(antes, depois, equal_var=False)\n",
    "\n",
    "            resultados.append({\n",
    "                'Loja': loja,\n",
    "                'Média Antes': antes.mean(),\n",
    "                'Média Depois': depois.mean(),\n",
    "                'Variação (%)': ((depois.mean() - antes.mean()) / antes.mean()) * 100,\n",
    "                'p-valor': p_valor,\n",
    "                'Significativo': p_valor < 0.05\n",
    "            })\n",
    "\n",
    "        return pd.DataFrame(resultados)\n",
    "    "
   ]
  },
  {
   "cell_type": "markdown",
   "id": "c5eb6e84",
   "metadata": {},
   "source": [
    "📈 Bloco 3 – Gráfico Temporal de Vendas"
   ]
  },
  {
   "cell_type": "code",
   "execution_count": 6,
   "id": "f374beaf",
   "metadata": {},
   "outputs": [],
   "source": [
    "    def plot_vendas_temporais(self):\n",
    "        \"\"\"Exibe série temporal das vendas por loja\"\"\"\n",
    "        plt.figure(figsize=(14, 8))\n",
    "\n",
    "        for i, loja in enumerate(['Loja 1', 'Loja 2', 'Loja 3', 'Loja 4'], 1):\n",
    "            plt.subplot(2, 2, i)\n",
    "            sns.lineplot(data=self.df, x='Dia', y=loja)\n",
    "            plt.axvline(30.5, color='red', linestyle='--', label='Início do Plano')\n",
    "            plt.title(loja)\n",
    "            plt.ylabel('Vendas Diárias')\n",
    "            plt.legend()\n",
    "\n",
    "        plt.tight_layout()\n",
    "        plt.show()\n"
   ]
  },
  {
   "cell_type": "markdown",
   "id": "e8a44313",
   "metadata": {},
   "source": [
    "🧠 Bloco 4 – Sugestões Estratégicas com Base no Resultado"
   ]
  },
  {
   "cell_type": "code",
   "execution_count": 7,
   "id": "5dd4d003",
   "metadata": {},
   "outputs": [],
   "source": [
    "    def sugerir_acoes(self, resultados):\n",
    "        \"\"\"Gera sugestões estratégicas baseadas na análise estatística\"\"\"\n",
    "        sugestoes = {}\n",
    "\n",
    "        for _, row in resultados.iterrows():\n",
    "            if row['Significativo']:\n",
    "                if row['Variação (%)'] > 0:\n",
    "                    sugestoes[row['Loja']] = [\n",
    "                        f\"Aumento de {row['Variação (%)']:.1f}%: manter estratégias atuais.\",\n",
    "                        \"Documentar boas práticas.\",\n",
    "                        \"Expandir ações bem-sucedidas para outras lojas.\"\n",
    "                    ]\n",
    "                else:\n",
    "                    sugestoes[row['Loja']] = [\n",
    "                        f\"Redução de {abs(row['Variação (%)']):.1f}%: revisar plano.\",\n",
    "                        \"Investigar causas externas.\",\n",
    "                        \"Oferecer treinamento corretivo à equipe.\"\n",
    "                    ]\n",
    "            else:\n",
    "                sugestoes[row['Loja']] = [\n",
    "                    \"Sem efeito significativo: realizar pesquisa qualitativa.\",\n",
    "                    \"Testar novas abordagens.\",\n",
    "                    \"Reforçar campanhas de visibilidade.\"\n",
    "                ]\n",
    "\n",
    "        return sugestoes\n"
   ]
  },
  {
   "cell_type": "markdown",
   "id": "0b843997",
   "metadata": {},
   "source": [
    "🧪 Bloco 5 – Estilo Condicional para o DataFrame"
   ]
  },
  {
   "cell_type": "code",
   "execution_count": 8,
   "id": "dab908e9",
   "metadata": {},
   "outputs": [],
   "source": [
    "    def destacar_significativo(row):\n",
    "        \"\"\"Aplica cor verde se resultado for estatisticamente significativo\"\"\"\n",
    "        color = 'green' if row['Significativo'] else 'black'\n",
    "        return [f'color: {color}'] * len(row)\n"
   ]
  },
  {
   "cell_type": "markdown",
   "id": "fbc5ca73",
   "metadata": {},
   "source": [
    "🚀 Bloco 6 – Execução Final do Pipeline de Análise"
   ]
  },
  {
   "cell_type": "code",
   "execution_count": 9,
   "id": "62f9af50",
   "metadata": {},
   "outputs": [
    {
     "name": "stdout",
     "output_type": "stream",
     "text": [
      "\n",
      "1. COMPARAÇÃO ANTES/DEPOIS DO PLANO:\n"
     ]
    },
    {
     "ename": "AttributeError",
     "evalue": "'AnaliseVendasFinal' object has no attribute 'comparacao_lojas'",
     "output_type": "error",
     "traceback": [
      "\u001b[31m---------------------------------------------------------------------------\u001b[39m",
      "\u001b[31mAttributeError\u001b[39m                            Traceback (most recent call last)",
      "\u001b[36mCell\u001b[39m\u001b[36m \u001b[39m\u001b[32mIn[9]\u001b[39m\u001b[32m, line 8\u001b[39m\n\u001b[32m      6\u001b[39m \u001b[38;5;66;03m# 1. Comparação estatística\u001b[39;00m\n\u001b[32m      7\u001b[39m \u001b[38;5;28mprint\u001b[39m(\u001b[33m\"\u001b[39m\u001b[38;5;130;01m\\n\u001b[39;00m\u001b[33m1. COMPARAÇÃO ANTES/DEPOIS DO PLANO:\u001b[39m\u001b[33m\"\u001b[39m)\n\u001b[32m----> \u001b[39m\u001b[32m8\u001b[39m resultados = \u001b[43manalise\u001b[49m\u001b[43m.\u001b[49m\u001b[43mcomparacao_lojas\u001b[49m()\n\u001b[32m     10\u001b[39m \u001b[38;5;66;03m# Estilo com formatação e destaque\u001b[39;00m\n\u001b[32m     11\u001b[39m display(\n\u001b[32m     12\u001b[39m     resultados.style\n\u001b[32m     13\u001b[39m         .format({\n\u001b[32m   (...)\u001b[39m\u001b[32m     19\u001b[39m         .apply(destacar_significativo, axis=\u001b[32m1\u001b[39m)\n\u001b[32m     20\u001b[39m )\n",
      "\u001b[31mAttributeError\u001b[39m: 'AnaliseVendasFinal' object has no attribute 'comparacao_lojas'"
     ]
    }
   ],
   "source": [
    "# === EXECUÇÃO FINAL === #\n",
    "\n",
    "# Criar instância\n",
    "analise = AnaliseVendasFinal(df)\n",
    "\n",
    "# 1. Comparação estatística\n",
    "print(\"\\n1. COMPARAÇÃO ANTES/DEPOIS DO PLANO:\")\n",
    "resultados = analise.comparacao_lojas()\n",
    "\n",
    "# Estilo com formatação e destaque\n",
    "display(\n",
    "    resultados.style\n",
    "        .format({\n",
    "            'Média Antes': '{:.1f}',\n",
    "            'Média Depois': '{:.1f}',\n",
    "            'Variação (%)': '{:.1f}%',\n",
    "            'p-valor': '{:.4f}'\n",
    "        })\n",
    "        .apply(destacar_significativo, axis=1)\n",
    ")\n",
    "\n",
    "# 2. Gráfico temporal\n",
    "print(\"\\n2. SÉRIE TEMPORAL DAS VENDAS:\")\n",
    "analise.plot_vendas_temporais()\n",
    "\n",
    "# 3. Sugestões\n",
    "print(\"\\n3. SUGESTÕES POR LOJA:\")\n",
    "sugestoes = analise.sugerir_acoes(resultados)\n",
    "for loja, acoes in sugestoes.items():\n",
    "    print(f\"\\n{loja}:\")\n",
    "    for acao in acoes:\n",
    "        print(f\"- {acao}\")\n"
   ]
  },
  {
   "cell_type": "code",
   "execution_count": null,
   "id": "779673b9",
   "metadata": {},
   "outputs": [
    {
     "ename": "AssertionError",
     "evalue": "❌ sugerir_acoes NÃO está na classe!",
     "output_type": "error",
     "traceback": [
      "\u001b[31m---------------------------------------------------------------------------\u001b[39m",
      "\u001b[31mAssertionError\u001b[39m                            Traceback (most recent call last)",
      "\u001b[36mCell\u001b[39m\u001b[36m \u001b[39m\u001b[32mIn[59]\u001b[39m\u001b[32m, line 1\u001b[39m\n\u001b[32m----> \u001b[39m\u001b[32m1\u001b[39m \u001b[38;5;28;01massert\u001b[39;00m \u001b[38;5;28mhasattr\u001b[39m(AnaliseVendasFinal, \u001b[33m'\u001b[39m\u001b[33msugerir_acoes\u001b[39m\u001b[33m'\u001b[39m), \u001b[33m\"\u001b[39m\u001b[33m❌ sugerir_acoes NÃO está na classe!\u001b[39m\u001b[33m\"\u001b[39m\n\u001b[32m      2\u001b[39m \u001b[38;5;28mprint\u001b[39m(\u001b[33m\"\u001b[39m\u001b[33m✅ Método sugerir_acoes OK!\u001b[39m\u001b[33m\"\u001b[39m)\n\u001b[32m      4\u001b[39m \u001b[38;5;28;01massert\u001b[39;00m \u001b[38;5;28mhasattr\u001b[39m(AnaliseVendasFinal, \u001b[33m'\u001b[39m\u001b[33mplot_vendas_temporais\u001b[39m\u001b[33m'\u001b[39m), \u001b[33m\"\u001b[39m\u001b[33m❌ plot_vendas_temporais NÃO está na classe!\u001b[39m\u001b[33m\"\u001b[39m\n",
      "\u001b[31mAssertionError\u001b[39m: ❌ sugerir_acoes NÃO está na classe!"
     ]
    }
   ],
   "source": [
    "assert hasattr(AnaliseVendasFinal, 'sugerir_acoes'), \"❌ sugerir_acoes NÃO está na classe!\"\n",
    "print(\"✅ Método sugerir_acoes OK!\")\n",
    "\n",
    "assert hasattr(AnaliseVendasFinal, 'plot_vendas_temporais'), \"❌ plot_vendas_temporais NÃO está na classe!\"\n",
    "print(\"✅ Método plot_vendas_temporais OK!\")\n",
    "\n",
    "assert hasattr(AnaliseVendasFinal, 'sugerir_acoes'), \"❌ sugerir_acoes NÃO está na classe!\"\n",
    "print(\"✅ Método sugerir_acoes OK!\")\n"
   ]
  }
 ],
 "metadata": {
  "kernelspec": {
   "display_name": "Python 3",
   "language": "python",
   "name": "python3"
  },
  "language_info": {
   "codemirror_mode": {
    "name": "ipython",
    "version": 3
   },
   "file_extension": ".py",
   "mimetype": "text/x-python",
   "name": "python",
   "nbconvert_exporter": "python",
   "pygments_lexer": "ipython3",
   "version": "3.13.2"
  }
 },
 "nbformat": 4,
 "nbformat_minor": 5
}
