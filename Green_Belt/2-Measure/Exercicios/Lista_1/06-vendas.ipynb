{
 "cells": [
  {
   "cell_type": "markdown",
   "id": "b99c859a",
   "metadata": {},
   "source": [
    "6)  Uma  rede  de  varejo  de  móveis  e  eletrodomésticos  vêm  passando  por  um  período  de \n",
    "dificuldade na venda de seus produtos. As gerências de quatro lojas se reuniram para entender \n",
    "os pontos a serem melhorados, para isso foram coletados dados das vendas de todas as lojas \n",
    "em um período de dois meses. Com o objetivo de melhorar as vendas, cada loja fez um plano \n",
    "de ação que foi implantado do 31º ao 60º dia.  \n",
    "Os  dados  coletados  do  número  de  vendas  em  cada  umas  das  lojas  estão  armazenados  na \n",
    "planilha Green_Belt_FM2S_Lista_Exercícios_01, na aba 06. Vendas. \n",
    "1. Em qual das lojas houve mudanças depois do plano de ação? \n",
    "2. Qual seria uma sugestão viável para as lojas que não tiveram mudança mesmo depois \n",
    "do Plano de Ação? \n",
    "3. É possível afirmar que alguma loja apresenta um número maior de vendas?"
   ]
  },
  {
   "cell_type": "code",
   "execution_count": 1,
   "id": "4a604de1",
   "metadata": {},
   "outputs": [],
   "source": [
    "import pandas as pd"
   ]
  },
  {
   "cell_type": "code",
   "execution_count": 2,
   "id": "495f4095",
   "metadata": {},
   "outputs": [
    {
     "data": {
      "application/vnd.microsoft.datawrangler.viewer.v0+json": {
       "columns": [
        {
         "name": "index",
         "rawType": "int64",
         "type": "integer"
        },
        {
         "name": "Dia",
         "rawType": "int64",
         "type": "integer"
        },
        {
         "name": "Loja 1",
         "rawType": "int64",
         "type": "integer"
        },
        {
         "name": "Loja 2",
         "rawType": "int64",
         "type": "integer"
        },
        {
         "name": "Loja 3",
         "rawType": "int64",
         "type": "integer"
        },
        {
         "name": "Loja 4",
         "rawType": "int64",
         "type": "integer"
        }
       ],
       "ref": "256c9bdd-da74-4145-99eb-a2d88aa0a068",
       "rows": [
        [
         "0",
         "1",
         "180",
         "231",
         "193",
         "179"
        ],
        [
         "1",
         "2",
         "192",
         "250",
         "202",
         "165"
        ],
        [
         "2",
         "3",
         "205",
         "198",
         "195",
         "159"
        ],
        [
         "3",
         "4",
         "111",
         "163",
         "187",
         "200"
        ],
        [
         "4",
         "5",
         "174",
         "248",
         "205",
         "166"
        ]
       ],
       "shape": {
        "columns": 5,
        "rows": 5
       }
      },
      "text/html": [
       "<div>\n",
       "<style scoped>\n",
       "    .dataframe tbody tr th:only-of-type {\n",
       "        vertical-align: middle;\n",
       "    }\n",
       "\n",
       "    .dataframe tbody tr th {\n",
       "        vertical-align: top;\n",
       "    }\n",
       "\n",
       "    .dataframe thead th {\n",
       "        text-align: right;\n",
       "    }\n",
       "</style>\n",
       "<table border=\"1\" class=\"dataframe\">\n",
       "  <thead>\n",
       "    <tr style=\"text-align: right;\">\n",
       "      <th></th>\n",
       "      <th>Dia</th>\n",
       "      <th>Loja 1</th>\n",
       "      <th>Loja 2</th>\n",
       "      <th>Loja 3</th>\n",
       "      <th>Loja 4</th>\n",
       "    </tr>\n",
       "  </thead>\n",
       "  <tbody>\n",
       "    <tr>\n",
       "      <th>0</th>\n",
       "      <td>1</td>\n",
       "      <td>180</td>\n",
       "      <td>231</td>\n",
       "      <td>193</td>\n",
       "      <td>179</td>\n",
       "    </tr>\n",
       "    <tr>\n",
       "      <th>1</th>\n",
       "      <td>2</td>\n",
       "      <td>192</td>\n",
       "      <td>250</td>\n",
       "      <td>202</td>\n",
       "      <td>165</td>\n",
       "    </tr>\n",
       "    <tr>\n",
       "      <th>2</th>\n",
       "      <td>3</td>\n",
       "      <td>205</td>\n",
       "      <td>198</td>\n",
       "      <td>195</td>\n",
       "      <td>159</td>\n",
       "    </tr>\n",
       "    <tr>\n",
       "      <th>3</th>\n",
       "      <td>4</td>\n",
       "      <td>111</td>\n",
       "      <td>163</td>\n",
       "      <td>187</td>\n",
       "      <td>200</td>\n",
       "    </tr>\n",
       "    <tr>\n",
       "      <th>4</th>\n",
       "      <td>5</td>\n",
       "      <td>174</td>\n",
       "      <td>248</td>\n",
       "      <td>205</td>\n",
       "      <td>166</td>\n",
       "    </tr>\n",
       "  </tbody>\n",
       "</table>\n",
       "</div>"
      ],
      "text/plain": [
       "   Dia  Loja 1  Loja 2  Loja 3  Loja 4\n",
       "0    1     180     231     193     179\n",
       "1    2     192     250     202     165\n",
       "2    3     205     198     195     159\n",
       "3    4     111     163     187     200\n",
       "4    5     174     248     205     166"
      ]
     },
     "execution_count": 2,
     "metadata": {},
     "output_type": "execute_result"
    }
   ],
   "source": [
    "url = 'https://raw.githubusercontent.com/moises-rb/Analise_Dados/refs/heads/main/Green_Belt/2-Measure/Exercicios/Lista_1/base_dados/vendas.csv'\n",
    "df = pd.read_csv(url)\n",
    "df.head()"
   ]
  }
 ],
 "metadata": {
  "kernelspec": {
   "display_name": "Python 3",
   "language": "python",
   "name": "python3"
  },
  "language_info": {
   "codemirror_mode": {
    "name": "ipython",
    "version": 3
   },
   "file_extension": ".py",
   "mimetype": "text/x-python",
   "name": "python",
   "nbconvert_exporter": "python",
   "pygments_lexer": "ipython3",
   "version": "3.13.2"
  }
 },
 "nbformat": 4,
 "nbformat_minor": 5
}
