{
  "nbformat": 4,
  "nbformat_minor": 0,
  "metadata": {
    "colab": {
      "provenance": [],
      "authorship_tag": "ABX9TyN42ThUXIEmJf4eFoWY8uzS",
      "include_colab_link": true
    },
    "kernelspec": {
      "name": "python3",
      "display_name": "Python 3"
    },
    "language_info": {
      "name": "python"
    }
  },
  "cells": [
    {
      "cell_type": "markdown",
      "metadata": {
        "id": "view-in-github",
        "colab_type": "text"
      },
      "source": [
        "<a href=\"https://colab.research.google.com/github/moises-rb/Analise_Dados/blob/main/Green_Belt/DistribuicaoEstatistica/Gr%C3%A1fico_de_Individuais.ipynb\" target=\"_parent\"><img src=\"https://colab.research.google.com/assets/colab-badge.svg\" alt=\"Open In Colab\"/></a>"
      ]
    },
    {
      "cell_type": "markdown",
      "source": [
        "## Neste Notebook, nosso objetivo é entender como aplicar o Gráfico de Individuais.\n",
        "\n",
        "### 1 - Quais situações são recomendadas a sua utilização;\n",
        "### 2 - Com quais tipos de variáveis devemos trabalhar nesse tipo de gráfico;\n",
        "### 3 - Como construir o gráfico;\n",
        "### 4 - Como explicar o gráfico;"
      ],
      "metadata": {
        "id": "94PBgmxnlH0g"
      }
    },
    {
      "cell_type": "code",
      "execution_count": null,
      "metadata": {
        "id": "ycPF9zkmlDlb"
      },
      "outputs": [],
      "source": []
    }
  ]
}