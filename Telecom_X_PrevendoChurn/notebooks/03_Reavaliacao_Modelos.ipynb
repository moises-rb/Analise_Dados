{
  "cells": [
    {
      "cell_type": "markdown",
      "metadata": {
        "colab_type": "text",
        "id": "view-in-github"
      },
      "source": [
        "<a href=\"https://colab.research.google.com/github/moises-rb/Analise_Dados/blob/main/Telecom_X_PrevendoChurn/notebooks/03_Reavaliacao_Modelos.ipynb\" target=\"_parent\"><img src=\"https://colab.research.google.com/assets/colab-badge.svg\" alt=\"Open In Colab\"/></a>"
      ]
    },
    {
      "cell_type": "markdown",
      "id": "d6eefb08",
      "metadata": {
        "id": "d6eefb08"
      },
      "source": [
        "## 🧩 0. Setup Inicial"
      ]
    },
    {
      "cell_type": "code",
      "execution_count": 1,
      "id": "d153dffd",
      "metadata": {
        "id": "d153dffd"
      },
      "outputs": [],
      "source": [
        "# Imports essenciais\n",
        "import pandas as pd\n",
        "import numpy as np\n",
        "import matplotlib.pyplot as plt\n",
        "import seaborn as sns\n",
        "from sklearn.metrics import classification_report, confusion_matrix, roc_auc_score, accuracy_score, roc_curve\n",
        "\n",
        "# Configurações estéticas\n",
        "sns.set(style=\"whitegrid\")\n",
        "plt.rcParams[\"figure.figsize\"] = (8, 5)\n"
      ]
    },
    {
      "cell_type": "markdown",
      "id": "c58547fc",
      "metadata": {
        "id": "c58547fc"
      },
      "source": [
        "## 🗂️ 1. Carregamento dos dados tratados"
      ]
    },
    {
      "cell_type": "code",
      "execution_count": 2,
      "id": "884b7aba",
      "metadata": {
        "colab": {
          "base_uri": "https://localhost:8080/",
          "height": 290
        },
        "id": "884b7aba",
        "outputId": "02968b9c-720e-4e9f-9eb4-be92acf9a98c"
      },
      "outputs": [
        {
          "data": {
            "application/vnd.microsoft.datawrangler.viewer.v0+json": {
              "columns": [
                {
                  "name": "index",
                  "rawType": "int64",
                  "type": "integer"
                },
                {
                  "name": "Churn",
                  "rawType": "float64",
                  "type": "float"
                },
                {
                  "name": "gender",
                  "rawType": "float64",
                  "type": "float"
                },
                {
                  "name": "SeniorCitizen",
                  "rawType": "float64",
                  "type": "float"
                },
                {
                  "name": "Partner",
                  "rawType": "float64",
                  "type": "float"
                },
                {
                  "name": "Dependents",
                  "rawType": "float64",
                  "type": "float"
                },
                {
                  "name": "tenure",
                  "rawType": "float64",
                  "type": "float"
                },
                {
                  "name": "PhoneService",
                  "rawType": "float64",
                  "type": "float"
                },
                {
                  "name": "PaperlessBilling",
                  "rawType": "float64",
                  "type": "float"
                },
                {
                  "name": "MonthlyCharges",
                  "rawType": "float64",
                  "type": "float"
                },
                {
                  "name": "TotalCharges",
                  "rawType": "float64",
                  "type": "float"
                },
                {
                  "name": "DailyCharges",
                  "rawType": "float64",
                  "type": "float"
                },
                {
                  "name": "tenure_group",
                  "rawType": "object",
                  "type": "string"
                },
                {
                  "name": "MultipleLines_No phone service",
                  "rawType": "bool",
                  "type": "boolean"
                },
                {
                  "name": "MultipleLines_Yes",
                  "rawType": "bool",
                  "type": "boolean"
                },
                {
                  "name": "InternetService_Fiber optic",
                  "rawType": "bool",
                  "type": "boolean"
                },
                {
                  "name": "InternetService_No",
                  "rawType": "bool",
                  "type": "boolean"
                },
                {
                  "name": "OnlineSecurity_No internet service",
                  "rawType": "bool",
                  "type": "boolean"
                },
                {
                  "name": "OnlineSecurity_Yes",
                  "rawType": "bool",
                  "type": "boolean"
                },
                {
                  "name": "OnlineBackup_No internet service",
                  "rawType": "bool",
                  "type": "boolean"
                },
                {
                  "name": "OnlineBackup_Yes",
                  "rawType": "bool",
                  "type": "boolean"
                },
                {
                  "name": "DeviceProtection_No internet service",
                  "rawType": "bool",
                  "type": "boolean"
                },
                {
                  "name": "DeviceProtection_Yes",
                  "rawType": "bool",
                  "type": "boolean"
                },
                {
                  "name": "TechSupport_No internet service",
                  "rawType": "bool",
                  "type": "boolean"
                },
                {
                  "name": "TechSupport_Yes",
                  "rawType": "bool",
                  "type": "boolean"
                },
                {
                  "name": "StreamingTV_No internet service",
                  "rawType": "bool",
                  "type": "boolean"
                },
                {
                  "name": "StreamingTV_Yes",
                  "rawType": "bool",
                  "type": "boolean"
                },
                {
                  "name": "StreamingMovies_No internet service",
                  "rawType": "bool",
                  "type": "boolean"
                },
                {
                  "name": "StreamingMovies_Yes",
                  "rawType": "bool",
                  "type": "boolean"
                },
                {
                  "name": "Contract_One year",
                  "rawType": "bool",
                  "type": "boolean"
                },
                {
                  "name": "Contract_Two year",
                  "rawType": "bool",
                  "type": "boolean"
                },
                {
                  "name": "PaymentMethod_Credit card (automatic)",
                  "rawType": "bool",
                  "type": "boolean"
                },
                {
                  "name": "PaymentMethod_Electronic check",
                  "rawType": "bool",
                  "type": "boolean"
                },
                {
                  "name": "PaymentMethod_Mailed check",
                  "rawType": "bool",
                  "type": "boolean"
                }
              ],
              "ref": "37469151-31a2-43be-8c82-0a0834c44d63",
              "rows": [
                [
                  "0",
                  "-0.601663392508594",
                  "-1.0094301272202446",
                  "-0.440327089412664",
                  "1.0356168260670764",
                  "1.533025357281985",
                  "-0.9542963467194052",
                  "0.3271893896895815",
                  "0.8289391504586738",
                  "0.0266519152170539",
                  "-0.7456070105134281",
                  "0.0266519152170541",
                  "7-12",
                  "False",
                  "False",
                  "False",
                  "False",
                  "False",
                  "False",
                  "False",
                  "True",
                  "False",
                  "False",
                  "False",
                  "True",
                  "False",
                  "True",
                  "False",
                  "False",
                  "True",
                  "False",
                  "False",
                  "False",
                  "True"
                ],
                [
                  "1",
                  "-0.601663392508594",
                  "0.9906579693175857",
                  "-0.440327089412664",
                  "-0.9656081041070596",
                  "-0.6523049310632244",
                  "-0.9542963467194052",
                  "0.3271893896895815",
                  "-1.2063611658909752",
                  "-0.16281861198951",
                  "-0.7680634524870338",
                  "-0.1628186119895102",
                  "7-12",
                  "False",
                  "True",
                  "False",
                  "False",
                  "False",
                  "False",
                  "False",
                  "False",
                  "False",
                  "False",
                  "False",
                  "False",
                  "False",
                  "False",
                  "False",
                  "True",
                  "False",
                  "False",
                  "False",
                  "False",
                  "True"
                ],
                [
                  "2",
                  "1.6620589061112208",
                  "0.9906579693175857",
                  "-0.440327089412664",
                  "-0.9656081041070596",
                  "-0.6523049310632244",
                  "-1.1580161531009563",
                  "0.3271893896895815",
                  "0.8289391504586738",
                  "0.3025475951845074",
                  "-0.8834560339840198",
                  "0.3025475951845074",
                  "0-6",
                  "False",
                  "False",
                  "True",
                  "False",
                  "False",
                  "False",
                  "False",
                  "False",
                  "False",
                  "True",
                  "False",
                  "False",
                  "False",
                  "False",
                  "False",
                  "False",
                  "False",
                  "False",
                  "False",
                  "True",
                  "False"
                ],
                [
                  "3",
                  "1.6620589061112208",
                  "0.9906579693175857",
                  "2.271039016322759",
                  "1.0356168260670764",
                  "-0.6523049310632244",
                  "-0.791320501614164",
                  "0.3271893896895815",
                  "0.8289391504586738",
                  "1.1036422803912085",
                  "-0.4612396298830237",
                  "1.1036422803912087",
                  "13-24",
                  "False",
                  "False",
                  "True",
                  "False",
                  "False",
                  "False",
                  "False",
                  "True",
                  "False",
                  "True",
                  "False",
                  "False",
                  "False",
                  "True",
                  "False",
                  "True",
                  "False",
                  "False",
                  "False",
                  "True",
                  "False"
                ],
                [
                  "4",
                  "1.6620589061112208",
                  "-1.0094301272202446",
                  "2.271039016322759",
                  "1.0356168260670764",
                  "-0.6523049310632244",
                  "-1.1987601143772668",
                  "0.3271893896895815",
                  "0.8289391504586738",
                  "0.6349520288802342",
                  "-0.8893900053896189",
                  "0.6349520288802343",
                  "0-6",
                  "False",
                  "False",
                  "True",
                  "False",
                  "False",
                  "False",
                  "False",
                  "False",
                  "False",
                  "False",
                  "False",
                  "True",
                  "False",
                  "True",
                  "False",
                  "False",
                  "False",
                  "False",
                  "False",
                  "False",
                  "True"
                ]
              ],
              "shape": {
                "columns": 33,
                "rows": 5
              }
            },
            "text/html": [
              "<div>\n",
              "<style scoped>\n",
              "    .dataframe tbody tr th:only-of-type {\n",
              "        vertical-align: middle;\n",
              "    }\n",
              "\n",
              "    .dataframe tbody tr th {\n",
              "        vertical-align: top;\n",
              "    }\n",
              "\n",
              "    .dataframe thead th {\n",
              "        text-align: right;\n",
              "    }\n",
              "</style>\n",
              "<table border=\"1\" class=\"dataframe\">\n",
              "  <thead>\n",
              "    <tr style=\"text-align: right;\">\n",
              "      <th></th>\n",
              "      <th>Churn</th>\n",
              "      <th>gender</th>\n",
              "      <th>SeniorCitizen</th>\n",
              "      <th>Partner</th>\n",
              "      <th>Dependents</th>\n",
              "      <th>tenure</th>\n",
              "      <th>PhoneService</th>\n",
              "      <th>PaperlessBilling</th>\n",
              "      <th>MonthlyCharges</th>\n",
              "      <th>TotalCharges</th>\n",
              "      <th>...</th>\n",
              "      <th>TechSupport_Yes</th>\n",
              "      <th>StreamingTV_No internet service</th>\n",
              "      <th>StreamingTV_Yes</th>\n",
              "      <th>StreamingMovies_No internet service</th>\n",
              "      <th>StreamingMovies_Yes</th>\n",
              "      <th>Contract_One year</th>\n",
              "      <th>Contract_Two year</th>\n",
              "      <th>PaymentMethod_Credit card (automatic)</th>\n",
              "      <th>PaymentMethod_Electronic check</th>\n",
              "      <th>PaymentMethod_Mailed check</th>\n",
              "    </tr>\n",
              "  </thead>\n",
              "  <tbody>\n",
              "    <tr>\n",
              "      <th>0</th>\n",
              "      <td>-0.601663</td>\n",
              "      <td>-1.009430</td>\n",
              "      <td>-0.440327</td>\n",
              "      <td>1.035617</td>\n",
              "      <td>1.533025</td>\n",
              "      <td>-0.954296</td>\n",
              "      <td>0.327189</td>\n",
              "      <td>0.828939</td>\n",
              "      <td>0.026652</td>\n",
              "      <td>-0.745607</td>\n",
              "      <td>...</td>\n",
              "      <td>True</td>\n",
              "      <td>False</td>\n",
              "      <td>True</td>\n",
              "      <td>False</td>\n",
              "      <td>False</td>\n",
              "      <td>True</td>\n",
              "      <td>False</td>\n",
              "      <td>False</td>\n",
              "      <td>False</td>\n",
              "      <td>True</td>\n",
              "    </tr>\n",
              "    <tr>\n",
              "      <th>1</th>\n",
              "      <td>-0.601663</td>\n",
              "      <td>0.990658</td>\n",
              "      <td>-0.440327</td>\n",
              "      <td>-0.965608</td>\n",
              "      <td>-0.652305</td>\n",
              "      <td>-0.954296</td>\n",
              "      <td>0.327189</td>\n",
              "      <td>-1.206361</td>\n",
              "      <td>-0.162819</td>\n",
              "      <td>-0.768063</td>\n",
              "      <td>...</td>\n",
              "      <td>False</td>\n",
              "      <td>False</td>\n",
              "      <td>False</td>\n",
              "      <td>False</td>\n",
              "      <td>True</td>\n",
              "      <td>False</td>\n",
              "      <td>False</td>\n",
              "      <td>False</td>\n",
              "      <td>False</td>\n",
              "      <td>True</td>\n",
              "    </tr>\n",
              "    <tr>\n",
              "      <th>2</th>\n",
              "      <td>1.662059</td>\n",
              "      <td>0.990658</td>\n",
              "      <td>-0.440327</td>\n",
              "      <td>-0.965608</td>\n",
              "      <td>-0.652305</td>\n",
              "      <td>-1.158016</td>\n",
              "      <td>0.327189</td>\n",
              "      <td>0.828939</td>\n",
              "      <td>0.302548</td>\n",
              "      <td>-0.883456</td>\n",
              "      <td>...</td>\n",
              "      <td>False</td>\n",
              "      <td>False</td>\n",
              "      <td>False</td>\n",
              "      <td>False</td>\n",
              "      <td>False</td>\n",
              "      <td>False</td>\n",
              "      <td>False</td>\n",
              "      <td>False</td>\n",
              "      <td>True</td>\n",
              "      <td>False</td>\n",
              "    </tr>\n",
              "    <tr>\n",
              "      <th>3</th>\n",
              "      <td>1.662059</td>\n",
              "      <td>0.990658</td>\n",
              "      <td>2.271039</td>\n",
              "      <td>1.035617</td>\n",
              "      <td>-0.652305</td>\n",
              "      <td>-0.791321</td>\n",
              "      <td>0.327189</td>\n",
              "      <td>0.828939</td>\n",
              "      <td>1.103642</td>\n",
              "      <td>-0.461240</td>\n",
              "      <td>...</td>\n",
              "      <td>False</td>\n",
              "      <td>False</td>\n",
              "      <td>True</td>\n",
              "      <td>False</td>\n",
              "      <td>True</td>\n",
              "      <td>False</td>\n",
              "      <td>False</td>\n",
              "      <td>False</td>\n",
              "      <td>True</td>\n",
              "      <td>False</td>\n",
              "    </tr>\n",
              "    <tr>\n",
              "      <th>4</th>\n",
              "      <td>1.662059</td>\n",
              "      <td>-1.009430</td>\n",
              "      <td>2.271039</td>\n",
              "      <td>1.035617</td>\n",
              "      <td>-0.652305</td>\n",
              "      <td>-1.198760</td>\n",
              "      <td>0.327189</td>\n",
              "      <td>0.828939</td>\n",
              "      <td>0.634952</td>\n",
              "      <td>-0.889390</td>\n",
              "      <td>...</td>\n",
              "      <td>True</td>\n",
              "      <td>False</td>\n",
              "      <td>True</td>\n",
              "      <td>False</td>\n",
              "      <td>False</td>\n",
              "      <td>False</td>\n",
              "      <td>False</td>\n",
              "      <td>False</td>\n",
              "      <td>False</td>\n",
              "      <td>True</td>\n",
              "    </tr>\n",
              "  </tbody>\n",
              "</table>\n",
              "<p>5 rows × 33 columns</p>\n",
              "</div>"
            ],
            "text/plain": [
              "      Churn    gender  SeniorCitizen   Partner  Dependents    tenure  \\\n",
              "0 -0.601663 -1.009430      -0.440327  1.035617    1.533025 -0.954296   \n",
              "1 -0.601663  0.990658      -0.440327 -0.965608   -0.652305 -0.954296   \n",
              "2  1.662059  0.990658      -0.440327 -0.965608   -0.652305 -1.158016   \n",
              "3  1.662059  0.990658       2.271039  1.035617   -0.652305 -0.791321   \n",
              "4  1.662059 -1.009430       2.271039  1.035617   -0.652305 -1.198760   \n",
              "\n",
              "   PhoneService  PaperlessBilling  MonthlyCharges  TotalCharges  ...  \\\n",
              "0      0.327189          0.828939        0.026652     -0.745607  ...   \n",
              "1      0.327189         -1.206361       -0.162819     -0.768063  ...   \n",
              "2      0.327189          0.828939        0.302548     -0.883456  ...   \n",
              "3      0.327189          0.828939        1.103642     -0.461240  ...   \n",
              "4      0.327189          0.828939        0.634952     -0.889390  ...   \n",
              "\n",
              "   TechSupport_Yes StreamingTV_No internet service  StreamingTV_Yes  \\\n",
              "0             True                           False             True   \n",
              "1            False                           False            False   \n",
              "2            False                           False            False   \n",
              "3            False                           False             True   \n",
              "4             True                           False             True   \n",
              "\n",
              "   StreamingMovies_No internet service  StreamingMovies_Yes  \\\n",
              "0                                False                False   \n",
              "1                                False                 True   \n",
              "2                                False                False   \n",
              "3                                False                 True   \n",
              "4                                False                False   \n",
              "\n",
              "   Contract_One year  Contract_Two year  \\\n",
              "0               True              False   \n",
              "1              False              False   \n",
              "2              False              False   \n",
              "3              False              False   \n",
              "4              False              False   \n",
              "\n",
              "   PaymentMethod_Credit card (automatic)  PaymentMethod_Electronic check  \\\n",
              "0                                  False                           False   \n",
              "1                                  False                           False   \n",
              "2                                  False                            True   \n",
              "3                                  False                            True   \n",
              "4                                  False                           False   \n",
              "\n",
              "   PaymentMethod_Mailed check  \n",
              "0                        True  \n",
              "1                        True  \n",
              "2                       False  \n",
              "3                       False  \n",
              "4                        True  \n",
              "\n",
              "[5 rows x 33 columns]"
            ]
          },
          "execution_count": 2,
          "metadata": {},
          "output_type": "execute_result"
        }
      ],
      "source": [
        "# Leitura dos dados tratados (pré-processados no notebook anterior)\n",
        "url = 'https://raw.githubusercontent.com/moises-rb/Analise_Dados/refs/heads/main/Telecom_X_PrevendoChurn/dados/dados_tratados_churn.csv'\n",
        "df = pd.read_csv(url)\n",
        "df.head()\n"
      ]
    },
    {
      "cell_type": "markdown",
      "id": "e04cd274",
      "metadata": {
        "id": "e04cd274"
      },
      "source": [
        "## 🎯 2. Separação das variáveis preditoras e alvo"
      ]
    },
    {
      "cell_type": "code",
      "execution_count": 3,
      "id": "5ffa512b",
      "metadata": {
        "id": "5ffa512b"
      },
      "outputs": [],
      "source": [
        "X = df.drop(columns='Churn')\n",
        "y = df['Churn']\n"
      ]
    },
    {
      "cell_type": "code",
      "execution_count": 4,
      "id": "65592839",
      "metadata": {
        "colab": {
          "base_uri": "https://localhost:8080/"
        },
        "id": "65592839",
        "outputId": "d715f46d-0c74-499f-bc92-0e0989266a2f"
      },
      "outputs": [
        {
          "data": {
            "text/plain": [
              "Index(['tenure_group'], dtype='object')"
            ]
          },
          "execution_count": 4,
          "metadata": {},
          "output_type": "execute_result"
        }
      ],
      "source": [
        "X.select_dtypes(include='object').columns\n"
      ]
    },
    {
      "cell_type": "markdown",
      "id": "c1234621",
      "metadata": {
        "id": "c1234621"
      },
      "source": [
        "## 🧪 3. Aplicação do SMOTE"
      ]
    },
    {
      "cell_type": "code",
      "execution_count": 5,
      "id": "a2e5195c",
      "metadata": {
        "id": "a2e5195c"
      },
      "outputs": [],
      "source": [
        "from imblearn.over_sampling import SMOTE\n",
        "from sklearn.model_selection import train_test_split\n",
        "\n",
        "# Transformação\n",
        "X_encoded = pd.get_dummies(X, drop_first=True)\n",
        "\n",
        "# Divisão dos dados\n",
        "X_train, X_test, y_train, y_test = train_test_split(\n",
        "    X_encoded, y,\n",
        "    test_size=0.3,\n",
        "    stratify=y,\n",
        "    random_state=42\n",
        ")\n",
        "\n",
        "# Garantindo que os valores são inteiros\n",
        "y_train = y_train.astype(int)\n",
        "y_test = y_test.astype(int)  # opcional, mas mantém tudo coerente\n",
        "\n",
        "# Aplicação do SMOTE\n",
        "smote = SMOTE(random_state=42)\n",
        "X_train_resampled, y_train_resampled = smote.fit_resample(X_train, y_train)\n"
      ]
    },
    {
      "cell_type": "code",
      "execution_count": 6,
      "id": "e2acab9a",
      "metadata": {
        "colab": {
          "base_uri": "https://localhost:8080/"
        },
        "id": "e2acab9a",
        "outputId": "0e3a8fc3-059b-41d5-fa48-879083de8169"
      },
      "outputs": [
        {
          "name": "stdout",
          "output_type": "stream",
          "text": [
            "(2110,)\n",
            "4281    0\n",
            "1832    0\n",
            "2402    0\n",
            "5506    0\n",
            "1791    0\n",
            "Name: Churn, dtype: int32\n"
          ]
        }
      ],
      "source": [
        "print(y_test.shape)\n",
        "print(y_test.head())"
      ]
    },
    {
      "cell_type": "markdown",
      "id": "5ac1c9da",
      "metadata": {
        "id": "5ac1c9da"
      },
      "source": [
        "## 🌲 4. Treinamento com Random Forest"
      ]
    },
    {
      "cell_type": "code",
      "execution_count": 7,
      "id": "626b0af8",
      "metadata": {
        "id": "626b0af8"
      },
      "outputs": [],
      "source": [
        "from sklearn.ensemble import RandomForestClassifier\n",
        "\n",
        "model = RandomForestClassifier(random_state=42)\n",
        "model.fit(X_train_resampled, y_train_resampled)\n",
        "\n",
        "# Predições\n",
        "y_pred = model.predict(X_test)\n",
        "y_proba = model.predict_proba(X_test)[:, 1]"
      ]
    },
    {
      "cell_type": "markdown",
      "id": "31f9105e",
      "metadata": {
        "id": "31f9105e"
      },
      "source": [
        "## 🧾 5. Avaliação do Modelo"
      ]
    },
    {
      "cell_type": "code",
      "execution_count": 8,
      "id": "1999c1f2",
      "metadata": {
        "colab": {
          "base_uri": "https://localhost:8080/",
          "height": 678
        },
        "id": "1999c1f2",
        "outputId": "fc59c0de-ca7a-4984-87b7-4be2daa0c5a0"
      },
      "outputs": [
        {
          "name": "stdout",
          "output_type": "stream",
          "text": [
            "              precision    recall  f1-score   support\n",
            "\n",
            "           0       0.85      0.83      0.84      1549\n",
            "           1       0.55      0.59      0.57       561\n",
            "\n",
            "    accuracy                           0.76      2110\n",
            "   macro avg       0.70      0.71      0.70      2110\n",
            "weighted avg       0.77      0.76      0.77      2110\n",
            "\n"
          ]
        },
        {
          "data": {
            "image/png": "[encoded data removed]",
            "text/plain": [
              "<Figure size 800x500 with 2 Axes>"
            ]
          },
          "metadata": {},
          "output_type": "display_data"
        },
        {
          "name": "stdout",
          "output_type": "stream",
          "text": [
            "ROC AUC: 0.8155051444839924\n"
          ]
        }
      ],
      "source": [
        "# Classification Report\n",
        "report = classification_report(y_test, y_pred)\n",
        "print(report)\n",
        "\n",
        "# Confusion Matrix\n",
        "sns.heatmap(confusion_matrix(y_test, y_pred), annot=True, fmt='d', cmap='Blues')\n",
        "plt.title('Matriz de Confusão')\n",
        "plt.xlabel('Previsto')\n",
        "plt.ylabel('Real')\n",
        "plt.show()\n",
        "\n",
        "# ROC AUC Score\n",
        "print(\"ROC AUC:\", roc_auc_score(y_test, y_proba))\n"
      ]
    },
    {
      "cell_type": "markdown",
      "id": "50b95764",
      "metadata": {
        "id": "50b95764"
      },
      "source": [
        "## ⚖️ 6. Ajuste de Threshold (Opcional)"
      ]
    },
    {
      "cell_type": "code",
      "execution_count": 9,
      "id": "51a2a0ef",
      "metadata": {
        "colab": {
          "base_uri": "https://localhost:8080/"
        },
        "id": "51a2a0ef",
        "outputId": "72bdd7cf-3db5-466d-cc8f-e92f38cf6647"
      },
      "outputs": [
        {
          "name": "stdout",
          "output_type": "stream",
          "text": [
            "Accuracy com threshold ajustado: 0.7033175355450237\n",
            "ROC AUC com threshold ajustado: 0.8155051444839924\n"
          ]
        }
      ],
      "source": [
        "threshold_custom = 0.3  # ou outro valor que faça sentido após análise\n",
        "y_pred_custom = (y_proba >= threshold_custom).astype(int)\n",
        "\n",
        "print(\"Accuracy com threshold ajustado:\", accuracy_score(y_test, y_pred_custom))\n",
        "print(\"ROC AUC com threshold ajustado:\", roc_auc_score(y_test, y_proba))\n"
      ]
    },
    {
      "cell_type": "code",
      "execution_count": 10,
      "id": "7e67cc31",
      "metadata": {
        "colab": {
          "base_uri": "https://localhost:8080/"
        },
        "id": "7e67cc31",
        "outputId": "7310909a-deeb-40d0-fe07-d7993dd8acb5"
      },
      "outputs": [
        {
          "name": "stdout",
          "output_type": "stream",
          "text": [
            "(2110,)\n",
            "4281    0\n",
            "1832    0\n",
            "2402    0\n",
            "5506    0\n",
            "1791    0\n",
            "Name: Churn, dtype: int32\n"
          ]
        }
      ],
      "source": [
        "print(y_test.shape)\n",
        "print(y_test.head())"
      ]
    },
    {
      "cell_type": "markdown",
      "id": "a803ee72",
      "metadata": {
        "id": "a803ee72"
      },
      "source": [
        "## 🧠 7. Interpretação do Modelo (Importância das Features)"
      ]
    },
    {
      "cell_type": "code",
      "execution_count": 11,
      "id": "8829c79d",
      "metadata": {
        "colab": {
          "base_uri": "https://localhost:8080/",
          "height": 612
        },
        "id": "8829c79d",
        "outputId": "f0d4e97e-c529-4e61-cc6c-b84ff65a1aec"
      },
      "outputs": [
        {
          "name": "stderr",
          "output_type": "stream",
          "text": [
            "C:\\Users\\Usuario\\AppData\\Local\\Temp\\ipykernel_10556\\3893905343.py:10: FutureWarning: \n",
            "\n",
            "Passing `palette` without assigning `hue` is deprecated and will be removed in v0.14.0. Assign the `y` variable to `hue` and set `legend=False` for the same effect.\n",
            "\n",
            "  sns.barplot(data=importancia_df.head(10), x='Importancia', y='Feature', palette='viridis')\n"
          ]
        },
        {
          "data": {
            "image/png": "[encoded data removed]",
            "text/plain": [
              "<Figure size 800x500 with 1 Axes>"
            ]
          },
          "metadata": {},
          "output_type": "display_data"
        }
      ],
      "source": [
        "importances = model.feature_importances_\n",
        "\n",
        "# Use as colunas reais usadas no modelo\n",
        "features = X_train.columns\n",
        "\n",
        "importancia_df = pd.DataFrame({'Feature': features, 'Importancia': importances})\n",
        "importancia_df = importancia_df.sort_values(by='Importancia', ascending=False)\n",
        "\n",
        "# Plot\n",
        "sns.barplot(data=importancia_df.head(10), x='Importancia', y='Feature', palette='viridis')\n",
        "plt.title(\"Top 10 Features mais Relevantes\")\n",
        "plt.tight_layout()\n",
        "plt.show()\n"
      ]
    },
    {
      "cell_type": "markdown",
      "id": "deebedc7",
      "metadata": {
        "id": "deebedc7"
      },
      "source": [
        "## 📤 8. Exportação dos Resultados Finais"
      ]
    },
    {
      "cell_type": "code",
      "execution_count": 12,
      "id": "4b8823cf",
      "metadata": {
        "colab": {
          "base_uri": "https://localhost:8080/",
          "height": 370
        },
        "id": "4b8823cf",
        "outputId": "1ffa9a4c-e13b-4f37-91c3-043112d6eb46"
      },
      "outputs": [
        {
          "name": "stdout",
          "output_type": "stream",
          "text": [
            "✅ Resultados exportados com sucesso.\n"
          ]
        }
      ],
      "source": [
        "# Classification Report\n",
        "report_final = classification_report(y_test, y_pred, output_dict=True)\n",
        "df_report_final = pd.DataFrame(report_final).transpose()\n",
        "df_report_final.to_csv(\"comparacao_modelos/modelo_final_classification_report.csv\", index=True)\n",
        "\n",
        "# Métricas\n",
        "final_metrics = {\n",
        "    \"accuracy\": accuracy_score(y_test, y_pred),\n",
        "    \"roc_auc\": roc_auc_score(y_test, y_proba)\n",
        "}\n",
        "df_metrics_final = pd.DataFrame([final_metrics])\n",
        "df_metrics_final.to_csv(\"comparacao_modelos/modelo_final_metrics.csv\", index=False)\n",
        "\n",
        "# Curva ROC\n",
        "fpr_final, tpr_final, thresholds_final = roc_curve(y_test, y_proba)\n",
        "roc_df_final = pd.DataFrame({'fpr': fpr_final, 'tpr': tpr_final, 'threshold': thresholds_final})\n",
        "roc_df_final.to_csv(\"comparacao_modelos/modelo_final_roc_data.csv\", index=False)\n",
        "\n",
        "print(\"✅ Resultados exportados com sucesso.\")\n"
      ]
    },
    {
      "cell_type": "markdown",
      "id": "fevcw-gxQTFN",
      "metadata": {
        "id": "fevcw-gxQTFN"
      },
      "source": [
        "## 📤 9. Importando arquivos gerados nos modelos"
      ]
    },
    {
      "cell_type": "code",
      "execution_count": 13,
      "id": "3f4f85db",
      "metadata": {
        "id": "3f4f85db"
      },
      "outputs": [],
      "source": [
        "from sklearn.metrics import accuracy_score, precision_score, recall_score, f1_score, roc_auc_score, classification_report, confusion_matrix\n",
        "\n",
        "# Carregar arquivos\n",
        "X_test = pd.read_csv('export/X_test.csv')\n",
        "y_test = pd.read_csv('export/y_test.csv').squeeze()  # Garante que vire uma Series\n",
        "y_pred_smote = pd.read_csv('export/y_pred_smote.csv').squeeze()\n",
        "y_proba_smote = pd.read_csv('export/y_proba_smote.csv').squeeze()"
      ]
    },
    {
      "cell_type": "code",
      "execution_count": 14,
      "id": "a06a781c",
      "metadata": {
        "id": "a06a781c"
      },
      "outputs": [],
      "source": [
        "# Calcular métricas\n",
        "acc = accuracy_score(y_test, y_pred_smote)\n",
        "prec = precision_score(y_test, y_pred_smote)\n",
        "rec = recall_score(y_test, y_pred_smote)\n",
        "f1 = f1_score(y_test, y_pred_smote)\n",
        "roc = roc_auc_score(y_test, y_proba_smote)"
      ]
    },
    {
      "cell_type": "code",
      "execution_count": 15,
      "id": "d3c8534d",
      "metadata": {
        "colab": {
          "base_uri": "https://localhost:8080/"
        },
        "id": "d3c8534d",
        "outputId": "143586b5-eeaf-4656-d266-8f98868e308e"
      },
      "outputs": [
        {
          "name": "stdout",
          "output_type": "stream",
          "text": [
            "📊 Desempenho do Modelo com SMOTE + Threshold Ajustado:\n",
            "\n",
            "Accuracy:  0.7692\n",
            "Precision: 0.5535\n",
            "Recall:    0.6827\n",
            "F1-score:  0.6113\n",
            "ROC AUC:   0.8307\n",
            "\n"
          ]
        }
      ],
      "source": [
        "# Exibir resultados\n",
        "print(\"📊 Desempenho do Modelo com SMOTE + Threshold Ajustado:\\n\")\n",
        "print(f\"Accuracy:  {acc:.4f}\")\n",
        "print(f\"Precision: {prec:.4f}\")\n",
        "print(f\"Recall:    {rec:.4f}\")\n",
        "print(f\"F1-score:  {f1:.4f}\")\n",
        "print(f\"ROC AUC:   {roc:.4f}\\n\")"
      ]
    },
    {
      "cell_type": "code",
      "execution_count": 16,
      "id": "c567fe04",
      "metadata": {
        "colab": {
          "base_uri": "https://localhost:8080/"
        },
        "id": "c567fe04",
        "outputId": "755ed268-5fd1-41e6-8393-238a662b45e8"
      },
      "outputs": [
        {
          "name": "stdout",
          "output_type": "stream",
          "text": [
            "🧮 Matriz de Confusão:\n",
            "\n",
            "[[1240  309]\n",
            " [ 178  383]]\n"
          ]
        }
      ],
      "source": [
        "# Confusion Matrix\n",
        "print(\"🧮 Matriz de Confusão:\\n\")\n",
        "print(confusion_matrix(y_test, y_pred_smote))"
      ]
    },
    {
      "cell_type": "code",
      "execution_count": 17,
      "id": "410494b7",
      "metadata": {
        "colab": {
          "base_uri": "https://localhost:8080/"
        },
        "id": "410494b7",
        "outputId": "7c5a5dec-1edf-434d-8e54-c3f40ef1868f"
      },
      "outputs": [
        {
          "name": "stdout",
          "output_type": "stream",
          "text": [
            "\n",
            "📋 Classification Report:\n",
            "\n",
            "              precision    recall  f1-score   support\n",
            "\n",
            "           0       0.87      0.80      0.84      1549\n",
            "           1       0.55      0.68      0.61       561\n",
            "\n",
            "    accuracy                           0.77      2110\n",
            "   macro avg       0.71      0.74      0.72      2110\n",
            "weighted avg       0.79      0.77      0.78      2110\n",
            "\n"
          ]
        }
      ],
      "source": [
        "# Classification Report\n",
        "print(\"\\n📋 Classification Report:\\n\")\n",
        "print(classification_report(y_test, y_pred_smote))"
      ]
    },
    {
      "cell_type": "markdown",
      "id": "f4cc0a6f",
      "metadata": {
        "id": "f4cc0a6f"
      },
      "source": [
        "## 🧠 10. Funções para Avaliação com Threshold Ajustável"
      ]
    },
    {
      "cell_type": "code",
      "execution_count": 18,
      "id": "714226b9",
      "metadata": {
        "id": "714226b9"
      },
      "outputs": [],
      "source": [
        "from sklearn.metrics import confusion_matrix, classification_report, roc_auc_score, roc_curve, precision_recall_curve\n",
        "\n",
        "\n",
        "# Função para ajustar o threshold e calcular métricas\n",
        "def avaliar_threshold(y_true, y_proba, threshold=0.5):\n",
        "    y_pred_thr = (y_proba >= threshold).astype(int)\n",
        "\n",
        "    # Matriz de confusão\n",
        "    cm = confusion_matrix(y_true, y_pred_thr)\n",
        "\n",
        "    # Relatório de classificação\n",
        "    relatorio = classification_report(y_true, y_pred_thr, output_dict=True)\n",
        "\n",
        "    # AUC\n",
        "    auc = roc_auc_score(y_true, y_proba)\n",
        "\n",
        "    # Impressão dos resultados\n",
        "    print(f\"🔧 Threshold: {threshold}\")\n",
        "    print(\"📊 Matriz de Confusão:\")\n",
        "    print(cm)\n",
        "    print(\"\\n📋 Classification Report:\")\n",
        "    print(classification_report(y_true, y_pred_thr))\n",
        "    print(f\"🎯 AUC: {auc:.4f}\")\n",
        "\n",
        "    return y_pred_thr\n",
        "\n",
        "# Plot da Curva ROC\n",
        "def plotar_roc(y_true, y_proba):\n",
        "    fpr, tpr, _ = roc_curve(y_true, y_proba)\n",
        "    auc = roc_auc_score(y_true, y_proba)\n",
        "    plt.figure(figsize=(6, 4))\n",
        "    plt.plot(fpr, tpr, label=f'AUC = {auc:.4f}')\n",
        "    plt.plot([0, 1], [0, 1], 'k--')\n",
        "    plt.xlabel('Falso Positivo (FPR)')\n",
        "    plt.ylabel('Verdadeiro Positivo (TPR)')\n",
        "    plt.title('Curva ROC')\n",
        "    plt.legend()\n",
        "    plt.grid()\n",
        "    plt.tight_layout()\n",
        "    plt.show()\n",
        "\n",
        "# Plot da Curva Precision x Recall\n",
        "def plotar_precision_recall(y_true, y_proba):\n",
        "    precisions, recalls, thresholds = precision_recall_curve(y_true, y_proba)\n",
        "    plt.figure(figsize=(6, 4))\n",
        "    plt.plot(thresholds, precisions[:-1], label='Precision')\n",
        "    plt.plot(thresholds, recalls[:-1], label='Recall')\n",
        "    plt.xlabel(\"Threshold\")\n",
        "    plt.ylabel(\"Score\")\n",
        "    plt.title(\"Precision vs Recall\")\n",
        "    plt.legend()\n",
        "    plt.grid()\n",
        "    plt.tight_layout()\n",
        "    plt.show()\n"
      ]
    },
    {
      "cell_type": "code",
      "execution_count": 19,
      "id": "38d4724a",
      "metadata": {
        "colab": {
          "base_uri": "https://localhost:8080/",
          "height": 1000
        },
        "id": "38d4724a",
        "outputId": "759c76a3-3f7a-4f8b-a1c8-1e01359e8b17"
      },
      "outputs": [
        {
          "name": "stdout",
          "output_type": "stream",
          "text": [
            "🔧 Threshold: 0.35\n",
            "📊 Matriz de Confusão:\n",
            "[[1056  493]\n",
            " [  98  463]]\n",
            "\n",
            "📋 Classification Report:\n",
            "              precision    recall  f1-score   support\n",
            "\n",
            "           0       0.92      0.68      0.78      1549\n",
            "           1       0.48      0.83      0.61       561\n",
            "\n",
            "    accuracy                           0.72      2110\n",
            "   macro avg       0.70      0.75      0.70      2110\n",
            "weighted avg       0.80      0.72      0.74      2110\n",
            "\n",
            "🎯 AUC: 0.8307\n"
          ]
        },
        {
          "data": {
            "image/png": "[encoded data removed]",
            "text/plain": [
              "<Figure size 600x400 with 1 Axes>"
            ]
          },
          "metadata": {},
          "output_type": "display_data"
        },
        {
          "data": {
            "image/png": "[encoded data removed]",
            "text/plain": [
              "<Figure size 600x400 with 1 Axes>"
            ]
          },
          "metadata": {},
          "output_type": "display_data"
        }
      ],
      "source": [
        "# Avaliação com threshold padrão (0.5)\n",
        "y_pred_default = avaliar_threshold(y_test, y_proba_smote, threshold=0.35)\n",
        "\n",
        "# Plot das curvas\n",
        "plotar_roc(y_test, y_proba_smote)\n",
        "plotar_precision_recall(y_test, y_proba_smote)\n"
      ]
    },
    {
      "cell_type": "markdown",
      "id": "a40cce42",
      "metadata": {
        "id": "a40cce42"
      },
      "source": [
        "## 🎯 Objetivo\n",
        "### Encontrar o melhor threshold para o modelo otimizado com SMOTE, balanceando precisão, recall, F1-score, etc., de acordo com os objetivos de negócio."
      ]
    },
    {
      "cell_type": "markdown",
      "id": "44a97a7c",
      "metadata": {
        "id": "44a97a7c"
      },
      "source": [
        "### 1. Gerar as métricas para diversos thresholds\n",
        "Vamos testar thresholds entre 0.1 e 0.9 e ver como as métricas se comportam. A ideia é visualizar a evolução da performance do modelo conforme o limiar muda."
      ]
    },
    {
      "cell_type": "code",
      "execution_count": 20,
      "id": "f0b2c470",
      "metadata": {
        "id": "f0b2c470"
      },
      "outputs": [],
      "source": [
        "thresholds = np.arange(0.1, 0.9, 0.05)\n",
        "precisions = []\n",
        "recalls = []\n",
        "f1s = []\n",
        "accuracies = []\n",
        "\n",
        "for threshold in thresholds:\n",
        "    y_pred_threshold = (y_proba >= threshold).astype(int)\n",
        "    precisions.append(precision_score(y_test, y_pred_threshold))\n",
        "    recalls.append(recall_score(y_test, y_pred_threshold))\n",
        "    f1s.append(f1_score(y_test, y_pred_threshold))\n",
        "    accuracies.append(accuracy_score(y_test, y_pred_threshold))"
      ]
    },
    {
      "cell_type": "markdown",
      "id": "9e3dc59b",
      "metadata": {
        "id": "9e3dc59b"
      },
      "source": [
        "## 2. Plotar os resultados\n",
        "Para enxergar o “ponto ótimo” visualmente:"
      ]
    },
    {
      "cell_type": "code",
      "execution_count": 21,
      "id": "5080d232",
      "metadata": {
        "colab": {
          "base_uri": "https://localhost:8080/",
          "height": 566
        },
        "id": "5080d232",
        "outputId": "092f44fd-a9b2-47cf-985c-59290ef6e34b"
      },
      "outputs": [
        {
          "data": {
            "image/png": "[encoded data removed]",
            "text/plain": [
              "<Figure size 1200x600 with 1 Axes>"
            ]
          },
          "metadata": {},
          "output_type": "display_data"
        }
      ],
      "source": [
        "plt.figure(figsize=(12,6))\n",
        "plt.plot(thresholds, precisions, label='Precisão', marker='o')\n",
        "plt.plot(thresholds, recalls, label='Recall', marker='o')\n",
        "plt.plot(thresholds, f1s, label='F1 Score', marker='o')\n",
        "plt.plot(thresholds, accuracies, label='Acurácia', marker='o')\n",
        "plt.axvline(x=0.5, color='gray', linestyle='--', label='Threshold padrão (0.5)')\n",
        "plt.title('Métricas vs Threshold')\n",
        "plt.xlabel('Threshold')\n",
        "plt.ylabel('Valor da Métrica')\n",
        "plt.legend()\n",
        "plt.grid(True)\n",
        "plt.tight_layout()\n",
        "plt.show()"
      ]
    },
    {
      "cell_type": "markdown",
      "id": "ca9083d5",
      "metadata": {
        "id": "ca9083d5"
      },
      "source": [
        "## 3. Escolher o threshold ideal\n",
        "Após visualizar os gráficos, você vai escolher qual métrica priorizar:\n",
        "\n",
        "* Se você quer pegar o maior número possível de clientes propensos a sair (mesmo que erre alguns), foque em Recall.\n",
        "\n",
        "- Se quer ter mais certeza quando o modelo disser que vai sair, foque em Precisão.\n",
        "\n",
        "+ Se quer equilíbrio entre precisão e recall, foque em F1-score.\n"
      ]
    },
    {
      "cell_type": "markdown",
      "id": "41cb29a8",
      "metadata": {
        "id": "41cb29a8"
      },
      "source": [
        "## 4. Aplicar o melhor threshold escolhido\n",
        "Depois do gráfico, basta definirmos:"
      ]
    },
    {
      "cell_type": "code",
      "execution_count": 22,
      "id": "f8cbad58",
      "metadata": {
        "id": "f8cbad58"
      },
      "outputs": [],
      "source": [
        "melhor_threshold = 0.50  # (exemplo, você decide após o gráfico)\n",
        "\n",
        "y_pred_final = (y_proba >= melhor_threshold).astype(int)\n"
      ]
    },
    {
      "cell_type": "markdown",
      "id": "5Wa3n2GAV3cM",
      "metadata": {
        "id": "5Wa3n2GAV3cM"
      },
      "source": [
        "## Tabela de métricas por threshold"
      ]
    },
    {
      "cell_type": "code",
      "execution_count": 23,
      "id": "SAJEhn6MWFz9",
      "metadata": {
        "id": "SAJEhn6MWFz9"
      },
      "outputs": [],
      "source": [
        "# Lista de thresholds a serem testados\n",
        "thresholds = [0.3, 0.4, 0.5, 0.6, 0.7]"
      ]
    },
    {
      "cell_type": "code",
      "execution_count": 24,
      "id": "Cwvt7JmFWHLT",
      "metadata": {
        "id": "Cwvt7JmFWHLT"
      },
      "outputs": [],
      "source": [
        "# Lista para armazenar os resultados\n",
        "resultados = []"
      ]
    },
    {
      "cell_type": "code",
      "execution_count": 25,
      "id": "OV2HS5ahWJ5M",
      "metadata": {
        "id": "OV2HS5ahWJ5M"
      },
      "outputs": [],
      "source": [
        "# Loop pelos thresholds\n",
        "for t in thresholds:\n",
        "    y_pred_t = (y_proba_smote >= t).astype(int)\n",
        "\n",
        "    # Métricas\n",
        "    acuracia = accuracy_score(y_test, y_pred_t)\n",
        "    precisao = precision_score(y_test, y_pred_t, zero_division=0)\n",
        "    recall = recall_score(y_test, y_pred_t, zero_division=0)\n",
        "    f1 = f1_score(y_test, y_pred_t, zero_division=0)\n",
        "    roc_auc = roc_auc_score(y_test, y_proba_smote)\n",
        "\n",
        "    resultados.append({\n",
        "        'Threshold': t,\n",
        "        'Acurácia': round(acuracia, 4),\n",
        "        'Precisão': round(precisao, 4),\n",
        "        'Recall (Sensibilidade)': round(recall, 4),\n",
        "        'F1 Score': round(f1, 4),\n",
        "        'ROC AUC': round(roc_auc, 4)\n",
        "    })"
      ]
    },
    {
      "cell_type": "code",
      "execution_count": 26,
      "id": "La3Byi43WSWZ",
      "metadata": {
        "id": "La3Byi43WSWZ"
      },
      "outputs": [],
      "source": [
        "# Criar DataFrame com os resultados\n",
        "df_thresholds = pd.DataFrame(resultados)"
      ]
    },
    {
      "cell_type": "code",
      "execution_count": 27,
      "id": "Xq5Mj4hyWblD",
      "metadata": {
        "colab": {
          "base_uri": "https://localhost:8080/",
          "height": 206
        },
        "id": "Xq5Mj4hyWblD",
        "outputId": "00cb49cf-8980-4722-8e84-e01796d5d949"
      },
      "outputs": [
        {
          "data": {
            "application/vnd.microsoft.datawrangler.viewer.v0+json": {
              "columns": [
                {
                  "name": "index",
                  "rawType": "int64",
                  "type": "integer"
                },
                {
                  "name": "Threshold",
                  "rawType": "float64",
                  "type": "float"
                },
                {
                  "name": "Acurácia",
                  "rawType": "float64",
                  "type": "float"
                },
                {
                  "name": "Precisão",
                  "rawType": "float64",
                  "type": "float"
                },
                {
                  "name": "Recall (Sensibilidade)",
                  "rawType": "float64",
                  "type": "float"
                },
                {
                  "name": "F1 Score",
                  "rawType": "float64",
                  "type": "float"
                },
                {
                  "name": "ROC AUC",
                  "rawType": "float64",
                  "type": "float"
                }
              ],
              "ref": "60f82087-d786-4c17-9f58-a43dc10fb3cc",
              "rows": [
                [
                  "0",
                  "0.4",
                  "0.7412",
                  "0.5087",
                  "0.779",
                  "0.6155",
                  "0.8307"
                ],
                [
                  "1",
                  "0.5",
                  "0.7692",
                  "0.5535",
                  "0.6827",
                  "0.6113",
                  "0.8307"
                ],
                [
                  "2",
                  "0.3",
                  "0.6967",
                  "0.4618",
                  "0.8503",
                  "0.5985",
                  "0.8307"
                ],
                [
                  "3",
                  "0.6",
                  "0.7834",
                  "0.5981",
                  "0.5651",
                  "0.5811",
                  "0.8307"
                ],
                [
                  "4",
                  "0.7",
                  "0.7991",
                  "0.6846",
                  "0.4528",
                  "0.5451",
                  "0.8307"
                ]
              ],
              "shape": {
                "columns": 6,
                "rows": 5
              }
            },
            "text/html": [
              "<div>\n",
              "<style scoped>\n",
              "    .dataframe tbody tr th:only-of-type {\n",
              "        vertical-align: middle;\n",
              "    }\n",
              "\n",
              "    .dataframe tbody tr th {\n",
              "        vertical-align: top;\n",
              "    }\n",
              "\n",
              "    .dataframe thead th {\n",
              "        text-align: right;\n",
              "    }\n",
              "</style>\n",
              "<table border=\"1\" class=\"dataframe\">\n",
              "  <thead>\n",
              "    <tr style=\"text-align: right;\">\n",
              "      <th></th>\n",
              "      <th>Threshold</th>\n",
              "      <th>Acurácia</th>\n",
              "      <th>Precisão</th>\n",
              "      <th>Recall (Sensibilidade)</th>\n",
              "      <th>F1 Score</th>\n",
              "      <th>ROC AUC</th>\n",
              "    </tr>\n",
              "  </thead>\n",
              "  <tbody>\n",
              "    <tr>\n",
              "      <th>0</th>\n",
              "      <td>0.4</td>\n",
              "      <td>0.7412</td>\n",
              "      <td>0.5087</td>\n",
              "      <td>0.7790</td>\n",
              "      <td>0.6155</td>\n",
              "      <td>0.8307</td>\n",
              "    </tr>\n",
              "    <tr>\n",
              "      <th>1</th>\n",
              "      <td>0.5</td>\n",
              "      <td>0.7692</td>\n",
              "      <td>0.5535</td>\n",
              "      <td>0.6827</td>\n",
              "      <td>0.6113</td>\n",
              "      <td>0.8307</td>\n",
              "    </tr>\n",
              "    <tr>\n",
              "      <th>2</th>\n",
              "      <td>0.3</td>\n",
              "      <td>0.6967</td>\n",
              "      <td>0.4618</td>\n",
              "      <td>0.8503</td>\n",
              "      <td>0.5985</td>\n",
              "      <td>0.8307</td>\n",
              "    </tr>\n",
              "    <tr>\n",
              "      <th>3</th>\n",
              "      <td>0.6</td>\n",
              "      <td>0.7834</td>\n",
              "      <td>0.5981</td>\n",
              "      <td>0.5651</td>\n",
              "      <td>0.5811</td>\n",
              "      <td>0.8307</td>\n",
              "    </tr>\n",
              "    <tr>\n",
              "      <th>4</th>\n",
              "      <td>0.7</td>\n",
              "      <td>0.7991</td>\n",
              "      <td>0.6846</td>\n",
              "      <td>0.4528</td>\n",
              "      <td>0.5451</td>\n",
              "      <td>0.8307</td>\n",
              "    </tr>\n",
              "  </tbody>\n",
              "</table>\n",
              "</div>"
            ],
            "text/plain": [
              "   Threshold  Acurácia  Precisão  Recall (Sensibilidade)  F1 Score  ROC AUC\n",
              "0        0.4    0.7412    0.5087                  0.7790    0.6155   0.8307\n",
              "1        0.5    0.7692    0.5535                  0.6827    0.6113   0.8307\n",
              "2        0.3    0.6967    0.4618                  0.8503    0.5985   0.8307\n",
              "3        0.6    0.7834    0.5981                  0.5651    0.5811   0.8307\n",
              "4        0.7    0.7991    0.6846                  0.4528    0.5451   0.8307"
            ]
          },
          "execution_count": 27,
          "metadata": {},
          "output_type": "execute_result"
        }
      ],
      "source": [
        "# Mostrar tabela ordenada por F1 Score (ou qualquer outra métrica)\n",
        "df_thresholds.sort_values(by='F1 Score', ascending=False).reset_index(drop=True)"
      ]
    },
    {
      "cell_type": "markdown",
      "id": "WCAV2OvMXJQb",
      "metadata": {
        "id": "WCAV2OvMXJQb"
      },
      "source": [
        "| Threshold | Cenário                                | Interpretação de Negócio                                                                                                                     |\n",
        "| --------- | -------------------------------------- | -------------------------------------------------------------------------------------------------------------------------------------------- |\n",
        "| **0.3**   | **Alta Sensibilidade**                 | Capta quase todos os que vão sair, mas erra mais. Ideal para *retenção agressiva* (ex: campanha de retenção automática ou preventiva).       |\n",
        "| **0.4**   | **Equilíbrio entre recall e precisão** | Boa sensibilidade sem perder tanto na precisão. Ótimo ponto de partida para negociação.                                                      |\n",
        "| **0.5**   | **Threshold padrão**                   | Decente, mas perde muito em recall. Talvez não o ideal para churn, já que *deixar escapar é caro*.                                           |\n",
        "| **0.6**   | **Mais conservador**                   | Melhora a precisão, mas já começa a perder bastante em sensibilidade. Só útil se o custo de atuar for muito alto.                            |\n",
        "| **0.7**   | **Alta Precisão, Baixo Recall**        | Só atua quando tem quase certeza. Só recomendável se o custo de um falso positivo for absurdamente alto (o que raramente é o caso em churn). |\n"
      ]
    },
    {
      "cell_type": "markdown",
      "id": "dSyUpYVockUX",
      "metadata": {
        "id": "dSyUpYVockUX"
      },
      "source": [
        "## Visualizar as métricas comparativas por threshold"
      ]
    },
    {
      "cell_type": "code",
      "execution_count": 28,
      "id": "wUCyVyarXMmv",
      "metadata": {
        "id": "wUCyVyarXMmv"
      },
      "outputs": [],
      "source": [
        "# Tabela de métricas por threshold\n",
        "df_metrics = pd.DataFrame({\n",
        "    'Threshold': [0.3, 0.4, 0.5, 0.6, 0.7],\n",
        "    'Accuracy': [0.6967, 0.7412, 0.7692, 0.7834, 0.7991],\n",
        "    'Precision': [0.4618, 0.5087, 0.5535, 0.5981, 0.6846],\n",
        "    'Recall': [0.8503, 0.7790, 0.6827, 0.5651, 0.4528],\n",
        "    'F1 Score': [0.5985, 0.6155, 0.6113, 0.5811, 0.5451],\n",
        "    'ROC AUC': [0.8307, 0.8307, 0.8307, 0.8307, 0.8307]\n",
        "})"
      ]
    },
    {
      "cell_type": "code",
      "execution_count": 29,
      "id": "nzkHmkHmcOXh",
      "metadata": {
        "colab": {
          "base_uri": "https://localhost:8080/",
          "height": 565
        },
        "id": "nzkHmkHmcOXh",
        "outputId": "f481dbf4-0566-46fd-c416-09984e1207f1"
      },
      "outputs": [
        {
          "data": {
            "image/png": "[encoded data removed]",
            "text/plain": [
              "<Figure size 1200x600 with 1 Axes>"
            ]
          },
          "metadata": {},
          "output_type": "display_data"
        }
      ],
      "source": [
        "# Configurações do gráfico\n",
        "plt.figure(figsize=(12, 6))\n",
        "plt.plot(df_metrics['Threshold'], df_metrics['Accuracy'], marker='o', label='Acurácia')\n",
        "plt.plot(df_metrics['Threshold'], df_metrics['Precision'], marker='o', label='Precisão')\n",
        "plt.plot(df_metrics['Threshold'], df_metrics['Recall'], marker='o', label='Recall')\n",
        "plt.plot(df_metrics['Threshold'], df_metrics['F1 Score'], marker='o', label='F1 Score')\n",
        "plt.plot(df_metrics['Threshold'], df_metrics['ROC AUC'], linestyle='--', color='gray', label='ROC AUC (fixa)')\n",
        "\n",
        "# Detalhes visuais\n",
        "plt.title('Comparação de Métricas por Threshold', fontsize=16)\n",
        "plt.xlabel('Threshold', fontsize=12)\n",
        "plt.ylabel('Valor da Métrica', fontsize=12)\n",
        "plt.xticks(df_metrics['Threshold'])\n",
        "plt.ylim(0, 1)\n",
        "plt.grid(True, linestyle='--', alpha=0.5)\n",
        "plt.legend(loc='best')\n",
        "plt.tight_layout()\n",
        "\n",
        "plt.show()"
      ]
    },
    {
      "cell_type": "code",
      "execution_count": 30,
      "id": "23e0f419",
      "metadata": {},
      "outputs": [],
      "source": [
        "import os\n",
        "\n",
        "def salvar_resultados_modelos_em_csv(\n",
        "    df_iniciais=None,\n",
        "    df_ajustados=None,\n",
        "    df_thresholds=None,\n",
        "    df_importancias=None,\n",
        "    pasta_destino='resultados_churn'\n",
        "):\n",
        "    \"\"\"\n",
        "    Salva os DataFrames fornecidos em arquivos CSV na pasta especificada.\n",
        "    \n",
        "    Parâmetros:\n",
        "    - df_iniciais: DataFrame com os resultados dos modelos antes do SMOTE (opcional)\n",
        "    - df_ajustados: DataFrame com os resultados dos modelos após o SMOTE e ajuste de threshold (opcional)\n",
        "    - df_thresholds: DataFrame com as métricas por diferentes thresholds (opcional)\n",
        "    - df_importancias: DataFrame com a importância das features do modelo final (opcional)\n",
        "    - pasta_destino: nome da pasta onde os arquivos CSV serão salvos\n",
        "    \"\"\"\n",
        "\n",
        "    os.makedirs(pasta_destino, exist_ok=True)\n",
        "\n",
        "    if df_iniciais is not None:\n",
        "        df_iniciais.to_csv(os.path.join(pasta_destino, 'resultados_modelos_iniciais.csv'), index=False)\n",
        "        print(\"✔️ Arquivo 'resultados_modelos_iniciais.csv' salvo.\")\n",
        "\n",
        "    if df_ajustados is not None:\n",
        "        df_ajustados.to_csv(os.path.join(pasta_destino, 'resultados_modelos_ajustados.csv'), index=False)\n",
        "        print(\"✔️ Arquivo 'resultados_modelos_ajustados.csv' salvo.\")\n",
        "\n",
        "    if df_thresholds is not None:\n",
        "        df_thresholds.to_csv(os.path.join(pasta_destino, 'metricas_por_threshold.csv'), index=False)\n",
        "        print(\"✔️ Arquivo 'metricas_por_threshold.csv' salvo.\")\n",
        "\n",
        "    if df_importancias is not None:\n",
        "        df_importancias.to_csv(os.path.join(pasta_destino, 'feature_importance_modelo_final.csv'), index=False)\n",
        "        print(\"✔️ Arquivo 'feature_importance_modelo_final.csv' salvo.\")\n",
        "\n",
        "    print(f\"\\n📁 Todos os arquivos foram salvos na pasta: '{pasta_destino}'\")\n",
        "\n",
        "# Exemplo de uso:\n",
        "# salvar_resultados_modelos_em_csv(\n",
        "#     df_iniciais=df_resultados_iniciais,\n",
        "#     df_ajustados=df_resultados_ajustados,\n",
        "#     df_thresholds=df_metricas_threshold,\n",
        "#     df_importancias=df_feature_importance\n",
        "# )\n"
      ]
    }
  ],
  "metadata": {
    "colab": {
      "include_colab_link": true,
      "provenance": []
    },
    "kernelspec": {
      "display_name": "Python 3",
      "language": "python",
      "name": "python3"
    },
    "language_info": {
      "codemirror_mode": {
        "name": "ipython",
        "version": 3
      },
      "file_extension": ".py",
      "mimetype": "text/x-python",
      "name": "python",
      "nbconvert_exporter": "python",
      "pygments_lexer": "ipython3",
      "version": "3.10.11"
    }
  },
  "nbformat": 4,
  "nbformat_minor": 5
}
