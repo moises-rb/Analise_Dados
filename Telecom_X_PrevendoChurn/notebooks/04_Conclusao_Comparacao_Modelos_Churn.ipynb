{
 "cells": [
  {
   "cell_type": "markdown",
   "id": "f1f04b32",
   "metadata": {},
   "source": [
    "# Projeto de Previsão de Churn - Conclusão e Comparação Final dos Modelos\n",
    "\n",
    "Este notebook tem como objetivo apresentar os resultados consolidados da modelagem preditiva, comparando os modelos antes e depois das melhorias aplicadas (SMOTE, ajuste de threshold e análise de importância das variáveis). Ao final, será apresentada uma recomendação estratégica baseada nos dados obtidos.\n"
   ]
  },
  {
   "cell_type": "markdown",
   "id": "bf253930",
   "metadata": {},
   "source": [
    "## 1️⃣ Importações e Preparação do Ambiente"
   ]
  },
  {
   "cell_type": "code",
   "execution_count": 1,
   "id": "0d92296b",
   "metadata": {},
   "outputs": [],
   "source": [
    "# Bibliotecas principais\n",
    "import pandas as pd\n",
    "import numpy as np\n",
    "import matplotlib.pyplot as plt\n",
    "import seaborn as sns\n",
    "\n",
    "# Visualização de métricas\n",
    "from sklearn.metrics import (\n",
    "    classification_report, confusion_matrix, roc_auc_score, roc_curve\n",
    ")\n",
    "\n",
    "# Estilo de visualização\n",
    "sns.set(style='whitegrid')\n"
   ]
  },
  {
   "cell_type": "markdown",
   "id": "a37d96d9",
   "metadata": {},
   "source": [
    "## 2️⃣ Carregamento dos Arquivos de Resultados"
   ]
  },
  {
   "cell_type": "code",
   "execution_count": null,
   "id": "53136e5b",
   "metadata": {},
   "outputs": [],
   "source": [
    "# Modelos antes do SMOTE\n",
    "df_resultados_iniciais = pd.read_csv(\"resultados_modelos_iniciais.csv\")\n",
    "\n",
    "# Modelos após SMOTE e ajuste de threshold\n",
    "df_resultados_ajustados = pd.read_csv(\"resultados_modelos_ajustados.csv\")\n",
    "\n",
    "# Feature importance dos modelos finais (opcional)\n",
    "df_feature_importance = pd.read_csv(\"feature_importance_modelo_final.csv\")\n"
   ]
  },
  {
   "cell_type": "markdown",
   "id": "86c43e29",
   "metadata": {},
   "source": [
    "## 3️⃣ Tabela Comparativa: Antes vs Depois"
   ]
  },
  {
   "cell_type": "code",
   "execution_count": null,
   "id": "43fd1440",
   "metadata": {},
   "outputs": [],
   "source": [
    "# Unindo os dois DataFrames\n",
    "df_comparativo = pd.merge(\n",
    "    df_resultados_iniciais,\n",
    "    df_resultados_ajustados,\n",
    "    on=\"Modelo\",\n",
    "    suffixes=(\"_Antes\", \"_Depois\")\n",
    ")\n",
    "\n",
    "# Visualização\n",
    "df_comparativo\n"
   ]
  },
  {
   "cell_type": "markdown",
   "id": "fedccf50",
   "metadata": {},
   "source": [
    "## 4️⃣ Gráficos Comparativos (Side by Side)"
   ]
  },
  {
   "cell_type": "code",
   "execution_count": null,
   "id": "b19389be",
   "metadata": {},
   "outputs": [],
   "source": [
    "# Comparação de ROC AUC\n",
    "fig, ax = plt.subplots(figsize=(10, 6))\n",
    "x = np.arange(len(df_comparativo['Modelo']))\n",
    "largura = 0.35\n",
    "\n",
    "plt.bar(x - largura/2, df_comparativo['ROC_AUC_Antes'], width=largura, label='Antes')\n",
    "plt.bar(x + largura/2, df_comparativo['ROC_AUC_Depois'], width=largura, label='Depois')\n",
    "plt.xticks(x, df_comparativo['Modelo'])\n",
    "plt.ylabel('ROC AUC')\n",
    "plt.title('Comparação do ROC AUC dos Modelos')\n",
    "plt.legend()\n",
    "plt.show()\n"
   ]
  },
  {
   "cell_type": "markdown",
   "id": "18fe6363",
   "metadata": {},
   "source": [
    "## 5️⃣ Feature Importance (Top 10 variáveis mais relevantes)"
   ]
  },
  {
   "cell_type": "code",
   "execution_count": null,
   "id": "37f359a0",
   "metadata": {},
   "outputs": [],
   "source": [
    "# Top 10 features\n",
    "top_features = df_feature_importance.sort_values(by='Importancia', ascending=False).head(10)\n",
    "\n",
    "# Visualização\n",
    "plt.figure(figsize=(8,6))\n",
    "sns.barplot(y=top_features['Feature'], x=top_features['Importancia'], palette=\"viridis\")\n",
    "plt.title(\"Top 10 Features mais relevantes (modelo final)\")\n",
    "plt.xlabel(\"Importância\")\n",
    "plt.ylabel(\"Variável\")\n",
    "plt.show()\n"
   ]
  },
  {
   "cell_type": "markdown",
   "id": "1d3b9eee",
   "metadata": {},
   "source": [
    "## 6️⃣ Conclusão Executiva e Recomendações"
   ]
  },
  {
   "cell_type": "markdown",
   "id": "182e54b9",
   "metadata": {},
   "source": [
    "## 🧠 Conclusão\n",
    "\n",
    "- O modelo [Nome] obteve o melhor desempenho geral após a aplicação de SMOTE e ajuste de threshold.\n",
    "- A métrica de [ex: Recall] teve um aumento de X%, essencial para detecção de clientes propensos ao churn.\n",
    "- As variáveis mais influentes foram: [lista resumida].\n",
    "\n",
    "## 📌 Recomendações Estratégicas\n",
    "\n",
    "1. Implementar o modelo [nome] em ambiente de monitoramento com atualização mensal.\n",
    "2. Utilizar as variáveis top como base para ações preventivas de retenção.\n",
    "3. Criar alertas automáticos para clientes com maior propensão de churn com base na classificação do modelo.\n"
   ]
  }
 ],
 "metadata": {
  "kernelspec": {
   "display_name": "Python 3",
   "language": "python",
   "name": "python3"
  },
  "language_info": {
   "codemirror_mode": {
    "name": "ipython",
    "version": 3
   },
   "file_extension": ".py",
   "mimetype": "text/x-python",
   "name": "python",
   "nbconvert_exporter": "python",
   "pygments_lexer": "ipython3",
   "version": "3.13.2"
  }
 },
 "nbformat": 4,
 "nbformat_minor": 5
}
