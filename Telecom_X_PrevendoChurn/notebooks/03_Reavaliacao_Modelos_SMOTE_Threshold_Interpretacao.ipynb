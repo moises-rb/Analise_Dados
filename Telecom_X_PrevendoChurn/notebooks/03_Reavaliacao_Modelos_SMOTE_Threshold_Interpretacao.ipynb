{
 "cells": [
  {
   "cell_type": "code",
   "execution_count": 3,
   "id": "aefd5f47",
   "metadata": {},
   "outputs": [],
   "source": [
    "import joblib\n",
    "\n",
    "X_resampled_scaled = joblib.load(\"models/X_resampled_scaled.pkl\")\n",
    "y_resampled = joblib.load(\"models/y_resampled.pkl\")\n",
    "\n"
   ]
  }
 ],
 "metadata": {
  "kernelspec": {
   "display_name": "Python 3",
   "language": "python",
   "name": "python3"
  },
  "language_info": {
   "codemirror_mode": {
    "name": "ipython",
    "version": 3
   },
   "file_extension": ".py",
   "mimetype": "text/x-python",
   "name": "python",
   "nbconvert_exporter": "python",
   "pygments_lexer": "ipython3",
   "version": "3.10.11"
  }
 },
 "nbformat": 4,
 "nbformat_minor": 5
}
