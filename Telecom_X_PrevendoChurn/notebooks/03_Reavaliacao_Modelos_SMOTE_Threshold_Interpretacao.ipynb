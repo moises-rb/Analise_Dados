{
  "cells": [
    {
      "cell_type": "markdown",
      "id": "74aa997e",
      "metadata": {
        "colab_type": "text",
        "id": "view-in-github"
      },
      "source": [
        "<a href=\"https://colab.research.google.com/github/moises-rb/Analise_Dados/blob/main/Telecom_X_PrevendoChurn/notebooks/03_Reavaliacao_Modelos_SMOTE_Threshold_Interpretacao.ipynb\" target=\"_parent\"><img src=\"https://colab.research.google.com/assets/colab-badge.svg\" alt=\"Open In Colab\"/></a>"
      ]
    },
    {
      "cell_type": "code",
      "execution_count": 42,
      "id": "74f25043",
      "metadata": {},
      "outputs": [],
      "source": [
        "import pandas as pd\n",
        "import numpy as np\n",
        "import joblib\n",
        "import matplotlib.pyplot as plt\n",
        "import seaborn as sns\n",
        "import os\n"
      ]
    },
    {
      "cell_type": "code",
      "execution_count": 43,
      "id": "1e3c2192",
      "metadata": {},
      "outputs": [
        {
          "name": "stdout",
          "output_type": "stream",
          "text": [
            "✅ Dados de predição carregados com sucesso!\n",
            "   y_test  y_pred   y_proba\n",
            "0       0       0  0.081994\n",
            "1       0       1  0.526713\n",
            "2       0       0  0.103819\n",
            "3       0       0  0.018368\n",
            "4       0       0  0.303145\n"
          ]
        }
      ],
      "source": [
        "# 1. Caminho para o arquivo gerado no notebook 02\n",
        "caminho_arquivo = 'outputs_modelo_02/resultados_modelo_smote.csv'\n",
        "\n",
        "# 2. Verificar se o arquivo existe\n",
        "if not os.path.exists(caminho_arquivo):\n",
        "    raise FileNotFoundError(f\"Arquivo não encontrado em: {caminho_arquivo}\")\n",
        "\n",
        "# 3. Carregar o arquivo CSV com os resultados\n",
        "df_resultados = pd.read_csv(caminho_arquivo)\n",
        "\n",
        "# 4. Separar as variáveis\n",
        "y_test = df_resultados['y_test']\n",
        "y_pred = df_resultados['y_pred']\n",
        "y_proba = df_resultados['y_proba']\n",
        "\n",
        "# 5. Visualização inicial\n",
        "print(\"✅ Dados de predição carregados com sucesso!\")\n",
        "print(df_resultados.head())"
      ]
    },
    {
      "cell_type": "code",
      "execution_count": 44,
      "id": "aefd5f47",
      "metadata": {
        "id": "aefd5f47"
      },
      "outputs": [],
      "source": [
        "X_resampled_scaled = joblib.load(\"models/X_resampled_scaled.pkl\")\n",
        "y_resampled = joblib.load(\"models/y_resampled.pkl\")"
      ]
    },
    {
      "cell_type": "code",
      "execution_count": 45,
      "id": "7f6db3c6",
      "metadata": {},
      "outputs": [
        {
          "name": "stdout",
          "output_type": "stream",
          "text": [
            "✅ Dados e modelo importados com sucesso.\n"
          ]
        }
      ],
      "source": [
        "# Importar os dados\n",
        "X_test = pd.read_csv(\"export/X_test.csv\")\n",
        "y_test = pd.read_csv(\"export/y_test.csv\")[\"y_test\"]\n",
        "y_pred_smote = pd.read_csv(\"export/y_pred_smote.csv\")[\"y_pred_smote\"]\n",
        "y_proba_smote = pd.read_csv(\"export/y_proba_smote.csv\")[\"y_proba_smote\"]\n",
        "\n",
        "# Importar o modelo (opcional, para usar em novos testes)\n",
        "modelo_smote = joblib.load(\"export/modelo_smote.pkl\")\n",
        "\n",
        "print(\"✅ Dados e modelo importados com sucesso.\")"
      ]
    },
    {
      "cell_type": "code",
      "execution_count": 46,
      "id": "pRlYM53982Hx",
      "metadata": {
        "colab": {
          "base_uri": "https://localhost:8080/"
        },
        "id": "pRlYM53982Hx",
        "outputId": "6ee6b33d-bbd1-4e7f-db18-0a7c6142e0e7"
      },
      "outputs": [
        {
          "name": "stdout",
          "output_type": "stream",
          "text": [
            "X_resampled_scaled:\n",
            "Tipo: <class 'numpy.ndarray'>\n",
            "Shape: (7228, 31)\n",
            "\n",
            "y_resampled:\n",
            "Tipo: <class 'pandas.core.series.Series'>\n",
            "Shape: (7228,)\n",
            "\n",
            "Distribuição de classes:\n",
            "Churn\n",
            "1    3614\n",
            "0    3614\n",
            "Name: count, dtype: int64\n"
          ]
        }
      ],
      "source": [
        "# Verificar tipo e dimensões\n",
        "print(\"X_resampled_scaled:\")\n",
        "print(f\"Tipo: {type(X_resampled_scaled)}\")\n",
        "print(f\"Shape: {X_resampled_scaled.shape}\\n\")\n",
        "\n",
        "print(\"y_resampled:\")\n",
        "print(f\"Tipo: {type(y_resampled)}\")\n",
        "print(f\"Shape: {y_resampled.shape}\\n\")\n",
        "print(f\"Distribuição de classes:\\n{pd.Series(y_resampled).value_counts()}\")"
      ]
    },
    {
      "cell_type": "code",
      "execution_count": 47,
      "id": "BcDFk1iw9S2N",
      "metadata": {
        "colab": {
          "base_uri": "https://localhost:8080/",
          "height": 255
        },
        "id": "BcDFk1iw9S2N",
        "outputId": "d99edb2f-7a18-454b-91ae-a120f551e421"
      },
      "outputs": [
        {
          "data": {
            "application/vnd.microsoft.datawrangler.viewer.v0+json": {
              "columns": [
                {
                  "name": "index",
                  "rawType": "int64",
                  "type": "integer"
                },
                {
                  "name": "0",
                  "rawType": "float64",
                  "type": "float"
                },
                {
                  "name": "1",
                  "rawType": "float64",
                  "type": "float"
                },
                {
                  "name": "2",
                  "rawType": "float64",
                  "type": "float"
                },
                {
                  "name": "3",
                  "rawType": "float64",
                  "type": "float"
                },
                {
                  "name": "4",
                  "rawType": "float64",
                  "type": "float"
                },
                {
                  "name": "5",
                  "rawType": "float64",
                  "type": "float"
                },
                {
                  "name": "6",
                  "rawType": "float64",
                  "type": "float"
                },
                {
                  "name": "7",
                  "rawType": "float64",
                  "type": "float"
                },
                {
                  "name": "8",
                  "rawType": "float64",
                  "type": "float"
                },
                {
                  "name": "9",
                  "rawType": "float64",
                  "type": "float"
                },
                {
                  "name": "10",
                  "rawType": "float64",
                  "type": "float"
                },
                {
                  "name": "11",
                  "rawType": "float64",
                  "type": "float"
                },
                {
                  "name": "12",
                  "rawType": "float64",
                  "type": "float"
                },
                {
                  "name": "13",
                  "rawType": "float64",
                  "type": "float"
                },
                {
                  "name": "14",
                  "rawType": "float64",
                  "type": "float"
                },
                {
                  "name": "15",
                  "rawType": "float64",
                  "type": "float"
                },
                {
                  "name": "16",
                  "rawType": "float64",
                  "type": "float"
                },
                {
                  "name": "17",
                  "rawType": "float64",
                  "type": "float"
                },
                {
                  "name": "18",
                  "rawType": "float64",
                  "type": "float"
                },
                {
                  "name": "19",
                  "rawType": "float64",
                  "type": "float"
                },
                {
                  "name": "20",
                  "rawType": "float64",
                  "type": "float"
                },
                {
                  "name": "21",
                  "rawType": "float64",
                  "type": "float"
                },
                {
                  "name": "22",
                  "rawType": "float64",
                  "type": "float"
                },
                {
                  "name": "23",
                  "rawType": "float64",
                  "type": "float"
                },
                {
                  "name": "24",
                  "rawType": "float64",
                  "type": "float"
                },
                {
                  "name": "25",
                  "rawType": "float64",
                  "type": "float"
                },
                {
                  "name": "26",
                  "rawType": "float64",
                  "type": "float"
                },
                {
                  "name": "27",
                  "rawType": "float64",
                  "type": "float"
                },
                {
                  "name": "28",
                  "rawType": "float64",
                  "type": "float"
                },
                {
                  "name": "29",
                  "rawType": "float64",
                  "type": "float"
                },
                {
                  "name": "30",
                  "rawType": "float64",
                  "type": "float"
                }
              ],
              "ref": "f7ab1bbe-d3d2-4daa-bb20-36726fa90054",
              "rows": [
                [
                  "0",
                  "1.0075769349719612",
                  "-0.47761383716333655",
                  "1.128762662728858",
                  "1.6768344541694398",
                  "-0.4376703275900882",
                  "0.3297863128124377",
                  "0.7326098435182524",
                  "0.8619123910888866",
                  "-0.23371047434564607",
                  "0.8619123910888867",
                  "-0.32978631281243775",
                  "1.087064129373405",
                  "0.9372184261837677",
                  "-0.449068491870327",
                  "-0.449068491870327",
                  "-0.5933286674301715",
                  "-0.449068491870327",
                  "-0.7123226413358976",
                  "-0.449068491870327",
                  "-0.7448106843180323",
                  "-0.449068491870327",
                  "-0.5973786678158203",
                  "-0.449068491870327",
                  "1.1651047227624056",
                  "-0.449068491870327",
                  "1.148108297140473",
                  "-0.4594844995883216",
                  "-0.4647753766500998",
                  "-0.48599331156747294",
                  "1.0885798298467657",
                  "-0.5355444935534264"
                ],
                [
                  "1",
                  "-0.9968159779526635",
                  "-0.47761383716333655",
                  "1.128762662728858",
                  "-0.5992638212048741",
                  "0.8890274382306769",
                  "0.3297863128124377",
                  "0.7326098435182524",
                  "-1.6568698704037266",
                  "-0.5038955659971053",
                  "-1.6568698704037264",
                  "-0.32978631281243775",
                  "-0.9199089299141994",
                  "-1.0669871313476742",
                  "2.226831804286906",
                  "2.226831804286906",
                  "-0.5933286674301715",
                  "2.226831804286906",
                  "-0.7123226413358976",
                  "2.226831804286906",
                  "-0.7448106843180323",
                  "2.226831804286906",
                  "-0.5973786678158203",
                  "2.226831804286906",
                  "-0.8582919461772068",
                  "2.226831804286906",
                  "-0.8709979733537702",
                  "2.176351979002463",
                  "-0.4647753766500998",
                  "-0.48599331156747294",
                  "-0.9186280809013014",
                  "-0.5355444935534264"
                ],
                [
                  "2",
                  "-0.9968159779526635",
                  "-0.47761383716333655",
                  "-0.8914193469931949",
                  "-0.5992638212048741",
                  "-0.8522633794090771",
                  "0.3297863128124377",
                  "-1.3730945486062027",
                  "-1.6464473231147916",
                  "-0.8564597269781057",
                  "-1.6464473231147916",
                  "-0.32978631281243775",
                  "-0.9199089299141994",
                  "-1.0669871313476742",
                  "2.226831804286906",
                  "2.226831804286906",
                  "-0.5933286674301715",
                  "2.226831804286906",
                  "-0.7123226413358976",
                  "2.226831804286906",
                  "-0.7448106843180323",
                  "2.226831804286906",
                  "-0.5973786678158203",
                  "2.226831804286906",
                  "-0.8582919461772068",
                  "2.226831804286906",
                  "-0.8709979733537702",
                  "-0.4594844995883216",
                  "-0.4647753766500998",
                  "-0.48599331156747294",
                  "-0.9186280809013014",
                  "1.867258485592549"
                ],
                [
                  "3",
                  "1.0075769349719612",
                  "2.095870435288077",
                  "-0.8914193469931949",
                  "-0.5992638212048741",
                  "1.0963239641401716",
                  "0.3297863128124377",
                  "0.7326098435182524",
                  "0.7750578303477621",
                  "1.3256500030961456",
                  "0.7750578303477621",
                  "-0.32978631281243775",
                  "1.087064129373405",
                  "0.9372184261837677",
                  "-0.449068491870327",
                  "-0.449068491870327",
                  "-0.5933286674301715",
                  "-0.449068491870327",
                  "1.4038582265538961",
                  "-0.449068491870327",
                  "-0.7448106843180323",
                  "-0.449068491870327",
                  "-0.5973786678158203",
                  "-0.449068491870327",
                  "-0.8582919461772068",
                  "-0.449068491870327",
                  "1.148108297140473",
                  "-0.4594844995883216",
                  "-0.4647753766500998",
                  "-0.48599331156747294",
                  "1.0885798298467657",
                  "-0.5355444935534264"
                ],
                [
                  "4",
                  "1.0075769349719612",
                  "-0.47761383716333655",
                  "-0.8914193469931949",
                  "-0.5992638212048741",
                  "1.759672847050554",
                  "0.3297863128124377",
                  "0.7326098435182524",
                  "1.2597062792832374",
                  "2.3837304207146595",
                  "1.2597062792832376",
                  "-0.32978631281243775",
                  "1.087064129373405",
                  "0.9372184261837677",
                  "-0.449068491870327",
                  "-0.449068491870327",
                  "1.6854065122644515",
                  "-0.449068491870327",
                  "-0.7123226413358976",
                  "-0.449068491870327",
                  "-0.7448106843180323",
                  "-0.449068491870327",
                  "1.6739800965044056",
                  "-0.449068491870327",
                  "1.1651047227624056",
                  "-0.449068491870327",
                  "1.148108297140473",
                  "-0.4594844995883216",
                  "2.1515769772649485",
                  "2.057641486412031",
                  "-0.9186280809013014",
                  "-0.5355444935534264"
                ]
              ],
              "shape": {
                "columns": 31,
                "rows": 5
              }
            },
            "text/html": [
              "<div>\n",
              "<style scoped>\n",
              "    .dataframe tbody tr th:only-of-type {\n",
              "        vertical-align: middle;\n",
              "    }\n",
              "\n",
              "    .dataframe tbody tr th {\n",
              "        vertical-align: top;\n",
              "    }\n",
              "\n",
              "    .dataframe thead th {\n",
              "        text-align: right;\n",
              "    }\n",
              "</style>\n",
              "<table border=\"1\" class=\"dataframe\">\n",
              "  <thead>\n",
              "    <tr style=\"text-align: right;\">\n",
              "      <th></th>\n",
              "      <th>0</th>\n",
              "      <th>1</th>\n",
              "      <th>2</th>\n",
              "      <th>3</th>\n",
              "      <th>4</th>\n",
              "      <th>5</th>\n",
              "      <th>6</th>\n",
              "      <th>7</th>\n",
              "      <th>8</th>\n",
              "      <th>9</th>\n",
              "      <th>...</th>\n",
              "      <th>21</th>\n",
              "      <th>22</th>\n",
              "      <th>23</th>\n",
              "      <th>24</th>\n",
              "      <th>25</th>\n",
              "      <th>26</th>\n",
              "      <th>27</th>\n",
              "      <th>28</th>\n",
              "      <th>29</th>\n",
              "      <th>30</th>\n",
              "    </tr>\n",
              "  </thead>\n",
              "  <tbody>\n",
              "    <tr>\n",
              "      <th>0</th>\n",
              "      <td>1.007577</td>\n",
              "      <td>-0.477614</td>\n",
              "      <td>1.128763</td>\n",
              "      <td>1.676834</td>\n",
              "      <td>-0.437670</td>\n",
              "      <td>0.329786</td>\n",
              "      <td>0.732610</td>\n",
              "      <td>0.861912</td>\n",
              "      <td>-0.233710</td>\n",
              "      <td>0.861912</td>\n",
              "      <td>...</td>\n",
              "      <td>-0.597379</td>\n",
              "      <td>-0.449068</td>\n",
              "      <td>1.165105</td>\n",
              "      <td>-0.449068</td>\n",
              "      <td>1.148108</td>\n",
              "      <td>-0.459484</td>\n",
              "      <td>-0.464775</td>\n",
              "      <td>-0.485993</td>\n",
              "      <td>1.088580</td>\n",
              "      <td>-0.535544</td>\n",
              "    </tr>\n",
              "    <tr>\n",
              "      <th>1</th>\n",
              "      <td>-0.996816</td>\n",
              "      <td>-0.477614</td>\n",
              "      <td>1.128763</td>\n",
              "      <td>-0.599264</td>\n",
              "      <td>0.889027</td>\n",
              "      <td>0.329786</td>\n",
              "      <td>0.732610</td>\n",
              "      <td>-1.656870</td>\n",
              "      <td>-0.503896</td>\n",
              "      <td>-1.656870</td>\n",
              "      <td>...</td>\n",
              "      <td>-0.597379</td>\n",
              "      <td>2.226832</td>\n",
              "      <td>-0.858292</td>\n",
              "      <td>2.226832</td>\n",
              "      <td>-0.870998</td>\n",
              "      <td>2.176352</td>\n",
              "      <td>-0.464775</td>\n",
              "      <td>-0.485993</td>\n",
              "      <td>-0.918628</td>\n",
              "      <td>-0.535544</td>\n",
              "    </tr>\n",
              "    <tr>\n",
              "      <th>2</th>\n",
              "      <td>-0.996816</td>\n",
              "      <td>-0.477614</td>\n",
              "      <td>-0.891419</td>\n",
              "      <td>-0.599264</td>\n",
              "      <td>-0.852263</td>\n",
              "      <td>0.329786</td>\n",
              "      <td>-1.373095</td>\n",
              "      <td>-1.646447</td>\n",
              "      <td>-0.856460</td>\n",
              "      <td>-1.646447</td>\n",
              "      <td>...</td>\n",
              "      <td>-0.597379</td>\n",
              "      <td>2.226832</td>\n",
              "      <td>-0.858292</td>\n",
              "      <td>2.226832</td>\n",
              "      <td>-0.870998</td>\n",
              "      <td>-0.459484</td>\n",
              "      <td>-0.464775</td>\n",
              "      <td>-0.485993</td>\n",
              "      <td>-0.918628</td>\n",
              "      <td>1.867258</td>\n",
              "    </tr>\n",
              "    <tr>\n",
              "      <th>3</th>\n",
              "      <td>1.007577</td>\n",
              "      <td>2.095870</td>\n",
              "      <td>-0.891419</td>\n",
              "      <td>-0.599264</td>\n",
              "      <td>1.096324</td>\n",
              "      <td>0.329786</td>\n",
              "      <td>0.732610</td>\n",
              "      <td>0.775058</td>\n",
              "      <td>1.325650</td>\n",
              "      <td>0.775058</td>\n",
              "      <td>...</td>\n",
              "      <td>-0.597379</td>\n",
              "      <td>-0.449068</td>\n",
              "      <td>-0.858292</td>\n",
              "      <td>-0.449068</td>\n",
              "      <td>1.148108</td>\n",
              "      <td>-0.459484</td>\n",
              "      <td>-0.464775</td>\n",
              "      <td>-0.485993</td>\n",
              "      <td>1.088580</td>\n",
              "      <td>-0.535544</td>\n",
              "    </tr>\n",
              "    <tr>\n",
              "      <th>4</th>\n",
              "      <td>1.007577</td>\n",
              "      <td>-0.477614</td>\n",
              "      <td>-0.891419</td>\n",
              "      <td>-0.599264</td>\n",
              "      <td>1.759673</td>\n",
              "      <td>0.329786</td>\n",
              "      <td>0.732610</td>\n",
              "      <td>1.259706</td>\n",
              "      <td>2.383730</td>\n",
              "      <td>1.259706</td>\n",
              "      <td>...</td>\n",
              "      <td>1.673980</td>\n",
              "      <td>-0.449068</td>\n",
              "      <td>1.165105</td>\n",
              "      <td>-0.449068</td>\n",
              "      <td>1.148108</td>\n",
              "      <td>-0.459484</td>\n",
              "      <td>2.151577</td>\n",
              "      <td>2.057641</td>\n",
              "      <td>-0.918628</td>\n",
              "      <td>-0.535544</td>\n",
              "    </tr>\n",
              "  </tbody>\n",
              "</table>\n",
              "<p>5 rows × 31 columns</p>\n",
              "</div>"
            ],
            "text/plain": [
              "         0         1         2         3         4         5         6   \\\n",
              "0  1.007577 -0.477614  1.128763  1.676834 -0.437670  0.329786  0.732610   \n",
              "1 -0.996816 -0.477614  1.128763 -0.599264  0.889027  0.329786  0.732610   \n",
              "2 -0.996816 -0.477614 -0.891419 -0.599264 -0.852263  0.329786 -1.373095   \n",
              "3  1.007577  2.095870 -0.891419 -0.599264  1.096324  0.329786  0.732610   \n",
              "4  1.007577 -0.477614 -0.891419 -0.599264  1.759673  0.329786  0.732610   \n",
              "\n",
              "         7         8         9   ...        21        22        23        24  \\\n",
              "0  0.861912 -0.233710  0.861912  ... -0.597379 -0.449068  1.165105 -0.449068   \n",
              "1 -1.656870 -0.503896 -1.656870  ... -0.597379  2.226832 -0.858292  2.226832   \n",
              "2 -1.646447 -0.856460 -1.646447  ... -0.597379  2.226832 -0.858292  2.226832   \n",
              "3  0.775058  1.325650  0.775058  ... -0.597379 -0.449068 -0.858292 -0.449068   \n",
              "4  1.259706  2.383730  1.259706  ...  1.673980 -0.449068  1.165105 -0.449068   \n",
              "\n",
              "         25        26        27        28        29        30  \n",
              "0  1.148108 -0.459484 -0.464775 -0.485993  1.088580 -0.535544  \n",
              "1 -0.870998  2.176352 -0.464775 -0.485993 -0.918628 -0.535544  \n",
              "2 -0.870998 -0.459484 -0.464775 -0.485993 -0.918628  1.867258  \n",
              "3  1.148108 -0.459484 -0.464775 -0.485993  1.088580 -0.535544  \n",
              "4  1.148108 -0.459484  2.151577  2.057641 -0.918628 -0.535544  \n",
              "\n",
              "[5 rows x 31 columns]"
            ]
          },
          "execution_count": 47,
          "metadata": {},
          "output_type": "execute_result"
        }
      ],
      "source": [
        "pd.DataFrame(X_resampled_scaled).head()"
      ]
    },
    {
      "cell_type": "code",
      "execution_count": 48,
      "id": "Tb6gtMGcC5VM",
      "metadata": {
        "colab": {
          "base_uri": "https://localhost:8080/",
          "height": 80
        },
        "id": "Tb6gtMGcC5VM",
        "outputId": "a6768798-2bc2-4f54-f4e4-3db22e31dd37"
      },
      "outputs": [
        {
          "data": {
            "text/html": [
              "<style>#sk-container-id-7 {color: black;}#sk-container-id-7 pre{padding: 0;}#sk-container-id-7 div.sk-toggleable {background-color: white;}#sk-container-id-7 label.sk-toggleable__label {cursor: pointer;display: block;width: 100%;margin-bottom: 0;padding: 0.3em;box-sizing: border-box;text-align: center;}#sk-container-id-7 label.sk-toggleable__label-arrow:before {content: \"▸\";float: left;margin-right: 0.25em;color: #696969;}#sk-container-id-7 label.sk-toggleable__label-arrow:hover:before {color: black;}#sk-container-id-7 div.sk-estimator:hover label.sk-toggleable__label-arrow:before {color: black;}#sk-container-id-7 div.sk-toggleable__content {max-height: 0;max-width: 0;overflow: hidden;text-align: left;background-color: #f0f8ff;}#sk-container-id-7 div.sk-toggleable__content pre {margin: 0.2em;color: black;border-radius: 0.25em;background-color: #f0f8ff;}#sk-container-id-7 input.sk-toggleable__control:checked~div.sk-toggleable__content {max-height: 200px;max-width: 100%;overflow: auto;}#sk-container-id-7 input.sk-toggleable__control:checked~label.sk-toggleable__label-arrow:before {content: \"▾\";}#sk-container-id-7 div.sk-estimator input.sk-toggleable__control:checked~label.sk-toggleable__label {background-color: #d4ebff;}#sk-container-id-7 div.sk-label input.sk-toggleable__control:checked~label.sk-toggleable__label {background-color: #d4ebff;}#sk-container-id-7 input.sk-hidden--visually {border: 0;clip: rect(1px 1px 1px 1px);clip: rect(1px, 1px, 1px, 1px);height: 1px;margin: -1px;overflow: hidden;padding: 0;position: absolute;width: 1px;}#sk-container-id-7 div.sk-estimator {font-family: monospace;background-color: #f0f8ff;border: 1px dotted black;border-radius: 0.25em;box-sizing: border-box;margin-bottom: 0.5em;}#sk-container-id-7 div.sk-estimator:hover {background-color: #d4ebff;}#sk-container-id-7 div.sk-parallel-item::after {content: \"\";width: 100%;border-bottom: 1px solid gray;flex-grow: 1;}#sk-container-id-7 div.sk-label:hover label.sk-toggleable__label {background-color: #d4ebff;}#sk-container-id-7 div.sk-serial::before {content: \"\";position: absolute;border-left: 1px solid gray;box-sizing: border-box;top: 0;bottom: 0;left: 50%;z-index: 0;}#sk-container-id-7 div.sk-serial {display: flex;flex-direction: column;align-items: center;background-color: white;padding-right: 0.2em;padding-left: 0.2em;position: relative;}#sk-container-id-7 div.sk-item {position: relative;z-index: 1;}#sk-container-id-7 div.sk-parallel {display: flex;align-items: stretch;justify-content: center;background-color: white;position: relative;}#sk-container-id-7 div.sk-item::before, #sk-container-id-7 div.sk-parallel-item::before {content: \"\";position: absolute;border-left: 1px solid gray;box-sizing: border-box;top: 0;bottom: 0;left: 50%;z-index: -1;}#sk-container-id-7 div.sk-parallel-item {display: flex;flex-direction: column;z-index: 1;position: relative;background-color: white;}#sk-container-id-7 div.sk-parallel-item:first-child::after {align-self: flex-end;width: 50%;}#sk-container-id-7 div.sk-parallel-item:last-child::after {align-self: flex-start;width: 50%;}#sk-container-id-7 div.sk-parallel-item:only-child::after {width: 0;}#sk-container-id-7 div.sk-dashed-wrapped {border: 1px dashed gray;margin: 0 0.4em 0.5em 0.4em;box-sizing: border-box;padding-bottom: 0.4em;background-color: white;}#sk-container-id-7 div.sk-label label {font-family: monospace;font-weight: bold;display: inline-block;line-height: 1.2em;}#sk-container-id-7 div.sk-label-container {text-align: center;}#sk-container-id-7 div.sk-container {/* jupyter's `normalize.less` sets `[hidden] { display: none; }` but bootstrap.min.css set `[hidden] { display: none !important; }` so we also need the `!important` here to be able to override the default hidden behavior on the sphinx rendered scikit-learn.org. See: https://github.com/scikit-learn/scikit-learn/issues/21755 */display: inline-block !important;position: relative;}#sk-container-id-7 div.sk-text-repr-fallback {display: none;}</style><div id=\"sk-container-id-7\" class=\"sk-top-container\"><div class=\"sk-text-repr-fallback\"><pre>RandomForestClassifier(random_state=42)</pre><b>In a Jupyter environment, please rerun this cell to show the HTML representation or trust the notebook. <br />On GitHub, the HTML representation is unable to render, please try loading this page with nbviewer.org.</b></div><div class=\"sk-container\" hidden><div class=\"sk-item\"><div class=\"sk-estimator sk-toggleable\"><input class=\"sk-toggleable__control sk-hidden--visually\" id=\"sk-estimator-id-7\" type=\"checkbox\" checked><label for=\"sk-estimator-id-7\" class=\"sk-toggleable__label sk-toggleable__label-arrow\">RandomForestClassifier</label><div class=\"sk-toggleable__content\"><pre>RandomForestClassifier(random_state=42)</pre></div></div></div></div></div>"
            ],
            "text/plain": [
              "RandomForestClassifier(random_state=42)"
            ]
          },
          "execution_count": 48,
          "metadata": {},
          "output_type": "execute_result"
        }
      ],
      "source": [
        "from sklearn.ensemble import RandomForestClassifier\n",
        "from sklearn.metrics import classification_report, confusion_matrix\n",
        "\n",
        "# Treinamento com dados balanceados e escalados\n",
        "rf_model = RandomForestClassifier(random_state=42)\n",
        "rf_model.fit(X_resampled_scaled, y_resampled)"
      ]
    },
    {
      "cell_type": "code",
      "execution_count": 49,
      "id": "5wW_p-MEC8Qo",
      "metadata": {
        "id": "5wW_p-MEC8Qo"
      },
      "outputs": [],
      "source": [
        "# Previsão no conjunto balanceado (só pra ver como está)\n",
        "y_pred_rf = rf_model.predict(X_resampled_scaled)"
      ]
    },
    {
      "cell_type": "code",
      "execution_count": 50,
      "id": "Bv0FNGqPC_uH",
      "metadata": {
        "colab": {
          "base_uri": "https://localhost:8080/"
        },
        "id": "Bv0FNGqPC_uH",
        "outputId": "c011377b-6821-4d86-a74c-220c1ebf4057"
      },
      "outputs": [
        {
          "name": "stdout",
          "output_type": "stream",
          "text": [
            "Relatório de Classificação - Random Forest (dados balanceados):\n",
            "              precision    recall  f1-score   support\n",
            "\n",
            "           0       1.00      1.00      1.00      3614\n",
            "           1       1.00      1.00      1.00      3614\n",
            "\n",
            "    accuracy                           1.00      7228\n",
            "   macro avg       1.00      1.00      1.00      7228\n",
            "weighted avg       1.00      1.00      1.00      7228\n",
            "\n",
            "Matriz de Confusão:\n",
            "[[3609    5]\n",
            " [   2 3612]]\n"
          ]
        }
      ],
      "source": [
        "# Avaliação\n",
        "print(\"Relatório de Classificação - Random Forest (dados balanceados):\")\n",
        "print(classification_report(y_resampled, y_pred_rf))\n",
        "print(\"Matriz de Confusão:\")\n",
        "print(confusion_matrix(y_resampled, y_pred_rf))"
      ]
    },
    {
      "cell_type": "code",
      "execution_count": 51,
      "id": "f8WoTzphDjdQ",
      "metadata": {
        "id": "f8WoTzphDjdQ"
      },
      "outputs": [],
      "source": [
        "from sklearn.model_selection import train_test_split\n",
        "\n",
        "# Separando treino e teste no conjunto balanceado\n",
        "X_train, X_test, y_train, y_test = train_test_split(\n",
        "    X_resampled_scaled,\n",
        "    y_resampled,\n",
        "    test_size=0.2,\n",
        "    random_state=42,\n",
        "    stratify=y_resampled\n",
        ")"
      ]
    },
    {
      "cell_type": "code",
      "execution_count": 52,
      "id": "viMjsdoRDlLR",
      "metadata": {
        "colab": {
          "base_uri": "https://localhost:8080/",
          "height": 80
        },
        "id": "viMjsdoRDlLR",
        "outputId": "7d679e7b-2b2f-4ece-db96-d15c01467ca5"
      },
      "outputs": [
        {
          "data": {
            "text/html": [
              "<style>#sk-container-id-8 {color: black;}#sk-container-id-8 pre{padding: 0;}#sk-container-id-8 div.sk-toggleable {background-color: white;}#sk-container-id-8 label.sk-toggleable__label {cursor: pointer;display: block;width: 100%;margin-bottom: 0;padding: 0.3em;box-sizing: border-box;text-align: center;}#sk-container-id-8 label.sk-toggleable__label-arrow:before {content: \"▸\";float: left;margin-right: 0.25em;color: #696969;}#sk-container-id-8 label.sk-toggleable__label-arrow:hover:before {color: black;}#sk-container-id-8 div.sk-estimator:hover label.sk-toggleable__label-arrow:before {color: black;}#sk-container-id-8 div.sk-toggleable__content {max-height: 0;max-width: 0;overflow: hidden;text-align: left;background-color: #f0f8ff;}#sk-container-id-8 div.sk-toggleable__content pre {margin: 0.2em;color: black;border-radius: 0.25em;background-color: #f0f8ff;}#sk-container-id-8 input.sk-toggleable__control:checked~div.sk-toggleable__content {max-height: 200px;max-width: 100%;overflow: auto;}#sk-container-id-8 input.sk-toggleable__control:checked~label.sk-toggleable__label-arrow:before {content: \"▾\";}#sk-container-id-8 div.sk-estimator input.sk-toggleable__control:checked~label.sk-toggleable__label {background-color: #d4ebff;}#sk-container-id-8 div.sk-label input.sk-toggleable__control:checked~label.sk-toggleable__label {background-color: #d4ebff;}#sk-container-id-8 input.sk-hidden--visually {border: 0;clip: rect(1px 1px 1px 1px);clip: rect(1px, 1px, 1px, 1px);height: 1px;margin: -1px;overflow: hidden;padding: 0;position: absolute;width: 1px;}#sk-container-id-8 div.sk-estimator {font-family: monospace;background-color: #f0f8ff;border: 1px dotted black;border-radius: 0.25em;box-sizing: border-box;margin-bottom: 0.5em;}#sk-container-id-8 div.sk-estimator:hover {background-color: #d4ebff;}#sk-container-id-8 div.sk-parallel-item::after {content: \"\";width: 100%;border-bottom: 1px solid gray;flex-grow: 1;}#sk-container-id-8 div.sk-label:hover label.sk-toggleable__label {background-color: #d4ebff;}#sk-container-id-8 div.sk-serial::before {content: \"\";position: absolute;border-left: 1px solid gray;box-sizing: border-box;top: 0;bottom: 0;left: 50%;z-index: 0;}#sk-container-id-8 div.sk-serial {display: flex;flex-direction: column;align-items: center;background-color: white;padding-right: 0.2em;padding-left: 0.2em;position: relative;}#sk-container-id-8 div.sk-item {position: relative;z-index: 1;}#sk-container-id-8 div.sk-parallel {display: flex;align-items: stretch;justify-content: center;background-color: white;position: relative;}#sk-container-id-8 div.sk-item::before, #sk-container-id-8 div.sk-parallel-item::before {content: \"\";position: absolute;border-left: 1px solid gray;box-sizing: border-box;top: 0;bottom: 0;left: 50%;z-index: -1;}#sk-container-id-8 div.sk-parallel-item {display: flex;flex-direction: column;z-index: 1;position: relative;background-color: white;}#sk-container-id-8 div.sk-parallel-item:first-child::after {align-self: flex-end;width: 50%;}#sk-container-id-8 div.sk-parallel-item:last-child::after {align-self: flex-start;width: 50%;}#sk-container-id-8 div.sk-parallel-item:only-child::after {width: 0;}#sk-container-id-8 div.sk-dashed-wrapped {border: 1px dashed gray;margin: 0 0.4em 0.5em 0.4em;box-sizing: border-box;padding-bottom: 0.4em;background-color: white;}#sk-container-id-8 div.sk-label label {font-family: monospace;font-weight: bold;display: inline-block;line-height: 1.2em;}#sk-container-id-8 div.sk-label-container {text-align: center;}#sk-container-id-8 div.sk-container {/* jupyter's `normalize.less` sets `[hidden] { display: none; }` but bootstrap.min.css set `[hidden] { display: none !important; }` so we also need the `!important` here to be able to override the default hidden behavior on the sphinx rendered scikit-learn.org. See: https://github.com/scikit-learn/scikit-learn/issues/21755 */display: inline-block !important;position: relative;}#sk-container-id-8 div.sk-text-repr-fallback {display: none;}</style><div id=\"sk-container-id-8\" class=\"sk-top-container\"><div class=\"sk-text-repr-fallback\"><pre>RandomForestClassifier(random_state=42)</pre><b>In a Jupyter environment, please rerun this cell to show the HTML representation or trust the notebook. <br />On GitHub, the HTML representation is unable to render, please try loading this page with nbviewer.org.</b></div><div class=\"sk-container\" hidden><div class=\"sk-item\"><div class=\"sk-estimator sk-toggleable\"><input class=\"sk-toggleable__control sk-hidden--visually\" id=\"sk-estimator-id-8\" type=\"checkbox\" checked><label for=\"sk-estimator-id-8\" class=\"sk-toggleable__label sk-toggleable__label-arrow\">RandomForestClassifier</label><div class=\"sk-toggleable__content\"><pre>RandomForestClassifier(random_state=42)</pre></div></div></div></div></div>"
            ],
            "text/plain": [
              "RandomForestClassifier(random_state=42)"
            ]
          },
          "execution_count": 52,
          "metadata": {},
          "output_type": "execute_result"
        }
      ],
      "source": [
        "# Treinando novamente o modelo com dados de treino\n",
        "rf_model = RandomForestClassifier(random_state=42)\n",
        "rf_model.fit(X_train, y_train)"
      ]
    },
    {
      "cell_type": "code",
      "execution_count": 53,
      "id": "UPRPgMnlDph6",
      "metadata": {
        "id": "UPRPgMnlDph6"
      },
      "outputs": [],
      "source": [
        "# Fazendo previsões no conjunto de teste\n",
        "y_pred = rf_model.predict(X_test)"
      ]
    },
    {
      "cell_type": "code",
      "execution_count": 54,
      "id": "ImbCu8DSDsRJ",
      "metadata": {
        "colab": {
          "base_uri": "https://localhost:8080/"
        },
        "id": "ImbCu8DSDsRJ",
        "outputId": "8b348668-45cf-4899-fe9c-aa72110e1309"
      },
      "outputs": [
        {
          "name": "stdout",
          "output_type": "stream",
          "text": [
            "Relatório de Classificação - Teste com SMOTE + Escalonamento:\n",
            "              precision    recall  f1-score   support\n",
            "\n",
            "           0       0.86      0.82      0.84       723\n",
            "           1       0.83      0.87      0.85       723\n",
            "\n",
            "    accuracy                           0.84      1446\n",
            "   macro avg       0.84      0.84      0.84      1446\n",
            "weighted avg       0.84      0.84      0.84      1446\n",
            "\n",
            "Matriz de Confusão:\n",
            "[[590 133]\n",
            " [ 95 628]]\n"
          ]
        }
      ],
      "source": [
        "# Avaliando\n",
        "from sklearn.metrics import classification_report, confusion_matrix\n",
        "\n",
        "print(\"Relatório de Classificação - Teste com SMOTE + Escalonamento:\")\n",
        "print(classification_report(y_test, y_pred))\n",
        "print(\"Matriz de Confusão:\")\n",
        "print(confusion_matrix(y_test, y_pred))"
      ]
    },
    {
      "cell_type": "code",
      "execution_count": 55,
      "id": "KWhffhlGFHcW",
      "metadata": {
        "colab": {
          "base_uri": "https://localhost:8080/",
          "height": 80
        },
        "id": "KWhffhlGFHcW",
        "outputId": "63cee6ef-9740-46d6-9107-6798267b0d13"
      },
      "outputs": [],
      "source": [
        "from sklearn.tree import DecisionTreeClassifier\n",
        "from sklearn.metrics import classification_report, confusion_matrix, ConfusionMatrixDisplay\n",
        "import matplotlib.pyplot as plt\n",
        "\n",
        "# Carregar os dados com joblib\n",
        "X_resampled_scaled = joblib.load('models/X_resampled_scaled.pkl')\n",
        "y_resampled = joblib.load('models/y_resampled.pkl')\n",
        "X_test_scaled = joblib.load('models/X_test_scaled.pkl')"
      ]
    },
    {
      "cell_type": "code",
      "execution_count": 56,
      "id": "f726a761",
      "metadata": {},
      "outputs": [
        {
          "data": {
            "text/html": [
              "<style>#sk-container-id-9 {color: black;}#sk-container-id-9 pre{padding: 0;}#sk-container-id-9 div.sk-toggleable {background-color: white;}#sk-container-id-9 label.sk-toggleable__label {cursor: pointer;display: block;width: 100%;margin-bottom: 0;padding: 0.3em;box-sizing: border-box;text-align: center;}#sk-container-id-9 label.sk-toggleable__label-arrow:before {content: \"▸\";float: left;margin-right: 0.25em;color: #696969;}#sk-container-id-9 label.sk-toggleable__label-arrow:hover:before {color: black;}#sk-container-id-9 div.sk-estimator:hover label.sk-toggleable__label-arrow:before {color: black;}#sk-container-id-9 div.sk-toggleable__content {max-height: 0;max-width: 0;overflow: hidden;text-align: left;background-color: #f0f8ff;}#sk-container-id-9 div.sk-toggleable__content pre {margin: 0.2em;color: black;border-radius: 0.25em;background-color: #f0f8ff;}#sk-container-id-9 input.sk-toggleable__control:checked~div.sk-toggleable__content {max-height: 200px;max-width: 100%;overflow: auto;}#sk-container-id-9 input.sk-toggleable__control:checked~label.sk-toggleable__label-arrow:before {content: \"▾\";}#sk-container-id-9 div.sk-estimator input.sk-toggleable__control:checked~label.sk-toggleable__label {background-color: #d4ebff;}#sk-container-id-9 div.sk-label input.sk-toggleable__control:checked~label.sk-toggleable__label {background-color: #d4ebff;}#sk-container-id-9 input.sk-hidden--visually {border: 0;clip: rect(1px 1px 1px 1px);clip: rect(1px, 1px, 1px, 1px);height: 1px;margin: -1px;overflow: hidden;padding: 0;position: absolute;width: 1px;}#sk-container-id-9 div.sk-estimator {font-family: monospace;background-color: #f0f8ff;border: 1px dotted black;border-radius: 0.25em;box-sizing: border-box;margin-bottom: 0.5em;}#sk-container-id-9 div.sk-estimator:hover {background-color: #d4ebff;}#sk-container-id-9 div.sk-parallel-item::after {content: \"\";width: 100%;border-bottom: 1px solid gray;flex-grow: 1;}#sk-container-id-9 div.sk-label:hover label.sk-toggleable__label {background-color: #d4ebff;}#sk-container-id-9 div.sk-serial::before {content: \"\";position: absolute;border-left: 1px solid gray;box-sizing: border-box;top: 0;bottom: 0;left: 50%;z-index: 0;}#sk-container-id-9 div.sk-serial {display: flex;flex-direction: column;align-items: center;background-color: white;padding-right: 0.2em;padding-left: 0.2em;position: relative;}#sk-container-id-9 div.sk-item {position: relative;z-index: 1;}#sk-container-id-9 div.sk-parallel {display: flex;align-items: stretch;justify-content: center;background-color: white;position: relative;}#sk-container-id-9 div.sk-item::before, #sk-container-id-9 div.sk-parallel-item::before {content: \"\";position: absolute;border-left: 1px solid gray;box-sizing: border-box;top: 0;bottom: 0;left: 50%;z-index: -1;}#sk-container-id-9 div.sk-parallel-item {display: flex;flex-direction: column;z-index: 1;position: relative;background-color: white;}#sk-container-id-9 div.sk-parallel-item:first-child::after {align-self: flex-end;width: 50%;}#sk-container-id-9 div.sk-parallel-item:last-child::after {align-self: flex-start;width: 50%;}#sk-container-id-9 div.sk-parallel-item:only-child::after {width: 0;}#sk-container-id-9 div.sk-dashed-wrapped {border: 1px dashed gray;margin: 0 0.4em 0.5em 0.4em;box-sizing: border-box;padding-bottom: 0.4em;background-color: white;}#sk-container-id-9 div.sk-label label {font-family: monospace;font-weight: bold;display: inline-block;line-height: 1.2em;}#sk-container-id-9 div.sk-label-container {text-align: center;}#sk-container-id-9 div.sk-container {/* jupyter's `normalize.less` sets `[hidden] { display: none; }` but bootstrap.min.css set `[hidden] { display: none !important; }` so we also need the `!important` here to be able to override the default hidden behavior on the sphinx rendered scikit-learn.org. See: https://github.com/scikit-learn/scikit-learn/issues/21755 */display: inline-block !important;position: relative;}#sk-container-id-9 div.sk-text-repr-fallback {display: none;}</style><div id=\"sk-container-id-9\" class=\"sk-top-container\"><div class=\"sk-text-repr-fallback\"><pre>DecisionTreeClassifier(random_state=42)</pre><b>In a Jupyter environment, please rerun this cell to show the HTML representation or trust the notebook. <br />On GitHub, the HTML representation is unable to render, please try loading this page with nbviewer.org.</b></div><div class=\"sk-container\" hidden><div class=\"sk-item\"><div class=\"sk-estimator sk-toggleable\"><input class=\"sk-toggleable__control sk-hidden--visually\" id=\"sk-estimator-id-9\" type=\"checkbox\" checked><label for=\"sk-estimator-id-9\" class=\"sk-toggleable__label sk-toggleable__label-arrow\">DecisionTreeClassifier</label><div class=\"sk-toggleable__content\"><pre>DecisionTreeClassifier(random_state=42)</pre></div></div></div></div></div>"
            ],
            "text/plain": [
              "DecisionTreeClassifier(random_state=42)"
            ]
          },
          "execution_count": 56,
          "metadata": {},
          "output_type": "execute_result"
        }
      ],
      "source": [
        "# Treinar o modelo Decision Tree\n",
        "dt_model = DecisionTreeClassifier(random_state=42)\n",
        "dt_model.fit(X_resampled_scaled, y_resampled)"
      ]
    },
    {
      "cell_type": "code",
      "execution_count": 57,
      "id": "1s9anm7OFsaw",
      "metadata": {
        "colab": {
          "base_uri": "https://localhost:8080/",
          "height": 164
        },
        "id": "1s9anm7OFsaw",
        "outputId": "98a56bcd-b9a0-49ad-eb30-1e4e454bd473"
      },
      "outputs": [],
      "source": [
        "# Previsão nos dados de teste\n",
        "y_pred_dt = dt_model.predict(X_test)"
      ]
    },
    {
      "cell_type": "code",
      "execution_count": 58,
      "id": "f75fb6f2",
      "metadata": {},
      "outputs": [
        {
          "data": {
            "image/png": "[encoded data removed]",
            "text/plain": [
              "<Figure size 640x480 with 2 Axes>"
            ]
          },
          "metadata": {},
          "output_type": "display_data"
        }
      ],
      "source": [
        "# Matriz de Confusão\n",
        "cm = confusion_matrix(y_test, y_pred_dt)\n",
        "disp = ConfusionMatrixDisplay(confusion_matrix=cm, display_labels=dt_model.classes_)\n",
        "disp.plot(cmap='Blues')\n",
        "plt.title(\"Matriz de Confusão - Decision Tree\")\n",
        "plt.grid(False)\n",
        "plt.show()"
      ]
    },
    {
      "cell_type": "markdown",
      "id": "6b4737a6",
      "metadata": {},
      "source": [
        "## 📤 Geração dos arquivos no Notebook 03:"
      ]
    },
    {
      "cell_type": "markdown",
      "id": "83f8e1c4",
      "metadata": {},
      "source": [
        "📌 Classification Report do Modelo Final:"
      ]
    },
    {
      "cell_type": "code",
      "execution_count": 59,
      "id": "75815e55",
      "metadata": {},
      "outputs": [],
      "source": [
        "from sklearn.metrics import accuracy_score, roc_auc_score, roc_curve\n",
        "\n",
        "# Exportar classification report\n",
        "report_final = classification_report(y_test, y_pred, output_dict=True)\n",
        "df_report_final = pd.DataFrame(report_final).transpose()\n",
        "df_report_final.to_csv(\"comparacao_modelos/modelo_final_classification_report.csv\", index=True)\n"
      ]
    },
    {
      "cell_type": "markdown",
      "id": "1c92090c",
      "metadata": {},
      "source": [
        "📌 Métricas principais:"
      ]
    },
    {
      "cell_type": "code",
      "execution_count": 62,
      "id": "8ba8b076",
      "metadata": {},
      "outputs": [
        {
          "ename": "ValueError",
          "evalue": "Found input variables with inconsistent numbers of samples: [1446, 2110]",
          "output_type": "error",
          "traceback": [
            "\u001b[1;31m---------------------------------------------------------------------------\u001b[0m",
            "\u001b[1;31mValueError\u001b[0m                                Traceback (most recent call last)",
            "Cell \u001b[1;32mIn[62], line 4\u001b[0m\n\u001b[0;32m      1\u001b[0m \u001b[38;5;66;03m# Exportar métricas principais\u001b[39;00m\n\u001b[0;32m      2\u001b[0m final_metrics \u001b[38;5;241m=\u001b[39m {\n\u001b[0;32m      3\u001b[0m     \u001b[38;5;124m\"\u001b[39m\u001b[38;5;124maccuracy\u001b[39m\u001b[38;5;124m\"\u001b[39m: accuracy_score(y_test, y_pred),\n\u001b[1;32m----> 4\u001b[0m     \u001b[38;5;124m\"\u001b[39m\u001b[38;5;124mroc_auc\u001b[39m\u001b[38;5;124m\"\u001b[39m: \u001b[43mroc_auc_score\u001b[49m\u001b[43m(\u001b[49m\u001b[43my_test\u001b[49m\u001b[43m,\u001b[49m\u001b[43m \u001b[49m\u001b[43my_proba\u001b[49m\u001b[43m)\u001b[49m\n\u001b[0;32m      5\u001b[0m }\n\u001b[0;32m      6\u001b[0m df_metrics_final \u001b[38;5;241m=\u001b[39m pd\u001b[38;5;241m.\u001b[39mDataFrame([final_metrics])\n\u001b[0;32m      7\u001b[0m df_metrics_final\u001b[38;5;241m.\u001b[39mto_csv(\u001b[38;5;124m\"\u001b[39m\u001b[38;5;124mcomparacao_modelos/modelo_final_metrics.csv\u001b[39m\u001b[38;5;124m\"\u001b[39m, index\u001b[38;5;241m=\u001b[39m\u001b[38;5;28;01mFalse\u001b[39;00m)\n",
            "File \u001b[1;32mc:\\Users\\Usuario\\AppData\\Local\\Programs\\Python\\Python310\\lib\\site-packages\\sklearn\\utils\\_param_validation.py:214\u001b[0m, in \u001b[0;36mvalidate_params.<locals>.decorator.<locals>.wrapper\u001b[1;34m(*args, **kwargs)\u001b[0m\n\u001b[0;32m    208\u001b[0m \u001b[38;5;28;01mtry\u001b[39;00m:\n\u001b[0;32m    209\u001b[0m     \u001b[38;5;28;01mwith\u001b[39;00m config_context(\n\u001b[0;32m    210\u001b[0m         skip_parameter_validation\u001b[38;5;241m=\u001b[39m(\n\u001b[0;32m    211\u001b[0m             prefer_skip_nested_validation \u001b[38;5;129;01mor\u001b[39;00m global_skip_validation\n\u001b[0;32m    212\u001b[0m         )\n\u001b[0;32m    213\u001b[0m     ):\n\u001b[1;32m--> 214\u001b[0m         \u001b[38;5;28;01mreturn\u001b[39;00m func(\u001b[38;5;241m*\u001b[39margs, \u001b[38;5;241m*\u001b[39m\u001b[38;5;241m*\u001b[39mkwargs)\n\u001b[0;32m    215\u001b[0m \u001b[38;5;28;01mexcept\u001b[39;00m InvalidParameterError \u001b[38;5;28;01mas\u001b[39;00m e:\n\u001b[0;32m    216\u001b[0m     \u001b[38;5;66;03m# When the function is just a wrapper around an estimator, we allow\u001b[39;00m\n\u001b[0;32m    217\u001b[0m     \u001b[38;5;66;03m# the function to delegate validation to the estimator, but we replace\u001b[39;00m\n\u001b[0;32m    218\u001b[0m     \u001b[38;5;66;03m# the name of the estimator by the name of the function in the error\u001b[39;00m\n\u001b[0;32m    219\u001b[0m     \u001b[38;5;66;03m# message to avoid confusion.\u001b[39;00m\n\u001b[0;32m    220\u001b[0m     msg \u001b[38;5;241m=\u001b[39m re\u001b[38;5;241m.\u001b[39msub(\n\u001b[0;32m    221\u001b[0m         \u001b[38;5;124mr\u001b[39m\u001b[38;5;124m\"\u001b[39m\u001b[38;5;124mparameter of \u001b[39m\u001b[38;5;124m\\\u001b[39m\u001b[38;5;124mw+ must be\u001b[39m\u001b[38;5;124m\"\u001b[39m,\n\u001b[0;32m    222\u001b[0m         \u001b[38;5;124mf\u001b[39m\u001b[38;5;124m\"\u001b[39m\u001b[38;5;124mparameter of \u001b[39m\u001b[38;5;132;01m{\u001b[39;00mfunc\u001b[38;5;241m.\u001b[39m\u001b[38;5;18m__qualname__\u001b[39m\u001b[38;5;132;01m}\u001b[39;00m\u001b[38;5;124m must be\u001b[39m\u001b[38;5;124m\"\u001b[39m,\n\u001b[0;32m    223\u001b[0m         \u001b[38;5;28mstr\u001b[39m(e),\n\u001b[0;32m    224\u001b[0m     )\n",
            "File \u001b[1;32mc:\\Users\\Usuario\\AppData\\Local\\Programs\\Python\\Python310\\lib\\site-packages\\sklearn\\metrics\\_ranking.py:627\u001b[0m, in \u001b[0;36mroc_auc_score\u001b[1;34m(y_true, y_score, average, sample_weight, max_fpr, multi_class, labels)\u001b[0m\n\u001b[0;32m    625\u001b[0m     labels \u001b[38;5;241m=\u001b[39m np\u001b[38;5;241m.\u001b[39munique(y_true)\n\u001b[0;32m    626\u001b[0m     y_true \u001b[38;5;241m=\u001b[39m label_binarize(y_true, classes\u001b[38;5;241m=\u001b[39mlabels)[:, \u001b[38;5;241m0\u001b[39m]\n\u001b[1;32m--> 627\u001b[0m     \u001b[38;5;28;01mreturn\u001b[39;00m \u001b[43m_average_binary_score\u001b[49m\u001b[43m(\u001b[49m\n\u001b[0;32m    628\u001b[0m \u001b[43m        \u001b[49m\u001b[43mpartial\u001b[49m\u001b[43m(\u001b[49m\u001b[43m_binary_roc_auc_score\u001b[49m\u001b[43m,\u001b[49m\u001b[43m \u001b[49m\u001b[43mmax_fpr\u001b[49m\u001b[38;5;241;43m=\u001b[39;49m\u001b[43mmax_fpr\u001b[49m\u001b[43m)\u001b[49m\u001b[43m,\u001b[49m\n\u001b[0;32m    629\u001b[0m \u001b[43m        \u001b[49m\u001b[43my_true\u001b[49m\u001b[43m,\u001b[49m\n\u001b[0;32m    630\u001b[0m \u001b[43m        \u001b[49m\u001b[43my_score\u001b[49m\u001b[43m,\u001b[49m\n\u001b[0;32m    631\u001b[0m \u001b[43m        \u001b[49m\u001b[43maverage\u001b[49m\u001b[43m,\u001b[49m\n\u001b[0;32m    632\u001b[0m \u001b[43m        \u001b[49m\u001b[43msample_weight\u001b[49m\u001b[38;5;241;43m=\u001b[39;49m\u001b[43msample_weight\u001b[49m\u001b[43m,\u001b[49m\n\u001b[0;32m    633\u001b[0m \u001b[43m    \u001b[49m\u001b[43m)\u001b[49m\n\u001b[0;32m    634\u001b[0m \u001b[38;5;28;01melse\u001b[39;00m:  \u001b[38;5;66;03m# multilabel-indicator\u001b[39;00m\n\u001b[0;32m    635\u001b[0m     \u001b[38;5;28;01mreturn\u001b[39;00m _average_binary_score(\n\u001b[0;32m    636\u001b[0m         partial(_binary_roc_auc_score, max_fpr\u001b[38;5;241m=\u001b[39mmax_fpr),\n\u001b[0;32m    637\u001b[0m         y_true,\n\u001b[1;32m   (...)\u001b[0m\n\u001b[0;32m    640\u001b[0m         sample_weight\u001b[38;5;241m=\u001b[39msample_weight,\n\u001b[0;32m    641\u001b[0m     )\n",
            "File \u001b[1;32mc:\\Users\\Usuario\\AppData\\Local\\Programs\\Python\\Python310\\lib\\site-packages\\sklearn\\metrics\\_base.py:75\u001b[0m, in \u001b[0;36m_average_binary_score\u001b[1;34m(binary_metric, y_true, y_score, average, sample_weight)\u001b[0m\n\u001b[0;32m     72\u001b[0m     \u001b[38;5;28;01mraise\u001b[39;00m \u001b[38;5;167;01mValueError\u001b[39;00m(\u001b[38;5;124m\"\u001b[39m\u001b[38;5;132;01m{0}\u001b[39;00m\u001b[38;5;124m format is not supported\u001b[39m\u001b[38;5;124m\"\u001b[39m\u001b[38;5;241m.\u001b[39mformat(y_type))\n\u001b[0;32m     74\u001b[0m \u001b[38;5;28;01mif\u001b[39;00m y_type \u001b[38;5;241m==\u001b[39m \u001b[38;5;124m\"\u001b[39m\u001b[38;5;124mbinary\u001b[39m\u001b[38;5;124m\"\u001b[39m:\n\u001b[1;32m---> 75\u001b[0m     \u001b[38;5;28;01mreturn\u001b[39;00m \u001b[43mbinary_metric\u001b[49m\u001b[43m(\u001b[49m\u001b[43my_true\u001b[49m\u001b[43m,\u001b[49m\u001b[43m \u001b[49m\u001b[43my_score\u001b[49m\u001b[43m,\u001b[49m\u001b[43m \u001b[49m\u001b[43msample_weight\u001b[49m\u001b[38;5;241;43m=\u001b[39;49m\u001b[43msample_weight\u001b[49m\u001b[43m)\u001b[49m\n\u001b[0;32m     77\u001b[0m check_consistent_length(y_true, y_score, sample_weight)\n\u001b[0;32m     78\u001b[0m y_true \u001b[38;5;241m=\u001b[39m check_array(y_true)\n",
            "File \u001b[1;32mc:\\Users\\Usuario\\AppData\\Local\\Programs\\Python\\Python310\\lib\\site-packages\\sklearn\\metrics\\_ranking.py:387\u001b[0m, in \u001b[0;36m_binary_roc_auc_score\u001b[1;34m(y_true, y_score, sample_weight, max_fpr)\u001b[0m\n\u001b[0;32m    381\u001b[0m \u001b[38;5;28;01mif\u001b[39;00m \u001b[38;5;28mlen\u001b[39m(np\u001b[38;5;241m.\u001b[39munique(y_true)) \u001b[38;5;241m!=\u001b[39m \u001b[38;5;241m2\u001b[39m:\n\u001b[0;32m    382\u001b[0m     \u001b[38;5;28;01mraise\u001b[39;00m \u001b[38;5;167;01mValueError\u001b[39;00m(\n\u001b[0;32m    383\u001b[0m         \u001b[38;5;124m\"\u001b[39m\u001b[38;5;124mOnly one class present in y_true. ROC AUC score \u001b[39m\u001b[38;5;124m\"\u001b[39m\n\u001b[0;32m    384\u001b[0m         \u001b[38;5;124m\"\u001b[39m\u001b[38;5;124mis not defined in that case.\u001b[39m\u001b[38;5;124m\"\u001b[39m\n\u001b[0;32m    385\u001b[0m     )\n\u001b[1;32m--> 387\u001b[0m fpr, tpr, _ \u001b[38;5;241m=\u001b[39m \u001b[43mroc_curve\u001b[49m\u001b[43m(\u001b[49m\u001b[43my_true\u001b[49m\u001b[43m,\u001b[49m\u001b[43m \u001b[49m\u001b[43my_score\u001b[49m\u001b[43m,\u001b[49m\u001b[43m \u001b[49m\u001b[43msample_weight\u001b[49m\u001b[38;5;241;43m=\u001b[39;49m\u001b[43msample_weight\u001b[49m\u001b[43m)\u001b[49m\n\u001b[0;32m    388\u001b[0m \u001b[38;5;28;01mif\u001b[39;00m max_fpr \u001b[38;5;129;01mis\u001b[39;00m \u001b[38;5;28;01mNone\u001b[39;00m \u001b[38;5;129;01mor\u001b[39;00m max_fpr \u001b[38;5;241m==\u001b[39m \u001b[38;5;241m1\u001b[39m:\n\u001b[0;32m    389\u001b[0m     \u001b[38;5;28;01mreturn\u001b[39;00m auc(fpr, tpr)\n",
            "File \u001b[1;32mc:\\Users\\Usuario\\AppData\\Local\\Programs\\Python\\Python310\\lib\\site-packages\\sklearn\\utils\\_param_validation.py:187\u001b[0m, in \u001b[0;36mvalidate_params.<locals>.decorator.<locals>.wrapper\u001b[1;34m(*args, **kwargs)\u001b[0m\n\u001b[0;32m    185\u001b[0m global_skip_validation \u001b[38;5;241m=\u001b[39m get_config()[\u001b[38;5;124m\"\u001b[39m\u001b[38;5;124mskip_parameter_validation\u001b[39m\u001b[38;5;124m\"\u001b[39m]\n\u001b[0;32m    186\u001b[0m \u001b[38;5;28;01mif\u001b[39;00m global_skip_validation:\n\u001b[1;32m--> 187\u001b[0m     \u001b[38;5;28;01mreturn\u001b[39;00m func(\u001b[38;5;241m*\u001b[39margs, \u001b[38;5;241m*\u001b[39m\u001b[38;5;241m*\u001b[39mkwargs)\n\u001b[0;32m    189\u001b[0m func_sig \u001b[38;5;241m=\u001b[39m signature(func)\n\u001b[0;32m    191\u001b[0m \u001b[38;5;66;03m# Map *args/**kwargs to the function signature\u001b[39;00m\n",
            "File \u001b[1;32mc:\\Users\\Usuario\\AppData\\Local\\Programs\\Python\\Python310\\lib\\site-packages\\sklearn\\metrics\\_ranking.py:1095\u001b[0m, in \u001b[0;36mroc_curve\u001b[1;34m(y_true, y_score, pos_label, sample_weight, drop_intermediate)\u001b[0m\n\u001b[0;32m    993\u001b[0m \u001b[38;5;129m@validate_params\u001b[39m(\n\u001b[0;32m    994\u001b[0m     {\n\u001b[0;32m    995\u001b[0m         \u001b[38;5;124m\"\u001b[39m\u001b[38;5;124my_true\u001b[39m\u001b[38;5;124m\"\u001b[39m: [\u001b[38;5;124m\"\u001b[39m\u001b[38;5;124marray-like\u001b[39m\u001b[38;5;124m\"\u001b[39m],\n\u001b[1;32m   (...)\u001b[0m\n\u001b[0;32m   1004\u001b[0m     y_true, y_score, \u001b[38;5;241m*\u001b[39m, pos_label\u001b[38;5;241m=\u001b[39m\u001b[38;5;28;01mNone\u001b[39;00m, sample_weight\u001b[38;5;241m=\u001b[39m\u001b[38;5;28;01mNone\u001b[39;00m, drop_intermediate\u001b[38;5;241m=\u001b[39m\u001b[38;5;28;01mTrue\u001b[39;00m\n\u001b[0;32m   1005\u001b[0m ):\n\u001b[0;32m   1006\u001b[0m \u001b[38;5;250m    \u001b[39m\u001b[38;5;124;03m\"\"\"Compute Receiver operating characteristic (ROC).\u001b[39;00m\n\u001b[0;32m   1007\u001b[0m \n\u001b[0;32m   1008\u001b[0m \u001b[38;5;124;03m    Note: this implementation is restricted to the binary classification task.\u001b[39;00m\n\u001b[1;32m   (...)\u001b[0m\n\u001b[0;32m   1093\u001b[0m \u001b[38;5;124;03m    array([ inf, 0.8 , 0.4 , 0.35, 0.1 ])\u001b[39;00m\n\u001b[0;32m   1094\u001b[0m \u001b[38;5;124;03m    \"\"\"\u001b[39;00m\n\u001b[1;32m-> 1095\u001b[0m     fps, tps, thresholds \u001b[38;5;241m=\u001b[39m \u001b[43m_binary_clf_curve\u001b[49m\u001b[43m(\u001b[49m\n\u001b[0;32m   1096\u001b[0m \u001b[43m        \u001b[49m\u001b[43my_true\u001b[49m\u001b[43m,\u001b[49m\u001b[43m \u001b[49m\u001b[43my_score\u001b[49m\u001b[43m,\u001b[49m\u001b[43m \u001b[49m\u001b[43mpos_label\u001b[49m\u001b[38;5;241;43m=\u001b[39;49m\u001b[43mpos_label\u001b[49m\u001b[43m,\u001b[49m\u001b[43m \u001b[49m\u001b[43msample_weight\u001b[49m\u001b[38;5;241;43m=\u001b[39;49m\u001b[43msample_weight\u001b[49m\n\u001b[0;32m   1097\u001b[0m \u001b[43m    \u001b[49m\u001b[43m)\u001b[49m\n\u001b[0;32m   1099\u001b[0m     \u001b[38;5;66;03m# Attempt to drop thresholds corresponding to points in between and\u001b[39;00m\n\u001b[0;32m   1100\u001b[0m     \u001b[38;5;66;03m# collinear with other points. These are always suboptimal and do not\u001b[39;00m\n\u001b[0;32m   1101\u001b[0m     \u001b[38;5;66;03m# appear on a plotted ROC curve (and thus do not affect the AUC).\u001b[39;00m\n\u001b[1;32m   (...)\u001b[0m\n\u001b[0;32m   1106\u001b[0m     \u001b[38;5;66;03m# but does not drop more complicated cases like fps = [1, 3, 7],\u001b[39;00m\n\u001b[0;32m   1107\u001b[0m     \u001b[38;5;66;03m# tps = [1, 2, 4]; there is no harm in keeping too many thresholds.\u001b[39;00m\n\u001b[0;32m   1108\u001b[0m     \u001b[38;5;28;01mif\u001b[39;00m drop_intermediate \u001b[38;5;129;01mand\u001b[39;00m \u001b[38;5;28mlen\u001b[39m(fps) \u001b[38;5;241m>\u001b[39m \u001b[38;5;241m2\u001b[39m:\n",
            "File \u001b[1;32mc:\\Users\\Usuario\\AppData\\Local\\Programs\\Python\\Python310\\lib\\site-packages\\sklearn\\metrics\\_ranking.py:806\u001b[0m, in \u001b[0;36m_binary_clf_curve\u001b[1;34m(y_true, y_score, pos_label, sample_weight)\u001b[0m\n\u001b[0;32m    803\u001b[0m \u001b[38;5;28;01mif\u001b[39;00m \u001b[38;5;129;01mnot\u001b[39;00m (y_type \u001b[38;5;241m==\u001b[39m \u001b[38;5;124m\"\u001b[39m\u001b[38;5;124mbinary\u001b[39m\u001b[38;5;124m\"\u001b[39m \u001b[38;5;129;01mor\u001b[39;00m (y_type \u001b[38;5;241m==\u001b[39m \u001b[38;5;124m\"\u001b[39m\u001b[38;5;124mmulticlass\u001b[39m\u001b[38;5;124m\"\u001b[39m \u001b[38;5;129;01mand\u001b[39;00m pos_label \u001b[38;5;129;01mis\u001b[39;00m \u001b[38;5;129;01mnot\u001b[39;00m \u001b[38;5;28;01mNone\u001b[39;00m)):\n\u001b[0;32m    804\u001b[0m     \u001b[38;5;28;01mraise\u001b[39;00m \u001b[38;5;167;01mValueError\u001b[39;00m(\u001b[38;5;124m\"\u001b[39m\u001b[38;5;132;01m{0}\u001b[39;00m\u001b[38;5;124m format is not supported\u001b[39m\u001b[38;5;124m\"\u001b[39m\u001b[38;5;241m.\u001b[39mformat(y_type))\n\u001b[1;32m--> 806\u001b[0m \u001b[43mcheck_consistent_length\u001b[49m\u001b[43m(\u001b[49m\u001b[43my_true\u001b[49m\u001b[43m,\u001b[49m\u001b[43m \u001b[49m\u001b[43my_score\u001b[49m\u001b[43m,\u001b[49m\u001b[43m \u001b[49m\u001b[43msample_weight\u001b[49m\u001b[43m)\u001b[49m\n\u001b[0;32m    807\u001b[0m y_true \u001b[38;5;241m=\u001b[39m column_or_1d(y_true)\n\u001b[0;32m    808\u001b[0m y_score \u001b[38;5;241m=\u001b[39m column_or_1d(y_score)\n",
            "File \u001b[1;32mc:\\Users\\Usuario\\AppData\\Local\\Programs\\Python\\Python310\\lib\\site-packages\\sklearn\\utils\\validation.py:407\u001b[0m, in \u001b[0;36mcheck_consistent_length\u001b[1;34m(*arrays)\u001b[0m\n\u001b[0;32m    405\u001b[0m uniques \u001b[38;5;241m=\u001b[39m np\u001b[38;5;241m.\u001b[39munique(lengths)\n\u001b[0;32m    406\u001b[0m \u001b[38;5;28;01mif\u001b[39;00m \u001b[38;5;28mlen\u001b[39m(uniques) \u001b[38;5;241m>\u001b[39m \u001b[38;5;241m1\u001b[39m:\n\u001b[1;32m--> 407\u001b[0m     \u001b[38;5;28;01mraise\u001b[39;00m \u001b[38;5;167;01mValueError\u001b[39;00m(\n\u001b[0;32m    408\u001b[0m         \u001b[38;5;124m\"\u001b[39m\u001b[38;5;124mFound input variables with inconsistent numbers of samples: \u001b[39m\u001b[38;5;132;01m%r\u001b[39;00m\u001b[38;5;124m\"\u001b[39m\n\u001b[0;32m    409\u001b[0m         \u001b[38;5;241m%\u001b[39m [\u001b[38;5;28mint\u001b[39m(l) \u001b[38;5;28;01mfor\u001b[39;00m l \u001b[38;5;129;01min\u001b[39;00m lengths]\n\u001b[0;32m    410\u001b[0m     )\n",
            "\u001b[1;31mValueError\u001b[0m: Found input variables with inconsistent numbers of samples: [1446, 2110]"
          ]
        }
      ],
      "source": [
        "# Exportar métricas principais\n",
        "final_metrics = {\n",
        "    \"accuracy\": accuracy_score(y_test, y_pred),\n",
        "    \"roc_auc\": roc_auc_score(y_test, y_proba)\n",
        "}\n",
        "df_metrics_final = pd.DataFrame([final_metrics])\n",
        "df_metrics_final.to_csv(\"comparacao_modelos/modelo_final_metrics.csv\", index=False)\n"
      ]
    },
    {
      "cell_type": "markdown",
      "id": "adee94e0",
      "metadata": {},
      "source": [
        "📌 Dados da curva ROC:"
      ]
    },
    {
      "cell_type": "code",
      "execution_count": null,
      "id": "445491ad",
      "metadata": {},
      "outputs": [
        {
          "name": "stdout",
          "output_type": "stream",
          "text": [
            "✅ Arquivos de comparação do modelo final salvos com sucesso.\n"
          ]
        }
      ],
      "source": [
        "# Exportar dados da curva ROC\n",
        "fpr_final, tpr_final, thresholds_final = roc_curve(y_test, y_proba)\n",
        "roc_df_final = pd.DataFrame({\n",
        "    'fpr': fpr_final,\n",
        "    'tpr': tpr_final,\n",
        "    'threshold': thresholds_final\n",
        "})\n",
        "roc_df_final.to_csv(\"comparacao_modelos/modelo_final_roc_data.csv\", index=False)\n",
        "\n",
        "print(\"✅ Arquivos de comparação do modelo final salvos com sucesso.\")"
      ]
    }
  ],
  "metadata": {
    "colab": {
      "include_colab_link": true,
      "provenance": []
    },
    "kernelspec": {
      "display_name": "Python 3",
      "language": "python",
      "name": "python3"
    },
    "language_info": {
      "codemirror_mode": {
        "name": "ipython",
        "version": 3
      },
      "file_extension": ".py",
      "mimetype": "text/x-python",
      "name": "python",
      "nbconvert_exporter": "python",
      "pygments_lexer": "ipython3",
      "version": "3.10.11"
    }
  },
  "nbformat": 4,
  "nbformat_minor": 5
}
