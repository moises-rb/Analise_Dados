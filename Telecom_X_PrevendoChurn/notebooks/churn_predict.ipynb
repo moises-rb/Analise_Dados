{
 "cells": [
  {
   "cell_type": "markdown",
   "id": "5ec13d3d",
   "metadata": {},
   "source": [
    "## Importando bibliotecas"
   ]
  },
  {
   "cell_type": "code",
   "execution_count": 1,
   "id": "1e4133c8",
   "metadata": {},
   "outputs": [],
   "source": [
    "import pandas as pd"
   ]
  },
  {
   "cell_type": "markdown",
   "id": "a023fd6c",
   "metadata": {},
   "source": [
    "## Obtendo Dataset"
   ]
  },
  {
   "cell_type": "code",
   "execution_count": 7,
   "id": "db491ffc",
   "metadata": {},
   "outputs": [],
   "source": [
    "# Carregando o DataFrame completo\n",
    "url = 'https://raw.githubusercontent.com/moises-rb/Analise_Dados/refs/heads/main/Telecom_X_PrevendoChurn/dados/df_final.csv'\n",
    "dados = pd.read_csv(url)"
   ]
  },
  {
   "cell_type": "markdown",
   "id": "228fa12e",
   "metadata": {},
   "source": [
    "## Análise Preliminar no Dataset"
   ]
  },
  {
   "cell_type": "code",
   "execution_count": 13,
   "id": "21ae87b4",
   "metadata": {},
   "outputs": [
    {
     "name": "stdout",
     "output_type": "stream",
     "text": [
      "\n",
      "### DADOS INICIAIS ###\n",
      "   customerID Churn  gender  SeniorCitizen Partner Dependents  tenure  \\\n",
      "0  0002-ORFBO    No  Female              0     Yes        Yes       9   \n",
      "1  0003-MKNFE    No    Male              0      No         No       9   \n",
      "2  0004-TLHLJ   Yes    Male              0      No         No       4   \n",
      "3  0011-IGKFF   Yes    Male              1     Yes         No      13   \n",
      "4  0013-EXCHZ   Yes  Female              1     Yes         No       3   \n",
      "\n",
      "  PhoneService MultipleLines InternetService  ... TechSupport StreamingTV  \\\n",
      "0          Yes            No             DSL  ...         Yes         Yes   \n",
      "1          Yes           Yes             DSL  ...          No          No   \n",
      "2          Yes            No     Fiber optic  ...          No          No   \n",
      "3          Yes            No     Fiber optic  ...          No         Yes   \n",
      "4          Yes            No     Fiber optic  ...         Yes         Yes   \n",
      "\n",
      "  StreamingMovies        Contract PaperlessBilling     PaymentMethod  \\\n",
      "0              No        One year              Yes      Mailed check   \n",
      "1             Yes  Month-to-month               No      Mailed check   \n",
      "2              No  Month-to-month              Yes  Electronic check   \n",
      "3             Yes  Month-to-month              Yes  Electronic check   \n",
      "4              No  Month-to-month              Yes      Mailed check   \n",
      "\n",
      "  MonthlyCharges TotalCharges  TenureGroup  DailyCharges  \n",
      "0           65.6       593.30   0-12 Meses      2.186667  \n",
      "1           59.9       542.40   0-12 Meses      1.996667  \n",
      "2           73.9       280.85   0-12 Meses      2.463333  \n",
      "3           98.0      1237.85  13-24 Meses      3.266667  \n",
      "4           83.9       267.40   0-12 Meses      2.796667  \n",
      "\n",
      "[5 rows x 23 columns]\n",
      "\n",
      "--- INFORMAÇÕES DO DATAFRAME ---\n",
      "\n",
      "<class 'pandas.core.frame.DataFrame'>\n",
      "RangeIndex: 7032 entries, 0 to 7031\n",
      "Data columns (total 23 columns):\n",
      " #   Column            Non-Null Count  Dtype  \n",
      "---  ------            --------------  -----  \n",
      " 0   customerID        7032 non-null   object \n",
      " 1   Churn             7032 non-null   object \n",
      " 2   gender            7032 non-null   object \n",
      " 3   SeniorCitizen     7032 non-null   int64  \n",
      " 4   Partner           7032 non-null   object \n",
      " 5   Dependents        7032 non-null   object \n",
      " 6   tenure            7032 non-null   int64  \n",
      " 7   PhoneService      7032 non-null   object \n",
      " 8   MultipleLines     7032 non-null   object \n",
      " 9   InternetService   7032 non-null   object \n",
      " 10  OnlineSecurity    7032 non-null   object \n",
      " 11  OnlineBackup      7032 non-null   object \n",
      " 12  DeviceProtection  7032 non-null   object \n",
      " 13  TechSupport       7032 non-null   object \n",
      " 14  StreamingTV       7032 non-null   object \n",
      " 15  StreamingMovies   7032 non-null   object \n",
      " 16  Contract          7032 non-null   object \n",
      " 17  PaperlessBilling  7032 non-null   object \n",
      " 18  PaymentMethod     7032 non-null   object \n",
      " 19  MonthlyCharges    7032 non-null   float64\n",
      " 20  TotalCharges      7032 non-null   float64\n",
      " 21  TenureGroup       7032 non-null   object \n",
      " 22  DailyCharges      7032 non-null   float64\n",
      "dtypes: float64(3), int64(2), object(18)\n",
      "memory usage: 1.2+ MB\n",
      "None\n",
      "\n",
      "=== ESTATÍSTICAS DESCRITIVAS ===\n",
      "\n"
     ]
    },
    {
     "data": {
      "application/vnd.microsoft.datawrangler.viewer.v0+json": {
       "columns": [
        {
         "name": "index",
         "rawType": "object",
         "type": "string"
        },
        {
         "name": "SeniorCitizen",
         "rawType": "float64",
         "type": "float"
        },
        {
         "name": "tenure",
         "rawType": "float64",
         "type": "float"
        },
        {
         "name": "MonthlyCharges",
         "rawType": "float64",
         "type": "float"
        },
        {
         "name": "TotalCharges",
         "rawType": "float64",
         "type": "float"
        },
        {
         "name": "DailyCharges",
         "rawType": "float64",
         "type": "float"
        }
       ],
       "ref": "d4951234-5c7c-4fba-aaf0-e2f6fd643fe0",
       "rows": [
        [
         "count",
         "7032.0",
         "7032.0",
         "7032.0",
         "7032.0",
         "7032.0"
        ],
        [
         "mean",
         "0.16240045506257111",
         "32.421786120591584",
         "64.79820819112628",
         "2283.3004408418656",
         "2.1599402730375425"
        ],
        [
         "std",
         "0.3688439967571051",
         "24.545259709263256",
         "30.085973884049842",
         "2266.771361883145",
         "1.0028657961349947"
        ],
        [
         "min",
         "0.0",
         "1.0",
         "18.25",
         "18.8",
         "0.6083333333333333"
        ],
        [
         "25%",
         "0.0",
         "9.0",
         "35.5875",
         "401.45",
         "1.18625"
        ],
        [
         "50%",
         "0.0",
         "29.0",
         "70.35",
         "1397.475",
         "2.345"
        ],
        [
         "75%",
         "0.0",
         "55.0",
         "89.8625",
         "3794.7375",
         "2.995416666666667"
        ],
        [
         "max",
         "1.0",
         "72.0",
         "118.75",
         "8684.8",
         "3.9583333333333335"
        ]
       ],
       "shape": {
        "columns": 5,
        "rows": 8
       }
      },
      "text/html": [
       "<div>\n",
       "<style scoped>\n",
       "    .dataframe tbody tr th:only-of-type {\n",
       "        vertical-align: middle;\n",
       "    }\n",
       "\n",
       "    .dataframe tbody tr th {\n",
       "        vertical-align: top;\n",
       "    }\n",
       "\n",
       "    .dataframe thead th {\n",
       "        text-align: right;\n",
       "    }\n",
       "</style>\n",
       "<table border=\"1\" class=\"dataframe\">\n",
       "  <thead>\n",
       "    <tr style=\"text-align: right;\">\n",
       "      <th></th>\n",
       "      <th>SeniorCitizen</th>\n",
       "      <th>tenure</th>\n",
       "      <th>MonthlyCharges</th>\n",
       "      <th>TotalCharges</th>\n",
       "      <th>DailyCharges</th>\n",
       "    </tr>\n",
       "  </thead>\n",
       "  <tbody>\n",
       "    <tr>\n",
       "      <th>count</th>\n",
       "      <td>7032.000000</td>\n",
       "      <td>7032.000000</td>\n",
       "      <td>7032.000000</td>\n",
       "      <td>7032.000000</td>\n",
       "      <td>7032.000000</td>\n",
       "    </tr>\n",
       "    <tr>\n",
       "      <th>mean</th>\n",
       "      <td>0.162400</td>\n",
       "      <td>32.421786</td>\n",
       "      <td>64.798208</td>\n",
       "      <td>2283.300441</td>\n",
       "      <td>2.159940</td>\n",
       "    </tr>\n",
       "    <tr>\n",
       "      <th>std</th>\n",
       "      <td>0.368844</td>\n",
       "      <td>24.545260</td>\n",
       "      <td>30.085974</td>\n",
       "      <td>2266.771362</td>\n",
       "      <td>1.002866</td>\n",
       "    </tr>\n",
       "    <tr>\n",
       "      <th>min</th>\n",
       "      <td>0.000000</td>\n",
       "      <td>1.000000</td>\n",
       "      <td>18.250000</td>\n",
       "      <td>18.800000</td>\n",
       "      <td>0.608333</td>\n",
       "    </tr>\n",
       "    <tr>\n",
       "      <th>25%</th>\n",
       "      <td>0.000000</td>\n",
       "      <td>9.000000</td>\n",
       "      <td>35.587500</td>\n",
       "      <td>401.450000</td>\n",
       "      <td>1.186250</td>\n",
       "    </tr>\n",
       "    <tr>\n",
       "      <th>50%</th>\n",
       "      <td>0.000000</td>\n",
       "      <td>29.000000</td>\n",
       "      <td>70.350000</td>\n",
       "      <td>1397.475000</td>\n",
       "      <td>2.345000</td>\n",
       "    </tr>\n",
       "    <tr>\n",
       "      <th>75%</th>\n",
       "      <td>0.000000</td>\n",
       "      <td>55.000000</td>\n",
       "      <td>89.862500</td>\n",
       "      <td>3794.737500</td>\n",
       "      <td>2.995417</td>\n",
       "    </tr>\n",
       "    <tr>\n",
       "      <th>max</th>\n",
       "      <td>1.000000</td>\n",
       "      <td>72.000000</td>\n",
       "      <td>118.750000</td>\n",
       "      <td>8684.800000</td>\n",
       "      <td>3.958333</td>\n",
       "    </tr>\n",
       "  </tbody>\n",
       "</table>\n",
       "</div>"
      ],
      "text/plain": [
       "       SeniorCitizen       tenure  MonthlyCharges  TotalCharges  DailyCharges\n",
       "count    7032.000000  7032.000000     7032.000000   7032.000000   7032.000000\n",
       "mean        0.162400    32.421786       64.798208   2283.300441      2.159940\n",
       "std         0.368844    24.545260       30.085974   2266.771362      1.002866\n",
       "min         0.000000     1.000000       18.250000     18.800000      0.608333\n",
       "25%         0.000000     9.000000       35.587500    401.450000      1.186250\n",
       "50%         0.000000    29.000000       70.350000   1397.475000      2.345000\n",
       "75%         0.000000    55.000000       89.862500   3794.737500      2.995417\n",
       "max         1.000000    72.000000      118.750000   8684.800000      3.958333"
      ]
     },
     "execution_count": 13,
     "metadata": {},
     "output_type": "execute_result"
    }
   ],
   "source": [
    "# Visualização inicial dos dados\n",
    "\n",
    "print(\"\\n### DADOS INICIAIS ###\")\n",
    "print(dados.head())\n",
    "print(\"\\n--- INFORMAÇÕES DO DATAFRAME ---\\n\")\n",
    "print(dados.info())\n",
    "print(\"\\n=== ESTATÍSTICAS DESCRITIVAS ===\\n\")\n",
    "dados.describe()"
   ]
  }
 ],
 "metadata": {
  "kernelspec": {
   "display_name": "Python 3",
   "language": "python",
   "name": "python3"
  },
  "language_info": {
   "codemirror_mode": {
    "name": "ipython",
    "version": 3
   },
   "file_extension": ".py",
   "mimetype": "text/x-python",
   "name": "python",
   "nbconvert_exporter": "python",
   "pygments_lexer": "ipython3",
   "version": "3.13.2"
  }
 },
 "nbformat": 4,
 "nbformat_minor": 5
}
