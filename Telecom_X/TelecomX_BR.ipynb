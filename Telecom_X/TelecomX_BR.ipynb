{
 "cells": [
  {
   "cell_type": "markdown",
   "id": "5843bea0",
   "metadata": {},
   "source": [
    "# Projeto Telecom X: Análise de Evasão de Clientes (Churn)\n",
    "\n",
    "## 1. Introdução\n",
    "A Telecom X é uma empresa do setor de telecomunicações que enfrenta um desafio sério: um alto índice de evasão de clientes (churn). A organização percebeu que precisava entender melhor os fatores que levam seus clientes a cancelar os serviços, mas até então não conseguiu encontrar respostas.\n",
    "\n",
    "E é exatamente aqui que entra este projeto! 👊\n",
    "\n",
    "Fui contratado como Assistente de Análise de Dados, integrando a equipe de Data Science, para conduzir uma das etapas mais críticas no ciclo de dados: o ETL — Extração, Transformação e Carga, além da Análise Exploratória de Dados (EDA)."
   ]
  },
  {
   "cell_type": "markdown",
   "id": "e78487af",
   "metadata": {},
   "source": [
    "# 📌 Extracão"
   ]
  },
  {
   "cell_type": "code",
   "execution_count": null,
   "id": "e55d6400",
   "metadata": {},
   "outputs": [],
   "source": [
    "import pandas as pd"
   ]
  },
  {
   "cell_type": "code",
   "execution_count": null,
   "id": "de18b4b3",
   "metadata": {},
   "outputs": [],
   "source": [
    "url = ''"
   ]
  },
  {
   "cell_type": "code",
   "execution_count": null,
   "id": "dbe4713b",
   "metadata": {},
   "outputs": [],
   "source": []
  },
  {
   "cell_type": "markdown",
   "id": "cfd495ea",
   "metadata": {},
   "source": [
    "# 🔧 Transformação"
   ]
  },
  {
   "cell_type": "code",
   "execution_count": null,
   "id": "793a344b",
   "metadata": {},
   "outputs": [],
   "source": []
  },
  {
   "cell_type": "markdown",
   "id": "05be259f",
   "metadata": {},
   "source": [
    "# 📊 Carga e análise"
   ]
  },
  {
   "cell_type": "code",
   "execution_count": null,
   "id": "e7e9a4c0",
   "metadata": {},
   "outputs": [],
   "source": []
  },
  {
   "cell_type": "markdown",
   "id": "b76b62cc",
   "metadata": {},
   "source": [
    "# 📄Relatorio Final"
   ]
  },
  {
   "cell_type": "markdown",
   "id": "920245d9",
   "metadata": {},
   "source": [
    "# Projeto Telecom X: Análise de Evasão de Clientes (Churn)\n",
    "\n",
    "## Sumário Executivo para Liderança\n",
    "\n",
    "Este relatório apresenta os principais insights derivados de uma análise exploratória de dados (EDA) aprofundada sobre a evasão de clientes (churn) na Telecom X. Nosso objetivo é identificar os fatores mais críticos que contribuem para o abandono dos serviços por parte dos clientes e oferecer recomendações estratégicas acionáveis para a liderança.\n",
    "\n",
    "---\n",
    "\n",
    "### **Descobertas Chave da Análise de Churn**\n",
    "\n",
    "A Telecom X enfrenta uma **taxa de evasão de aproximadamente 26.6%**, o que representa uma perda significativa de receita e base de clientes. Nossa análise revelou que esta evasão é predominantemente influenciada pelos seguintes fatores:\n",
    "\n",
    "1.  **Vulnerabilidade de Clientes Novos:**\n",
    "    * **Quase metade (47.7%) dos clientes evadem nos primeiros 12 meses de serviço.** A lealdade do cliente aumenta exponencialmente com o tempo de permanência, indicando que os primeiros meses são cruciais para a retenção.\n",
    "\n",
    "2.  **Contratos Mensais como Principal Gatilho de Churn:**\n",
    "    * Clientes com **contrato `Mês-a-Mês` apresentam uma taxa de evasão alarmante de 42.7%**. Em contraste, contratos de um ano (11.3%) e, especialmente, de dois anos (2.9%) demonstram alta retenção.\n",
    "\n",
    "3.  **Qualidade e Satisfação com o Serviço de Internet:**\n",
    "    * O serviço de **`Fibra Óptica` está associado a uma alta taxa de churn (41.9%)**, significativamente maior que o serviço DSL. Isso sugere problemas de qualidade, desempenho ou expectativas não atendidas com a Fibra.\n",
    "    * A **ausência de serviços adicionais como `Suporte Técnico` (42.2% de churn) e `Segurança Online` (41.8% de churn)**, `Backup Online` e `Proteção de Dispositivo` são fortes indicadores de evasão. Clientes que não utilizam esses serviços adicionais tendem a evadir muito mais.\n",
    "    * Curiosamente, clientes que utilizam serviços de `Streaming TV` ou `Streaming Movies` também apresentam taxas de churn elevadas (aproximadamente 40%), o que pode indicar insatisfação com a qualidade ou valor desses serviços.\n",
    "\n",
    "4.  **Problemas no Método de Pagamento \"Cheque Eletrônico\":**\n",
    "    * Clientes que utilizam o **`Cheque Eletrônico` como método de pagamento exibem a maior taxa de churn (45.3%)** entre todas as opções.\n",
    "\n",
    "5.  **Perfis Demográficos com Maiores Riscos:**\n",
    "    * **Clientes idosos (`SeniorCitizen=1`) têm uma taxa de churn de 33.0%**, superior aos não-idosos.\n",
    "    * Clientes **sem parceiro (`Partner=No`) ou dependentes (`Dependents=No`)** também são mais propensos à evasão (aproximadamente 32% de churn para ambos).\n",
    "    * A opção por `Faturamento Sem Papel` (`PaperlessBilling=Yes`) também está associada a uma maior taxa de churn (33.8%).\n",
    "\n",
    "### **Recomendações Estratégicas e Próximos Passos**\n",
    "\n",
    "Com base nesses insights, sugerimos as seguintes ações prioritárias para mitigar a evasão de clientes:\n",
    "\n",
    "1.  **Programa de Retenção para Clientes Novos:**\n",
    "    * Desenvolver e implementar um **programa de onboarding e acompanhamento proativo** para clientes nos primeiros 12 meses de serviço, com foco em garantir a satisfação e resolver rapidamente quaisquer problemas iniciais.\n",
    "    * Oferecer **incentivos atrativos para a conversão de contratos mensais para anuais** logo no início do relacionamento.\n",
    "\n",
    "2.  **Estratégia de Contratos e Incentivos à Fidelização:**\n",
    "    * Criar **campanhas agressivas para promover a migração de contratos `Mês-a-Mês` para planos de longo prazo** (um ou dois anos), destacando benefícios exclusivos e descontos substanciais.\n",
    "\n",
    "3.  **Revisão e Melhoria dos Serviços de Internet e Adicionais:**\n",
    "    * **Urgência na investigação e otimização do serviço de `Fibra Óptica`**, incluindo análise de desempenho, suporte e satisfação do cliente.\n",
    "    * **Intensificar a promoção e o valor dos serviços de `Suporte Técnico`, `Segurança Online`, `Backup Online` e `Proteção de Dispositivo`**, destacando como esses serviços contribuem para uma experiência sem preocupações e aumentam a lealdade.\n",
    "    * **Investigar a satisfação e o custo-benefício dos serviços de `Streaming` (TV/Filmes)** para entender por que estão associados a maior churn.\n",
    "\n",
    "4.  **Otimização do Processo de Pagamento:**\n",
    "    * Realizar uma auditoria detalhada da experiência do usuário com o método de **`Cheque Eletrônico`**, buscando falhas e oportunidades de melhoria ou incentivando a migração para métodos de pagamento mais estáveis e satisfatórios.\n",
    "\n",
    "5.  **Segmentação e Campanha de Retenção:**\n",
    "    * Desenvolver **campanhas de retenção personalizadas para segmentos de alto risco**, como clientes idosos e aqueles sem parceiro/dependentes, abordando suas necessidades e preocupações específicas.\n",
    "\n",
    "---\n",
    "\n",
    "**Próximos Passos na Análise de Dados:**\n",
    "\n",
    "* **Desenvolvimento de um Modelo Preditivo de Churn:** Utilizar as variáveis identificadas como cruciais para construir um modelo de Machine Learning capaz de prever quais clientes têm maior probabilidade de evadir, permitindo ações proativas de retenção.\n",
    "* **Análise de Rentabilidade:** Integrar dados de custo e receita para calcular o valor vitalício do cliente (LTV) e priorizar esforços de retenção com base no potencial de retorno financeiro.\n",
    "\n",
    "---"
   ]
  }
 ],
 "metadata": {
  "kernelspec": {
   "display_name": "Python 3",
   "language": "python",
   "name": "python3"
  },
  "language_info": {
   "name": "python",
   "version": "3.13.2"
  }
 },
 "nbformat": 4,
 "nbformat_minor": 5
}
