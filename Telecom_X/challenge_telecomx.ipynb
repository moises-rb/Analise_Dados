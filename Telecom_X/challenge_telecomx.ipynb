{
 "cells": [
  {
   "cell_type": "markdown",
   "id": "f5ecfe91",
   "metadata": {},
   "source": [
    "# Projeto Telecom X: Análise de Evasão de Clientes (Churn)\n",
    "\n",
    "## 1. Introdução\n",
    "A Telecom X é uma empresa do setor de telecomunicações que enfrenta um desafio sério: um alto índice de evasão de clientes (churn). A organização percebeu que precisava entender melhor os fatores que levam seus clientes a cancelar os serviços, mas até então não conseguiu encontrar respostas.\n",
    "\n",
    "E é exatamente aqui que entra este projeto! 👊\n",
    "\n",
    "Fui contratado como Assistente de Análise de Dados, integrando a equipe de Data Science, para conduzir uma das etapas mais críticas no ciclo de dados: o ETL — Extração, Transformação e Carga, além da Análise Exploratória de Dados (EDA)."
   ]
  },
  {
   "cell_type": "markdown",
   "id": "0061a30c",
   "metadata": {},
   "source": [
    "## 2. Importação e Carregamento dos Dados (Fase E - Extração)"
   ]
  },
  {
   "cell_type": "code",
   "execution_count": 3,
   "id": "14653177",
   "metadata": {},
   "outputs": [],
   "source": [
    "import pandas as pd"
   ]
  },
  {
   "cell_type": "code",
   "execution_count": 10,
   "id": "e4b94e38",
   "metadata": {},
   "outputs": [
    {
     "data": {
      "application/vnd.microsoft.datawrangler.viewer.v0+json": {
       "columns": [
        {
         "name": "index",
         "rawType": "int64",
         "type": "integer"
        },
        {
         "name": "customerID",
         "rawType": "object",
         "type": "string"
        },
        {
         "name": "Churn",
         "rawType": "object",
         "type": "string"
        },
        {
         "name": "customer",
         "rawType": "object",
         "type": "unknown"
        },
        {
         "name": "phone",
         "rawType": "object",
         "type": "unknown"
        },
        {
         "name": "internet",
         "rawType": "object",
         "type": "unknown"
        },
        {
         "name": "account",
         "rawType": "object",
         "type": "unknown"
        }
       ],
       "ref": "df10c0d5-e8d4-4d9f-bd34-b3b034df1637",
       "rows": [
        [
         "0",
         "0002-ORFBO",
         "No",
         "{'gender': 'Female', 'SeniorCitizen': 0, 'Partner': 'Yes', 'Dependents': 'Yes', 'tenure': 9}",
         "{'PhoneService': 'Yes', 'MultipleLines': 'No'}",
         "{'InternetService': 'DSL', 'OnlineSecurity': 'No', 'OnlineBackup': 'Yes', 'DeviceProtection': 'No', 'TechSupport': 'Yes', 'StreamingTV': 'Yes', 'StreamingMovies': 'No'}",
         "{'Contract': 'One year', 'PaperlessBilling': 'Yes', 'PaymentMethod': 'Mailed check', 'Charges': {'Monthly': 65.6, 'Total': '593.3'}}"
        ],
        [
         "1",
         "0003-MKNFE",
         "No",
         "{'gender': 'Male', 'SeniorCitizen': 0, 'Partner': 'No', 'Dependents': 'No', 'tenure': 9}",
         "{'PhoneService': 'Yes', 'MultipleLines': 'Yes'}",
         "{'InternetService': 'DSL', 'OnlineSecurity': 'No', 'OnlineBackup': 'No', 'DeviceProtection': 'No', 'TechSupport': 'No', 'StreamingTV': 'No', 'StreamingMovies': 'Yes'}",
         "{'Contract': 'Month-to-month', 'PaperlessBilling': 'No', 'PaymentMethod': 'Mailed check', 'Charges': {'Monthly': 59.9, 'Total': '542.4'}}"
        ],
        [
         "2",
         "0004-TLHLJ",
         "Yes",
         "{'gender': 'Male', 'SeniorCitizen': 0, 'Partner': 'No', 'Dependents': 'No', 'tenure': 4}",
         "{'PhoneService': 'Yes', 'MultipleLines': 'No'}",
         "{'InternetService': 'Fiber optic', 'OnlineSecurity': 'No', 'OnlineBackup': 'No', 'DeviceProtection': 'Yes', 'TechSupport': 'No', 'StreamingTV': 'No', 'StreamingMovies': 'No'}",
         "{'Contract': 'Month-to-month', 'PaperlessBilling': 'Yes', 'PaymentMethod': 'Electronic check', 'Charges': {'Monthly': 73.9, 'Total': '280.85'}}"
        ],
        [
         "3",
         "0011-IGKFF",
         "Yes",
         "{'gender': 'Male', 'SeniorCitizen': 1, 'Partner': 'Yes', 'Dependents': 'No', 'tenure': 13}",
         "{'PhoneService': 'Yes', 'MultipleLines': 'No'}",
         "{'InternetService': 'Fiber optic', 'OnlineSecurity': 'No', 'OnlineBackup': 'Yes', 'DeviceProtection': 'Yes', 'TechSupport': 'No', 'StreamingTV': 'Yes', 'StreamingMovies': 'Yes'}",
         "{'Contract': 'Month-to-month', 'PaperlessBilling': 'Yes', 'PaymentMethod': 'Electronic check', 'Charges': {'Monthly': 98.0, 'Total': '1237.85'}}"
        ],
        [
         "4",
         "0013-EXCHZ",
         "Yes",
         "{'gender': 'Female', 'SeniorCitizen': 1, 'Partner': 'Yes', 'Dependents': 'No', 'tenure': 3}",
         "{'PhoneService': 'Yes', 'MultipleLines': 'No'}",
         "{'InternetService': 'Fiber optic', 'OnlineSecurity': 'No', 'OnlineBackup': 'No', 'DeviceProtection': 'No', 'TechSupport': 'Yes', 'StreamingTV': 'Yes', 'StreamingMovies': 'No'}",
         "{'Contract': 'Month-to-month', 'PaperlessBilling': 'Yes', 'PaymentMethod': 'Mailed check', 'Charges': {'Monthly': 83.9, 'Total': '267.4'}}"
        ]
       ],
       "shape": {
        "columns": 6,
        "rows": 5
       }
      },
      "text/html": [
       "<div>\n",
       "<style scoped>\n",
       "    .dataframe tbody tr th:only-of-type {\n",
       "        vertical-align: middle;\n",
       "    }\n",
       "\n",
       "    .dataframe tbody tr th {\n",
       "        vertical-align: top;\n",
       "    }\n",
       "\n",
       "    .dataframe thead th {\n",
       "        text-align: right;\n",
       "    }\n",
       "</style>\n",
       "<table border=\"1\" class=\"dataframe\">\n",
       "  <thead>\n",
       "    <tr style=\"text-align: right;\">\n",
       "      <th></th>\n",
       "      <th>customerID</th>\n",
       "      <th>Churn</th>\n",
       "      <th>customer</th>\n",
       "      <th>phone</th>\n",
       "      <th>internet</th>\n",
       "      <th>account</th>\n",
       "    </tr>\n",
       "  </thead>\n",
       "  <tbody>\n",
       "    <tr>\n",
       "      <th>0</th>\n",
       "      <td>0002-ORFBO</td>\n",
       "      <td>No</td>\n",
       "      <td>{'gender': 'Female', 'SeniorCitizen': 0, 'Part...</td>\n",
       "      <td>{'PhoneService': 'Yes', 'MultipleLines': 'No'}</td>\n",
       "      <td>{'InternetService': 'DSL', 'OnlineSecurity': '...</td>\n",
       "      <td>{'Contract': 'One year', 'PaperlessBilling': '...</td>\n",
       "    </tr>\n",
       "    <tr>\n",
       "      <th>1</th>\n",
       "      <td>0003-MKNFE</td>\n",
       "      <td>No</td>\n",
       "      <td>{'gender': 'Male', 'SeniorCitizen': 0, 'Partne...</td>\n",
       "      <td>{'PhoneService': 'Yes', 'MultipleLines': 'Yes'}</td>\n",
       "      <td>{'InternetService': 'DSL', 'OnlineSecurity': '...</td>\n",
       "      <td>{'Contract': 'Month-to-month', 'PaperlessBilli...</td>\n",
       "    </tr>\n",
       "    <tr>\n",
       "      <th>2</th>\n",
       "      <td>0004-TLHLJ</td>\n",
       "      <td>Yes</td>\n",
       "      <td>{'gender': 'Male', 'SeniorCitizen': 0, 'Partne...</td>\n",
       "      <td>{'PhoneService': 'Yes', 'MultipleLines': 'No'}</td>\n",
       "      <td>{'InternetService': 'Fiber optic', 'OnlineSecu...</td>\n",
       "      <td>{'Contract': 'Month-to-month', 'PaperlessBilli...</td>\n",
       "    </tr>\n",
       "    <tr>\n",
       "      <th>3</th>\n",
       "      <td>0011-IGKFF</td>\n",
       "      <td>Yes</td>\n",
       "      <td>{'gender': 'Male', 'SeniorCitizen': 1, 'Partne...</td>\n",
       "      <td>{'PhoneService': 'Yes', 'MultipleLines': 'No'}</td>\n",
       "      <td>{'InternetService': 'Fiber optic', 'OnlineSecu...</td>\n",
       "      <td>{'Contract': 'Month-to-month', 'PaperlessBilli...</td>\n",
       "    </tr>\n",
       "    <tr>\n",
       "      <th>4</th>\n",
       "      <td>0013-EXCHZ</td>\n",
       "      <td>Yes</td>\n",
       "      <td>{'gender': 'Female', 'SeniorCitizen': 1, 'Part...</td>\n",
       "      <td>{'PhoneService': 'Yes', 'MultipleLines': 'No'}</td>\n",
       "      <td>{'InternetService': 'Fiber optic', 'OnlineSecu...</td>\n",
       "      <td>{'Contract': 'Month-to-month', 'PaperlessBilli...</td>\n",
       "    </tr>\n",
       "  </tbody>\n",
       "</table>\n",
       "</div>"
      ],
      "text/plain": [
       "   customerID Churn                                           customer  \\\n",
       "0  0002-ORFBO    No  {'gender': 'Female', 'SeniorCitizen': 0, 'Part...   \n",
       "1  0003-MKNFE    No  {'gender': 'Male', 'SeniorCitizen': 0, 'Partne...   \n",
       "2  0004-TLHLJ   Yes  {'gender': 'Male', 'SeniorCitizen': 0, 'Partne...   \n",
       "3  0011-IGKFF   Yes  {'gender': 'Male', 'SeniorCitizen': 1, 'Partne...   \n",
       "4  0013-EXCHZ   Yes  {'gender': 'Female', 'SeniorCitizen': 1, 'Part...   \n",
       "\n",
       "                                             phone  \\\n",
       "0   {'PhoneService': 'Yes', 'MultipleLines': 'No'}   \n",
       "1  {'PhoneService': 'Yes', 'MultipleLines': 'Yes'}   \n",
       "2   {'PhoneService': 'Yes', 'MultipleLines': 'No'}   \n",
       "3   {'PhoneService': 'Yes', 'MultipleLines': 'No'}   \n",
       "4   {'PhoneService': 'Yes', 'MultipleLines': 'No'}   \n",
       "\n",
       "                                            internet  \\\n",
       "0  {'InternetService': 'DSL', 'OnlineSecurity': '...   \n",
       "1  {'InternetService': 'DSL', 'OnlineSecurity': '...   \n",
       "2  {'InternetService': 'Fiber optic', 'OnlineSecu...   \n",
       "3  {'InternetService': 'Fiber optic', 'OnlineSecu...   \n",
       "4  {'InternetService': 'Fiber optic', 'OnlineSecu...   \n",
       "\n",
       "                                             account  \n",
       "0  {'Contract': 'One year', 'PaperlessBilling': '...  \n",
       "1  {'Contract': 'Month-to-month', 'PaperlessBilli...  \n",
       "2  {'Contract': 'Month-to-month', 'PaperlessBilli...  \n",
       "3  {'Contract': 'Month-to-month', 'PaperlessBilli...  \n",
       "4  {'Contract': 'Month-to-month', 'PaperlessBilli...  "
      ]
     },
     "execution_count": 10,
     "metadata": {},
     "output_type": "execute_result"
    }
   ],
   "source": [
    "url = 'https://raw.githubusercontent.com/moises-rb/Analise_Dados/refs/heads/main/Telecom_X/TelecomX_Data.json'\n",
    "\n",
    "df = pd.read_json(url)\n",
    "df.head()"
   ]
  },
  {
   "cell_type": "code",
   "execution_count": 11,
   "id": "06aa9c2d",
   "metadata": {},
   "outputs": [
    {
     "data": {
      "application/vnd.microsoft.datawrangler.viewer.v0+json": {
       "columns": [
        {
         "name": "index",
         "rawType": "int64",
         "type": "integer"
        },
        {
         "name": "customerID",
         "rawType": "object",
         "type": "string"
        },
        {
         "name": "Churn",
         "rawType": "object",
         "type": "string"
        },
        {
         "name": "customer",
         "rawType": "object",
         "type": "unknown"
        },
        {
         "name": "phone",
         "rawType": "object",
         "type": "unknown"
        },
        {
         "name": "internet",
         "rawType": "object",
         "type": "unknown"
        },
        {
         "name": "account",
         "rawType": "object",
         "type": "unknown"
        }
       ],
       "ref": "74f3544e-0679-49df-aad4-75814000407d",
       "rows": [
        [
         "7262",
         "9987-LUTYD",
         "No",
         "{'gender': 'Female', 'SeniorCitizen': 0, 'Partner': 'No', 'Dependents': 'No', 'tenure': 13}",
         "{'PhoneService': 'Yes', 'MultipleLines': 'No'}",
         "{'InternetService': 'DSL', 'OnlineSecurity': 'Yes', 'OnlineBackup': 'No', 'DeviceProtection': 'No', 'TechSupport': 'Yes', 'StreamingTV': 'No', 'StreamingMovies': 'No'}",
         "{'Contract': 'One year', 'PaperlessBilling': 'No', 'PaymentMethod': 'Mailed check', 'Charges': {'Monthly': 55.15, 'Total': '742.9'}}"
        ],
        [
         "7263",
         "9992-RRAMN",
         "Yes",
         "{'gender': 'Male', 'SeniorCitizen': 0, 'Partner': 'Yes', 'Dependents': 'No', 'tenure': 22}",
         "{'PhoneService': 'Yes', 'MultipleLines': 'Yes'}",
         "{'InternetService': 'Fiber optic', 'OnlineSecurity': 'No', 'OnlineBackup': 'No', 'DeviceProtection': 'No', 'TechSupport': 'No', 'StreamingTV': 'No', 'StreamingMovies': 'Yes'}",
         "{'Contract': 'Month-to-month', 'PaperlessBilling': 'Yes', 'PaymentMethod': 'Electronic check', 'Charges': {'Monthly': 85.1, 'Total': '1873.7'}}"
        ],
        [
         "7264",
         "9992-UJOEL",
         "No",
         "{'gender': 'Male', 'SeniorCitizen': 0, 'Partner': 'No', 'Dependents': 'No', 'tenure': 2}",
         "{'PhoneService': 'Yes', 'MultipleLines': 'No'}",
         "{'InternetService': 'DSL', 'OnlineSecurity': 'No', 'OnlineBackup': 'Yes', 'DeviceProtection': 'No', 'TechSupport': 'No', 'StreamingTV': 'No', 'StreamingMovies': 'No'}",
         "{'Contract': 'Month-to-month', 'PaperlessBilling': 'Yes', 'PaymentMethod': 'Mailed check', 'Charges': {'Monthly': 50.3, 'Total': '92.75'}}"
        ],
        [
         "7265",
         "9993-LHIEB",
         "No",
         "{'gender': 'Male', 'SeniorCitizen': 0, 'Partner': 'Yes', 'Dependents': 'Yes', 'tenure': 67}",
         "{'PhoneService': 'Yes', 'MultipleLines': 'No'}",
         "{'InternetService': 'DSL', 'OnlineSecurity': 'Yes', 'OnlineBackup': 'No', 'DeviceProtection': 'Yes', 'TechSupport': 'Yes', 'StreamingTV': 'No', 'StreamingMovies': 'Yes'}",
         "{'Contract': 'Two year', 'PaperlessBilling': 'No', 'PaymentMethod': 'Mailed check', 'Charges': {'Monthly': 67.85, 'Total': '4627.65'}}"
        ],
        [
         "7266",
         "9995-HOTOH",
         "No",
         "{'gender': 'Male', 'SeniorCitizen': 0, 'Partner': 'Yes', 'Dependents': 'Yes', 'tenure': 63}",
         "{'PhoneService': 'No', 'MultipleLines': 'No phone service'}",
         "{'InternetService': 'DSL', 'OnlineSecurity': 'Yes', 'OnlineBackup': 'Yes', 'DeviceProtection': 'Yes', 'TechSupport': 'No', 'StreamingTV': 'Yes', 'StreamingMovies': 'Yes'}",
         "{'Contract': 'Two year', 'PaperlessBilling': 'No', 'PaymentMethod': 'Electronic check', 'Charges': {'Monthly': 59.0, 'Total': '3707.6'}}"
        ]
       ],
       "shape": {
        "columns": 6,
        "rows": 5
       }
      },
      "text/html": [
       "<div>\n",
       "<style scoped>\n",
       "    .dataframe tbody tr th:only-of-type {\n",
       "        vertical-align: middle;\n",
       "    }\n",
       "\n",
       "    .dataframe tbody tr th {\n",
       "        vertical-align: top;\n",
       "    }\n",
       "\n",
       "    .dataframe thead th {\n",
       "        text-align: right;\n",
       "    }\n",
       "</style>\n",
       "<table border=\"1\" class=\"dataframe\">\n",
       "  <thead>\n",
       "    <tr style=\"text-align: right;\">\n",
       "      <th></th>\n",
       "      <th>customerID</th>\n",
       "      <th>Churn</th>\n",
       "      <th>customer</th>\n",
       "      <th>phone</th>\n",
       "      <th>internet</th>\n",
       "      <th>account</th>\n",
       "    </tr>\n",
       "  </thead>\n",
       "  <tbody>\n",
       "    <tr>\n",
       "      <th>7262</th>\n",
       "      <td>9987-LUTYD</td>\n",
       "      <td>No</td>\n",
       "      <td>{'gender': 'Female', 'SeniorCitizen': 0, 'Part...</td>\n",
       "      <td>{'PhoneService': 'Yes', 'MultipleLines': 'No'}</td>\n",
       "      <td>{'InternetService': 'DSL', 'OnlineSecurity': '...</td>\n",
       "      <td>{'Contract': 'One year', 'PaperlessBilling': '...</td>\n",
       "    </tr>\n",
       "    <tr>\n",
       "      <th>7263</th>\n",
       "      <td>9992-RRAMN</td>\n",
       "      <td>Yes</td>\n",
       "      <td>{'gender': 'Male', 'SeniorCitizen': 0, 'Partne...</td>\n",
       "      <td>{'PhoneService': 'Yes', 'MultipleLines': 'Yes'}</td>\n",
       "      <td>{'InternetService': 'Fiber optic', 'OnlineSecu...</td>\n",
       "      <td>{'Contract': 'Month-to-month', 'PaperlessBilli...</td>\n",
       "    </tr>\n",
       "    <tr>\n",
       "      <th>7264</th>\n",
       "      <td>9992-UJOEL</td>\n",
       "      <td>No</td>\n",
       "      <td>{'gender': 'Male', 'SeniorCitizen': 0, 'Partne...</td>\n",
       "      <td>{'PhoneService': 'Yes', 'MultipleLines': 'No'}</td>\n",
       "      <td>{'InternetService': 'DSL', 'OnlineSecurity': '...</td>\n",
       "      <td>{'Contract': 'Month-to-month', 'PaperlessBilli...</td>\n",
       "    </tr>\n",
       "    <tr>\n",
       "      <th>7265</th>\n",
       "      <td>9993-LHIEB</td>\n",
       "      <td>No</td>\n",
       "      <td>{'gender': 'Male', 'SeniorCitizen': 0, 'Partne...</td>\n",
       "      <td>{'PhoneService': 'Yes', 'MultipleLines': 'No'}</td>\n",
       "      <td>{'InternetService': 'DSL', 'OnlineSecurity': '...</td>\n",
       "      <td>{'Contract': 'Two year', 'PaperlessBilling': '...</td>\n",
       "    </tr>\n",
       "    <tr>\n",
       "      <th>7266</th>\n",
       "      <td>9995-HOTOH</td>\n",
       "      <td>No</td>\n",
       "      <td>{'gender': 'Male', 'SeniorCitizen': 0, 'Partne...</td>\n",
       "      <td>{'PhoneService': 'No', 'MultipleLines': 'No ph...</td>\n",
       "      <td>{'InternetService': 'DSL', 'OnlineSecurity': '...</td>\n",
       "      <td>{'Contract': 'Two year', 'PaperlessBilling': '...</td>\n",
       "    </tr>\n",
       "  </tbody>\n",
       "</table>\n",
       "</div>"
      ],
      "text/plain": [
       "      customerID Churn                                           customer  \\\n",
       "7262  9987-LUTYD    No  {'gender': 'Female', 'SeniorCitizen': 0, 'Part...   \n",
       "7263  9992-RRAMN   Yes  {'gender': 'Male', 'SeniorCitizen': 0, 'Partne...   \n",
       "7264  9992-UJOEL    No  {'gender': 'Male', 'SeniorCitizen': 0, 'Partne...   \n",
       "7265  9993-LHIEB    No  {'gender': 'Male', 'SeniorCitizen': 0, 'Partne...   \n",
       "7266  9995-HOTOH    No  {'gender': 'Male', 'SeniorCitizen': 0, 'Partne...   \n",
       "\n",
       "                                                  phone  \\\n",
       "7262     {'PhoneService': 'Yes', 'MultipleLines': 'No'}   \n",
       "7263    {'PhoneService': 'Yes', 'MultipleLines': 'Yes'}   \n",
       "7264     {'PhoneService': 'Yes', 'MultipleLines': 'No'}   \n",
       "7265     {'PhoneService': 'Yes', 'MultipleLines': 'No'}   \n",
       "7266  {'PhoneService': 'No', 'MultipleLines': 'No ph...   \n",
       "\n",
       "                                               internet  \\\n",
       "7262  {'InternetService': 'DSL', 'OnlineSecurity': '...   \n",
       "7263  {'InternetService': 'Fiber optic', 'OnlineSecu...   \n",
       "7264  {'InternetService': 'DSL', 'OnlineSecurity': '...   \n",
       "7265  {'InternetService': 'DSL', 'OnlineSecurity': '...   \n",
       "7266  {'InternetService': 'DSL', 'OnlineSecurity': '...   \n",
       "\n",
       "                                                account  \n",
       "7262  {'Contract': 'One year', 'PaperlessBilling': '...  \n",
       "7263  {'Contract': 'Month-to-month', 'PaperlessBilli...  \n",
       "7264  {'Contract': 'Month-to-month', 'PaperlessBilli...  \n",
       "7265  {'Contract': 'Two year', 'PaperlessBilling': '...  \n",
       "7266  {'Contract': 'Two year', 'PaperlessBilling': '...  "
      ]
     },
     "execution_count": 11,
     "metadata": {},
     "output_type": "execute_result"
    }
   ],
   "source": [
    "df.tail()"
   ]
  },
  {
   "cell_type": "code",
   "execution_count": 13,
   "id": "de396ef2",
   "metadata": {},
   "outputs": [],
   "source": [
    "df.to_csv('df.csv', index=False)"
   ]
  },
  {
   "cell_type": "code",
   "execution_count": 22,
   "id": "2ac1b29a",
   "metadata": {},
   "outputs": [
    {
     "data": {
      "text/plain": [
       "\"|    | customerID   | Churn   | customer                                                                                     | phone                                           | internet                                                                                                                                                                          | account                                                                                                                                          |\\n|---:|:-------------|:--------|:---------------------------------------------------------------------------------------------|:------------------------------------------------|:----------------------------------------------------------------------------------------------------------------------------------------------------------------------------------|:-------------------------------------------------------------------------------------------------------------------------------------------------|\\n|  0 | 0002-ORFBO   | No      | {'gender': 'Female', 'SeniorCitizen': 0, 'Partner': 'Yes', 'Dependents': 'Yes', 'tenure': 9} | {'PhoneService': 'Yes', 'MultipleLines': 'No'}  | {'InternetService': 'DSL', 'OnlineSecurity': 'No', 'OnlineBackup': 'Yes', 'DeviceProtection': 'No', 'TechSupport': 'Yes', 'StreamingTV': 'Yes', 'StreamingMovies': 'No'}          | {'Contract': 'One year', 'PaperlessBilling': 'Yes', 'PaymentMethod': 'Mailed check', 'Charges': {'Monthly': 65.6, 'Total': '593.3'}}             |\\n|  1 | 0003-MKNFE   | No      | {'gender': 'Male', 'SeniorCitizen': 0, 'Partner': 'No', 'Dependents': 'No', 'tenure': 9}     | {'PhoneService': 'Yes', 'MultipleLines': 'Yes'} | {'InternetService': 'DSL', 'OnlineSecurity': 'No', 'OnlineBackup': 'No', 'DeviceProtection': 'No', 'TechSupport': 'No', 'StreamingTV': 'No', 'StreamingMovies': 'Yes'}            | {'Contract': 'Month-to-month', 'PaperlessBilling': 'No', 'PaymentMethod': 'Mailed check', 'Charges': {'Monthly': 59.9, 'Total': '542.4'}}        |\\n|  2 | 0004-TLHLJ   | Yes     | {'gender': 'Male', 'SeniorCitizen': 0, 'Partner': 'No', 'Dependents': 'No', 'tenure': 4}     | {'PhoneService': 'Yes', 'MultipleLines': 'No'}  | {'InternetService': 'Fiber optic', 'OnlineSecurity': 'No', 'OnlineBackup': 'No', 'DeviceProtection': 'Yes', 'TechSupport': 'No', 'StreamingTV': 'No', 'StreamingMovies': 'No'}    | {'Contract': 'Month-to-month', 'PaperlessBilling': 'Yes', 'PaymentMethod': 'Electronic check', 'Charges': {'Monthly': 73.9, 'Total': '280.85'}}  |\\n|  3 | 0011-IGKFF   | Yes     | {'gender': 'Male', 'SeniorCitizen': 1, 'Partner': 'Yes', 'Dependents': 'No', 'tenure': 13}   | {'PhoneService': 'Yes', 'MultipleLines': 'No'}  | {'InternetService': 'Fiber optic', 'OnlineSecurity': 'No', 'OnlineBackup': 'Yes', 'DeviceProtection': 'Yes', 'TechSupport': 'No', 'StreamingTV': 'Yes', 'StreamingMovies': 'Yes'} | {'Contract': 'Month-to-month', 'PaperlessBilling': 'Yes', 'PaymentMethod': 'Electronic check', 'Charges': {'Monthly': 98.0, 'Total': '1237.85'}} |\\n|  4 | 0013-EXCHZ   | Yes     | {'gender': 'Female', 'SeniorCitizen': 1, 'Partner': 'Yes', 'Dependents': 'No', 'tenure': 3}  | {'PhoneService': 'Yes', 'MultipleLines': 'No'}  | {'InternetService': 'Fiber optic', 'OnlineSecurity': 'No', 'OnlineBackup': 'No', 'DeviceProtection': 'No', 'TechSupport': 'Yes', 'StreamingTV': 'Yes', 'StreamingMovies': 'No'}   | {'Contract': 'Month-to-month', 'PaperlessBilling': 'Yes', 'PaymentMethod': 'Mailed check', 'Charges': {'Monthly': 83.9, 'Total': '267.4'}}       |\""
      ]
     },
     "execution_count": 22,
     "metadata": {},
     "output_type": "execute_result"
    }
   ],
   "source": [
    "df.head().to_markdown()"
   ]
  },
  {
   "cell_type": "markdown",
   "id": "f14cd1d6",
   "metadata": {},
   "source": [
    "## 3. Características Gerais da Base de Dados e Tratamento (Fase T - Transformação)"
   ]
  },
  {
   "cell_type": "markdown",
   "id": "eaf0747a",
   "metadata": {},
   "source": [
    "### 3.1. Visão Geral dos Dados"
   ]
  },
  {
   "cell_type": "code",
   "execution_count": 16,
   "id": "58d490b2",
   "metadata": {},
   "outputs": [
    {
     "data": {
      "text/plain": [
       "(7267, 6)"
      ]
     },
     "execution_count": 16,
     "metadata": {},
     "output_type": "execute_result"
    }
   ],
   "source": [
    "# Retorna uma tupla com o número de linhas e colunas.\n",
    "df.shape"
   ]
  },
  {
   "cell_type": "code",
   "execution_count": 17,
   "id": "3e66a82b",
   "metadata": {},
   "outputs": [
    {
     "data": {
      "text/plain": [
       "Index(['customerID', 'Churn', 'customer', 'phone', 'internet', 'account'], dtype='object')"
      ]
     },
     "execution_count": 17,
     "metadata": {},
     "output_type": "execute_result"
    }
   ],
   "source": [
    "# Lista os nomes de todas as colunas.\n",
    "df.columns"
   ]
  },
  {
   "cell_type": "code",
   "execution_count": 19,
   "id": "f5293ce0",
   "metadata": {},
   "outputs": [
    {
     "data": {
      "application/vnd.microsoft.datawrangler.viewer.v0+json": {
       "columns": [
        {
         "name": "index",
         "rawType": "object",
         "type": "string"
        },
        {
         "name": "customerID",
         "rawType": "object",
         "type": "unknown"
        },
        {
         "name": "Churn",
         "rawType": "object",
         "type": "unknown"
        },
        {
         "name": "customer",
         "rawType": "object",
         "type": "unknown"
        },
        {
         "name": "phone",
         "rawType": "object",
         "type": "unknown"
        },
        {
         "name": "internet",
         "rawType": "object",
         "type": "unknown"
        },
        {
         "name": "account",
         "rawType": "object",
         "type": "unknown"
        }
       ],
       "ref": "2c85b884-3961-48d6-82be-91232bf30181",
       "rows": [
        [
         "count",
         "7267",
         "7267",
         "7267",
         "7267",
         "7267",
         "7267"
        ],
        [
         "unique",
         "7267",
         "3",
         "891",
         "3",
         "129",
         "6931"
        ],
        [
         "top",
         "9995-HOTOH",
         "No",
         "{'gender': 'Male', 'SeniorCitizen': 0, 'Partner': 'No', 'Dependents': 'No', 'tenure': 1}",
         "{'PhoneService': 'Yes', 'MultipleLines': 'No'}",
         "{'InternetService': 'No', 'OnlineSecurity': 'No internet service', 'OnlineBackup': 'No internet service', 'DeviceProtection': 'No internet service', 'TechSupport': 'No internet service', 'StreamingTV': 'No internet service', 'StreamingMovies': 'No internet service'}",
         "{'Contract': 'Month-to-month', 'PaperlessBilling': 'No', 'PaymentMethod': 'Mailed check', 'Charges': {'Monthly': 19.55, 'Total': '19.55'}}"
        ],
        [
         "freq",
         "1",
         "5174",
         "223",
         "3495",
         "1581",
         "6"
        ]
       ],
       "shape": {
        "columns": 6,
        "rows": 4
       }
      },
      "text/html": [
       "<div>\n",
       "<style scoped>\n",
       "    .dataframe tbody tr th:only-of-type {\n",
       "        vertical-align: middle;\n",
       "    }\n",
       "\n",
       "    .dataframe tbody tr th {\n",
       "        vertical-align: top;\n",
       "    }\n",
       "\n",
       "    .dataframe thead th {\n",
       "        text-align: right;\n",
       "    }\n",
       "</style>\n",
       "<table border=\"1\" class=\"dataframe\">\n",
       "  <thead>\n",
       "    <tr style=\"text-align: right;\">\n",
       "      <th></th>\n",
       "      <th>customerID</th>\n",
       "      <th>Churn</th>\n",
       "      <th>customer</th>\n",
       "      <th>phone</th>\n",
       "      <th>internet</th>\n",
       "      <th>account</th>\n",
       "    </tr>\n",
       "  </thead>\n",
       "  <tbody>\n",
       "    <tr>\n",
       "      <th>count</th>\n",
       "      <td>7267</td>\n",
       "      <td>7267</td>\n",
       "      <td>7267</td>\n",
       "      <td>7267</td>\n",
       "      <td>7267</td>\n",
       "      <td>7267</td>\n",
       "    </tr>\n",
       "    <tr>\n",
       "      <th>unique</th>\n",
       "      <td>7267</td>\n",
       "      <td>3</td>\n",
       "      <td>891</td>\n",
       "      <td>3</td>\n",
       "      <td>129</td>\n",
       "      <td>6931</td>\n",
       "    </tr>\n",
       "    <tr>\n",
       "      <th>top</th>\n",
       "      <td>9995-HOTOH</td>\n",
       "      <td>No</td>\n",
       "      <td>{'gender': 'Male', 'SeniorCitizen': 0, 'Partne...</td>\n",
       "      <td>{'PhoneService': 'Yes', 'MultipleLines': 'No'}</td>\n",
       "      <td>{'InternetService': 'No', 'OnlineSecurity': 'N...</td>\n",
       "      <td>{'Contract': 'Month-to-month', 'PaperlessBilli...</td>\n",
       "    </tr>\n",
       "    <tr>\n",
       "      <th>freq</th>\n",
       "      <td>1</td>\n",
       "      <td>5174</td>\n",
       "      <td>223</td>\n",
       "      <td>3495</td>\n",
       "      <td>1581</td>\n",
       "      <td>6</td>\n",
       "    </tr>\n",
       "  </tbody>\n",
       "</table>\n",
       "</div>"
      ],
      "text/plain": [
       "        customerID Churn                                           customer  \\\n",
       "count         7267  7267                                               7267   \n",
       "unique        7267     3                                                891   \n",
       "top     9995-HOTOH    No  {'gender': 'Male', 'SeniorCitizen': 0, 'Partne...   \n",
       "freq             1  5174                                                223   \n",
       "\n",
       "                                                 phone  \\\n",
       "count                                             7267   \n",
       "unique                                               3   \n",
       "top     {'PhoneService': 'Yes', 'MultipleLines': 'No'}   \n",
       "freq                                              3495   \n",
       "\n",
       "                                                 internet  \\\n",
       "count                                                7267   \n",
       "unique                                                129   \n",
       "top     {'InternetService': 'No', 'OnlineSecurity': 'N...   \n",
       "freq                                                 1581   \n",
       "\n",
       "                                                  account  \n",
       "count                                                7267  \n",
       "unique                                               6931  \n",
       "top     {'Contract': 'Month-to-month', 'PaperlessBilli...  \n",
       "freq                                                    6  "
      ]
     },
     "execution_count": 19,
     "metadata": {},
     "output_type": "execute_result"
    }
   ],
   "source": [
    "#Gera estatísticas descritivas (contagem, média, desvio padrão, min, max, quartis) para colunas numéricas.\n",
    "df.describe()"
   ]
  },
  {
   "cell_type": "code",
   "execution_count": 18,
   "id": "93709acc",
   "metadata": {},
   "outputs": [
    {
     "name": "stdout",
     "output_type": "stream",
     "text": [
      "<class 'pandas.core.frame.DataFrame'>\n",
      "RangeIndex: 7267 entries, 0 to 7266\n",
      "Data columns (total 6 columns):\n",
      " #   Column      Non-Null Count  Dtype \n",
      "---  ------      --------------  ----- \n",
      " 0   customerID  7267 non-null   object\n",
      " 1   Churn       7267 non-null   object\n",
      " 2   customer    7267 non-null   object\n",
      " 3   phone       7267 non-null   object\n",
      " 4   internet    7267 non-null   object\n",
      " 5   account     7267 non-null   object\n",
      "dtypes: object(6)\n",
      "memory usage: 340.8+ KB\n"
     ]
    }
   ],
   "source": [
    "#Fornece um resumo conciso do DataFrame, incluindo o tipo de dado de cada coluna, contagem de valores não nulos e uso de memória.\n",
    "df.info()"
   ]
  },
  {
   "cell_type": "code",
   "execution_count": 24,
   "id": "55e11444",
   "metadata": {},
   "outputs": [
    {
     "data": {
      "application/vnd.microsoft.datawrangler.viewer.v0+json": {
       "columns": [
        {
         "name": "index",
         "rawType": "int64",
         "type": "integer"
        }
       ],
       "ref": "d518a9f4-14e8-481b-8957-6ef273c3e2e2",
       "rows": [
        [
         "0"
        ],
        [
         "1"
        ],
        [
         "2"
        ],
        [
         "3"
        ],
        [
         "4"
        ],
        [
         "5"
        ]
       ],
       "shape": {
        "columns": 0,
        "rows": 6
       }
      },
      "text/html": [
       "<div>\n",
       "<style scoped>\n",
       "    .dataframe tbody tr th:only-of-type {\n",
       "        vertical-align: middle;\n",
       "    }\n",
       "\n",
       "    .dataframe tbody tr th {\n",
       "        vertical-align: top;\n",
       "    }\n",
       "\n",
       "    .dataframe thead th {\n",
       "        text-align: right;\n",
       "    }\n",
       "</style>\n",
       "<table border=\"1\" class=\"dataframe\">\n",
       "  <thead>\n",
       "    <tr style=\"text-align: right;\">\n",
       "      <th></th>\n",
       "    </tr>\n",
       "  </thead>\n",
       "  <tbody>\n",
       "    <tr>\n",
       "      <th>0</th>\n",
       "    </tr>\n",
       "    <tr>\n",
       "      <th>1</th>\n",
       "    </tr>\n",
       "    <tr>\n",
       "      <th>2</th>\n",
       "    </tr>\n",
       "    <tr>\n",
       "      <th>3</th>\n",
       "    </tr>\n",
       "    <tr>\n",
       "      <th>4</th>\n",
       "    </tr>\n",
       "    <tr>\n",
       "      <th>5</th>\n",
       "    </tr>\n",
       "  </tbody>\n",
       "</table>\n",
       "</div>"
      ],
      "text/plain": [
       "Empty DataFrame\n",
       "Columns: []\n",
       "Index: [0, 1, 2, 3, 4, 5]"
      ]
     },
     "execution_count": 24,
     "metadata": {},
     "output_type": "execute_result"
    }
   ],
   "source": [
    "pd.json_normalize(df)"
   ]
  },
  {
   "cell_type": "code",
   "execution_count": 35,
   "id": "37cf93d0",
   "metadata": {},
   "outputs": [
    {
     "name": "stdout",
     "output_type": "stream",
     "text": [
      "|    | customerID   | Churn   | customer                                                                                     | phone                                           | internet                                                                                                                                                                          | account                                                                                                                                          |\n",
      "|---:|:-------------|:--------|:---------------------------------------------------------------------------------------------|:------------------------------------------------|:----------------------------------------------------------------------------------------------------------------------------------------------------------------------------------|:-------------------------------------------------------------------------------------------------------------------------------------------------|\n",
      "|  0 | 0002-ORFBO   | No      | {'gender': 'Female', 'SeniorCitizen': 0, 'Partner': 'Yes', 'Dependents': 'Yes', 'tenure': 9} | {'PhoneService': 'Yes', 'MultipleLines': 'No'}  | {'InternetService': 'DSL', 'OnlineSecurity': 'No', 'OnlineBackup': 'Yes', 'DeviceProtection': 'No', 'TechSupport': 'Yes', 'StreamingTV': 'Yes', 'StreamingMovies': 'No'}          | {'Contract': 'One year', 'PaperlessBilling': 'Yes', 'PaymentMethod': 'Mailed check', 'Charges': {'Monthly': 65.6, 'Total': '593.3'}}             |\n",
      "|  1 | 0003-MKNFE   | No      | {'gender': 'Male', 'SeniorCitizen': 0, 'Partner': 'No', 'Dependents': 'No', 'tenure': 9}     | {'PhoneService': 'Yes', 'MultipleLines': 'Yes'} | {'InternetService': 'DSL', 'OnlineSecurity': 'No', 'OnlineBackup': 'No', 'DeviceProtection': 'No', 'TechSupport': 'No', 'StreamingTV': 'No', 'StreamingMovies': 'Yes'}            | {'Contract': 'Month-to-month', 'PaperlessBilling': 'No', 'PaymentMethod': 'Mailed check', 'Charges': {'Monthly': 59.9, 'Total': '542.4'}}        |\n",
      "|  2 | 0004-TLHLJ   | Yes     | {'gender': 'Male', 'SeniorCitizen': 0, 'Partner': 'No', 'Dependents': 'No', 'tenure': 4}     | {'PhoneService': 'Yes', 'MultipleLines': 'No'}  | {'InternetService': 'Fiber optic', 'OnlineSecurity': 'No', 'OnlineBackup': 'No', 'DeviceProtection': 'Yes', 'TechSupport': 'No', 'StreamingTV': 'No', 'StreamingMovies': 'No'}    | {'Contract': 'Month-to-month', 'PaperlessBilling': 'Yes', 'PaymentMethod': 'Electronic check', 'Charges': {'Monthly': 73.9, 'Total': '280.85'}}  |\n",
      "|  3 | 0011-IGKFF   | Yes     | {'gender': 'Male', 'SeniorCitizen': 1, 'Partner': 'Yes', 'Dependents': 'No', 'tenure': 13}   | {'PhoneService': 'Yes', 'MultipleLines': 'No'}  | {'InternetService': 'Fiber optic', 'OnlineSecurity': 'No', 'OnlineBackup': 'Yes', 'DeviceProtection': 'Yes', 'TechSupport': 'No', 'StreamingTV': 'Yes', 'StreamingMovies': 'Yes'} | {'Contract': 'Month-to-month', 'PaperlessBilling': 'Yes', 'PaymentMethod': 'Electronic check', 'Charges': {'Monthly': 98.0, 'Total': '1237.85'}} |\n",
      "|  4 | 0013-EXCHZ   | Yes     | {'gender': 'Female', 'SeniorCitizen': 1, 'Partner': 'Yes', 'Dependents': 'No', 'tenure': 3}  | {'PhoneService': 'Yes', 'MultipleLines': 'No'}  | {'InternetService': 'Fiber optic', 'OnlineSecurity': 'No', 'OnlineBackup': 'No', 'DeviceProtection': 'No', 'TechSupport': 'Yes', 'StreamingTV': 'Yes', 'StreamingMovies': 'No'}   | {'Contract': 'Month-to-month', 'PaperlessBilling': 'Yes', 'PaymentMethod': 'Mailed check', 'Charges': {'Monthly': 83.9, 'Total': '267.4'}}       |\n"
     ]
    }
   ],
   "source": [
    "df_final = df\n",
    "print(df_final.head().to_markdown())"
   ]
  },
  {
   "cell_type": "code",
   "execution_count": null,
   "id": "e5097c00",
   "metadata": {},
   "outputs": [
    {
     "name": "stdout",
     "output_type": "stream",
     "text": [
      "### DataFrame após Desaninhamento (Primeiras Linhas):\n",
      "|    | customerID   | Churn   | gender   |   SeniorCitizen | Partner   | Dependents   |   tenure | PhoneService   | MultipleLines   | InternetService   | OnlineSecurity   | OnlineBackup   | DeviceProtection   | TechSupport   | StreamingTV   | StreamingMovies   | Contract       | PaperlessBilling   | PaymentMethod    |   Charges.Monthly |   Charges.Total |\n",
      "|---:|:-------------|:--------|:---------|----------------:|:----------|:-------------|---------:|:---------------|:----------------|:------------------|:-----------------|:---------------|:-------------------|:--------------|:--------------|:------------------|:---------------|:-------------------|:-----------------|------------------:|----------------:|\n",
      "|  0 | 0002-ORFBO   | No      | Female   |               0 | Yes       | Yes          |        9 | Yes            | No              | DSL               | No               | Yes            | No                 | Yes           | Yes           | No                | One year       | Yes                | Mailed check     |              65.6 |          593.3  |\n",
      "|  1 | 0003-MKNFE   | No      | Male     |               0 | No        | No           |        9 | Yes            | Yes             | DSL               | No               | No             | No                 | No            | No            | Yes               | Month-to-month | No                 | Mailed check     |              59.9 |          542.4  |\n",
      "|  2 | 0004-TLHLJ   | Yes     | Male     |               0 | No        | No           |        4 | Yes            | No              | Fiber optic       | No               | No             | Yes                | No            | No            | No                | Month-to-month | Yes                | Electronic check |              73.9 |          280.85 |\n",
      "|  3 | 0011-IGKFF   | Yes     | Male     |               1 | Yes       | No           |       13 | Yes            | No              | Fiber optic       | No               | Yes            | Yes                | No            | Yes           | Yes               | Month-to-month | Yes                | Electronic check |              98   |         1237.85 |\n",
      "|  4 | 0013-EXCHZ   | Yes     | Female   |               1 | Yes       | No           |        3 | Yes            | No              | Fiber optic       | No               | No             | No                 | Yes           | Yes           | No                | Month-to-month | Yes                | Mailed check     |              83.9 |          267.4  |\n",
      "\n",
      "---\n",
      "### Informações do DataFrame após Desaninhamento:\n",
      "<class 'pandas.core.frame.DataFrame'>\n",
      "RangeIndex: 7267 entries, 0 to 7266\n",
      "Data columns (total 21 columns):\n",
      " #   Column            Non-Null Count  Dtype  \n",
      "---  ------            --------------  -----  \n",
      " 0   customerID        7267 non-null   object \n",
      " 1   Churn             7267 non-null   object \n",
      " 2   gender            7267 non-null   object \n",
      " 3   SeniorCitizen     7267 non-null   int64  \n",
      " 4   Partner           7267 non-null   object \n",
      " 5   Dependents        7267 non-null   object \n",
      " 6   tenure            7267 non-null   int64  \n",
      " 7   PhoneService      7267 non-null   object \n",
      " 8   MultipleLines     7267 non-null   object \n",
      " 9   InternetService   7267 non-null   object \n",
      " 10  OnlineSecurity    7267 non-null   object \n",
      " 11  OnlineBackup      7267 non-null   object \n",
      " 12  DeviceProtection  7267 non-null   object \n",
      " 13  TechSupport       7267 non-null   object \n",
      " 14  StreamingTV       7267 non-null   object \n",
      " 15  StreamingMovies   7267 non-null   object \n",
      " 16  Contract          7267 non-null   object \n",
      " 17  PaperlessBilling  7267 non-null   object \n",
      " 18  PaymentMethod     7267 non-null   object \n",
      " 19  Charges.Monthly   7267 non-null   float64\n",
      " 20  Charges.Total     7267 non-null   object \n",
      "dtypes: float64(1), int64(2), object(18)\n",
      "memory usage: 1.2+ MB\n",
      "None\n"
     ]
    }
   ],
   "source": [
    "# 1. Desaninhando a coluna 'customer'\n",
    "df_customer = pd.json_normalize(df['customer'])\n",
    "\n",
    "# 2. Desaninhando a coluna 'phone'\n",
    "df_phone = pd.json_normalize(df['phone'])\n",
    "\n",
    "# 3. Desaninhando a coluna 'internet'\n",
    "df_internet = pd.json_normalize(df['internet'])\n",
    "\n",
    "# 4. Desaninhando a coluna 'account'\n",
    "df_account = pd.json_normalize(df['account'])\n",
    "\n",
    "# Agora, vamos juntar todos esses DataFrames de volta ao DataFrame original.\n",
    "# Primeiro, remova as colunas originais aninhadas do DataFrame principal.\n",
    "df_principal = df.drop(columns=['customer', 'phone', 'internet', 'account'])\n",
    "\n",
    "# Em seguida, concatene (junte) os novos DataFrames desaninhados.\n",
    "# Usamos axis=1 para concatenar colunas.\n",
    "df_final = pd.concat([df_principal, df_customer, df_phone, df_internet, df_account], axis=1)\n",
    "\n",
    "# Visualize o resultado para confirmar\n",
    "print(\"### DataFrame após Desaninhamento (Primeiras Linhas):\")\n",
    "print(df_final.head().to_markdown())\n",
    "\n",
    "print(\"\\n---\")\n",
    "print(\"### Informações do DataFrame após Desaninhamento:\")\n",
    "print(df_final.info())"
   ]
  },
  {
   "cell_type": "code",
   "execution_count": 39,
   "id": "9b8000eb",
   "metadata": {},
   "outputs": [
    {
     "name": "stdout",
     "output_type": "stream",
     "text": [
      "Valores únicos em 'Charges.Total':\n",
      "['593.3' '542.4' '280.85' ... '742.9' '4627.65' '3707.6']\n",
      "\n",
      "Contagem de NaNs em 'Charges.Total' após conversão (se houver):\n",
      "11\n"
     ]
    }
   ],
   "source": [
    "# Verifique os valores únicos na coluna 'Charges.Total'\n",
    "print(\"Valores únicos em 'Charges.Total':\")\n",
    "print(df_final['Charges.Total'].unique())\n",
    "\n",
    "# Tente converter para numérico e veja os erros\n",
    "# O parâmetro 'errors='coerce'' vai transformar qualquer valor que não pode ser convertido em NaN (Not a Number)\n",
    "df_final['Charges.Total'] = pd.to_numeric(df_final['Charges.Total'], errors='coerce')\n",
    "\n",
    "# Verifique agora se há NaNs recém-criados\n",
    "print(\"\\nContagem de NaNs em 'Charges.Total' após conversão (se houver):\")\n",
    "print(df_final['Charges.Total'].isnull().sum())\n",
    "\n",
    "# Se houver NaNs, podemos investigar as linhas originais\n",
    "# print(df_final[df_final['Charges.Total'].isnull()])"
   ]
  },
  {
   "cell_type": "markdown",
   "id": "4912a034",
   "metadata": {},
   "source": [
    "### 3.2. Tratamento de Valores Ausentes"
   ]
  },
  {
   "cell_type": "code",
   "execution_count": 40,
   "id": "bf6d26f1",
   "metadata": {},
   "outputs": [
    {
     "name": "stdout",
     "output_type": "stream",
     "text": [
      "---\n",
      "### Linhas Identificadas com NaN em 'Charges.Total':\n",
      "|      | customerID   | Churn   | gender   |   SeniorCitizen | Partner   | Dependents   |   tenure | PhoneService   | MultipleLines    | InternetService   | OnlineSecurity      | OnlineBackup        | DeviceProtection    | TechSupport         | StreamingTV         | StreamingMovies     | Contract   | PaperlessBilling   | PaymentMethod             |   Charges.Monthly |   Charges.Total |\n",
      "|-----:|:-------------|:--------|:---------|----------------:|:----------|:-------------|---------:|:---------------|:-----------------|:------------------|:--------------------|:--------------------|:--------------------|:--------------------|:--------------------|:--------------------|:-----------|:-------------------|:--------------------------|------------------:|----------------:|\n",
      "|  975 | 1371-DWPAZ   | No      | Female   |               0 | Yes       | Yes          |        0 | No             | No phone service | DSL               | Yes                 | Yes                 | Yes                 | Yes                 | Yes                 | No                  | Two year   | No                 | Credit card (automatic)   |             56.05 |             nan |\n",
      "| 1775 | 2520-SGTTA   | No      | Female   |               0 | Yes       | Yes          |        0 | Yes            | No               | No                | No internet service | No internet service | No internet service | No internet service | No internet service | No internet service | Two year   | No                 | Mailed check              |             20    |             nan |\n",
      "| 1955 | 2775-SEFEE   | No      | Male     |               0 | No        | Yes          |        0 | Yes            | Yes              | DSL               | Yes                 | Yes                 | No                  | Yes                 | No                  | No                  | Two year   | Yes                | Bank transfer (automatic) |             61.9  |             nan |\n",
      "| 2075 | 2923-ARZLG   | No      | Male     |               0 | Yes       | Yes          |        0 | Yes            | No               | No                | No internet service | No internet service | No internet service | No internet service | No internet service | No internet service | One year   | Yes                | Mailed check              |             19.7  |             nan |\n",
      "| 2232 | 3115-CZMZD   | No      | Male     |               0 | No        | Yes          |        0 | Yes            | No               | No                | No internet service | No internet service | No internet service | No internet service | No internet service | No internet service | Two year   | No                 | Mailed check              |             20.25 |             nan |\n",
      "| 2308 | 3213-VVOLG   | No      | Male     |               0 | Yes       | Yes          |        0 | Yes            | Yes              | No                | No internet service | No internet service | No internet service | No internet service | No internet service | No internet service | Two year   | No                 | Mailed check              |             25.35 |             nan |\n",
      "| 2930 | 4075-WKNIU   | No      | Female   |               0 | Yes       | Yes          |        0 | Yes            | Yes              | DSL               | No                  | Yes                 | Yes                 | Yes                 | Yes                 | No                  | Two year   | No                 | Mailed check              |             73.35 |             nan |\n",
      "| 3134 | 4367-NUYAO   | No      | Male     |               0 | Yes       | Yes          |        0 | Yes            | Yes              | No                | No internet service | No internet service | No internet service | No internet service | No internet service | No internet service | Two year   | No                 | Mailed check              |             25.75 |             nan |\n",
      "| 3203 | 4472-LVYGI   | No      | Female   |               0 | Yes       | Yes          |        0 | No             | No phone service | DSL               | Yes                 | No                  | Yes                 | Yes                 | Yes                 | No                  | Two year   | Yes                | Bank transfer (automatic) |             52.55 |             nan |\n",
      "| 4169 | 5709-LVOEQ   | No      | Female   |               0 | Yes       | Yes          |        0 | Yes            | No               | DSL               | Yes                 | Yes                 | Yes                 | No                  | Yes                 | Yes                 | Two year   | No                 | Mailed check              |             80.85 |             nan |\n",
      "| 5599 | 7644-OMVMY   | No      | Male     |               0 | Yes       | Yes          |        0 | Yes            | No               | No                | No internet service | No internet service | No internet service | No internet service | No internet service | No internet service | Two year   | No                 | Mailed check              |             19.85 |             nan |\n"
     ]
    }
   ],
   "source": [
    "# Passo 1: Localizar as linhas com NaN na coluna 'Charges.Total'\n",
    "# Criamos uma máscara booleana para encontrar onde 'Charges.Total' é nulo\n",
    "linhas_com_nan_charges_total = df_final[df_final['Charges.Total'].isnull()]\n",
    "\n",
    "print(\"---\")\n",
    "print(\"### Linhas Identificadas com NaN em 'Charges.Total':\")\n",
    "# Mostra as linhas que contêm NaN. Você pode limitar a quantidade se forem muitas.\n",
    "if not linhas_com_nan_charges_total.empty:\n",
    "    print(linhas_com_nan_charges_total.to_markdown())\n",
    "else:\n",
    "    print(\"Nenhuma linha com NaN encontrada (isso é ótimo se você já removeu antes).\")\n"
   ]
  },
  {
   "cell_type": "code",
   "execution_count": 41,
   "id": "f1ea33ca",
   "metadata": {},
   "outputs": [
    {
     "name": "stdout",
     "output_type": "stream",
     "text": [
      "\n",
      "---\n",
      "### Verificação Pós-Remoção:\n",
      "Contagem de NaNs em 'Charges.Total' após remoção (deve ser 0):\n",
      "0\n",
      "Novo número de linhas no DataFrame:\n",
      "(7256, 21)\n",
      "Dtype da coluna 'Charges.Total' após remoção e conversão:\n",
      "float64\n"
     ]
    }
   ],
   "source": [
    "# Passo 2: Remover as linhas identificadas\n",
    "# Vamos criar um novo DataFrame sem essas linhas, ou usar inplace=True\n",
    "# É mais comum usar inplace=True quando se tem certeza da remoção\n",
    "df_final.dropna(subset=['Charges.Total'], inplace=True)\n",
    "\n",
    "print(\"\\n---\")\n",
    "print(\"### Verificação Pós-Remoção:\")\n",
    "\n",
    "# Verifique novamente a contagem de NaNs (deve ser 0)\n",
    "print(\"Contagem de NaNs em 'Charges.Total' após remoção (deve ser 0):\")\n",
    "print(df_final['Charges.Total'].isnull().sum())\n",
    "\n",
    "# Verifique o novo número de linhas no DataFrame\n",
    "print(\"Novo número de linhas no DataFrame:\")\n",
    "print(df_final.shape)\n",
    "\n",
    "# Confirme o tipo de dado da coluna 'Charges.Total'\n",
    "print(\"Dtype da coluna 'Charges.Total' após remoção e conversão:\")\n",
    "print(df_final['Charges.Total'].dtype)"
   ]
  },
  {
   "cell_type": "markdown",
   "id": "a1c64b58",
   "metadata": {},
   "source": [
    "### 3.3. Conversão de Tipos de Dados"
   ]
  },
  {
   "cell_type": "code",
   "execution_count": 42,
   "id": "d6cb53d1",
   "metadata": {},
   "outputs": [
    {
     "name": "stdout",
     "output_type": "stream",
     "text": [
      "\n",
      "---\n",
      "### Informações do DataFrame após Conversão de Tipos Categóricos:\n",
      "<class 'pandas.core.frame.DataFrame'>\n",
      "Index: 7256 entries, 0 to 7266\n",
      "Data columns (total 21 columns):\n",
      " #   Column            Non-Null Count  Dtype   \n",
      "---  ------            --------------  -----   \n",
      " 0   customerID        7256 non-null   object  \n",
      " 1   Churn             7256 non-null   category\n",
      " 2   gender            7256 non-null   category\n",
      " 3   SeniorCitizen     7256 non-null   int64   \n",
      " 4   Partner           7256 non-null   category\n",
      " 5   Dependents        7256 non-null   category\n",
      " 6   tenure            7256 non-null   int64   \n",
      " 7   PhoneService      7256 non-null   category\n",
      " 8   MultipleLines     7256 non-null   category\n",
      " 9   InternetService   7256 non-null   category\n",
      " 10  OnlineSecurity    7256 non-null   category\n",
      " 11  OnlineBackup      7256 non-null   category\n",
      " 12  DeviceProtection  7256 non-null   category\n",
      " 13  TechSupport       7256 non-null   category\n",
      " 14  StreamingTV       7256 non-null   category\n",
      " 15  StreamingMovies   7256 non-null   category\n",
      " 16  Contract          7256 non-null   category\n",
      " 17  PaperlessBilling  7256 non-null   category\n",
      " 18  PaymentMethod     7256 non-null   category\n",
      " 19  Charges.Monthly   7256 non-null   float64 \n",
      " 20  Charges.Total     7256 non-null   float64 \n",
      "dtypes: category(16), float64(2), int64(2), object(1)\n",
      "memory usage: 455.6+ KB\n",
      "None\n"
     ]
    }
   ],
   "source": [
    "# Lista de colunas a serem convertidas para o tipo 'category'\n",
    "# Comece com todas as colunas 'object' e depois ajuste se alguma não for categórica.\n",
    "colunas_categoricas = [\n",
    "    'Churn', 'gender', 'Partner', 'Dependents', 'PhoneService',\n",
    "    'MultipleLines', 'InternetService', 'OnlineSecurity', 'OnlineBackup',\n",
    "    'DeviceProtection', 'TechSupport', 'StreamingTV', 'StreamingMovies',\n",
    "    'Contract', 'PaperlessBilling', 'PaymentMethod'\n",
    "]\n",
    "\n",
    "for col in colunas_categoricas:\n",
    "    if col in df_final.columns: # Garante que a coluna existe no DataFrame\n",
    "        df_final[col] = df_final[col].astype('category')\n",
    "\n",
    "# Verifique os tipos de dados novamente para confirmar a conversão\n",
    "print(\"\\n---\")\n",
    "print(\"### Informações do DataFrame após Conversão de Tipos Categóricos:\")\n",
    "print(df_final.info())\n",
    "\n",
    "# Opcional: Para verificar os valores únicos de algumas colunas categóricas\n",
    "# print(\"\\nValores únicos na coluna 'Churn':\")\n",
    "# print(df_final['Churn'].unique())\n",
    "# print(\"\\nValores únicos na coluna 'gender':\")\n",
    "# print(df_final['gender'].unique())"
   ]
  },
  {
   "cell_type": "markdown",
   "id": "d6162baf",
   "metadata": {},
   "source": [
    "### 3.4. Tratamento de Dados Duplicados"
   ]
  },
  {
   "cell_type": "code",
   "execution_count": 43,
   "id": "c12d593f",
   "metadata": {},
   "outputs": [
    {
     "name": "stdout",
     "output_type": "stream",
     "text": [
      "\n",
      "---\n",
      "Número de linhas completamente duplicadas: 0\n"
     ]
    }
   ],
   "source": [
    "# Verifique o número de linhas completamente duplicadas\n",
    "num_duplicatas = df_final.duplicated().sum()\n",
    "\n",
    "print(\"\\n---\")\n",
    "print(f\"Número de linhas completamente duplicadas: {num_duplicatas}\")"
   ]
  },
  {
   "cell_type": "markdown",
   "id": "492e2675",
   "metadata": {},
   "source": [
    "### 3.5. Criação de Novas Features (Engenharia de Features)"
   ]
  },
  {
   "cell_type": "code",
   "execution_count": 45,
   "id": "48420042",
   "metadata": {},
   "outputs": [
    {
     "name": "stdout",
     "output_type": "stream",
     "text": [
      "### Colunas antes de Renomear:\n",
      "Index(['customerID', 'Churn', 'gender', 'SeniorCitizen', 'Partner',\n",
      "       'Dependents', 'tenure', 'PhoneService', 'MultipleLines',\n",
      "       'InternetService', 'OnlineSecurity', 'OnlineBackup', 'DeviceProtection',\n",
      "       'TechSupport', 'StreamingTV', 'StreamingMovies', 'Contract',\n",
      "       'PaperlessBilling', 'PaymentMethod', 'Charges.Monthly',\n",
      "       'Charges.Total'],\n",
      "      dtype='object')\n"
     ]
    }
   ],
   "source": [
    "print(\"### Colunas antes de Renomear:\")\n",
    "print(df_final.columns)"
   ]
  },
  {
   "cell_type": "code",
   "execution_count": 46,
   "id": "6d93c4c9",
   "metadata": {},
   "outputs": [
    {
     "name": "stdout",
     "output_type": "stream",
     "text": [
      "\n",
      "---\n",
      "### Colunas após Renomear:\n",
      "Index(['customerID', 'Churn', 'gender', 'SeniorCitizen', 'Partner',\n",
      "       'Dependents', 'tenure', 'PhoneService', 'MultipleLines',\n",
      "       'InternetService', 'OnlineSecurity', 'OnlineBackup', 'DeviceProtection',\n",
      "       'TechSupport', 'StreamingTV', 'StreamingMovies', 'Contract',\n",
      "       'PaperlessBilling', 'PaymentMethod', 'MonthlyCharges', 'TotalCharges'],\n",
      "      dtype='object')\n"
     ]
    }
   ],
   "source": [
    "# Renomeando as colunas para melhor legibilidade\n",
    "df_final.rename(columns={'Charges.Monthly': 'MonthlyCharges',\n",
    "                         'Charges.Total': 'TotalCharges'}, inplace=True)\n",
    "\n",
    "# Verifique as novas colunas para confirmar a alteração\n",
    "print(\"\\n---\")\n",
    "print(\"### Colunas após Renomear:\")\n",
    "print(df_final.columns)\n",
    "\n",
    "# Opcional: verifique novamente o info para confirmar que os tipos foram mantidos\n",
    "# print(\"\\n### Informações do DataFrame após Renomear Colunas:\")\n",
    "# print(df_final.info())"
   ]
  },
  {
   "cell_type": "code",
   "execution_count": 47,
   "id": "eb1f4cb7",
   "metadata": {},
   "outputs": [
    {
     "name": "stdout",
     "output_type": "stream",
     "text": [
      "\n",
      "---\n",
      "### Distribuição da nova coluna 'TenureGroup':\n",
      "TenureGroup\n",
      "0-12 Meses          2254\n",
      "13-24 Meses         1045\n",
      "25-48 Meses         1648\n",
      "49-60 Meses          858\n",
      "Mais de 60 Meses    1451\n",
      "Name: count, dtype: int64\n",
      "\n",
      "---\n",
      "### DataFrame com a nova coluna 'TenureGroup':\n",
      "|    |   tenure | TenureGroup   |\n",
      "|---:|---------:|:--------------|\n",
      "|  0 |        9 | 0-12 Meses    |\n",
      "|  1 |        9 | 0-12 Meses    |\n",
      "|  2 |        4 | 0-12 Meses    |\n",
      "|  3 |       13 | 13-24 Meses   |\n",
      "|  4 |        3 | 0-12 Meses    |\n",
      "\n",
      "---\n",
      "### Informações do DataFrame com a nova coluna 'TenureGroup':\n",
      "<class 'pandas.core.frame.DataFrame'>\n",
      "Index: 7256 entries, 0 to 7266\n",
      "Data columns (total 22 columns):\n",
      " #   Column            Non-Null Count  Dtype   \n",
      "---  ------            --------------  -----   \n",
      " 0   customerID        7256 non-null   object  \n",
      " 1   Churn             7256 non-null   category\n",
      " 2   gender            7256 non-null   category\n",
      " 3   SeniorCitizen     7256 non-null   int64   \n",
      " 4   Partner           7256 non-null   category\n",
      " 5   Dependents        7256 non-null   category\n",
      " 6   tenure            7256 non-null   int64   \n",
      " 7   PhoneService      7256 non-null   category\n",
      " 8   MultipleLines     7256 non-null   category\n",
      " 9   InternetService   7256 non-null   category\n",
      " 10  OnlineSecurity    7256 non-null   category\n",
      " 11  OnlineBackup      7256 non-null   category\n",
      " 12  DeviceProtection  7256 non-null   category\n",
      " 13  TechSupport       7256 non-null   category\n",
      " 14  StreamingTV       7256 non-null   category\n",
      " 15  StreamingMovies   7256 non-null   category\n",
      " 16  Contract          7256 non-null   category\n",
      " 17  PaperlessBilling  7256 non-null   category\n",
      " 18  PaymentMethod     7256 non-null   category\n",
      " 19  MonthlyCharges    7256 non-null   float64 \n",
      " 20  TotalCharges      7256 non-null   float64 \n",
      " 21  TenureGroup       7256 non-null   category\n",
      "dtypes: category(17), float64(2), int64(2), object(1)\n",
      "memory usage: 462.9+ KB\n",
      "None\n"
     ]
    }
   ],
   "source": [
    "# Definindo as faixas de tempo de contrato\n",
    "# Vamos usar o pd.cut para categorizar o 'tenure'\n",
    "bins = [0, 12, 24, 48, 60, df_final['tenure'].max()] # Exemplo: 0-12 meses, 13-24, 25-48, 49-60, > 60\n",
    "labels = ['0-12 Meses', '13-24 Meses', '25-48 Meses', '49-60 Meses', 'Mais de 60 Meses']\n",
    "\n",
    "df_final['TenureGroup'] = pd.cut(df_final['tenure'], bins=bins, labels=labels, right=True)\n",
    "\n",
    "# Verifique as contagens de cada novo grupo\n",
    "print(\"\\n---\")\n",
    "print(\"### Distribuição da nova coluna 'TenureGroup':\")\n",
    "print(df_final['TenureGroup'].value_counts().sort_index())\n",
    "\n",
    "# Verifique as primeiras linhas com a nova coluna\n",
    "print(\"\\n---\")\n",
    "print(\"### DataFrame com a nova coluna 'TenureGroup':\")\n",
    "print(df_final[['tenure', 'TenureGroup']].head().to_markdown())\n",
    "\n",
    "# Verifique o df.info() para ver a nova coluna e seu tipo (category)\n",
    "print(\"\\n---\")\n",
    "print(\"### Informações do DataFrame com a nova coluna 'TenureGroup':\")\n",
    "print(df_final.info())"
   ]
  },
  {
   "cell_type": "markdown",
   "id": "b610be79",
   "metadata": {},
   "source": [
    "### 3.6. Remoção de Colunas Irrelevantes"
   ]
  },
  {
   "cell_type": "code",
   "execution_count": null,
   "id": "7e4dd6a5",
   "metadata": {},
   "outputs": [],
   "source": []
  },
  {
   "cell_type": "markdown",
   "id": "1d9341d2",
   "metadata": {},
   "source": [
    "\n",
    "## 4. Análise Exploratória de Dados (EDA)"
   ]
  },
  {
   "cell_type": "markdown",
   "id": "7214d43e",
   "metadata": {},
   "source": [
    "### 4.1. Análise de Variáveis Categóricas"
   ]
  },
  {
   "cell_type": "code",
   "execution_count": 51,
   "id": "ba771362",
   "metadata": {},
   "outputs": [
    {
     "ename": "AttributeError",
     "evalue": "'DataFrame' object has no attribute 'collumns'",
     "output_type": "error",
     "traceback": [
      "\u001b[31m---------------------------------------------------------------------------\u001b[39m",
      "\u001b[31mAttributeError\u001b[39m                            Traceback (most recent call last)",
      "\u001b[32m~\\AppData\\Local\\Temp\\ipykernel_5732\\2713092212.py\u001b[39m in \u001b[36m?\u001b[39m\u001b[34m()\u001b[39m\n\u001b[32m----> \u001b[39m\u001b[32m1\u001b[39m df_final.collumns\n",
      "\u001b[32mc:\\Users\\Usuario\\AppData\\Local\\Programs\\Python\\Python313\\Lib\\site-packages\\pandas\\core\\generic.py\u001b[39m in \u001b[36m?\u001b[39m\u001b[34m(self, name)\u001b[39m\n\u001b[32m   6295\u001b[39m             \u001b[38;5;28;01mand\u001b[39;00m name \u001b[38;5;28;01mnot\u001b[39;00m \u001b[38;5;28;01min\u001b[39;00m self._accessors\n\u001b[32m   6296\u001b[39m             \u001b[38;5;28;01mand\u001b[39;00m self._info_axis._can_hold_identifiers_and_holds_name(name)\n\u001b[32m   6297\u001b[39m         ):\n\u001b[32m   6298\u001b[39m             \u001b[38;5;28;01mreturn\u001b[39;00m self[name]\n\u001b[32m-> \u001b[39m\u001b[32m6299\u001b[39m         \u001b[38;5;28;01mreturn\u001b[39;00m object.__getattribute__(self, name)\n",
      "\u001b[31mAttributeError\u001b[39m: 'DataFrame' object has no attribute 'collumns'"
     ]
    }
   ],
   "source": [
    "df_final.collumns"
   ]
  },
  {
   "cell_type": "code",
   "execution_count": 48,
   "id": "84a7c7b1",
   "metadata": {},
   "outputs": [],
   "source": [
    "import matplotlib.pyplot as plt\n",
    "import seaborn as sns\n",
    "# Para ter gráficos mais bonitos e embutidos no notebook\n",
    "plt.style.use('ggplot')\n",
    "# %matplotlib inline"
   ]
  },
  {
   "cell_type": "code",
   "execution_count": 49,
   "id": "56d00b38",
   "metadata": {},
   "outputs": [
    {
     "name": "stdout",
     "output_type": "stream",
     "text": [
      "### Distribuição da Variável Churn:\n",
      "Churn\n",
      "No     5163\n",
      "Yes    1869\n",
      "        224\n",
      "Name: count, dtype: int64\n",
      "\n",
      "### Percentual de Churn:\n",
      "Churn\n",
      "No     71.154906\n",
      "Yes    25.757993\n",
      "        3.087100\n",
      "Name: proportion, dtype: float64\n"
     ]
    },
    {
     "name": "stderr",
     "output_type": "stream",
     "text": [
      "C:\\Users\\Usuario\\AppData\\Local\\Temp\\ipykernel_5732\\3988227975.py:7: FutureWarning: \n",
      "\n",
      "Passing `palette` without assigning `hue` is deprecated and will be removed in v0.14.0. Assign the `x` variable to `hue` and set `legend=False` for the same effect.\n",
      "\n",
      "  sns.countplot(data=df_final, x='Churn', palette='viridis')\n"
     ]
    },
    {
     "data": {
      "image/png": "[encoded data removed]",
      "text/plain": [
       "<Figure size 600x400 with 1 Axes>"
      ]
     },
     "metadata": {},
     "output_type": "display_data"
    }
   ],
   "source": [
    "print(\"### Distribuição da Variável Churn:\")\n",
    "print(df_final['Churn'].value_counts())\n",
    "print(\"\\n### Percentual de Churn:\")\n",
    "print(df_final['Churn'].value_counts(normalize=True) * 100)\n",
    "\n",
    "plt.figure(figsize=(6, 4))\n",
    "sns.countplot(data=df_final, x='Churn', palette='viridis')\n",
    "plt.title('Distribuição de Clientes por Churn')\n",
    "plt.xlabel('Churn')\n",
    "plt.ylabel('Número de Clientes')\n",
    "plt.show()"
   ]
  },
  {
   "cell_type": "markdown",
   "id": "7530f1fa",
   "metadata": {},
   "source": [
    "### 4.2. Análise de Variáveis Numéricas"
   ]
  },
  {
   "cell_type": "code",
   "execution_count": null,
   "id": "93513bf7",
   "metadata": {},
   "outputs": [],
   "source": []
  },
  {
   "cell_type": "markdown",
   "id": "ff537fb6",
   "metadata": {},
   "source": [
    "### 4.3. Análise Multivariada (Relação entre variáveis e Churn)"
   ]
  },
  {
   "cell_type": "code",
   "execution_count": null,
   "id": "9bb08120",
   "metadata": {},
   "outputs": [],
   "source": []
  },
  {
   "cell_type": "markdown",
   "id": "ce947ca0",
   "metadata": {},
   "source": [
    "## 5. Conclusão e Sugestões"
   ]
  },
  {
   "cell_type": "markdown",
   "id": "f21e5167",
   "metadata": {},
   "source": []
  }
 ],
 "metadata": {
  "kernelspec": {
   "display_name": "Python 3",
   "language": "python",
   "name": "python3"
  },
  "language_info": {
   "codemirror_mode": {
    "name": "ipython",
    "version": 3
   },
   "file_extension": ".py",
   "mimetype": "text/x-python",
   "name": "python",
   "nbconvert_exporter": "python",
   "pygments_lexer": "ipython3",
   "version": "3.13.2"
  }
 },
 "nbformat": 4,
 "nbformat_minor": 5
}
